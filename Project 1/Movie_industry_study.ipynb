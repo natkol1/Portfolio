{
 "cells": [
  {
   "cell_type": "markdown",
   "metadata": {
    "id": "sIfNaMOxgFyK"
   },
   "source": [
    "# Исследование данных о российском кинопрокате\n",
    "\n"
   ]
  },
  {
   "cell_type": "markdown",
   "metadata": {},
   "source": [
    "Данное исследование направлено на изучение проката кино в России. В нем будут рассмотрены особенности российского кинорынка, его тренды. Особенно подробно будут рассмотрены фильмы, которые были финансово поддержаны государством, их окупаемость, востребованность зрителями. Данные для этой работы были предоставлены Министерством культуры Российской Федерации и содержат, как общу информацию о прокате фильмов, так и информацию об объемах поддержки со стороны государства.\n"
   ]
  },
  {
   "cell_type": "markdown",
   "metadata": {
    "id": "3bSlkCsbgFyL"
   },
   "source": [
    "### Загрузка данных\n"
   ]
  },
  {
   "cell_type": "code",
   "execution_count": 1,
   "metadata": {
    "id": "dw87FlzMgFyM"
   },
   "outputs": [
    {
     "name": "stdout",
     "output_type": "stream",
     "text": [
      "<class 'pandas.core.frame.DataFrame'>\n",
      "RangeIndex: 7486 entries, 0 to 7485\n",
      "Data columns (total 15 columns):\n",
      " #   Column                 Non-Null Count  Dtype  \n",
      "---  ------                 --------------  -----  \n",
      " 0   title                  7486 non-null   object \n",
      " 1   puNumber               7486 non-null   object \n",
      " 2   show_start_date        7486 non-null   object \n",
      " 3   type                   7486 non-null   object \n",
      " 4   film_studio            7468 non-null   object \n",
      " 5   production_country     7484 non-null   object \n",
      " 6   director               7477 non-null   object \n",
      " 7   producer               6918 non-null   object \n",
      " 8   age_restriction        7486 non-null   object \n",
      " 9   refundable_support     332 non-null    float64\n",
      " 10  nonrefundable_support  332 non-null    float64\n",
      " 11  budget                 332 non-null    float64\n",
      " 12  financing_source       332 non-null    object \n",
      " 13  ratings                6519 non-null   object \n",
      " 14  genres                 6510 non-null   object \n",
      "dtypes: float64(3), object(12)\n",
      "memory usage: 877.4+ KB\n",
      "<class 'pandas.core.frame.DataFrame'>\n",
      "RangeIndex: 3158 entries, 0 to 3157\n",
      "Data columns (total 2 columns):\n",
      " #   Column      Non-Null Count  Dtype  \n",
      "---  ------      --------------  -----  \n",
      " 0   puNumber    3158 non-null   int64  \n",
      " 1   box_office  3158 non-null   float64\n",
      "dtypes: float64(1), int64(1)\n",
      "memory usage: 49.5 KB\n"
     ]
    },
    {
     "data": {
      "text/html": [
       "<div>\n",
       "<style scoped>\n",
       "    .dataframe tbody tr th:only-of-type {\n",
       "        vertical-align: middle;\n",
       "    }\n",
       "\n",
       "    .dataframe tbody tr th {\n",
       "        vertical-align: top;\n",
       "    }\n",
       "\n",
       "    .dataframe thead th {\n",
       "        text-align: right;\n",
       "    }\n",
       "</style>\n",
       "<table border=\"1\" class=\"dataframe\">\n",
       "  <thead>\n",
       "    <tr style=\"text-align: right;\">\n",
       "      <th></th>\n",
       "      <th>puNumber</th>\n",
       "      <th>box_office</th>\n",
       "    </tr>\n",
       "  </thead>\n",
       "  <tbody>\n",
       "    <tr>\n",
       "      <th>0</th>\n",
       "      <td>111000113</td>\n",
       "      <td>2.450000e+03</td>\n",
       "    </tr>\n",
       "    <tr>\n",
       "      <th>1</th>\n",
       "      <td>111000115</td>\n",
       "      <td>6.104000e+04</td>\n",
       "    </tr>\n",
       "    <tr>\n",
       "      <th>2</th>\n",
       "      <td>111000116</td>\n",
       "      <td>1.530300e+08</td>\n",
       "    </tr>\n",
       "    <tr>\n",
       "      <th>3</th>\n",
       "      <td>111000117</td>\n",
       "      <td>1.226096e+07</td>\n",
       "    </tr>\n",
       "    <tr>\n",
       "      <th>4</th>\n",
       "      <td>111000118</td>\n",
       "      <td>1.636841e+08</td>\n",
       "    </tr>\n",
       "    <tr>\n",
       "      <th>5</th>\n",
       "      <td>111000119</td>\n",
       "      <td>4.293650e+06</td>\n",
       "    </tr>\n",
       "    <tr>\n",
       "      <th>6</th>\n",
       "      <td>111000212</td>\n",
       "      <td>2.000000e+02</td>\n",
       "    </tr>\n",
       "    <tr>\n",
       "      <th>7</th>\n",
       "      <td>111000216</td>\n",
       "      <td>3.555670e+05</td>\n",
       "    </tr>\n",
       "    <tr>\n",
       "      <th>8</th>\n",
       "      <td>111000313</td>\n",
       "      <td>7.100000e+02</td>\n",
       "    </tr>\n",
       "    <tr>\n",
       "      <th>9</th>\n",
       "      <td>111000314</td>\n",
       "      <td>1.607970e+06</td>\n",
       "    </tr>\n",
       "  </tbody>\n",
       "</table>\n",
       "</div>"
      ],
      "text/plain": [
       "    puNumber    box_office\n",
       "0  111000113  2.450000e+03\n",
       "1  111000115  6.104000e+04\n",
       "2  111000116  1.530300e+08\n",
       "3  111000117  1.226096e+07\n",
       "4  111000118  1.636841e+08\n",
       "5  111000119  4.293650e+06\n",
       "6  111000212  2.000000e+02\n",
       "7  111000216  3.555670e+05\n",
       "8  111000313  7.100000e+02\n",
       "9  111000314  1.607970e+06"
      ]
     },
     "execution_count": 1,
     "metadata": {},
     "output_type": "execute_result"
    }
   ],
   "source": [
    "import pandas as pd\n",
    "import matplotlib.pyplot as plt\n",
    "import seaborn as sns\n",
    "data_old_1 = pd.read_csv('/datasets/mkrf_movies.csv')\n",
    "data_old_2 = pd.read_csv('/datasets/mkrf_shows.csv')\n",
    "data_old_1.info()\n",
    "data_old_1.head(10)\n",
    "data_old_2.info()\n",
    "data_old_2.head(10)"
   ]
  },
  {
   "cell_type": "code",
   "execution_count": 2,
   "metadata": {},
   "outputs": [
    {
     "data": {
      "text/plain": [
       "array(['221048915', '111013716', '221038416', ..., '124010819',\n",
       "       '124010619', '124010719'], dtype=object)"
      ]
     },
     "execution_count": 2,
     "metadata": {},
     "output_type": "execute_result"
    }
   ],
   "source": [
    "data_old_1['puNumber'].unique()"
   ]
  },
  {
   "cell_type": "code",
   "execution_count": 3,
   "metadata": {},
   "outputs": [
    {
     "data": {
      "text/html": [
       "<div>\n",
       "<style scoped>\n",
       "    .dataframe tbody tr th:only-of-type {\n",
       "        vertical-align: middle;\n",
       "    }\n",
       "\n",
       "    .dataframe tbody tr th {\n",
       "        vertical-align: top;\n",
       "    }\n",
       "\n",
       "    .dataframe thead th {\n",
       "        text-align: right;\n",
       "    }\n",
       "</style>\n",
       "<table border=\"1\" class=\"dataframe\">\n",
       "  <thead>\n",
       "    <tr style=\"text-align: right;\">\n",
       "      <th></th>\n",
       "      <th>title</th>\n",
       "      <th>puNumber</th>\n",
       "      <th>show_start_date</th>\n",
       "      <th>type</th>\n",
       "      <th>film_studio</th>\n",
       "      <th>production_country</th>\n",
       "      <th>director</th>\n",
       "      <th>producer</th>\n",
       "      <th>age_restriction</th>\n",
       "      <th>refundable_support</th>\n",
       "      <th>nonrefundable_support</th>\n",
       "      <th>budget</th>\n",
       "      <th>financing_source</th>\n",
       "      <th>ratings</th>\n",
       "      <th>genres</th>\n",
       "    </tr>\n",
       "  </thead>\n",
       "  <tbody>\n",
       "    <tr>\n",
       "      <th>1797</th>\n",
       "      <td>Курбан-роман. (История с жертвой)</td>\n",
       "      <td>нет</td>\n",
       "      <td>2014-05-15T12:00:00.000Z</td>\n",
       "      <td>Художественный</td>\n",
       "      <td>ФОНД \"ИННОВАЦИЯ\"</td>\n",
       "      <td>Россия</td>\n",
       "      <td>С.Юзеев</td>\n",
       "      <td>М.Галицкая</td>\n",
       "      <td>«12+» - для детей старше 12 лет</td>\n",
       "      <td>NaN</td>\n",
       "      <td>NaN</td>\n",
       "      <td>NaN</td>\n",
       "      <td>NaN</td>\n",
       "      <td>NaN</td>\n",
       "      <td>NaN</td>\n",
       "    </tr>\n",
       "  </tbody>\n",
       "</table>\n",
       "</div>"
      ],
      "text/plain": [
       "                                  title puNumber           show_start_date  \\\n",
       "1797  Курбан-роман. (История с жертвой)      нет  2014-05-15T12:00:00.000Z   \n",
       "\n",
       "                type       film_studio production_country director  \\\n",
       "1797  Художественный  ФОНД \"ИННОВАЦИЯ\"             Россия  С.Юзеев   \n",
       "\n",
       "        producer                  age_restriction  refundable_support  \\\n",
       "1797  М.Галицкая  «12+» - для детей старше 12 лет                 NaN   \n",
       "\n",
       "      nonrefundable_support  budget financing_source ratings genres  \n",
       "1797                    NaN     NaN              NaN     NaN    NaN  "
      ]
     },
     "execution_count": 3,
     "metadata": {},
     "output_type": "execute_result"
    }
   ],
   "source": [
    "data_old_1.loc[data_old_1['puNumber']=='нет']"
   ]
  },
  {
   "cell_type": "markdown",
   "metadata": {},
   "source": [
    "Поскольку в списке фильмов был обнаружен фильм без номера прокатного удостоверения, чтобы дальше можно было объединять таблицы, используя его в качестве ключа, меняем \"нет\" на 0 и тип данных  в столбце на числовой."
   ]
  },
  {
   "cell_type": "code",
   "execution_count": 4,
   "metadata": {},
   "outputs": [],
   "source": [
    "data_old_1['puNumber']=data_old_1['puNumber'].replace('нет','0')"
   ]
  },
  {
   "cell_type": "code",
   "execution_count": 5,
   "metadata": {},
   "outputs": [
    {
     "data": {
      "text/plain": [
       "array([221048915, 111013716, 221038416, ..., 124010819, 124010619,\n",
       "       124010719])"
      ]
     },
     "execution_count": 5,
     "metadata": {},
     "output_type": "execute_result"
    }
   ],
   "source": [
    "data_old_1['puNumber']=data_old_1['puNumber'].astype(int)\n",
    "data_old_1['puNumber'].unique()"
   ]
  },
  {
   "cell_type": "code",
   "execution_count": 6,
   "metadata": {},
   "outputs": [
    {
     "name": "stdout",
     "output_type": "stream",
     "text": [
      "                  title   puNumber           show_start_date            type  \\\n",
      "0      Открытый простор  221048915  2015-11-27T12:00:00.000Z  Художественный   \n",
      "1  Особо важное задание  111013716  2016-09-13T12:00:00.000Z  Художественный   \n",
      "2          Особо опасен  221038416  2016-10-10T12:00:00.000Z  Художественный   \n",
      "3          Особо опасен  221026916  2016-06-10T12:00:00.000Z  Художественный   \n",
      "4          Особо опасен  221030815  2015-07-29T12:00:00.000Z  Художественный   \n",
      "\n",
      "                                         film_studio production_country  \\\n",
      "0  Тачстоун Пикчерз, Кобальт Пикчерз, Бикон Пикче...                США   \n",
      "1                              Киностудия \"Мосфильм\"               СССР   \n",
      "2  Юниверсал Пикчерз, Кикстарт Продакшнз, Марк Пл...                США   \n",
      "3  Юниверсал Пикчерз, Кикстарт Продакшнз, Марк Пл...                США   \n",
      "4  Юниверсал Пикчерз, Кикстарт Продакшнз, Марк Пл...                США   \n",
      "\n",
      "            director                                           producer  \\\n",
      "0      Кевин Костнер          Дэвид Валдес, Кевин Костнер, Джейк Эбертс   \n",
      "1          Е.Матвеев                                                NaN   \n",
      "2  Тимур Бекмамбетов  Джим Лемли, Джейсон Нетер, Марк Е.Платт, Яйн Смит   \n",
      "3  Тимур Бекмамбетов  Джим Лемли, Джейсон Нетер, Марк Е.Платт, Яйн Смит   \n",
      "4  Тимур Бекмамбетов  Джим Лемли, Джейсон Нетер, Марк Е.Платт, Яйн Смит   \n",
      "\n",
      "                 age_restriction  refundable_support  nonrefundable_support  \\\n",
      "0    «18+» - запрещено для детей                 NaN                    NaN   \n",
      "1  «6+» - для детей старше 6 лет                 NaN                    NaN   \n",
      "2    «18+» - запрещено для детей                 NaN                    NaN   \n",
      "3    «18+» - запрещено для детей                 NaN                    NaN   \n",
      "4    «18+» - запрещено для детей                 NaN                    NaN   \n",
      "\n",
      "   budget financing_source ratings                     genres  box_office  \n",
      "0     NaN              NaN     7.2     боевик,драма,мелодрама         NaN  \n",
      "1     NaN              NaN     6.6              драма,военный         NaN  \n",
      "2     NaN              NaN     6.8  фантастика,боевик,триллер         NaN  \n",
      "3     NaN              NaN     6.8  фантастика,боевик,триллер         NaN  \n",
      "4     NaN              NaN     6.8  фантастика,боевик,триллер         NaN  \n"
     ]
    }
   ],
   "source": [
    "data_old= data_old_1.merge(data_old_2, on='puNumber', how='left')\n",
    "print(data_old.head(5))"
   ]
  },
  {
   "cell_type": "markdown",
   "metadata": {
    "id": "KLDGpPG0gFyM"
   },
   "source": [
    "###  Предобработка данных"
   ]
  },
  {
   "cell_type": "markdown",
   "metadata": {
    "id": "ssWwKXsxgFyO"
   },
   "source": [
    "#### Проверка типа данных"
   ]
  },
  {
   "cell_type": "code",
   "execution_count": 7,
   "metadata": {
    "id": "kVGSplJOgFyO"
   },
   "outputs": [
    {
     "name": "stdout",
     "output_type": "stream",
     "text": [
      "<class 'pandas.core.frame.DataFrame'>\n",
      "Int64Index: 7486 entries, 0 to 7485\n",
      "Data columns (total 16 columns):\n",
      " #   Column                 Non-Null Count  Dtype  \n",
      "---  ------                 --------------  -----  \n",
      " 0   title                  7486 non-null   object \n",
      " 1   puNumber               7486 non-null   int64  \n",
      " 2   show_start_date        7486 non-null   object \n",
      " 3   type                   7486 non-null   object \n",
      " 4   film_studio            7468 non-null   object \n",
      " 5   production_country     7484 non-null   object \n",
      " 6   director               7477 non-null   object \n",
      " 7   producer               6918 non-null   object \n",
      " 8   age_restriction        7486 non-null   object \n",
      " 9   refundable_support     332 non-null    float64\n",
      " 10  nonrefundable_support  332 non-null    float64\n",
      " 11  budget                 332 non-null    float64\n",
      " 12  financing_source       332 non-null    object \n",
      " 13  ratings                6519 non-null   object \n",
      " 14  genres                 6510 non-null   object \n",
      " 15  box_office             3158 non-null   float64\n",
      "dtypes: float64(4), int64(1), object(11)\n",
      "memory usage: 994.2+ KB\n"
     ]
    }
   ],
   "source": [
    "data=data_old\n",
    "data.info()"
   ]
  },
  {
   "cell_type": "code",
   "execution_count": 8,
   "metadata": {},
   "outputs": [],
   "source": [
    "data['show_start_date']=pd.to_datetime(data['show_start_date'], format='%Y-%m-%dT%H:%M:%S.%fZ')"
   ]
  },
  {
   "cell_type": "code",
   "execution_count": 9,
   "metadata": {
    "scrolled": true
   },
   "outputs": [
    {
     "data": {
      "text/plain": [
       "array(['7.2', '6.6', '6.8', '7.7', '8.3', '8.0', '7.8', '8.1', '7.1',\n",
       "       '6.0', '7.4', '5.8', '8.7', '6.3', '6.9', '5.0', '4.3', '7.3',\n",
       "       '7.0', '6.4', nan, '8.2', '7.5', '6.7', '7.9', '5.9', '6.2', '5.6',\n",
       "       '6.5', '2.4', '7.6', '6.1', '8.6', '8.5', '8.8', '5.5', '5.1',\n",
       "       '5.7', '5.4', '99%', '4.4', '4.5', '5.3', '4.1', '8.4', '2.6',\n",
       "       '3.8', '4.6', '4.8', '4.0', '3.0', '1.6', '4.2', '5.2', '4.7',\n",
       "       '4.9', '3.9', '2.7', '3.3', '2.9', '28%', '3.7', '1.4', '3.1',\n",
       "       '97%', '3.5', '3.2', '2.8', '1.5', '2.1', '2.5', '9.2', '3.4',\n",
       "       '1.1', '3.6', '83%', '64%', '91%', '94%', '62%', '79%', '90%',\n",
       "       '19%', '88%', '1.0', '89%', '1.3', '1.9', '1.8', '1.2', '1.7',\n",
       "       '9.0', '98%', '8.9', '9.1'], dtype=object)"
      ]
     },
     "execution_count": 9,
     "metadata": {},
     "output_type": "execute_result"
    }
   ],
   "source": [
    "data['ratings'].unique()"
   ]
  },
  {
   "cell_type": "code",
   "execution_count": 10,
   "metadata": {
    "scrolled": true
   },
   "outputs": [
    {
     "data": {
      "text/html": [
       "<div>\n",
       "<style scoped>\n",
       "    .dataframe tbody tr th:only-of-type {\n",
       "        vertical-align: middle;\n",
       "    }\n",
       "\n",
       "    .dataframe tbody tr th {\n",
       "        vertical-align: top;\n",
       "    }\n",
       "\n",
       "    .dataframe thead th {\n",
       "        text-align: right;\n",
       "    }\n",
       "</style>\n",
       "<table border=\"1\" class=\"dataframe\">\n",
       "  <thead>\n",
       "    <tr style=\"text-align: right;\">\n",
       "      <th></th>\n",
       "      <th>title</th>\n",
       "      <th>puNumber</th>\n",
       "      <th>show_start_date</th>\n",
       "      <th>type</th>\n",
       "      <th>film_studio</th>\n",
       "      <th>production_country</th>\n",
       "      <th>director</th>\n",
       "      <th>producer</th>\n",
       "      <th>age_restriction</th>\n",
       "      <th>refundable_support</th>\n",
       "      <th>nonrefundable_support</th>\n",
       "      <th>budget</th>\n",
       "      <th>financing_source</th>\n",
       "      <th>ratings</th>\n",
       "      <th>genres</th>\n",
       "      <th>box_office</th>\n",
       "    </tr>\n",
       "  </thead>\n",
       "  <tbody>\n",
       "    <tr>\n",
       "      <th>259</th>\n",
       "      <td>Прошлое</td>\n",
       "      <td>221030715</td>\n",
       "      <td>2015-07-29 12:00:00</td>\n",
       "      <td>Художественный</td>\n",
       "      <td>20 Сенчюри Фокс де Архентина, Чемо, ЭйчБи Филм...</td>\n",
       "      <td>Аргентина - Бразилия</td>\n",
       "      <td>Эктор Бабенко</td>\n",
       "      <td>Эктор Бабенко, Оскар Крамер, Хуго Сидмэн</td>\n",
       "      <td>«16+» - для детей старше 16 лет</td>\n",
       "      <td>NaN</td>\n",
       "      <td>NaN</td>\n",
       "      <td>NaN</td>\n",
       "      <td>NaN</td>\n",
       "      <td>99%</td>\n",
       "      <td>ужасы,триллер,драма</td>\n",
       "      <td>NaN</td>\n",
       "    </tr>\n",
       "    <tr>\n",
       "      <th>811</th>\n",
       "      <td>От винта!</td>\n",
       "      <td>114000212</td>\n",
       "      <td>2012-08-06 12:00:00</td>\n",
       "      <td>Анимационный</td>\n",
       "      <td>ЗАО \"Продюсерский центр \"Парадиз\"</td>\n",
       "      <td>Россия</td>\n",
       "      <td>О.Лопато</td>\n",
       "      <td>Г.Нерсисян, А.Манасарян, А.Нерсесян</td>\n",
       "      <td>«12+» - для детей старше 12 лет</td>\n",
       "      <td>NaN</td>\n",
       "      <td>NaN</td>\n",
       "      <td>NaN</td>\n",
       "      <td>NaN</td>\n",
       "      <td>28%</td>\n",
       "      <td>детский,приключения,комедия</td>\n",
       "      <td>1.740000e+03</td>\n",
       "    </tr>\n",
       "    <tr>\n",
       "      <th>1053</th>\n",
       "      <td>Песочный человек</td>\n",
       "      <td>121029212</td>\n",
       "      <td>2012-11-29 12:00:00</td>\n",
       "      <td>Художественный</td>\n",
       "      <td>Спотлайт Медиа Продакшн</td>\n",
       "      <td>Швейцария</td>\n",
       "      <td>Питер Луизи</td>\n",
       "      <td>Дэвид Луизи, Питер Луизи</td>\n",
       "      <td>«16+» - для детей старше 16 лет</td>\n",
       "      <td>NaN</td>\n",
       "      <td>NaN</td>\n",
       "      <td>NaN</td>\n",
       "      <td>NaN</td>\n",
       "      <td>97%</td>\n",
       "      <td>ужасы,фантастика,фэнтези</td>\n",
       "      <td>NaN</td>\n",
       "    </tr>\n",
       "    <tr>\n",
       "      <th>1341</th>\n",
       "      <td>Сказка о добре и Вре</td>\n",
       "      <td>111008913</td>\n",
       "      <td>2013-11-15 12:00:00</td>\n",
       "      <td>Художественный</td>\n",
       "      <td>НП \"Студия игрового кино \"Лик\"</td>\n",
       "      <td>Россия</td>\n",
       "      <td>Е.Шиляева</td>\n",
       "      <td>К.Терещенко</td>\n",
       "      <td>«6+» - для детей старше 6 лет</td>\n",
       "      <td>NaN</td>\n",
       "      <td>NaN</td>\n",
       "      <td>NaN</td>\n",
       "      <td>NaN</td>\n",
       "      <td>99%</td>\n",
       "      <td>триллер,драма,детектив</td>\n",
       "      <td>NaN</td>\n",
       "    </tr>\n",
       "    <tr>\n",
       "      <th>1805</th>\n",
       "      <td>Спираль.</td>\n",
       "      <td>111001014</td>\n",
       "      <td>2014-01-30 12:00:00</td>\n",
       "      <td>Художественный</td>\n",
       "      <td>ООО \"Компания Питон\"</td>\n",
       "      <td>Россия</td>\n",
       "      <td>А.Волгин</td>\n",
       "      <td>Е.Ковалева</td>\n",
       "      <td>«12+» - для детей старше 12 лет</td>\n",
       "      <td>NaN</td>\n",
       "      <td>NaN</td>\n",
       "      <td>NaN</td>\n",
       "      <td>NaN</td>\n",
       "      <td>99%</td>\n",
       "      <td>аниме,мультфильм,ужасы</td>\n",
       "      <td>4.295000e+03</td>\n",
       "    </tr>\n",
       "    <tr>\n",
       "      <th>1874</th>\n",
       "      <td>Короткие истории о любви 2</td>\n",
       "      <td>121002615</td>\n",
       "      <td>2015-02-13 12:00:00</td>\n",
       "      <td>Художественный</td>\n",
       "      <td>Кавиар, Курт 13, СтритЛайт Филмз, Нэйер Дойче ...</td>\n",
       "      <td>Нидерланды - США - Германия - Канада - Франция...</td>\n",
       "      <td>Мэтью Аувро, Лео Брайдл, Бен Бренд, Ден Кларк,...</td>\n",
       "      <td>Мэри Пэт Бентел, Бен Бренд, Сиара Гиллан, Джор...</td>\n",
       "      <td>«18+» - запрещено для детей</td>\n",
       "      <td>NaN</td>\n",
       "      <td>NaN</td>\n",
       "      <td>NaN</td>\n",
       "      <td>NaN</td>\n",
       "      <td>83%</td>\n",
       "      <td>NaN</td>\n",
       "      <td>1.429859e+06</td>\n",
       "    </tr>\n",
       "    <tr>\n",
       "      <th>1899</th>\n",
       "      <td>Золушка /По сказке Шарля Перро/. Холодное торж...</td>\n",
       "      <td>121003615</td>\n",
       "      <td>2015-02-27 12:00:00</td>\n",
       "      <td>Художественный</td>\n",
       "      <td>Женр Филмз, Уолт Дисней Пикчерз</td>\n",
       "      <td>США</td>\n",
       "      <td>Кеннет Брана</td>\n",
       "      <td>Дэвид Бэррон, Саймон Кинберг, Эллисон Ширмур</td>\n",
       "      <td>«6+» - для детей старше 6 лет</td>\n",
       "      <td>NaN</td>\n",
       "      <td>NaN</td>\n",
       "      <td>NaN</td>\n",
       "      <td>NaN</td>\n",
       "      <td>64%</td>\n",
       "      <td>мюзикл,фэнтези,мелодрама</td>\n",
       "      <td>5.287326e+08</td>\n",
       "    </tr>\n",
       "    <tr>\n",
       "      <th>2126</th>\n",
       "      <td>Поездка к матери</td>\n",
       "      <td>111002015</td>\n",
       "      <td>2015-03-02 12:00:00</td>\n",
       "      <td>Художественный</td>\n",
       "      <td>ЗАО \"Киностудия \"М\"-Фильм\"</td>\n",
       "      <td>Россия</td>\n",
       "      <td>М.Косырев-Нестеров</td>\n",
       "      <td>М.Косырев-Нестеров</td>\n",
       "      <td>«16+» - для детей старше 16 лет</td>\n",
       "      <td>NaN</td>\n",
       "      <td>NaN</td>\n",
       "      <td>NaN</td>\n",
       "      <td>NaN</td>\n",
       "      <td>91%</td>\n",
       "      <td>драма,семейный</td>\n",
       "      <td>0.000000e+00</td>\n",
       "    </tr>\n",
       "    <tr>\n",
       "      <th>2146</th>\n",
       "      <td>Главный</td>\n",
       "      <td>111003415</td>\n",
       "      <td>2015-03-27 12:00:00</td>\n",
       "      <td>Художественный</td>\n",
       "      <td>ООО \"Киностудия \"МАСТЕР\"</td>\n",
       "      <td>Россия</td>\n",
       "      <td>Ю.Кара</td>\n",
       "      <td>Ю.Кара</td>\n",
       "      <td>«6+» - для детей старше 6 лет</td>\n",
       "      <td>0.0</td>\n",
       "      <td>10000000.0</td>\n",
       "      <td>40000000.0</td>\n",
       "      <td>Министерство культуры</td>\n",
       "      <td>94%</td>\n",
       "      <td>фантастика,боевик,комедия</td>\n",
       "      <td>3.347500e+05</td>\n",
       "    </tr>\n",
       "    <tr>\n",
       "      <th>2438</th>\n",
       "      <td>Самый рыжий Лис</td>\n",
       "      <td>111012715</td>\n",
       "      <td>2015-07-30 12:00:00</td>\n",
       "      <td>Художественный</td>\n",
       "      <td>ООО \"Продюсерский центр \"Ленфильм\"</td>\n",
       "      <td>Россия</td>\n",
       "      <td>А.Стреляная</td>\n",
       "      <td>А.Котелевский, Э.Пичугин</td>\n",
       "      <td>«6+» - для детей старше 6 лет</td>\n",
       "      <td>NaN</td>\n",
       "      <td>NaN</td>\n",
       "      <td>NaN</td>\n",
       "      <td>NaN</td>\n",
       "      <td>62%</td>\n",
       "      <td>фэнтези,семейный</td>\n",
       "      <td>NaN</td>\n",
       "    </tr>\n",
       "    <tr>\n",
       "      <th>2680</th>\n",
       "      <td>Год Белого Слона</td>\n",
       "      <td>111003915</td>\n",
       "      <td>2015-04-08 12:00:00</td>\n",
       "      <td>Художественный</td>\n",
       "      <td>ООО \"Творческое объединение ЮГ\"</td>\n",
       "      <td>Россия</td>\n",
       "      <td>Ю.Грымов</td>\n",
       "      <td>П.Поляков</td>\n",
       "      <td>«6+» - для детей старше 6 лет</td>\n",
       "      <td>NaN</td>\n",
       "      <td>NaN</td>\n",
       "      <td>NaN</td>\n",
       "      <td>NaN</td>\n",
       "      <td>79%</td>\n",
       "      <td>семейный</td>\n",
       "      <td>NaN</td>\n",
       "    </tr>\n",
       "    <tr>\n",
       "      <th>3139</th>\n",
       "      <td>Я умею вязать</td>\n",
       "      <td>111019615</td>\n",
       "      <td>2015-11-27 12:00:00</td>\n",
       "      <td>Художественный</td>\n",
       "      <td>ООО \"Белое Зеркало\"</td>\n",
       "      <td>Россия</td>\n",
       "      <td>Н.Степанова при участии С.Иванова</td>\n",
       "      <td>С.Кикнавелидзе, Д.Улюкаев</td>\n",
       "      <td>«16+» - для детей старше 16 лет</td>\n",
       "      <td>0.0</td>\n",
       "      <td>4700000.0</td>\n",
       "      <td>14462464.0</td>\n",
       "      <td>Министерство культуры</td>\n",
       "      <td>90%</td>\n",
       "      <td>драма</td>\n",
       "      <td>8.013700e+05</td>\n",
       "    </tr>\n",
       "    <tr>\n",
       "      <th>3431</th>\n",
       "      <td>Наурыз</td>\n",
       "      <td>131000217</td>\n",
       "      <td>2017-03-09 12:00:00</td>\n",
       "      <td>Художественный</td>\n",
       "      <td>Эс Джи</td>\n",
       "      <td>Республика Казахстан</td>\n",
       "      <td>Аскар Бисембин</td>\n",
       "      <td>Олег Головашкин, Алмас Султангазин</td>\n",
       "      <td>«12+» - для детей старше 12 лет</td>\n",
       "      <td>NaN</td>\n",
       "      <td>NaN</td>\n",
       "      <td>NaN</td>\n",
       "      <td>NaN</td>\n",
       "      <td>19%</td>\n",
       "      <td>комедия</td>\n",
       "      <td>3.796000e+04</td>\n",
       "    </tr>\n",
       "    <tr>\n",
       "      <th>3439</th>\n",
       "      <td>Семь диких историй</td>\n",
       "      <td>126005916</td>\n",
       "      <td>2016-11-28 12:00:00</td>\n",
       "      <td>Прочие</td>\n",
       "      <td>Макс Бэйкер, Джон Е.Брайан, Пьер-Луи Гарнон,  ...</td>\n",
       "      <td>США - Пуэрто-Рико - Франция</td>\n",
       "      <td>М.Бэйкер, Д.Е.Брайант, Д.Рондот, Я.Серсар, Д.С...</td>\n",
       "      <td>М.Бэйкер, Д.Е.Брайан, П.-Л.Гарнон, М.Х.Дельгад...</td>\n",
       "      <td>«18+» - запрещено для детей</td>\n",
       "      <td>NaN</td>\n",
       "      <td>NaN</td>\n",
       "      <td>NaN</td>\n",
       "      <td>NaN</td>\n",
       "      <td>88%</td>\n",
       "      <td>NaN</td>\n",
       "      <td>1.025937e+06</td>\n",
       "    </tr>\n",
       "    <tr>\n",
       "      <th>3446</th>\n",
       "      <td>Короткие истории о любви - 4</td>\n",
       "      <td>126006316</td>\n",
       "      <td>2016-12-30 12:00:00</td>\n",
       "      <td>Прочие</td>\n",
       "      <td>Нетворг Айлэнд Телевижн, Магнетфильм, Шорткатс...</td>\n",
       "      <td>Великобритания - Аргентина - США - Франция - Р...</td>\n",
       "      <td>Д.Адар, П.Антохин, М.Биасин, А.Бурунова, К.Кол...</td>\n",
       "      <td>Д.Адар, Д.Амсон, П.Антохин, А.Армстронг, С.Бил...</td>\n",
       "      <td>«18+» - запрещено для детей</td>\n",
       "      <td>NaN</td>\n",
       "      <td>NaN</td>\n",
       "      <td>NaN</td>\n",
       "      <td>NaN</td>\n",
       "      <td>83%</td>\n",
       "      <td>NaN</td>\n",
       "      <td>2.266408e+06</td>\n",
       "    </tr>\n",
       "    <tr>\n",
       "      <th>3514</th>\n",
       "      <td>Чужой дом</td>\n",
       "      <td>111015516</td>\n",
       "      <td>2016-09-14 12:00:00</td>\n",
       "      <td>Художественный</td>\n",
       "      <td>ООО \"Лига Продакшн\"</td>\n",
       "      <td>Россия, Грузия, Хорватия, Испания</td>\n",
       "      <td>Р.Глурджидзе</td>\n",
       "      <td>З.Магалашвили, К.Гечмен-Вальдек, Н.Горшкова</td>\n",
       "      <td>«12+» - для детей старше 12 лет</td>\n",
       "      <td>NaN</td>\n",
       "      <td>NaN</td>\n",
       "      <td>NaN</td>\n",
       "      <td>NaN</td>\n",
       "      <td>91%</td>\n",
       "      <td>драма</td>\n",
       "      <td>NaN</td>\n",
       "    </tr>\n",
       "    <tr>\n",
       "      <th>3585</th>\n",
       "      <td>Машины Страшилки. Серия \"Жутчайшая повесть о п...</td>\n",
       "      <td>114003916</td>\n",
       "      <td>2016-12-09 12:00:00</td>\n",
       "      <td>Анимационный</td>\n",
       "      <td>ООО Студия \"АНИМАККОРД\", АНИМАККОРД ЛТД.</td>\n",
       "      <td>Россия, Республика Кипр</td>\n",
       "      <td>Д.Червяцов</td>\n",
       "      <td>Д.Ловейко, О.Кузовков</td>\n",
       "      <td>«0+» - для любой зрительской аудитории</td>\n",
       "      <td>NaN</td>\n",
       "      <td>NaN</td>\n",
       "      <td>NaN</td>\n",
       "      <td>NaN</td>\n",
       "      <td>97%</td>\n",
       "      <td>мультфильм,ужасы,фэнтези</td>\n",
       "      <td>NaN</td>\n",
       "    </tr>\n",
       "    <tr>\n",
       "      <th>3786</th>\n",
       "      <td>Охотники</td>\n",
       "      <td>111017816</td>\n",
       "      <td>2016-02-06 12:00:00</td>\n",
       "      <td>Художественный</td>\n",
       "      <td>Селиверстов Александр Александрович</td>\n",
       "      <td>Россия</td>\n",
       "      <td>А.Селиверстов</td>\n",
       "      <td>Е.Тарковская, Т.Лагода, Д.Степанян</td>\n",
       "      <td>«16+» - для детей старше 16 лет</td>\n",
       "      <td>NaN</td>\n",
       "      <td>NaN</td>\n",
       "      <td>NaN</td>\n",
       "      <td>NaN</td>\n",
       "      <td>89%</td>\n",
       "      <td>фантастика,комедия,боевик</td>\n",
       "      <td>8.284000e+04</td>\n",
       "    </tr>\n",
       "    <tr>\n",
       "      <th>3948</th>\n",
       "      <td>Круиз.</td>\n",
       "      <td>211038210</td>\n",
       "      <td>2010-09-03 12:00:00</td>\n",
       "      <td>Художественный</td>\n",
       "      <td>ООО \"ЮНАЙТЕД МУЛЬТИМЕДИА ПРОДЖЕКТС\"</td>\n",
       "      <td>Россия</td>\n",
       "      <td>И.Ромащенко</td>\n",
       "      <td>Р.Атамалибеков</td>\n",
       "      <td>«16+» - для детей старше 16 лет</td>\n",
       "      <td>NaN</td>\n",
       "      <td>NaN</td>\n",
       "      <td>NaN</td>\n",
       "      <td>NaN</td>\n",
       "      <td>97%</td>\n",
       "      <td>приключения,комедия,фэнтези</td>\n",
       "      <td>NaN</td>\n",
       "    </tr>\n",
       "    <tr>\n",
       "      <th>5332</th>\n",
       "      <td>Добыча.</td>\n",
       "      <td>121009411</td>\n",
       "      <td>2011-06-15 12:00:00</td>\n",
       "      <td>Художественный</td>\n",
       "      <td>Афтер Дарк Филмз</td>\n",
       "      <td>США</td>\n",
       "      <td>Патрик Сиверсен</td>\n",
       "      <td>Закари Ти Брайан, Кристофер</td>\n",
       "      <td>«18+» - запрещено для детей</td>\n",
       "      <td>NaN</td>\n",
       "      <td>NaN</td>\n",
       "      <td>NaN</td>\n",
       "      <td>NaN</td>\n",
       "      <td>88%</td>\n",
       "      <td>фантастика,боевик,триллер</td>\n",
       "      <td>NaN</td>\n",
       "    </tr>\n",
       "    <tr>\n",
       "      <th>5455</th>\n",
       "      <td>Вечный холод</td>\n",
       "      <td>111006417</td>\n",
       "      <td>2017-08-28 12:00:00</td>\n",
       "      <td>Художественный</td>\n",
       "      <td>ЗАО \"Производственный комплекс \"ГЛАВКИНО\", ООО...</td>\n",
       "      <td>Россия</td>\n",
       "      <td>А.Мигачев</td>\n",
       "      <td>И.Бачурин</td>\n",
       "      <td>«18+» - запрещено для детей</td>\n",
       "      <td>NaN</td>\n",
       "      <td>NaN</td>\n",
       "      <td>NaN</td>\n",
       "      <td>NaN</td>\n",
       "      <td>83%</td>\n",
       "      <td>фэнтези,боевик,триллер</td>\n",
       "      <td>NaN</td>\n",
       "    </tr>\n",
       "    <tr>\n",
       "      <th>5821</th>\n",
       "      <td>Свинья</td>\n",
       "      <td>121007018</td>\n",
       "      <td>2018-04-11 12:00:00</td>\n",
       "      <td>Художественный</td>\n",
       "      <td>Дарк Прекёрсор Продакшен, Филмиран, Хедейт Филм</td>\n",
       "      <td>Иран</td>\n",
       "      <td>Мани Хагиги</td>\n",
       "      <td>Мани Хагиги</td>\n",
       "      <td>«18+» - запрещено для детей</td>\n",
       "      <td>NaN</td>\n",
       "      <td>NaN</td>\n",
       "      <td>NaN</td>\n",
       "      <td>NaN</td>\n",
       "      <td>94%</td>\n",
       "      <td>триллер,драма</td>\n",
       "      <td>1.587222e+06</td>\n",
       "    </tr>\n",
       "    <tr>\n",
       "      <th>5910</th>\n",
       "      <td>Мира</td>\n",
       "      <td>112000118</td>\n",
       "      <td>2018-06-04 12:00:00</td>\n",
       "      <td>Документальный</td>\n",
       "      <td>ООО \"Компания \"Новые люди\"</td>\n",
       "      <td>Россия</td>\n",
       "      <td>Д.Шабаев</td>\n",
       "      <td>Н.Мокрицкая</td>\n",
       "      <td>«18+» - запрещено для детей</td>\n",
       "      <td>NaN</td>\n",
       "      <td>NaN</td>\n",
       "      <td>NaN</td>\n",
       "      <td>NaN</td>\n",
       "      <td>94%</td>\n",
       "      <td>драма</td>\n",
       "      <td>NaN</td>\n",
       "    </tr>\n",
       "    <tr>\n",
       "      <th>6426</th>\n",
       "      <td>Памятные даты России. Партизаны и подпольщики</td>\n",
       "      <td>112013018</td>\n",
       "      <td>2018-11-28 12:00:00</td>\n",
       "      <td>Документальный</td>\n",
       "      <td>ООО Кинокомпания \"Вектор\"</td>\n",
       "      <td>Россия</td>\n",
       "      <td>Н.Иванова, А.Кузнецова</td>\n",
       "      <td>В.Коханович</td>\n",
       "      <td>«12+» - для детей старше 12 лет</td>\n",
       "      <td>NaN</td>\n",
       "      <td>NaN</td>\n",
       "      <td>NaN</td>\n",
       "      <td>NaN</td>\n",
       "      <td>91%</td>\n",
       "      <td>драма,биография</td>\n",
       "      <td>NaN</td>\n",
       "    </tr>\n",
       "    <tr>\n",
       "      <th>6616</th>\n",
       "      <td>ОТ ВОЙНЫ ДО НАШИХ ДНЕЙ</td>\n",
       "      <td>111026518</td>\n",
       "      <td>2019-01-21 12:00:00</td>\n",
       "      <td>Художественный</td>\n",
       "      <td>ИП Вайсман Анатолий Александрович</td>\n",
       "      <td>Россия</td>\n",
       "      <td>А.Сазонов, Е.Климович, А.Коломеец, С.Черникова...</td>\n",
       "      <td>Д.Руюежин, Л.Пятницкая, Д.Колеров, Э.Ким, А.Хомич</td>\n",
       "      <td>«12+» - для детей старше 12 лет</td>\n",
       "      <td>NaN</td>\n",
       "      <td>NaN</td>\n",
       "      <td>NaN</td>\n",
       "      <td>NaN</td>\n",
       "      <td>98%</td>\n",
       "      <td>фантастика,боевик</td>\n",
       "      <td>NaN</td>\n",
       "    </tr>\n",
       "    <tr>\n",
       "      <th>6737</th>\n",
       "      <td>Колесо времени</td>\n",
       "      <td>111003219</td>\n",
       "      <td>2019-03-01 12:00:00</td>\n",
       "      <td>Художественный</td>\n",
       "      <td>ООО \"БестМедиа\"</td>\n",
       "      <td>Россия</td>\n",
       "      <td>Б.Куломзин</td>\n",
       "      <td>Б.Куломзин</td>\n",
       "      <td>«6+» - для детей старше 6 лет</td>\n",
       "      <td>NaN</td>\n",
       "      <td>NaN</td>\n",
       "      <td>NaN</td>\n",
       "      <td>NaN</td>\n",
       "      <td>98%</td>\n",
       "      <td>фэнтези,приключения</td>\n",
       "      <td>3.499200e+04</td>\n",
       "    </tr>\n",
       "    <tr>\n",
       "      <th>6882</th>\n",
       "      <td>Животные рядом со Святыми</td>\n",
       "      <td>112003719</td>\n",
       "      <td>2019-05-03 12:00:00</td>\n",
       "      <td>Документальный</td>\n",
       "      <td>ООО \"Кинопрограмма \"XXI век\"</td>\n",
       "      <td>Россия</td>\n",
       "      <td>Т.Мирошник</td>\n",
       "      <td>В.Есинов, Е.Калинина</td>\n",
       "      <td>«0+» - для любой зрительской аудитории</td>\n",
       "      <td>NaN</td>\n",
       "      <td>NaN</td>\n",
       "      <td>NaN</td>\n",
       "      <td>NaN</td>\n",
       "      <td>99%</td>\n",
       "      <td>криминал,драма</td>\n",
       "      <td>NaN</td>\n",
       "    </tr>\n",
       "    <tr>\n",
       "      <th>7159</th>\n",
       "      <td>Анна Каренина. Интимный дневник</td>\n",
       "      <td>111013919</td>\n",
       "      <td>2019-10-23 12:00:00</td>\n",
       "      <td>Художественный</td>\n",
       "      <td>ООО \"РТВ\"</td>\n",
       "      <td>Россия</td>\n",
       "      <td>Ю.Грымов</td>\n",
       "      <td>Ю.Грымов</td>\n",
       "      <td>«16+» - для детей старше 16 лет</td>\n",
       "      <td>NaN</td>\n",
       "      <td>NaN</td>\n",
       "      <td>NaN</td>\n",
       "      <td>NaN</td>\n",
       "      <td>79%</td>\n",
       "      <td>драма</td>\n",
       "      <td>1.828825e+05</td>\n",
       "    </tr>\n",
       "    <tr>\n",
       "      <th>7277</th>\n",
       "      <td>Добыча</td>\n",
       "      <td>121028319</td>\n",
       "      <td>2019-10-03 12:00:00</td>\n",
       "      <td>Художественный</td>\n",
       "      <td>Блумхаус Продакшнз, Хайд Парк Интертейнмент, Т...</td>\n",
       "      <td>США</td>\n",
       "      <td>Франк Халфун</td>\n",
       "      <td>Ашок Амритрадж, Джейсон Блум, Трэвис Клафф</td>\n",
       "      <td>«16+» - для детей старше 16 лет</td>\n",
       "      <td>NaN</td>\n",
       "      <td>NaN</td>\n",
       "      <td>NaN</td>\n",
       "      <td>NaN</td>\n",
       "      <td>88%</td>\n",
       "      <td>фантастика,боевик,триллер</td>\n",
       "      <td>4.416590e+06</td>\n",
       "    </tr>\n",
       "  </tbody>\n",
       "</table>\n",
       "</div>"
      ],
      "text/plain": [
       "                                                  title   puNumber  \\\n",
       "259                                             Прошлое  221030715   \n",
       "811                                           От винта!  114000212   \n",
       "1053                                   Песочный человек  121029212   \n",
       "1341                               Сказка о добре и Вре  111008913   \n",
       "1805                                           Спираль.  111001014   \n",
       "1874                         Короткие истории о любви 2  121002615   \n",
       "1899  Золушка /По сказке Шарля Перро/. Холодное торж...  121003615   \n",
       "2126                                   Поездка к матери  111002015   \n",
       "2146                                            Главный  111003415   \n",
       "2438                                    Самый рыжий Лис  111012715   \n",
       "2680                                   Год Белого Слона  111003915   \n",
       "3139                                      Я умею вязать  111019615   \n",
       "3431                                             Наурыз  131000217   \n",
       "3439                                 Семь диких историй  126005916   \n",
       "3446                       Короткие истории о любви - 4  126006316   \n",
       "3514                                          Чужой дом  111015516   \n",
       "3585  Машины Страшилки. Серия \"Жутчайшая повесть о п...  114003916   \n",
       "3786                                           Охотники  111017816   \n",
       "3948                                             Круиз.  211038210   \n",
       "5332                                            Добыча.  121009411   \n",
       "5455                                       Вечный холод  111006417   \n",
       "5821                                             Свинья  121007018   \n",
       "5910                                               Мира  112000118   \n",
       "6426      Памятные даты России. Партизаны и подпольщики  112013018   \n",
       "6616                             ОТ ВОЙНЫ ДО НАШИХ ДНЕЙ  111026518   \n",
       "6737                                     Колесо времени  111003219   \n",
       "6882                          Животные рядом со Святыми  112003719   \n",
       "7159                    Анна Каренина. Интимный дневник  111013919   \n",
       "7277                                             Добыча  121028319   \n",
       "\n",
       "         show_start_date             type  \\\n",
       "259  2015-07-29 12:00:00   Художественный   \n",
       "811  2012-08-06 12:00:00     Анимационный   \n",
       "1053 2012-11-29 12:00:00   Художественный   \n",
       "1341 2013-11-15 12:00:00   Художественный   \n",
       "1805 2014-01-30 12:00:00   Художественный   \n",
       "1874 2015-02-13 12:00:00   Художественный   \n",
       "1899 2015-02-27 12:00:00   Художественный   \n",
       "2126 2015-03-02 12:00:00   Художественный   \n",
       "2146 2015-03-27 12:00:00   Художественный   \n",
       "2438 2015-07-30 12:00:00   Художественный   \n",
       "2680 2015-04-08 12:00:00   Художественный   \n",
       "3139 2015-11-27 12:00:00   Художественный   \n",
       "3431 2017-03-09 12:00:00   Художественный   \n",
       "3439 2016-11-28 12:00:00           Прочие   \n",
       "3446 2016-12-30 12:00:00           Прочие   \n",
       "3514 2016-09-14 12:00:00   Художественный   \n",
       "3585 2016-12-09 12:00:00     Анимационный   \n",
       "3786 2016-02-06 12:00:00   Художественный   \n",
       "3948 2010-09-03 12:00:00   Художественный   \n",
       "5332 2011-06-15 12:00:00   Художественный   \n",
       "5455 2017-08-28 12:00:00   Художественный   \n",
       "5821 2018-04-11 12:00:00   Художественный   \n",
       "5910 2018-06-04 12:00:00   Документальный   \n",
       "6426 2018-11-28 12:00:00   Документальный   \n",
       "6616 2019-01-21 12:00:00   Художественный   \n",
       "6737 2019-03-01 12:00:00   Художественный   \n",
       "6882 2019-05-03 12:00:00   Документальный   \n",
       "7159 2019-10-23 12:00:00   Художественный   \n",
       "7277 2019-10-03 12:00:00   Художественный   \n",
       "\n",
       "                                            film_studio  \\\n",
       "259   20 Сенчюри Фокс де Архентина, Чемо, ЭйчБи Филм...   \n",
       "811                   ЗАО \"Продюсерский центр \"Парадиз\"   \n",
       "1053                            Спотлайт Медиа Продакшн   \n",
       "1341                     НП \"Студия игрового кино \"Лик\"   \n",
       "1805                               ООО \"Компания Питон\"   \n",
       "1874  Кавиар, Курт 13, СтритЛайт Филмз, Нэйер Дойче ...   \n",
       "1899                    Женр Филмз, Уолт Дисней Пикчерз   \n",
       "2126                         ЗАО \"Киностудия \"М\"-Фильм\"   \n",
       "2146                           ООО \"Киностудия \"МАСТЕР\"   \n",
       "2438                 ООО \"Продюсерский центр \"Ленфильм\"   \n",
       "2680                    ООО \"Творческое объединение ЮГ\"   \n",
       "3139                                ООО \"Белое Зеркало\"   \n",
       "3431                                             Эс Джи   \n",
       "3439  Макс Бэйкер, Джон Е.Брайан, Пьер-Луи Гарнон,  ...   \n",
       "3446  Нетворг Айлэнд Телевижн, Магнетфильм, Шорткатс...   \n",
       "3514                                ООО \"Лига Продакшн\"   \n",
       "3585           ООО Студия \"АНИМАККОРД\", АНИМАККОРД ЛТД.   \n",
       "3786                Селиверстов Александр Александрович   \n",
       "3948                ООО \"ЮНАЙТЕД МУЛЬТИМЕДИА ПРОДЖЕКТС\"   \n",
       "5332                                   Афтер Дарк Филмз   \n",
       "5455  ЗАО \"Производственный комплекс \"ГЛАВКИНО\", ООО...   \n",
       "5821    Дарк Прекёрсор Продакшен, Филмиран, Хедейт Филм   \n",
       "5910                         ООО \"Компания \"Новые люди\"   \n",
       "6426                          ООО Кинокомпания \"Вектор\"   \n",
       "6616                  ИП Вайсман Анатолий Александрович   \n",
       "6737                                    ООО \"БестМедиа\"   \n",
       "6882                       ООО \"Кинопрограмма \"XXI век\"   \n",
       "7159                                          ООО \"РТВ\"   \n",
       "7277  Блумхаус Продакшнз, Хайд Парк Интертейнмент, Т...   \n",
       "\n",
       "                                     production_country  \\\n",
       "259                                Аргентина - Бразилия   \n",
       "811                                              Россия   \n",
       "1053                                          Швейцария   \n",
       "1341                                             Россия   \n",
       "1805                                             Россия   \n",
       "1874  Нидерланды - США - Германия - Канада - Франция...   \n",
       "1899                                                США   \n",
       "2126                                             Россия   \n",
       "2146                                             Россия   \n",
       "2438                                             Россия   \n",
       "2680                                             Россия   \n",
       "3139                                             Россия   \n",
       "3431                               Республика Казахстан   \n",
       "3439                       США - Пуэрто-Рико - Франция    \n",
       "3446  Великобритания - Аргентина - США - Франция - Р...   \n",
       "3514                  Россия, Грузия, Хорватия, Испания   \n",
       "3585                            Россия, Республика Кипр   \n",
       "3786                                             Россия   \n",
       "3948                                             Россия   \n",
       "5332                                                США   \n",
       "5455                                             Россия   \n",
       "5821                                               Иран   \n",
       "5910                                             Россия   \n",
       "6426                                             Россия   \n",
       "6616                                             Россия   \n",
       "6737                                             Россия   \n",
       "6882                                             Россия   \n",
       "7159                                             Россия   \n",
       "7277                                                США   \n",
       "\n",
       "                                               director  \\\n",
       "259                                       Эктор Бабенко   \n",
       "811                                            О.Лопато   \n",
       "1053                                        Питер Луизи   \n",
       "1341                                          Е.Шиляева   \n",
       "1805                                           А.Волгин   \n",
       "1874  Мэтью Аувро, Лео Брайдл, Бен Бренд, Ден Кларк,...   \n",
       "1899                                       Кеннет Брана   \n",
       "2126                                 М.Косырев-Нестеров   \n",
       "2146                                             Ю.Кара   \n",
       "2438                                        А.Стреляная   \n",
       "2680                                           Ю.Грымов   \n",
       "3139                  Н.Степанова при участии С.Иванова   \n",
       "3431                                     Аскар Бисембин   \n",
       "3439  М.Бэйкер, Д.Е.Брайант, Д.Рондот, Я.Серсар, Д.С...   \n",
       "3446  Д.Адар, П.Антохин, М.Биасин, А.Бурунова, К.Кол...   \n",
       "3514                                       Р.Глурджидзе   \n",
       "3585                                         Д.Червяцов   \n",
       "3786                                      А.Селиверстов   \n",
       "3948                                        И.Ромащенко   \n",
       "5332                                    Патрик Сиверсен   \n",
       "5455                                          А.Мигачев   \n",
       "5821                                        Мани Хагиги   \n",
       "5910                                           Д.Шабаев   \n",
       "6426                             Н.Иванова, А.Кузнецова   \n",
       "6616  А.Сазонов, Е.Климович, А.Коломеец, С.Черникова...   \n",
       "6737                                         Б.Куломзин   \n",
       "6882                                         Т.Мирошник   \n",
       "7159                                           Ю.Грымов   \n",
       "7277                                       Франк Халфун   \n",
       "\n",
       "                                               producer  \\\n",
       "259            Эктор Бабенко, Оскар Крамер, Хуго Сидмэн   \n",
       "811                 Г.Нерсисян, А.Манасарян, А.Нерсесян   \n",
       "1053                           Дэвид Луизи, Питер Луизи   \n",
       "1341                                        К.Терещенко   \n",
       "1805                                         Е.Ковалева   \n",
       "1874  Мэри Пэт Бентел, Бен Бренд, Сиара Гиллан, Джор...   \n",
       "1899       Дэвид Бэррон, Саймон Кинберг, Эллисон Ширмур   \n",
       "2126                                 М.Косырев-Нестеров   \n",
       "2146                                             Ю.Кара   \n",
       "2438                           А.Котелевский, Э.Пичугин   \n",
       "2680                                          П.Поляков   \n",
       "3139                          С.Кикнавелидзе, Д.Улюкаев   \n",
       "3431                 Олег Головашкин, Алмас Султангазин   \n",
       "3439  М.Бэйкер, Д.Е.Брайан, П.-Л.Гарнон, М.Х.Дельгад...   \n",
       "3446  Д.Адар, Д.Амсон, П.Антохин, А.Армстронг, С.Бил...   \n",
       "3514        З.Магалашвили, К.Гечмен-Вальдек, Н.Горшкова   \n",
       "3585                              Д.Ловейко, О.Кузовков   \n",
       "3786                 Е.Тарковская, Т.Лагода, Д.Степанян   \n",
       "3948                                     Р.Атамалибеков   \n",
       "5332                        Закари Ти Брайан, Кристофер   \n",
       "5455                                          И.Бачурин   \n",
       "5821                                        Мани Хагиги   \n",
       "5910                                        Н.Мокрицкая   \n",
       "6426                                        В.Коханович   \n",
       "6616  Д.Руюежин, Л.Пятницкая, Д.Колеров, Э.Ким, А.Хомич   \n",
       "6737                                         Б.Куломзин   \n",
       "6882                               В.Есинов, Е.Калинина   \n",
       "7159                                           Ю.Грымов   \n",
       "7277         Ашок Амритрадж, Джейсон Блум, Трэвис Клафф   \n",
       "\n",
       "                             age_restriction  refundable_support  \\\n",
       "259          «16+» - для детей старше 16 лет                 NaN   \n",
       "811          «12+» - для детей старше 12 лет                 NaN   \n",
       "1053         «16+» - для детей старше 16 лет                 NaN   \n",
       "1341           «6+» - для детей старше 6 лет                 NaN   \n",
       "1805         «12+» - для детей старше 12 лет                 NaN   \n",
       "1874             «18+» - запрещено для детей                 NaN   \n",
       "1899           «6+» - для детей старше 6 лет                 NaN   \n",
       "2126         «16+» - для детей старше 16 лет                 NaN   \n",
       "2146           «6+» - для детей старше 6 лет                 0.0   \n",
       "2438           «6+» - для детей старше 6 лет                 NaN   \n",
       "2680           «6+» - для детей старше 6 лет                 NaN   \n",
       "3139         «16+» - для детей старше 16 лет                 0.0   \n",
       "3431         «12+» - для детей старше 12 лет                 NaN   \n",
       "3439             «18+» - запрещено для детей                 NaN   \n",
       "3446             «18+» - запрещено для детей                 NaN   \n",
       "3514         «12+» - для детей старше 12 лет                 NaN   \n",
       "3585  «0+» - для любой зрительской аудитории                 NaN   \n",
       "3786         «16+» - для детей старше 16 лет                 NaN   \n",
       "3948         «16+» - для детей старше 16 лет                 NaN   \n",
       "5332             «18+» - запрещено для детей                 NaN   \n",
       "5455             «18+» - запрещено для детей                 NaN   \n",
       "5821             «18+» - запрещено для детей                 NaN   \n",
       "5910             «18+» - запрещено для детей                 NaN   \n",
       "6426         «12+» - для детей старше 12 лет                 NaN   \n",
       "6616         «12+» - для детей старше 12 лет                 NaN   \n",
       "6737           «6+» - для детей старше 6 лет                 NaN   \n",
       "6882  «0+» - для любой зрительской аудитории                 NaN   \n",
       "7159         «16+» - для детей старше 16 лет                 NaN   \n",
       "7277         «16+» - для детей старше 16 лет                 NaN   \n",
       "\n",
       "      nonrefundable_support      budget       financing_source ratings  \\\n",
       "259                     NaN         NaN                    NaN     99%   \n",
       "811                     NaN         NaN                    NaN     28%   \n",
       "1053                    NaN         NaN                    NaN     97%   \n",
       "1341                    NaN         NaN                    NaN     99%   \n",
       "1805                    NaN         NaN                    NaN     99%   \n",
       "1874                    NaN         NaN                    NaN     83%   \n",
       "1899                    NaN         NaN                    NaN     64%   \n",
       "2126                    NaN         NaN                    NaN     91%   \n",
       "2146             10000000.0  40000000.0  Министерство культуры     94%   \n",
       "2438                    NaN         NaN                    NaN     62%   \n",
       "2680                    NaN         NaN                    NaN     79%   \n",
       "3139              4700000.0  14462464.0  Министерство культуры     90%   \n",
       "3431                    NaN         NaN                    NaN     19%   \n",
       "3439                    NaN         NaN                    NaN     88%   \n",
       "3446                    NaN         NaN                    NaN     83%   \n",
       "3514                    NaN         NaN                    NaN     91%   \n",
       "3585                    NaN         NaN                    NaN     97%   \n",
       "3786                    NaN         NaN                    NaN     89%   \n",
       "3948                    NaN         NaN                    NaN     97%   \n",
       "5332                    NaN         NaN                    NaN     88%   \n",
       "5455                    NaN         NaN                    NaN     83%   \n",
       "5821                    NaN         NaN                    NaN     94%   \n",
       "5910                    NaN         NaN                    NaN     94%   \n",
       "6426                    NaN         NaN                    NaN     91%   \n",
       "6616                    NaN         NaN                    NaN     98%   \n",
       "6737                    NaN         NaN                    NaN     98%   \n",
       "6882                    NaN         NaN                    NaN     99%   \n",
       "7159                    NaN         NaN                    NaN     79%   \n",
       "7277                    NaN         NaN                    NaN     88%   \n",
       "\n",
       "                           genres    box_office  \n",
       "259           ужасы,триллер,драма           NaN  \n",
       "811   детский,приключения,комедия  1.740000e+03  \n",
       "1053     ужасы,фантастика,фэнтези           NaN  \n",
       "1341       триллер,драма,детектив           NaN  \n",
       "1805       аниме,мультфильм,ужасы  4.295000e+03  \n",
       "1874                          NaN  1.429859e+06  \n",
       "1899     мюзикл,фэнтези,мелодрама  5.287326e+08  \n",
       "2126               драма,семейный  0.000000e+00  \n",
       "2146    фантастика,боевик,комедия  3.347500e+05  \n",
       "2438             фэнтези,семейный           NaN  \n",
       "2680                     семейный           NaN  \n",
       "3139                        драма  8.013700e+05  \n",
       "3431                      комедия  3.796000e+04  \n",
       "3439                          NaN  1.025937e+06  \n",
       "3446                          NaN  2.266408e+06  \n",
       "3514                        драма           NaN  \n",
       "3585     мультфильм,ужасы,фэнтези           NaN  \n",
       "3786    фантастика,комедия,боевик  8.284000e+04  \n",
       "3948  приключения,комедия,фэнтези           NaN  \n",
       "5332    фантастика,боевик,триллер           NaN  \n",
       "5455       фэнтези,боевик,триллер           NaN  \n",
       "5821                триллер,драма  1.587222e+06  \n",
       "5910                        драма           NaN  \n",
       "6426              драма,биография           NaN  \n",
       "6616            фантастика,боевик           NaN  \n",
       "6737          фэнтези,приключения  3.499200e+04  \n",
       "6882               криминал,драма           NaN  \n",
       "7159                        драма  1.828825e+05  \n",
       "7277    фантастика,боевик,триллер  4.416590e+06  "
      ]
     },
     "execution_count": 10,
     "metadata": {},
     "output_type": "execute_result"
    }
   ],
   "source": [
    "incorrect_r = data[data['ratings'].str.contains('[^0-9.]').fillna(False)]\n",
    "incorrect_r"
   ]
  },
  {
   "cell_type": "code",
   "execution_count": 11,
   "metadata": {
    "scrolled": true
   },
   "outputs": [
    {
     "data": {
      "text/plain": [
       "array([7.2, 6.6, 6.8, 7.7, 8.3, 8. , 7.8, 8.1, 7.1, 6. , 7.4, 5.8, 8.7,\n",
       "       6.3, 6.9, 5. , 4.3, 7.3, 7. , 6.4, nan, 8.2, 7.5, 6.7, 7.9, 5.9,\n",
       "       6.2, 5.6, 6.5, 2.4, 7.6, 6.1, 8.6, 8.5, 8.8, 5.5, 5.1, 5.7, 5.4,\n",
       "       9.9, 4.4, 4.5, 5.3, 4.1, 8.4, 2.6, 3.8, 4.6, 4.8, 4. , 3. , 1.6,\n",
       "       4.2, 5.2, 4.7, 4.9, 3.9, 2.7, 3.3, 2.9, 2.8, 3.7, 1.4, 3.1, 9.7,\n",
       "       3.5, 3.2, 1.5, 2.1, 2.5, 9.2, 3.4, 1.1, 3.6, 9.1, 9.4, 9. , 1.9,\n",
       "       1. , 8.9, 1.3, 1.8, 1.2, 1.7, 9.8])"
      ]
     },
     "execution_count": 11,
     "metadata": {},
     "output_type": "execute_result"
    }
   ],
   "source": [
    "data.loc[incorrect_r.index, 'ratings'] = incorrect_r['ratings'].str[0] + '.' + incorrect_r['ratings'].str[1]\n",
    "data['ratings'] = pd.to_numeric(data['ratings'])\n",
    "data['ratings'].unique()"
   ]
  },
  {
   "cell_type": "markdown",
   "metadata": {
    "id": "i0MOLbF-gFyP"
   },
   "source": [
    "#### Изучение пропусков"
   ]
  },
  {
   "cell_type": "code",
   "execution_count": 12,
   "metadata": {
    "id": "8MJD_lkngFyP"
   },
   "outputs": [
    {
     "name": "stdout",
     "output_type": "stream",
     "text": [
      "title                       0\n",
      "puNumber                    0\n",
      "show_start_date             0\n",
      "type                        0\n",
      "film_studio                18\n",
      "production_country          2\n",
      "director                    9\n",
      "producer                  568\n",
      "age_restriction             0\n",
      "refundable_support       7154\n",
      "nonrefundable_support    7154\n",
      "budget                   7154\n",
      "financing_source         7154\n",
      "ratings                   967\n",
      "genres                    976\n",
      "box_office               4328\n",
      "dtype: int64\n"
     ]
    }
   ],
   "source": [
    "null_data=data.isna().sum()\n",
    "print(null_data)"
   ]
  },
  {
   "cell_type": "code",
   "execution_count": 13,
   "metadata": {},
   "outputs": [
    {
     "data": {
      "text/plain": [
       "[Text(0.5, 0, 'Год премьеры фильма'),\n",
       " Text(0, 0.5, 'Кол-во фильмов'),\n",
       " Text(0.5, 1.0, 'Распределение выпущенных фильмов по годам')]"
      ]
     },
     "execution_count": 13,
     "metadata": {},
     "output_type": "execute_result"
    },
    {
     "data": {
      "image/png": "[encoded data removed]",
      "text/plain": [
       "<Figure size 1152x504 with 1 Axes>"
      ]
     },
     "metadata": {
      "needs_background": "light"
     },
     "output_type": "display_data"
    }
   ],
   "source": [
    "null_data['year']=data['show_start_date'].dt.year\n",
    "fig = plt.gcf()\n",
    "fig.set_size_inches(16, 7)\n",
    "graph_1=sns.countplot(x='year',data=null_data, palette=\"RdPu\")\n",
    "graph_1.set(xlabel =\"Год премьеры фильма\", ylabel = \"Кол-во фильмов\", \n",
    "            title ='Распределение выпущенных фильмов по годам')\n"
   ]
  },
  {
   "cell_type": "markdown",
   "metadata": {},
   "source": [
    "Судя по графику нет никакой зависимости между пропусками в данных и годами."
   ]
  },
  {
   "cell_type": "code",
   "execution_count": 14,
   "metadata": {},
   "outputs": [
    {
     "data": {
      "text/plain": [
       "array([2015, 2016, 2014, 2013, 2012, 2017, 2010, 2011, 2018, 2019])"
      ]
     },
     "execution_count": 14,
     "metadata": {},
     "output_type": "execute_result"
    }
   ],
   "source": [
    "data['year']=data['show_start_date'].dt.year\n",
    "data['year'].loc[data['box_office'].isna()].unique()"
   ]
  },
  {
   "cell_type": "markdown",
   "metadata": {},
   "source": [
    "Пропуски в столбцах с режиссером, продюссером, студией, страной производства, рейтингом, жанром и сборами заполнить, например, средним или медианным значением нельзя, так что оставляем их. Фильмы с пропусками в  столбцах с размерами возвратного и невозвратного бюджета, а также источника финансирования это фильмы без такой поддержки, заполнять такие пропуски не нужно."
   ]
  },
  {
   "cell_type": "markdown",
   "metadata": {
    "id": "4c6k1t9ygFyQ"
   },
   "source": [
    "#### Изучение дубликатов"
   ]
  },
  {
   "cell_type": "code",
   "execution_count": 15,
   "metadata": {
    "id": "aKck8RIdgFyQ"
   },
   "outputs": [
    {
     "name": "stdout",
     "output_type": "stream",
     "text": [
      "Количество дубликатов: 0\n"
     ]
    }
   ],
   "source": [
    "print('Количество дубликатов:', data.duplicated().sum())"
   ]
  },
  {
   "cell_type": "code",
   "execution_count": 16,
   "metadata": {},
   "outputs": [
    {
     "name": "stdout",
     "output_type": "stream",
     "text": [
      "title                    6772\n",
      "puNumber                 7484\n",
      "show_start_date          1965\n",
      "type                        8\n",
      "film_studio              5490\n",
      "production_country        950\n",
      "director                 4811\n",
      "producer                 5349\n",
      "age_restriction             5\n",
      "refundable_support         34\n",
      "nonrefundable_support      75\n",
      "budget                    290\n",
      "financing_source            3\n",
      "ratings                    84\n",
      "genres                    742\n",
      "box_office               2938\n",
      "year                       10\n",
      "dtype: int64\n"
     ]
    }
   ],
   "source": [
    "print(data.nunique())"
   ]
  },
  {
   "cell_type": "code",
   "execution_count": 17,
   "metadata": {},
   "outputs": [
    {
     "data": {
      "text/html": [
       "<div>\n",
       "<style scoped>\n",
       "    .dataframe tbody tr th:only-of-type {\n",
       "        vertical-align: middle;\n",
       "    }\n",
       "\n",
       "    .dataframe tbody tr th {\n",
       "        vertical-align: top;\n",
       "    }\n",
       "\n",
       "    .dataframe thead th {\n",
       "        text-align: right;\n",
       "    }\n",
       "</style>\n",
       "<table border=\"1\" class=\"dataframe\">\n",
       "  <thead>\n",
       "    <tr style=\"text-align: right;\">\n",
       "      <th></th>\n",
       "      <th>title</th>\n",
       "      <th>puNumber</th>\n",
       "      <th>show_start_date</th>\n",
       "      <th>type</th>\n",
       "      <th>film_studio</th>\n",
       "      <th>production_country</th>\n",
       "      <th>director</th>\n",
       "      <th>producer</th>\n",
       "      <th>age_restriction</th>\n",
       "      <th>refundable_support</th>\n",
       "      <th>nonrefundable_support</th>\n",
       "      <th>budget</th>\n",
       "      <th>financing_source</th>\n",
       "      <th>ratings</th>\n",
       "      <th>genres</th>\n",
       "      <th>box_office</th>\n",
       "      <th>year</th>\n",
       "    </tr>\n",
       "  </thead>\n",
       "  <tbody>\n",
       "    <tr>\n",
       "      <th>4638</th>\n",
       "      <td>Как жениться и остаться холостым</td>\n",
       "      <td>221154310</td>\n",
       "      <td>2010-12-17 12:00:00</td>\n",
       "      <td>Художественный</td>\n",
       "      <td>Ше Вам, Скрипт Ассосье, Тэ Фэ 1 Фильм Продюксь...</td>\n",
       "      <td>Франция</td>\n",
       "      <td>Эрик Лартиго</td>\n",
       "      <td>Амандин Било, Алан Шаба</td>\n",
       "      <td>«16+» - для детей старше 16 лет</td>\n",
       "      <td>NaN</td>\n",
       "      <td>NaN</td>\n",
       "      <td>NaN</td>\n",
       "      <td>NaN</td>\n",
       "      <td>7.0</td>\n",
       "      <td>мелодрама,комедия</td>\n",
       "      <td>NaN</td>\n",
       "      <td>2010</td>\n",
       "    </tr>\n",
       "    <tr>\n",
       "      <th>4639</th>\n",
       "      <td>Иоанна - женщина на папском престоле /По роман...</td>\n",
       "      <td>221154310</td>\n",
       "      <td>2010-12-17 12:00:00</td>\n",
       "      <td>Художественный</td>\n",
       "      <td>Константин Фильм, А Эр Ди Дегето Фильм, Дюне ...</td>\n",
       "      <td>Германия - Великобритания - Италия - Испания</td>\n",
       "      <td>Зенке Вортманн</td>\n",
       "      <td>Оливер Бербен, Дорис Д.Хайнце, Фарук Элтан</td>\n",
       "      <td>«16+» - для детей старше 16 лет</td>\n",
       "      <td>NaN</td>\n",
       "      <td>NaN</td>\n",
       "      <td>NaN</td>\n",
       "      <td>NaN</td>\n",
       "      <td>7.6</td>\n",
       "      <td>драма,мелодрама,история</td>\n",
       "      <td>NaN</td>\n",
       "      <td>2010</td>\n",
       "    </tr>\n",
       "    <tr>\n",
       "      <th>5067</th>\n",
       "      <td>Анализируй это!</td>\n",
       "      <td>221054410</td>\n",
       "      <td>2010-05-25 12:00:00</td>\n",
       "      <td>Художественный</td>\n",
       "      <td>Уорнер Бразерс, Вилладж Роудшоу Филмз ЛТД</td>\n",
       "      <td>США-Австралия</td>\n",
       "      <td>ХЭрольд Рэмис</td>\n",
       "      <td>Джейн Розенталь, Пола Уейнстейн</td>\n",
       "      <td>«16+» - для детей старше 16 лет</td>\n",
       "      <td>NaN</td>\n",
       "      <td>NaN</td>\n",
       "      <td>NaN</td>\n",
       "      <td>NaN</td>\n",
       "      <td>7.4</td>\n",
       "      <td>комедия,криминал</td>\n",
       "      <td>NaN</td>\n",
       "      <td>2010</td>\n",
       "    </tr>\n",
       "    <tr>\n",
       "      <th>5068</th>\n",
       "      <td>Анализируй то!</td>\n",
       "      <td>221054410</td>\n",
       "      <td>2010-05-25 12:00:00</td>\n",
       "      <td>Художественный</td>\n",
       "      <td>Уорнер Бразерс, Виллидж Роадшоу Пикчерз, Эн-Пи...</td>\n",
       "      <td>США</td>\n",
       "      <td>Гарольд Реймис</td>\n",
       "      <td>Джейн Розенталь, Паул Уэйнстейн</td>\n",
       "      <td>«12+» - для детей старше 12 лет</td>\n",
       "      <td>NaN</td>\n",
       "      <td>NaN</td>\n",
       "      <td>NaN</td>\n",
       "      <td>NaN</td>\n",
       "      <td>6.8</td>\n",
       "      <td>комедия,криминал</td>\n",
       "      <td>NaN</td>\n",
       "      <td>2010</td>\n",
       "    </tr>\n",
       "  </tbody>\n",
       "</table>\n",
       "</div>"
      ],
      "text/plain": [
       "                                                  title   puNumber  \\\n",
       "4638                   Как жениться и остаться холостым  221154310   \n",
       "4639  Иоанна - женщина на папском престоле /По роман...  221154310   \n",
       "5067                                    Анализируй это!  221054410   \n",
       "5068                                     Анализируй то!  221054410   \n",
       "\n",
       "         show_start_date            type  \\\n",
       "4638 2010-12-17 12:00:00  Художественный   \n",
       "4639 2010-12-17 12:00:00  Художественный   \n",
       "5067 2010-05-25 12:00:00  Художественный   \n",
       "5068 2010-05-25 12:00:00  Художественный   \n",
       "\n",
       "                                            film_studio  \\\n",
       "4638  Ше Вам, Скрипт Ассосье, Тэ Фэ 1 Фильм Продюксь...   \n",
       "4639   Константин Фильм, А Эр Ди Дегето Фильм, Дюне ...   \n",
       "5067          Уорнер Бразерс, Вилладж Роудшоу Филмз ЛТД   \n",
       "5068  Уорнер Бразерс, Виллидж Роадшоу Пикчерз, Эн-Пи...   \n",
       "\n",
       "                                production_country        director  \\\n",
       "4638                                       Франция    Эрик Лартиго   \n",
       "4639  Германия - Великобритания - Италия - Испания  Зенке Вортманн   \n",
       "5067                                 США-Австралия   ХЭрольд Рэмис   \n",
       "5068                                           США  Гарольд Реймис   \n",
       "\n",
       "                                        producer  \\\n",
       "4638                     Амандин Било, Алан Шаба   \n",
       "4639  Оливер Бербен, Дорис Д.Хайнце, Фарук Элтан   \n",
       "5067             Джейн Розенталь, Пола Уейнстейн   \n",
       "5068             Джейн Розенталь, Паул Уэйнстейн   \n",
       "\n",
       "                      age_restriction  refundable_support  \\\n",
       "4638  «16+» - для детей старше 16 лет                 NaN   \n",
       "4639  «16+» - для детей старше 16 лет                 NaN   \n",
       "5067  «16+» - для детей старше 16 лет                 NaN   \n",
       "5068  «12+» - для детей старше 12 лет                 NaN   \n",
       "\n",
       "      nonrefundable_support  budget financing_source  ratings  \\\n",
       "4638                    NaN     NaN              NaN      7.0   \n",
       "4639                    NaN     NaN              NaN      7.6   \n",
       "5067                    NaN     NaN              NaN      7.4   \n",
       "5068                    NaN     NaN              NaN      6.8   \n",
       "\n",
       "                       genres  box_office  year  \n",
       "4638        мелодрама,комедия         NaN  2010  \n",
       "4639  драма,мелодрама,история         NaN  2010  \n",
       "5067         комедия,криминал         NaN  2010  \n",
       "5068         комедия,криминал         NaN  2010  "
      ]
     },
     "execution_count": 17,
     "metadata": {},
     "output_type": "execute_result"
    }
   ],
   "source": [
    "data.loc[data['puNumber'].duplicated(keep=False)]"
   ]
  },
  {
   "cell_type": "code",
   "execution_count": 18,
   "metadata": {
    "scrolled": false
   },
   "outputs": [
    {
     "data": {
      "text/html": [
       "<div>\n",
       "<style scoped>\n",
       "    .dataframe tbody tr th:only-of-type {\n",
       "        vertical-align: middle;\n",
       "    }\n",
       "\n",
       "    .dataframe tbody tr th {\n",
       "        vertical-align: top;\n",
       "    }\n",
       "\n",
       "    .dataframe thead th {\n",
       "        text-align: right;\n",
       "    }\n",
       "</style>\n",
       "<table border=\"1\" class=\"dataframe\">\n",
       "  <thead>\n",
       "    <tr style=\"text-align: right;\">\n",
       "      <th></th>\n",
       "      <th>title</th>\n",
       "      <th>puNumber</th>\n",
       "      <th>show_start_date</th>\n",
       "      <th>type</th>\n",
       "      <th>film_studio</th>\n",
       "      <th>production_country</th>\n",
       "      <th>director</th>\n",
       "      <th>producer</th>\n",
       "      <th>age_restriction</th>\n",
       "      <th>refundable_support</th>\n",
       "      <th>nonrefundable_support</th>\n",
       "      <th>budget</th>\n",
       "      <th>financing_source</th>\n",
       "      <th>ratings</th>\n",
       "      <th>genres</th>\n",
       "      <th>box_office</th>\n",
       "      <th>year</th>\n",
       "    </tr>\n",
       "  </thead>\n",
       "  <tbody>\n",
       "    <tr>\n",
       "      <th>2</th>\n",
       "      <td>Особо опасен</td>\n",
       "      <td>221038416</td>\n",
       "      <td>2016-10-10 12:00:00</td>\n",
       "      <td>Художественный</td>\n",
       "      <td>Юниверсал Пикчерз, Кикстарт Продакшнз, Марк Пл...</td>\n",
       "      <td>США</td>\n",
       "      <td>Тимур Бекмамбетов</td>\n",
       "      <td>Джим Лемли, Джейсон Нетер, Марк Е.Платт, Яйн Смит</td>\n",
       "      <td>«18+» - запрещено для детей</td>\n",
       "      <td>NaN</td>\n",
       "      <td>NaN</td>\n",
       "      <td>NaN</td>\n",
       "      <td>NaN</td>\n",
       "      <td>6.8</td>\n",
       "      <td>фантастика,боевик,триллер</td>\n",
       "      <td>NaN</td>\n",
       "      <td>2016</td>\n",
       "    </tr>\n",
       "    <tr>\n",
       "      <th>3</th>\n",
       "      <td>Особо опасен</td>\n",
       "      <td>221026916</td>\n",
       "      <td>2016-06-10 12:00:00</td>\n",
       "      <td>Художественный</td>\n",
       "      <td>Юниверсал Пикчерз, Кикстарт Продакшнз, Марк Пл...</td>\n",
       "      <td>США</td>\n",
       "      <td>Тимур Бекмамбетов</td>\n",
       "      <td>Джим Лемли, Джейсон Нетер, Марк Е.Платт, Яйн Смит</td>\n",
       "      <td>«18+» - запрещено для детей</td>\n",
       "      <td>NaN</td>\n",
       "      <td>NaN</td>\n",
       "      <td>NaN</td>\n",
       "      <td>NaN</td>\n",
       "      <td>6.8</td>\n",
       "      <td>фантастика,боевик,триллер</td>\n",
       "      <td>NaN</td>\n",
       "      <td>2016</td>\n",
       "    </tr>\n",
       "    <tr>\n",
       "      <th>4</th>\n",
       "      <td>Особо опасен</td>\n",
       "      <td>221030815</td>\n",
       "      <td>2015-07-29 12:00:00</td>\n",
       "      <td>Художественный</td>\n",
       "      <td>Юниверсал Пикчерз, Кикстарт Продакшнз, Марк Пл...</td>\n",
       "      <td>США</td>\n",
       "      <td>Тимур Бекмамбетов</td>\n",
       "      <td>Джим Лемли, Джейсон Нетер, Марк Е.Платт, Яйн Смит</td>\n",
       "      <td>«18+» - запрещено для детей</td>\n",
       "      <td>NaN</td>\n",
       "      <td>NaN</td>\n",
       "      <td>NaN</td>\n",
       "      <td>NaN</td>\n",
       "      <td>6.8</td>\n",
       "      <td>фантастика,боевик,триллер</td>\n",
       "      <td>NaN</td>\n",
       "      <td>2015</td>\n",
       "    </tr>\n",
       "    <tr>\n",
       "      <th>12</th>\n",
       "      <td>Малышка на миллион /По мотивам рассказов Ф.Х.Т...</td>\n",
       "      <td>221011415</td>\n",
       "      <td>2015-04-03 12:00:00</td>\n",
       "      <td>Художественный</td>\n",
       "      <td>Уорнер Бразерс, Лейкшор Интертейнмент, Малпасо...</td>\n",
       "      <td>США</td>\n",
       "      <td>Клинт Иствуд</td>\n",
       "      <td>Клинт Иствуд, Том Розенберг, Альберт С.Рудди, ...</td>\n",
       "      <td>«16+» - для детей старше 16 лет</td>\n",
       "      <td>NaN</td>\n",
       "      <td>NaN</td>\n",
       "      <td>NaN</td>\n",
       "      <td>NaN</td>\n",
       "      <td>8.1</td>\n",
       "      <td>драма,спорт</td>\n",
       "      <td>NaN</td>\n",
       "      <td>2015</td>\n",
       "    </tr>\n",
       "    <tr>\n",
       "      <th>26</th>\n",
       "      <td>Оружейный барон</td>\n",
       "      <td>221012515</td>\n",
       "      <td>2015-04-03 12:00:00</td>\n",
       "      <td>Художественный</td>\n",
       "      <td>Вэ И Пэ Медиенфондс 3, Асендант Пикчерз, Сатур...</td>\n",
       "      <td>США - Франция - Турция</td>\n",
       "      <td>Эндрю Никкол</td>\n",
       "      <td>Норман Голуайтли, Энди Грош, Николас Кейдж, Эн...</td>\n",
       "      <td>«18+» - запрещено для детей</td>\n",
       "      <td>NaN</td>\n",
       "      <td>NaN</td>\n",
       "      <td>NaN</td>\n",
       "      <td>NaN</td>\n",
       "      <td>7.7</td>\n",
       "      <td>боевик,драма,криминал</td>\n",
       "      <td>NaN</td>\n",
       "      <td>2015</td>\n",
       "    </tr>\n",
       "    <tr>\n",
       "      <th>...</th>\n",
       "      <td>...</td>\n",
       "      <td>...</td>\n",
       "      <td>...</td>\n",
       "      <td>...</td>\n",
       "      <td>...</td>\n",
       "      <td>...</td>\n",
       "      <td>...</td>\n",
       "      <td>...</td>\n",
       "      <td>...</td>\n",
       "      <td>...</td>\n",
       "      <td>...</td>\n",
       "      <td>...</td>\n",
       "      <td>...</td>\n",
       "      <td>...</td>\n",
       "      <td>...</td>\n",
       "      <td>...</td>\n",
       "      <td>...</td>\n",
       "    </tr>\n",
       "    <tr>\n",
       "      <th>7369</th>\n",
       "      <td>Невиновен</td>\n",
       "      <td>111019319</td>\n",
       "      <td>2019-11-07 12:00:00</td>\n",
       "      <td>Художественный</td>\n",
       "      <td>ООО \"Кавказфильм\"</td>\n",
       "      <td>Россия</td>\n",
       "      <td>А.Емкужев</td>\n",
       "      <td>А.Емкужев, А.Хуажева, ООО \"Корпорация Русская ...</td>\n",
       "      <td>«16+» - для детей старше 16 лет</td>\n",
       "      <td>NaN</td>\n",
       "      <td>NaN</td>\n",
       "      <td>NaN</td>\n",
       "      <td>NaN</td>\n",
       "      <td>7.5</td>\n",
       "      <td>триллер,детектив,криминал</td>\n",
       "      <td>NaN</td>\n",
       "      <td>2019</td>\n",
       "    </tr>\n",
       "    <tr>\n",
       "      <th>7416</th>\n",
       "      <td>Отель \"Гранд Будапешт\"</td>\n",
       "      <td>121035119</td>\n",
       "      <td>2019-12-13 12:00:00</td>\n",
       "      <td>Художественный</td>\n",
       "      <td>Американ Эмпирикал, Индиан Пэинтбраш, Скотт Ру...</td>\n",
       "      <td>Германия, США</td>\n",
       "      <td>Уэс Андерсен</td>\n",
       "      <td>Уэс Андерсон, Джереми Доусон, Стивен Рейлс</td>\n",
       "      <td>«16+» - для детей старше 16 лет</td>\n",
       "      <td>NaN</td>\n",
       "      <td>NaN</td>\n",
       "      <td>NaN</td>\n",
       "      <td>NaN</td>\n",
       "      <td>7.9</td>\n",
       "      <td>комедия,приключения,детектив</td>\n",
       "      <td>NaN</td>\n",
       "      <td>2019</td>\n",
       "    </tr>\n",
       "    <tr>\n",
       "      <th>7438</th>\n",
       "      <td>Зверь</td>\n",
       "      <td>121035919</td>\n",
       "      <td>2019-12-05 12:00:00</td>\n",
       "      <td>Художественный</td>\n",
       "      <td>Студио энд Нью</td>\n",
       "      <td>Южная Корея</td>\n",
       "      <td>Ли Джон-хо</td>\n",
       "      <td>Чан Гён-ик, Чон Джи-хун, Пэк Кён сук</td>\n",
       "      <td>«18+» - запрещено для детей</td>\n",
       "      <td>NaN</td>\n",
       "      <td>NaN</td>\n",
       "      <td>NaN</td>\n",
       "      <td>NaN</td>\n",
       "      <td>6.5</td>\n",
       "      <td>триллер,драма</td>\n",
       "      <td>175003.51</td>\n",
       "      <td>2019</td>\n",
       "    </tr>\n",
       "    <tr>\n",
       "      <th>7450</th>\n",
       "      <td>В тихом омуте</td>\n",
       "      <td>121036919</td>\n",
       "      <td>2019-12-09 12:00:00</td>\n",
       "      <td>Художественный</td>\n",
       "      <td>Хэд Гир Филмз, Крео Филмз, Локал Хироу, Метрол...</td>\n",
       "      <td>США</td>\n",
       "      <td>Адам Рэндолл</td>\n",
       "      <td>Мэтт Уолдек</td>\n",
       "      <td>«18+» - запрещено для детей</td>\n",
       "      <td>NaN</td>\n",
       "      <td>NaN</td>\n",
       "      <td>NaN</td>\n",
       "      <td>NaN</td>\n",
       "      <td>6.8</td>\n",
       "      <td>триллер,криминал,детектив</td>\n",
       "      <td>NaN</td>\n",
       "      <td>2019</td>\n",
       "    </tr>\n",
       "    <tr>\n",
       "      <th>7474</th>\n",
       "      <td>Вторжение</td>\n",
       "      <td>111022519</td>\n",
       "      <td>2019-12-23 12:00:00</td>\n",
       "      <td>Художественный</td>\n",
       "      <td>ООО \"Арт Пикчерс Студия\", ООО \"Водород 2011\"</td>\n",
       "      <td>Россия</td>\n",
       "      <td>Ф.Бондарчук</td>\n",
       "      <td>Ф.Бондарчук, М.Врубель, А.Андрющенко, Д.Рудовский</td>\n",
       "      <td>«12+» - для детей старше 12 лет</td>\n",
       "      <td>100000000.0</td>\n",
       "      <td>400000000.0</td>\n",
       "      <td>944000000.0</td>\n",
       "      <td>Фонд кино</td>\n",
       "      <td>5.7</td>\n",
       "      <td>фантастика,боевик</td>\n",
       "      <td>NaN</td>\n",
       "      <td>2019</td>\n",
       "    </tr>\n",
       "  </tbody>\n",
       "</table>\n",
       "<p>1272 rows × 17 columns</p>\n",
       "</div>"
      ],
      "text/plain": [
       "                                                  title   puNumber  \\\n",
       "2                                          Особо опасен  221038416   \n",
       "3                                          Особо опасен  221026916   \n",
       "4                                          Особо опасен  221030815   \n",
       "12    Малышка на миллион /По мотивам рассказов Ф.Х.Т...  221011415   \n",
       "26                                      Оружейный барон  221012515   \n",
       "...                                                 ...        ...   \n",
       "7369                                          Невиновен  111019319   \n",
       "7416                             Отель \"Гранд Будапешт\"  121035119   \n",
       "7438                                              Зверь  121035919   \n",
       "7450                                      В тихом омуте  121036919   \n",
       "7474                                          Вторжение  111022519   \n",
       "\n",
       "         show_start_date             type  \\\n",
       "2    2016-10-10 12:00:00   Художественный   \n",
       "3    2016-06-10 12:00:00   Художественный   \n",
       "4    2015-07-29 12:00:00   Художественный   \n",
       "12   2015-04-03 12:00:00   Художественный   \n",
       "26   2015-04-03 12:00:00   Художественный   \n",
       "...                  ...              ...   \n",
       "7369 2019-11-07 12:00:00   Художественный   \n",
       "7416 2019-12-13 12:00:00   Художественный   \n",
       "7438 2019-12-05 12:00:00   Художественный   \n",
       "7450 2019-12-09 12:00:00   Художественный   \n",
       "7474 2019-12-23 12:00:00   Художественный   \n",
       "\n",
       "                                            film_studio  \\\n",
       "2     Юниверсал Пикчерз, Кикстарт Продакшнз, Марк Пл...   \n",
       "3     Юниверсал Пикчерз, Кикстарт Продакшнз, Марк Пл...   \n",
       "4     Юниверсал Пикчерз, Кикстарт Продакшнз, Марк Пл...   \n",
       "12    Уорнер Бразерс, Лейкшор Интертейнмент, Малпасо...   \n",
       "26    Вэ И Пэ Медиенфондс 3, Асендант Пикчерз, Сатур...   \n",
       "...                                                 ...   \n",
       "7369                                  ООО \"Кавказфильм\"   \n",
       "7416  Американ Эмпирикал, Индиан Пэинтбраш, Скотт Ру...   \n",
       "7438                                     Студио энд Нью   \n",
       "7450  Хэд Гир Филмз, Крео Филмз, Локал Хироу, Метрол...   \n",
       "7474       ООО \"Арт Пикчерс Студия\", ООО \"Водород 2011\"   \n",
       "\n",
       "          production_country           director  \\\n",
       "2                        США  Тимур Бекмамбетов   \n",
       "3                        США  Тимур Бекмамбетов   \n",
       "4                        США  Тимур Бекмамбетов   \n",
       "12                       США       Клинт Иствуд   \n",
       "26    США - Франция - Турция       Эндрю Никкол   \n",
       "...                      ...                ...   \n",
       "7369                  Россия          А.Емкужев   \n",
       "7416           Германия, США       Уэс Андерсен   \n",
       "7438             Южная Корея         Ли Джон-хо   \n",
       "7450                     США       Адам Рэндолл   \n",
       "7474                  Россия        Ф.Бондарчук   \n",
       "\n",
       "                                               producer  \\\n",
       "2     Джим Лемли, Джейсон Нетер, Марк Е.Платт, Яйн Смит   \n",
       "3     Джим Лемли, Джейсон Нетер, Марк Е.Платт, Яйн Смит   \n",
       "4     Джим Лемли, Джейсон Нетер, Марк Е.Платт, Яйн Смит   \n",
       "12    Клинт Иствуд, Том Розенберг, Альберт С.Рудди, ...   \n",
       "26    Норман Голуайтли, Энди Грош, Николас Кейдж, Эн...   \n",
       "...                                                 ...   \n",
       "7369  А.Емкужев, А.Хуажева, ООО \"Корпорация Русская ...   \n",
       "7416         Уэс Андерсон, Джереми Доусон, Стивен Рейлс   \n",
       "7438               Чан Гён-ик, Чон Джи-хун, Пэк Кён сук   \n",
       "7450                                        Мэтт Уолдек   \n",
       "7474  Ф.Бондарчук, М.Врубель, А.Андрющенко, Д.Рудовский   \n",
       "\n",
       "                      age_restriction  refundable_support  \\\n",
       "2         «18+» - запрещено для детей                 NaN   \n",
       "3         «18+» - запрещено для детей                 NaN   \n",
       "4         «18+» - запрещено для детей                 NaN   \n",
       "12    «16+» - для детей старше 16 лет                 NaN   \n",
       "26        «18+» - запрещено для детей                 NaN   \n",
       "...                               ...                 ...   \n",
       "7369  «16+» - для детей старше 16 лет                 NaN   \n",
       "7416  «16+» - для детей старше 16 лет                 NaN   \n",
       "7438      «18+» - запрещено для детей                 NaN   \n",
       "7450      «18+» - запрещено для детей                 NaN   \n",
       "7474  «12+» - для детей старше 12 лет         100000000.0   \n",
       "\n",
       "      nonrefundable_support       budget financing_source  ratings  \\\n",
       "2                       NaN          NaN              NaN      6.8   \n",
       "3                       NaN          NaN              NaN      6.8   \n",
       "4                       NaN          NaN              NaN      6.8   \n",
       "12                      NaN          NaN              NaN      8.1   \n",
       "26                      NaN          NaN              NaN      7.7   \n",
       "...                     ...          ...              ...      ...   \n",
       "7369                    NaN          NaN              NaN      7.5   \n",
       "7416                    NaN          NaN              NaN      7.9   \n",
       "7438                    NaN          NaN              NaN      6.5   \n",
       "7450                    NaN          NaN              NaN      6.8   \n",
       "7474            400000000.0  944000000.0        Фонд кино      5.7   \n",
       "\n",
       "                            genres  box_office  year  \n",
       "2        фантастика,боевик,триллер         NaN  2016  \n",
       "3        фантастика,боевик,триллер         NaN  2016  \n",
       "4        фантастика,боевик,триллер         NaN  2015  \n",
       "12                     драма,спорт         NaN  2015  \n",
       "26           боевик,драма,криминал         NaN  2015  \n",
       "...                            ...         ...   ...  \n",
       "7369     триллер,детектив,криминал         NaN  2019  \n",
       "7416  комедия,приключения,детектив         NaN  2019  \n",
       "7438                 триллер,драма   175003.51  2019  \n",
       "7450     триллер,криминал,детектив         NaN  2019  \n",
       "7474             фантастика,боевик         NaN  2019  \n",
       "\n",
       "[1272 rows x 17 columns]"
      ]
     },
     "execution_count": 18,
     "metadata": {},
     "output_type": "execute_result"
    }
   ],
   "source": [
    "data.loc[data['title'].duplicated(keep=False)]"
   ]
  },
  {
   "cell_type": "markdown",
   "metadata": {},
   "source": [
    "\n",
    "Дубликаты  в номерах прокатных удостоверений в целом некритичны, они могли возникнуть случайно, например, из-за ручного ввода данных, кто-то допустил опечатку в номере. Такое небольшое количество дубликатов не может значительно исказить данные, так что не будем их трогать. Дубликаты в названиях фильмов тоже дальнейшее исследование сильно не искажают, возможно это один и тот же фильм, как в случае с \"Особо опасен\", который видимо выходил в прокат по нескольким разным прокатным удостоверениям (конкретно этот фильм вообще вышел в 2008 году, судя по всему здесь номера его повторного проката в кинотеатрах). Или возможно такое, что абсолютно разные фильмы имели одинаковое название, это так же не должно как-то повлиять на результаты исследования.\n"
   ]
  },
  {
   "cell_type": "markdown",
   "metadata": {
    "id": "52fOPrEBgFyQ"
   },
   "source": [
    "#### Изучение категориальных значений"
   ]
  },
  {
   "cell_type": "code",
   "execution_count": 19,
   "metadata": {
    "id": "PnXKIVdFgFyR"
   },
   "outputs": [
    {
     "data": {
      "text/plain": [
       "array(['Художественный', 'Анимационный', 'Прочие', 'Документальный',\n",
       "       'Научно-популярный', ' Художественный', ' Анимационный',\n",
       "       'Музыкально-развлекательный'], dtype=object)"
      ]
     },
     "execution_count": 19,
     "metadata": {},
     "output_type": "execute_result"
    }
   ],
   "source": [
    "data['type'].unique()"
   ]
  },
  {
   "cell_type": "code",
   "execution_count": 20,
   "metadata": {},
   "outputs": [],
   "source": [
    "data['type']=data['type'].str.strip()"
   ]
  },
  {
   "cell_type": "code",
   "execution_count": 21,
   "metadata": {},
   "outputs": [
    {
     "data": {
      "text/plain": [
       "array(['«18+» - запрещено для детей', '«6+» - для детей старше 6 лет',\n",
       "       '«12+» - для детей старше 12 лет',\n",
       "       '«16+» - для детей старше 16 лет',\n",
       "       '«0+» - для любой зрительской аудитории'], dtype=object)"
      ]
     },
     "execution_count": 21,
     "metadata": {},
     "output_type": "execute_result"
    }
   ],
   "source": [
    "data['age_restriction'].unique()"
   ]
  },
  {
   "cell_type": "code",
   "execution_count": 22,
   "metadata": {},
   "outputs": [
    {
     "data": {
      "text/plain": [
       "array([nan, 'Министерство культуры', 'Фонд кино',\n",
       "       'Министерство культуры, Фонд кино'], dtype=object)"
      ]
     },
     "execution_count": 22,
     "metadata": {},
     "output_type": "execute_result"
    }
   ],
   "source": [
    "data['financing_source'].unique()"
   ]
  },
  {
   "cell_type": "code",
   "execution_count": 23,
   "metadata": {
    "scrolled": true
   },
   "outputs": [
    {
     "data": {
      "text/plain": [
       "array(['США', 'СССР', 'Франция', 'СССР, Венгрия',\n",
       "       'Германия-Великобритания', 'Великобритания - Италия',\n",
       "       'Чехословакия', 'США - Франция - Турция', 'Новая Зеландия',\n",
       "       'Канада - Франция - Испания', 'США-Германия',\n",
       "       'США - Великобритания', 'Великобритания', 'США - Германия',\n",
       "       'Франция - Мексика - США', 'Россия, Казахстан, США',\n",
       "       'СССР, Швеция', 'СССР, Франция, Англия, Куба, ГДР', 'Германия',\n",
       "       'Великобритания-США-Германия-КНР',\n",
       "       'СССР, ЧССР, Западный Берлин, ПНР', 'СССР, Италия', 'Гонконг, КНР',\n",
       "       'США - Франция', 'США - Япония - Франция - Великобритания',\n",
       "       'Гонконг - Сингапур - Таиланд - Великобритания', 'США-Канада',\n",
       "       'Франция - Италия - Великобритания - США', 'Франция - США',\n",
       "       'Ирландия-Великобритания-Германия', 'Чехия', 'США-Австралия',\n",
       "       'СССР, Финляндия', 'США-Франция-Великобритания-Австрия',\n",
       "       'США - Бельгия', 'США - Ирландия - Великобритания',\n",
       "       'Великобритания - США',\n",
       "       'Люксембург - Нидерланды - Испания - Великобритания - США - Италия',\n",
       "       'Великобритания - Франция - США', 'Новая Зеландия - США',\n",
       "       'США - Великобритания - Чехия',\n",
       "       'Канада - Франция - Великобритания', 'Ирландия',\n",
       "       'Великобритания - Германия - США',\n",
       "       'США - Франция - Великобритания', 'Япония', 'СССР, Польша',\n",
       "       'Франция - Испания', 'Канада-Франция', 'Германия - Италия - США',\n",
       "       'Аргентина - Бразилия', 'Дания - Швейцария - Бельгия - Франция',\n",
       "       'США - Испания', 'Германия - США',\n",
       "       'Франция - Австрия - Германия - Италия - США', 'Австрия',\n",
       "       'США - Канада - Германия', 'США - Канада',\n",
       "       'СССР - Швейцария - Франция', 'Россия - Казахстан', 'Гонконг',\n",
       "       'Италия', 'США - ОАЭ', 'Россия',\n",
       "       'США - Франция - Испания - Великобритания',\n",
       "       'Великобритания - Франция', 'США-Италия-Испания-Аргентина',\n",
       "       'Франция-Великобритания', 'КНР - Гонконг',\n",
       "       'Франция - Италия - Швейцария', 'США - Новая Зеландия',\n",
       "       'Франция - Бельгия', 'КНР', 'Германия - Великобритания - Австрия',\n",
       "       'Великобритания - Израиль - Франция - Япония - США', 'Швеция',\n",
       "       'Испания', 'Дания', 'Франция - Бельгия - Люксембург',\n",
       "       'США - Индия - ОАЭ',\n",
       "       'Германия-Канада-Великобритания-Швейцария-Франция',\n",
       "       'Мексика - Чили', 'Аргентина', 'Бразилия', 'Чили', 'Австралия',\n",
       "       'Португалия - Франция', 'США - ЮАР', 'Исландия-Ирландия-Германия',\n",
       "       'США-Индонезия', 'Южная Корея', 'Мексика - Испания - Дания - США',\n",
       "       'Великобритания-США', 'Франция - Италия', 'США-Франция',\n",
       "       'США - Венгрия - Великобритания', 'Бельгия-Франция-Италия',\n",
       "       'Чехия - Германия', 'Германия - Франция', 'США-Нидерланды',\n",
       "       'Украина', 'Великобритания - Германия', 'Франция-Бельгия',\n",
       "       'США-Франция-Испания', 'Италия - Франция', 'Канада',\n",
       "       'Швеция-Франция-Дания', 'Германия-Франция-Польша',\n",
       "       'Франция-Великобритания - Германия',\n",
       "       'США - Бразилия - Франция - Австралия - Великобритания - Германия',\n",
       "       'Германия-Австрия', 'Германия-Италия- Шри-Ланка',\n",
       "       'Великобритания - Испания',\n",
       "       'США - Великобритания - Канада - Швеция',\n",
       "       'Босния и Герцеговина - Франция - Великобритания - Германия - Словения - Бельгия - Сербия',\n",
       "       'Великобритания - Франция - Италия - США', 'США-ОАЭ',\n",
       "       'Испания - Франция', 'США-Великобритания', 'США-ЮАР',\n",
       "       'Великобритания-Австралия - США',\n",
       "       'Норвегия - Швеция - Дания - Германия', 'Норвегия', 'Швейцария',\n",
       "       'Греция - Германия - Франция', 'Норвения', 'Южная Корея - США',\n",
       "       'Чили - Франция - США', 'Австрия - Германия - Франция',\n",
       "       'Швеция - Дания', 'Великобритания - Франция - Бельгия - Италия',\n",
       "       'Франция - Германия', 'Грузия - Франция - Люксембург',\n",
       "       'США - Франция - Великобритания - Бразилия ', 'США - КНР',\n",
       "       'Мексика - Франция', 'США - Германия - Гонконг - Сингапур',\n",
       "       'Финляндия - Австрия - Россия', 'Испания - Куба',\n",
       "       'Великобритания - ЮАР', 'Великобритания - Ирландия', 'Израиль',\n",
       "       'Бразилия - Германия - Порртугалия - Франция ',\n",
       "       'Франция - Канада - Бельгия', 'Франция-Испания',\n",
       "       'Испания - Канада - Япония', 'Иран', 'Швеция-Куба',\n",
       "       'США-Великобритания-Ирландия', 'Гонконг - КНР', 'Нидерланды',\n",
       "       'Испания - Канада', 'Япония-Великобритания',\n",
       "       'Великобритания - Норвегия - Дания - Германия',\n",
       "       'Финляндия - Франция - Германия',\n",
       "       'Мексика - Франция - Нидерланды - Германия', 'США - Индия',\n",
       "       'США-Великобритания-Индия', 'США-Канада-Бельгия',\n",
       "       'Республика Узбекистан', 'Италия ', 'Турция',\n",
       "       'Сербия - Словения - Хорватия - Черногория - Македония',\n",
       "       'Киргизия', 'Германия - Нидерланды - Беларусь - Россия - Латвия',\n",
       "       'Индия', 'Нидерланды - Россия - Германия',\n",
       "       'Великобритания - Нидерланды - Франция - Хорватия',\n",
       "       'Канада - Южная Корея',\n",
       "       'Великобритания - Польша - КНР - Индия - Норвегия',\n",
       "       'Япония - Франция - США - Южная Корея - Турция',\n",
       "       'Мексика - Аргентина - Великобритания', 'Израиль - Франция',\n",
       "       'Польша - Португалия - Франция - Великобритания',\n",
       "       'Австралия - США', 'США - Великобритания ',\n",
       "       'Франция - Люксембург - Бельгия', 'Армения',\n",
       "       'Бельгия - Люксембург - Франция - Швейцария',\n",
       "       'США - Великобритания - Канада', 'Норвегия - Швеция',\n",
       "       'Канада - Франция', 'КНР - Гонконг - США',\n",
       "       'США - Сингапур - Малайзия - Индонезия', 'Германия - Россия',\n",
       "       'Япония - Канада', 'Финляндия - Дания - Германия - Ирландия',\n",
       "       'Франция - Люксембург - Германия - Бельгия - Швейцария - Великобритания ',\n",
       "       'Канада - США', 'США-Италия-Испания', 'США-Испания',\n",
       "       'США - Швейцария - Франция', 'Испания - США - Колумбия',\n",
       "       'Канада-ЮАР', 'Франция - Россия',\n",
       "       'Германия - Финляндия - Австралия', 'Дания - Швеция', 'Бельгия',\n",
       "       'Германия - Франция - Австрия', 'Франция-Индия', 'ЮАР',\n",
       "       'Франция-Перу', 'Франция - Канада', 'Республика Беларусь',\n",
       "       'Великобритания - Австрия - Франция - США',\n",
       "       'Австрия-Германия-Франция', 'США-Россия', 'Германия-США',\n",
       "       'США - Южная Корея', 'Канада - КНР',\n",
       "       'Дания - Швеция - Италия - Франция - Германия',\n",
       "       'Франция-Италия-Испания-Венгрия', 'Франция - Германия - Бельгия',\n",
       "       'Франция-Великобритания-Чехия', 'Румыния - Франция - Бельгия',\n",
       "       'Болгария - Франция - Изриль',\n",
       "       'Израиль - Германия - Польша - Бельгия - Франция - Люксембург',\n",
       "       'Россия, Германия, Франция, Бельгия', 'Индонезия',\n",
       "       'Франция - Португалия', 'Великобритания - Пуэрто-Рико',\n",
       "       'СССР, ФРГ, Западный Берлин', 'Россия, Республика Беларусь',\n",
       "       'США, Великобритания', 'Франция - Австрия', 'Бельгия-Нидерланды',\n",
       "       'Великобритания - США - Индия', 'США - Великобритания - Австралия',\n",
       "       'Канада - Франция - США - ОАЭ - Великобритания',\n",
       "       'США - Австралия - Франция',\n",
       "       'Дания-Франция-Бельгия-Германия-Великобритания',\n",
       "       'Испания - Аргентина', 'Исландия - Финляндия',\n",
       "       'Россия-Польша-Голландия-Словакия', 'Дания - Германия - Швеция',\n",
       "       'Южная Корея - США - Канада', 'Таиланд', 'США-Мальта',\n",
       "       'США -Германия',\n",
       "       'Великобритания - Германия - Франция - Кипр - США', 'Мексика',\n",
       "       'США - Великобритания - Ирландия', 'США - Украина',\n",
       "       'США - Финляндия - Испания - Великобритания - Франция',\n",
       "       'Австралия-Великобритания',\n",
       "       'США - Канада - Афганистан - Бельгия - Франция',\n",
       "       'США - Великобритания - Германия - Новая Зеландия - Бельгия - Франция',\n",
       "       'Франция-Канада',\n",
       "       'Ирландия - Финляндия - Бельгия - Великобритания - США - Швейцария',\n",
       "       'Малайзия - США', 'Германия - Италия',\n",
       "       'США - Франция - Бельгия - Италия', 'Франция - Ирландия - Швеция',\n",
       "       'Азербайджан-Россия', 'Великобритания - Италия - Швейцария',\n",
       "       'США - Германия - Великобритания',\n",
       "       'Германия - Бельгия - США -Франция', 'США-Китай', 'Чили - Испания',\n",
       "       'Франция - Швейцария', 'Канада - Испания',\n",
       "       'США - Румыния - Великобритания', 'США - Япония',\n",
       "       'США - Россия - Франция', 'Франция-США', 'Парагвай',\n",
       "       'Германия - Канада', 'США - Канада - Великобритания',\n",
       "       'Финляндия - Канада', 'Уругвай-Мексика-Германия ', 'США - Чили',\n",
       "       'Германия - Аргентина - Нидерланды - Чили',\n",
       "       'США - Канада - Индонезия', 'Армения - Казахстан', 'Финляндия',\n",
       "       'Испания - Италия - Франция',\n",
       "       'Бельгия - Испания - Канада - Нидерланды',\n",
       "       'Великобритания - Франция - Швеция - Бельгия',\n",
       "       'Мексика - Эквадор - Канада - США - Франция - Малайзия - Италия - Аргентина - Германия - Индия  ',\n",
       "       'Франция - Бенльгия', 'Индия - Великобритания',\n",
       "       'Япония - Великобритания - Франция',\n",
       "       'Испания - Уругвай - Аргентина',\n",
       "       'Франция - Италия - Бельгия - Люксембург',\n",
       "       'Франция - Украина - Грузия - Армения',\n",
       "       'Сербия - Германия - Венгрия', 'Франция-Польша', 'Франция ',\n",
       "       'Румыния-США', 'Россия-Азербайджан',\n",
       "       'США - Нидерланды - Бельгия - Венгрия - Греция - Канада',\n",
       "       'Германия - Франция - Люксембург', 'США - Россия',\n",
       "       'Великобритания - США - Франция', 'США - Австралия - Дания',\n",
       "       'Бельгия-Франция', 'США-Мексика',\n",
       "       'Норвегия - Азербайджан - Россия - Колумбия - Великобритания - Венгрия - Румыния - Франция - Грузия',\n",
       "       'СЩА', 'Бразилия - Испания', 'Россия, Франция, Латвия',\n",
       "       'Нидерланды - США - Германия - Канада - Франция - Ирландия - Великобритания',\n",
       "       'Уругвай - Колумбия', 'США - Испания - Болгария',\n",
       "       'Армения - Германия', 'США - Великобритания- Франция - Швеция',\n",
       "       'США - Мексика', 'Австралия-Турция-США', 'Швеция - Германия',\n",
       "       'Польша - Италия - Россия', 'Франция - Бразилия',\n",
       "       'США - Канада - КНР', 'СССР, Венгрия, ЧССР, ГДР',\n",
       "       'Бельгия - Германия - Люксембург', 'СССР  ', 'СССР ', ' СССР ',\n",
       "       'США - Австралия', 'Бразилия - США',\n",
       "       'США - Великобритания - Канада - КНР', 'Франция - Чили',\n",
       "       'Франция - США - Великобритания - Колумбия - Бельгия - Россия',\n",
       "       'Дания - Великобритания - ЮАР', 'СССР   ',\n",
       "       'Россия-США-Канада-Люксембург', 'Россия - Республика Кипр',\n",
       "       'Германия - США - Швеция - Франция',\n",
       "       'Великобритания-Германия-Канада-ЮАР', ' СССР   ', 'СССР     ',\n",
       "       'Ирландия, Канада',\n",
       "       'Япония - Великобритания - Швейцария - Ирландия - Дания - Франция - Польша - Австралия - Канада  ',\n",
       "       'Великобритания, Канада', 'Бельгия - США',\n",
       "       'Великобритания - США - Россия', 'Россия-Украина',\n",
       "       'Германия - США - Великобритания - Израиль', 'Канада - Германия',\n",
       "       'США- Ю.Корея', 'Индия - Мексика',\n",
       "       'Великобритания - Франция - Республика Кипр - Швейцария - США - Сербия',\n",
       "       'Испания - Аргентина - Индия - США',\n",
       "       'Норвегия - Исландия - США - Великобритания ',\n",
       "       'Турция - Германя - Франция', 'Германия - Великобритания',\n",
       "       'Австралия - Германия', 'Мексика - Испания',\n",
       "       'Великобритания - США - Германия - Бельгия',\n",
       "       'США - Чехия - Франция', 'Россия - Италия', 'Франция-Россия',\n",
       "       'Норвегия - Дания - Швеция', 'Франция - Швейцария - Германия',\n",
       "       'Грузия - Украина', 'Россия - Эстония - Финляндия - Беларусь',\n",
       "       'США - Франция - ЮАР', 'Великобритания - США - Швейцария',\n",
       "       'Канада-США', 'Мексика - Нидерланды - Германия - Франция',\n",
       "       'США - Испания - Франция', 'США - Великобритания - КНР',\n",
       "       'США-Франция-Канада',\n",
       "       'Япония, Великобритания, Австрия, Германия, Ю.Корея',\n",
       "       'Великобритания - Ирландия - США', 'Бельгия - Италия - Франция ',\n",
       "       'Швейцария-Германия-ЮАР', 'Великобритания - США - Германия',\n",
       "       'Германия - Исландия', 'Испания - США', 'СССР    ', 'Хорватия',\n",
       "       'Финляндия - Исландия - Швеция',\n",
       "       'Канада - США - Германия - Франция',\n",
       "       'США - Великобритания - Испания', 'Ирландия-Великобритания',\n",
       "       'Аргентина - Испания', 'Австрия - Германия', ' СССР',\n",
       "       'Германия - Швейцария - Франция - Южная Корея - США',\n",
       "       'Украина - Нидерланды', 'Венгрия - Германия - Швеция',\n",
       "       'Германия - Франция -  Польша - Турция - Канада - Италия - Россия ',\n",
       "       'СССР, Афганистан', 'СССР, Монголия', 'Россия-Кипр',\n",
       "       'Россия, Грузия, Испания',\n",
       "       'Великобритания - Нидерланды - Германия - Франция - Бельгия - Австрия ',\n",
       "       'Испания - Великобритания - Франция',\n",
       "       'Дания - Норвегия - Великобритания',\n",
       "       'Бельгия - Франция - Люксембург',\n",
       "       'Италия - Франция - Швейцария - Великобритания',\n",
       "       'Франция - Бельгия - Великобритания - Испания - Германия - США',\n",
       "       'Швейцария - Израиль - Франция - Великобритания',\n",
       "       'Великобритания - США - Канада - Нидерланды - Франция',\n",
       "       'Россия, Италия', 'СССР, Албания',\n",
       "       'Россия, Украина, Республика Беларусь, Литва',\n",
       "       'Финляндия - Великобритания - Германия', 'Россия, Украина, Польша',\n",
       "       'Франция - Италия - Бельгия - КНР',\n",
       "       'Германия - Бельгия - Люксембург - Ирландия', 'КНР - Сингапур',\n",
       "       'Франция - Бельгия - Великобритания - США - Нидерланды - Канада',\n",
       "       'США - Россия - Польша - Германия - Пуэрто Рико',\n",
       "       'Франция - Бельгия - Канада', 'США ', 'Мексика - США',\n",
       "       'США - Гонконг - КНР ', 'Греция - Россия',\n",
       "       'Ирландия - Дания - Бельгия - Люксембург - Франция',\n",
       "       'Эстония - Россия',\n",
       "       'Великобритания - Исландия - Испания - Швейцария - США',\n",
       "       'Австралия - Великобритания - Бельгия - Индия',\n",
       "       'Швеция - Германия - Франция - Норвегия',\n",
       "       'Нидерланды - Бельгия - Германия - Ирландия',\n",
       "       'Нидерланды - Великобритания - Бельгия',\n",
       "       'США - Колумбия - Испания', 'Франция-Испания-Бельгия-Панама',\n",
       "       'США-Великобритания-Чехия-Румыния',\n",
       "       'Аргентина - Уругвай - Россия - Германия - Франция - Нидерланды',\n",
       "       'Швеция - Франция - Норвегия - Дания',\n",
       "       'Италия-Франция-Великобритания', 'Великобритания, Франция',\n",
       "       'Австралия, США', 'Венесуэла',\n",
       "       'Великобритания - США - Австралия - Ирландия - Германия - Куба - Канада',\n",
       "       'Южная Корея - КНР',\n",
       "       'Аргентина - Мексика - Бразилия - Франция - США', 'Швеция - США',\n",
       "       'Франция - Германия - Турция - Катар', 'Франция-Китай',\n",
       "       'Россия, Германия, Великобритания',\n",
       "       'Великобритания - Италия - Испания', 'Италия - Россия',\n",
       "       'Япония - КНР - Южная Корея', 'Россия, Германия',\n",
       "       'Россия-Ирландия', 'Македония - Франция - Великобритания',\n",
       "       'Франция - Бразилия - Италия', 'Россия-США', 'Армения-Россия',\n",
       "       'Россия, Румыния', 'Франция -  Бельгия', 'Грузия-Франция',\n",
       "       'ЮАР - США', 'Великобритания-США-Франция',\n",
       "       'Великобритания - США - Германия - Канада - Австралия',\n",
       "       'США-Ирландия', 'Россия, Республика Кипр',\n",
       "       'Германия - Люксембург - Франция', 'Россия-Франция',\n",
       "       'США - Нидерланды - Финляндия - Великобритания - Италия',\n",
       "       'Республика Кипр', 'Венгрия', 'Франция - США - Норвегия - Дания',\n",
       "       'Германия - Австрия - Ирландия', 'США - Финляндия',\n",
       "       'Италия-Великобритания', 'Россия, Испания',\n",
       "       'США - Великобритания - Болгария', 'Великобритания - Люксембург',\n",
       "       'Индия - США', 'США - Канада - Россия - Франция - Чили - Ирландия',\n",
       "       'Грузия-Россия',\n",
       "       'Дания - Австрия - Ирландия - Финляндия - Норвегия - Швеция - Нидерланды',\n",
       "       'США-КНР', 'Грузия', 'Австралия - Ирландия',\n",
       "       'Великобритания - Канада', 'Италия - Аргентина - Словения ',\n",
       "       'Испания - Франция - Нидерланды - Германия - Бельгия - Великобритания - Канада',\n",
       "       'Франция - Чехия - Бельгия',\n",
       "       'Великобритания - Франция - Германия - США',\n",
       "       'Ирландия - Великобритания - Франция - США - Германия - Нидерланды',\n",
       "       'США - Канада - Япония - КНР', 'Италия-Франция',\n",
       "       'США - Великобритания - Исландия', 'Великобритания-Франция',\n",
       "       'Франция - Германия - Нидерланды', 'Иран ',\n",
       "       'Франция - Германия - Швеция - США - Чехия - Словакия - Великобритания - Нидерланды',\n",
       "       'Франция - Канада - Н.Зеландия - США - Нидерланды - Германия - Швеция - Россия',\n",
       "       'Турция - США',\n",
       "       'Великобритания - США - Канада - Бельгия - Нидерланды - Австрия - Германия',\n",
       "       'Израиль - Франция - Германия - Палестина - США - Австрия - Великобритания',\n",
       "       'Аргентина - Франция - Испания', 'СССР, Россия',\n",
       "       'Великобритания - Франция - Италия - Индия - Дания - КНР - Бангладеш - Камбоджа - Гаити - Уганда',\n",
       "       'Италия - Франция - Швейцария',\n",
       "       'Ирландия - Великобритания - Канада', 'Перу', 'США - Норвегия',\n",
       "       'Испания-Канада', 'Китай-Гонконг', 'США - Германия - КНР',\n",
       "       'Великобритания - Новая Зеландия',\n",
       "       'Франция - Дания - Швеция - КНР',\n",
       "       'США - Великобритания - Германия - Бельгия - Дания',\n",
       "       'США - Франция - Канада - Германия - Австралия - Индия', nan,\n",
       "       'СССР, Румыния, Франция', 'СССР, ГДР', 'Австралия-Ирландия',\n",
       "       'США - Китай', 'Великобритания - Франция - Австрия - Швеция',\n",
       "       'Россия, Таджикистан', 'Нидерланды - Бельгия - Болгария',\n",
       "       'Великобритания - Канада - США', 'Франция - Бельгия - Испания',\n",
       "       'Китай-Гонконг-США', 'Франция - Великобритания', 'США - Вьетнам',\n",
       "       'США - Германия - Франция', 'Германия - Франция - Бельгия',\n",
       "       'США - Италия',\n",
       "       'Германия - Дания - Испания - Швеция - Канада - Эстония - Франция',\n",
       "       'Княжество Андорра - Украина', 'Германия - Люксембург - Бельгия',\n",
       "       'Великобритания - Россия - Украина - США',\n",
       "       'Германия - Бельгия - Люксембург - Норвегия',\n",
       "       'США - Австралия - Новая Зеландия - Великобритания',\n",
       "       'США - Франция - Канада - Великобритания', 'Испания-Колумбия',\n",
       "       'Великобритания - Чехия - Франция', 'Россия, Украина', 'Исландия',\n",
       "       'Великобритания - Франция - Венгрия',\n",
       "       'Россия, Франция, Германия, Бельгия', 'Франция - Македония',\n",
       "       'Нидерланды - Франция - Германия - Бельгия - Швеция - Великобритания',\n",
       "       'Испания - США - Великобритания - Канада', 'Германия - Австрия',\n",
       "       'Республика Казахстан',\n",
       "       'Франция - Испания - Дания - Венгрия - Швейцария', 'Франция-КНР',\n",
       "       'США - Пуэрто-Рико - Франция ', 'Мексика - Тайвань - США',\n",
       "       'Великобритания - Испания - Непал - Индия - Венгрия - Гонконг - Германия - Дания - Бахрейн',\n",
       "       'Великобритания - Аргентина - США - Франция - Россия - Испания',\n",
       "       'КНР - США', 'Италия - США', 'Финляндия - Швеция - Германия',\n",
       "       'Канада- Испания', 'Франция - Бельгия - Чехия',\n",
       "       'Франция-Бельгия-Канада', 'Франция - Германия - США',\n",
       "       'США - Дания', 'Индия - КНР', 'Чехия-Великобритания-США',\n",
       "       'США-ФРГ-Россия', 'Ирландия-Нидерланды-Франция-США-Великобритания',\n",
       "       'Россия, Грузия, Хорватия, Испания',\n",
       "       'Финляндия - Швеция - Норвегия', 'Сербия - Великобритания - США',\n",
       "       'США - Великобритания - Франция - Гонконг', 'Швейцария - Франция',\n",
       "       'Швейцария - Великобритания', 'ОАЭ - США',\n",
       "       'США - Франция - Германия - Канада - Австралия ',\n",
       "       'Германия - Австралия', 'Иран, Франция',\n",
       "       'США - Великобритания - Новая Зеландия', 'США-Колумбия',\n",
       "       'США-Франция-Ирландия', 'Великобритания - Франция - Бельгия',\n",
       "       'США - Великобритания - Япония', 'США - Франция - Германия',\n",
       "       'Польша - Ирландия', 'Ирландия - Великобритания - Франция - США',\n",
       "       'США - Бельгия - Великобритания', 'СССР, ВНР',\n",
       "       'Испания - Франция - США - Великобритания - Бельгия',\n",
       "       'Франция - Дания - США', 'США - Гонконг', 'Бразилия - К;анада',\n",
       "       'Франция-Германия', 'США - Колумбия',\n",
       "       'США - Ирландия - Великобритания - Франция',\n",
       "       'Великобритания - США - Канада', 'Польша - Франция',\n",
       "       'Канада - США - Нидерланды - Великобритания - Аргентина',\n",
       "       'Великобритания - Дания', 'Франция - Бельгия - Япония',\n",
       "       'Россия,  Испания', 'Франция -Бельгия',\n",
       "       'США - Канада - Германия - Франция', 'США-Канада-Франция',\n",
       "       'Россия - Германия', 'Россия-Италия', 'Китай - Гонконг',\n",
       "       'Германия-Австрия-Франция-Италия', 'США-Япония',\n",
       "       'США - Германия - Канада', 'Испания-Мексика',\n",
       "       'США - Япония - Канада - Великобритания - Германия - Франция',\n",
       "       'США -Великобритания - Австралия', 'Россия-Украина-Германия',\n",
       "       'Израиль - Франция - Великобритания - Германия', 'Корея',\n",
       "       'Россия - Болгария', 'США-Индия',\n",
       "       'Германия-Канада-Франция-Бельгия', 'Германия-Кения',\n",
       "       'Франция - Монако', 'Франция-Испания-Швейцария',\n",
       "       'Австрия-Франция-Германия', 'Румыния',\n",
       "       'США-Великобритания-Франция', 'Канада-Великобритания',\n",
       "       'Канада-Бразилия-Япония', 'Германия - Дания - Норвегия',\n",
       "       'Дания - Германия', 'СССР - Италия',\n",
       "       'СССР - ГДР - Польша - Италия',\n",
       "       'США - Испания - Франция - Великобритания', 'Китай',\n",
       "       'Мексика-Аргентина',\n",
       "       'Германия - Великобритания - Италия - Испания',\n",
       "       'Франция-Германия-Великобритания', 'Россия - Германия - Швейцария',\n",
       "       'Франция-Австралия', 'Голландия', 'Швейцария-Франция',\n",
       "       'Россия-Белоруссия', 'Франция - Испания - Тайвань',\n",
       "       'США-Южная Корея-Новая Зеландия', 'Великобритания-Венгрия',\n",
       "       'Россия-Германия', 'Великобритания-Франция-Германия',\n",
       "       'Франция-Германия-Италия', 'Швеция-Финляндия-Франция-Норвегия',\n",
       "       'Франция-Италия', 'Германия-Израиль',\n",
       "       'Швеция - Германия - Дания - Норвегия', 'США-Бельгия',\n",
       "       'Франция-Гонконг-Ирландия', 'Эстония', 'Литва-Россия-Украина',\n",
       "       'Германия - Италия - Франция',\n",
       "       'Великобритания - Австрия - Германия', 'Бельгия - Франция',\n",
       "       'Россия-Казахстан', 'Испания - Мальта',\n",
       "       'Франция-Россия-Румыния-Италия-Бельгия', 'Россия - Польша',\n",
       "       'Испания - Мексика', 'США-Аргентина', 'Великобритания ',\n",
       "       'Израиль-США-Франция', 'США - Новая Зеландия - Япония',\n",
       "       'Франция - Чехия - Великобритания', 'Россия-Польша',\n",
       "       'Германия-Франция-Великобритания', 'США-Германия-Канада',\n",
       "       'США-Гонконг-Китай', 'США - Великобритания - Германия',\n",
       "       'США-Канада-Австралия', 'Япония-США-Франция',\n",
       "       'Франция-Испания-Германия', 'США - Хорватия - Босния-Герцеговина',\n",
       "       'Великобритания - Чехия - Франция - Италия',\n",
       "       'США - Германия - Нидерланды', 'Германия - Франция - Канада',\n",
       "       'Франция-Грузия-Германия-Россия-Украина-Бельгия',\n",
       "       'Великобритания - Франция - Италия', 'Россия - США',\n",
       "       'Франция - Италия - Иран', 'Россия - Азербайджан', 'Греция',\n",
       "       'Дания - США', 'США-Великобритания-Новая Зеландия',\n",
       "       'США-Германия-Австралия', 'США-Канада-Италия',\n",
       "       'США - Япония - Германия', 'Австралия-США',\n",
       "       'Франция - Великобритания - Багамские острова - США',\n",
       "       'Швейцария - Люксембург', 'Швейцария - Австрия',\n",
       "       'Германия - Швейцария', 'Дания-Швеция-Франция-Германия', 'Польша',\n",
       "       'Швейцария-Австрия', 'Бразилия - Канада - США',\n",
       "       'Нидерланды - Россия', 'Португалия', 'Франция-Аргентина',\n",
       "       'Швеция-Франция', 'Франция-Украина', 'Германия-Украина-Нидерланды',\n",
       "       'Италия-Швейцария', 'США-Германия-Великобритания',\n",
       "       'Латвия - Россия', 'Германия-Франция-Великобритания-США',\n",
       "       'Канада - Италия', 'США - Объединенные Арабские Эмираты',\n",
       "       'США-Венгрия', 'Малайзия', 'Россия - Германия - Украина',\n",
       "       'США - Австралия - Мексика', 'Литва - Венгрия', 'Германия - Китай',\n",
       "       'Казахстан', 'Республика Корея',\n",
       "       'США - Германия - Франция - Великобритания - Канада ',\n",
       "       'Бельгия - Германия - Люксембург - Франция', 'Франция - Греция',\n",
       "       'Италия - Канада', 'США - Великобритания - Франция',\n",
       "       'США-Италия-Греция', 'Германия - США - Великобритания - Ирландия',\n",
       "       'Великобритания - Франция - Германия',\n",
       "       'Германия - Нидерланды - ЮАР',\n",
       "       'США-Япония-Германия-Великобритания-Нидерланды',\n",
       "       'США-Япония-Германия-Великобритания',\n",
       "       'Германия - Франция - Польша',\n",
       "       'Таиланд-Великобритания-Франция-Германия-Испания-Нидерланды',\n",
       "       'Германия-Италия-Швейцария',\n",
       "       'Дания - Швеция - Великобритания - Франция - Германия - Нидерланды - Норвегия - Финляндия',\n",
       "       'Франция - Великобритания - Нидерланды - Люксембург',\n",
       "       'Нидерланды-Великобритания-Франция-Италия-Япония',\n",
       "       'Финляндия-Дания-Германия-Ирландия', 'Испания-Аргентина',\n",
       "       'Великобритания - Нидерланды - Франция - США', 'Канада - Мексика',\n",
       "       'США, Франция', 'Канада-Южная Корея-США',\n",
       "       'Великобритания - Франция - Бельгия - США', 'КНР - Канада - США',\n",
       "       'Италия - Франция - Германия',\n",
       "       'Швеция - Германия - Франция - Дания', 'Франция - США - Бельгия',\n",
       "       'Украина - Германия - Латвия - Эстония', 'Австрия - Люксембург',\n",
       "       'Великобритания - КНР', 'Монголия', 'Франция - Дания',\n",
       "       'Швеция - Дания - Финляндия',\n",
       "       'Сингапур - Великобритания - Индонезия - Канада - США',\n",
       "       'США - Германия - Япония', 'Таиланд - США', 'Франция - Нидерланды',\n",
       "       'Великобритания - Румыния', 'США - Мальта',\n",
       "       'Великобритания - Германия - Нидерланды - Дания',\n",
       "       'Франция - Германия - Литва - Нидерланды - Россия',\n",
       "       'США - ЮАР - Гонконг', 'Австралия - Колумбия',\n",
       "       'Великобритания - Польша', 'США - Великобритания - Швеция',\n",
       "       'Франция - Швеция - Дания - Норвегия', 'Болгария - США',\n",
       "       'СССР, ФРГ', 'Бельгия - Нидерланды - Франция',\n",
       "       'Финляндия - Германия', 'Болгария',\n",
       "       'Грузия - Россия - Украина - Хорватия - Германия',\n",
       "       'Франция - Люксембург', 'Франция - Германия - Австрия',\n",
       "       'Норвегия - США', 'Германия-Швеция', 'Франция - Германия - Италия',\n",
       "       'Франция-Германия-Австрия', 'КНР-США',\n",
       "       'Великобритания - Ирландия - США ',\n",
       "       'Дания - Латвия - Россия - США', 'Финляндия - Польша',\n",
       "       'Германия - Бельгия', 'Германия - США - Франция - Испания',\n",
       "       'Бельгия-Германия-Канада-Франция-США-Великобритания',\n",
       "       'Нидерланды - Бельгия - Люксембург', 'Канада-Германия',\n",
       "       'Люксембург - Бельгия - Франция', 'США-Великобритания-Австралия',\n",
       "       'Великобритания, Новая Зеландия', 'Бельгия, Великобритания, США',\n",
       "       'Великобритания, Австралия', 'Исландия, Бельгия',\n",
       "       'Испания - Швейцария - Великобритания - Германия - Новая Зеландия - Нидерланды - Канада',\n",
       "       'Франция, Бельгия', 'Великобритания, США', 'Киргизия-Россия',\n",
       "       'Германия, США', 'Великобритания, США, Испания',\n",
       "       'Италия - Швейцария - Германия', 'Россия, Армения',\n",
       "       'Франция, Германия', 'Китай, Канада, США', 'Германия, Австралия',\n",
       "       'КНР, США', 'США, Великобритания, Люксембург',\n",
       "       'Испания, Ирландия, Бельгия, Франция',\n",
       "       'Великобритания - Гонконг - Венгрия - США - Ирландия',\n",
       "       'США - Пуэрто Рико', 'Аргентина - Испания - Уругвай',\n",
       "       'Израиль - Германия - Франция - Швейцария',\n",
       "       'Великобритания - Мексика - США', 'Испания - Болгария - США',\n",
       "       'Россия-Словакия-Чехия',\n",
       "       'Швейцария - КНР - США - Россия - Республика Корея - Великобритания',\n",
       "       'Россия, Нидерланды, Финляндия',\n",
       "       'Испания - Бельгия - Франция - Португалия - Великобритания',\n",
       "       'Бразилия - Португалия - Франция', 'Швеция - Норвегия',\n",
       "       'Франция - Польша - Бельгия', 'CША', 'Китай, США',\n",
       "       'Италия, Франция, Германия', 'Германия - Австрия - Франция',\n",
       "       'Чехия - Словакия - Хорватия', 'Россия, Польша, Финляндия',\n",
       "       'Россия, Латвия, Чешская Республика',\n",
       "       'Франция - Великобритания - Камбоджа - США - КНР',\n",
       "       'Чехия - Испания - США', 'Германия - Люксембург - Дания',\n",
       "       'Великобритания - Испания - Германия', 'Дания - Исландия',\n",
       "       'Германия, Франция, Великобритания',\n",
       "       'Великобритания - Испания - Италия - Латвия - Франция - Эстония',\n",
       "       'Дания, Швеция, Великобритания, Франция, Германия, Норвегия, Финляндия, Нидерланды, Италия',\n",
       "       'Польша - Франция - Великобритания',\n",
       "       'Дания, Норвегия, Венгрия, Чехия',\n",
       "       'Дания - Франция - Германия - Швеция',\n",
       "       'Великобритания, Швеция, США',\n",
       "       'Канада, Франция, Италия, Швейцария, США', 'США, Индия',\n",
       "       'США - Великобритания - Германия - - Швеция - Канада',\n",
       "       'Италия, Франция', 'Республика Беларусь, Германия, США, Россия',\n",
       "       'Италия-Швейцария-Франция-Германия ',\n",
       "       'Россия - Франция - Великобритания - Латвия', 'Россия-Беларусь',\n",
       "       'Франция - Испания - Румыния - США - Бельгия', 'Италия-США',\n",
       "       'Россия, Австрия', 'Ирландия - Великобритания - США',\n",
       "       'Швейцария, Великобритания, Франция, США, Ирландия',\n",
       "       'Мексика, Франция, Германия, Дания, Швеция', 'Нидерланды, Бельгия',\n",
       "       'Швеция, Норвегия, Финляндия, Франция', 'Испания, Франция, Италия',\n",
       "       'Испания-Франция-Греция-Индия-США-Россия-Великобритания',\n",
       "       'Великобритания - Япония - США',\n",
       "       'Дания, Канада, Норвегия, Австралия, США', 'Аргентина, Испания',\n",
       "       'Россия, Германия, Казахстан, Польша, Китай',\n",
       "       'Португалия, Франция, Польша, США', 'США - Канада - Аргентина',\n",
       "       'Ливан-США', 'Япония - США', 'США, Гонконг ',\n",
       "       'Франция - Россия - Швейцария - Румыния - Венгрия',\n",
       "       'Аргентина-Испания', 'Россия, Сербия', 'США - Болгария - Мексика',\n",
       "       'США - Великобритания - Швейцария - Франция',\n",
       "       'Таиланд - КНР - США',\n",
       "       'Великобритания, Нидерланды, Польша, Швейцария, Франция',\n",
       "       'Ирландия - США',\n",
       "       'Германия - Франция - Великобритания - Польша - США',\n",
       "       'Великобритания-Франция-Италия', 'США - Австралия - Индия',\n",
       "       'Франция - КНР', 'Великобритания - Израиль',\n",
       "       'Великобритания - Норвегия - Кения - Хорватия',\n",
       "       'США - Бразилия - Великобритания - Канада', 'Германия, Бельгия',\n",
       "       'Австралия, Канада', 'США, Великобритания, Франция',\n",
       "       'Кения, Германия', 'Нидерланды, Бельгия, Люксембург', 'Колумбия',\n",
       "       'Латвия - Франция', 'Ирландия, Великобритания',\n",
       "       'Франция - Израиль - Германия', 'Швеция, Франция, Великобритания',\n",
       "       'Бельгия - Люксембург', 'Германия - Бельгия - Великобритания',\n",
       "       'Испания, Франция, Великобритания, Дания, Бельгия, Германия',\n",
       "       'Румыния, ЮАР, Иран, Франция, Канада, Великобритания',\n",
       "       'Германия, Франция', 'США, Япония',\n",
       "       'США, Великобритания, Ирландия, Люксембург', 'Республика Армения',\n",
       "       'США, Франция, Япония', 'Япония, США', 'Канада, США',\n",
       "       'Республика Кипр - Россия',\n",
       "       'Дания - Франция - Италия - Бельгия - Нидерланды',\n",
       "       'Россия - Грузия', 'Италия, Германия', 'Норвегия, Швеция, Дания',\n",
       "       'Республика Кипр, Россия', 'КНР, Индия, Гонконг, США',\n",
       "       'Израиль, Украина', 'США, Россия', 'США - КНР - Индия - Ю.Корея',\n",
       "       'США - Швеция', 'Франция, Канада', 'Россия-Китай',\n",
       "       'Канада, Великобритания', 'США, Германия',\n",
       "       'Канада, США, Каймановы острова',\n",
       "       'Бразилия, Уругвай, Дания, Норвегия, Чили, Швеция',\n",
       "       'Пуэрто-Рико, Великобритания, США',\n",
       "       'Уругвай - Аргентина - Испания',\n",
       "       'США - Великобритания - Италия - Израиль - Сербия - Индия',\n",
       "       'США - Канада - Франция - Индия', 'Великобритания - Россия - КНР',\n",
       "       'Франция, Новая Зеландия', 'Франция, Люксембург, Бельгия',\n",
       "       'Канада, США, Норвегия', 'Италия, Испания',\n",
       "       'Испания - Германия - Нидерланды', 'Бразилия - США - КНР ',\n",
       "       'Великобритания, Германия, Дания, США', '2019',\n",
       "       'Италия - Фрация - Бразилия - Германия',\n",
       "       'Норвегия - Швеция - Россия', 'Великобритания, Япония, США',\n",
       "       'Сша, Канада', 'Бельгия, Канада',\n",
       "       'Великобритания - Австралия - США', 'США, Канада', 'КНР - США ',\n",
       "       'Франция - Финляндия', 'Колумбия - США',\n",
       "       'Великобритания, Франция, Бельгия', 'Норвегия - Нидерланды',\n",
       "       'Великобритания, Канада, США', 'Япония, Великобритания',\n",
       "       'Италия - Бельгия - Франция', 'Россия, Бельгия, Финляндия',\n",
       "       'США, Украина', 'Франция, Норвегия',\n",
       "       'Великобритания, Южная Корея, Канада, США, Индия, Китай, Япония',\n",
       "       'Канада - Норвегия', 'Республика Кипр-Россия', 'Германия, Россия',\n",
       "       'Польша - Франция - Испания - Бразилия - Швеция',\n",
       "       'Австрия, Великобритания, Германия', 'Франция - Сенегал - Бельгия',\n",
       "       'Франция, Бельгия, Люксембург', 'Финляндия, Латвия', 'Пакистан',\n",
       "       'Германия, Франция, США', 'Германия - Великобритания - США',\n",
       "       'КНР - Франция', 'Дания, Норвегия, Швеция, Исландия',\n",
       "       'Республика Кипр, США, Россия', 'Новая Зеландия - КНР',\n",
       "       'Дания - Канада - Швеция - Франция - Германия - Великобритания - США'],\n",
       "      dtype=object)"
      ]
     },
     "execution_count": 23,
     "metadata": {},
     "output_type": "execute_result"
    }
   ],
   "source": [
    "data['production_country'].unique()"
   ]
  },
  {
   "cell_type": "markdown",
   "metadata": {},
   "source": [
    "Мне кажется, что мало что можно сделать с данным столбцом, так как у нас нет данных о том, по какому приципу он  заполнялся. Мы не знаем важен ли порядок стран в строках, если да, то, что он означает. Была ли первая страна в списке той, в которой снималась большая часть фильма или, например, возможно ли такое, что компания из первой страны в списке профинансировала и сняла фильм, но съемки проходили только на территории других стран. А может таких стран-производителей у фильма несколько, а сам он фактически снимался только в одной из них. Вариантов еще может быть много, мне кажется, что данный столбец можно оставить без изменений как минимум по этой причине, а таже потому что дальше он в исследовании так и не использовался."
   ]
  },
  {
   "cell_type": "markdown",
   "metadata": {
    "id": "XFSN5lrEgFyR"
   },
   "source": [
    "#### Проверка количественных значений\n"
   ]
  },
  {
   "cell_type": "code",
   "execution_count": 24,
   "metadata": {
    "id": "YbzClBxagFyS",
    "scrolled": true
   },
   "outputs": [
    {
     "data": {
      "text/html": [
       "<div>\n",
       "<style scoped>\n",
       "    .dataframe tbody tr th:only-of-type {\n",
       "        vertical-align: middle;\n",
       "    }\n",
       "\n",
       "    .dataframe tbody tr th {\n",
       "        vertical-align: top;\n",
       "    }\n",
       "\n",
       "    .dataframe thead th {\n",
       "        text-align: right;\n",
       "    }\n",
       "</style>\n",
       "<table border=\"1\" class=\"dataframe\">\n",
       "  <thead>\n",
       "    <tr style=\"text-align: right;\">\n",
       "      <th></th>\n",
       "      <th>title</th>\n",
       "      <th>puNumber</th>\n",
       "      <th>show_start_date</th>\n",
       "      <th>type</th>\n",
       "      <th>film_studio</th>\n",
       "      <th>production_country</th>\n",
       "      <th>director</th>\n",
       "      <th>producer</th>\n",
       "      <th>age_restriction</th>\n",
       "      <th>refundable_support</th>\n",
       "      <th>nonrefundable_support</th>\n",
       "      <th>budget</th>\n",
       "      <th>financing_source</th>\n",
       "      <th>ratings</th>\n",
       "      <th>genres</th>\n",
       "      <th>box_office</th>\n",
       "      <th>year</th>\n",
       "    </tr>\n",
       "  </thead>\n",
       "  <tbody>\n",
       "    <tr>\n",
       "      <th>2053</th>\n",
       "      <td>14+</td>\n",
       "      <td>111023614</td>\n",
       "      <td>2014-12-19 12:00:00</td>\n",
       "      <td>Художественный</td>\n",
       "      <td>ООО Киностудия  \"Сентябрь\"</td>\n",
       "      <td>Россия</td>\n",
       "      <td>А.Зайцев</td>\n",
       "      <td>О.Гранина, А.Зайцев</td>\n",
       "      <td>«16+» - для детей старше 16 лет</td>\n",
       "      <td>0.0</td>\n",
       "      <td>23000000.0</td>\n",
       "      <td>0.0</td>\n",
       "      <td>Министерство культуры, Фонд кино</td>\n",
       "      <td>6.6</td>\n",
       "      <td>мелодрама</td>\n",
       "      <td>1.023402e+07</td>\n",
       "      <td>2014</td>\n",
       "    </tr>\n",
       "    <tr>\n",
       "      <th>2058</th>\n",
       "      <td>Дуxless 2</td>\n",
       "      <td>111000415</td>\n",
       "      <td>2015-01-26 12:00:00</td>\n",
       "      <td>Художественный</td>\n",
       "      <td>ООО \"Киностудия \"Слово\", ООО \"Арт Пикчерс Студия\"</td>\n",
       "      <td>Россия</td>\n",
       "      <td>Р.Прыгунов</td>\n",
       "      <td>П.Ануров, Ф.Бондарчук, Д.Рудовский</td>\n",
       "      <td>«16+» - для детей старше 16 лет</td>\n",
       "      <td>0.0</td>\n",
       "      <td>75000000.0</td>\n",
       "      <td>0.0</td>\n",
       "      <td>Фонд кино</td>\n",
       "      <td>6.6</td>\n",
       "      <td>драма</td>\n",
       "      <td>4.461635e+08</td>\n",
       "      <td>2015</td>\n",
       "    </tr>\n",
       "    <tr>\n",
       "      <th>2472</th>\n",
       "      <td>Воин (2015)</td>\n",
       "      <td>111017315</td>\n",
       "      <td>2015-09-28 12:00:00</td>\n",
       "      <td>Художественный</td>\n",
       "      <td>ООО \"Форпост Продакшн\", ООО \"Арт Пикчерс Студия\"</td>\n",
       "      <td>Россия</td>\n",
       "      <td>А.Андрианов</td>\n",
       "      <td>ООО \"Арт Пикчерс Студия\"</td>\n",
       "      <td>«12+» - для детей старше 12 лет</td>\n",
       "      <td>10000000.0</td>\n",
       "      <td>70000000.0</td>\n",
       "      <td>0.0</td>\n",
       "      <td>Фонд кино</td>\n",
       "      <td>7.8</td>\n",
       "      <td>боевик,драма,криминал</td>\n",
       "      <td>1.965724e+08</td>\n",
       "      <td>2015</td>\n",
       "    </tr>\n",
       "    <tr>\n",
       "      <th>2532</th>\n",
       "      <td>Бармен.</td>\n",
       "      <td>111009615</td>\n",
       "      <td>2015-05-26 12:00:00</td>\n",
       "      <td>Художественный</td>\n",
       "      <td>АО \"ВайТ Медиа\", ООО \"Арт Пикчерс Студия\"</td>\n",
       "      <td>Россия</td>\n",
       "      <td>Д.Штурманова</td>\n",
       "      <td>Т.Вайнштейн</td>\n",
       "      <td>«16+» - для детей старше 16 лет</td>\n",
       "      <td>20000000.0</td>\n",
       "      <td>0.0</td>\n",
       "      <td>0.0</td>\n",
       "      <td>Фонд кино</td>\n",
       "      <td>6.2</td>\n",
       "      <td>комедия,фэнтези</td>\n",
       "      <td>6.741897e+07</td>\n",
       "      <td>2015</td>\n",
       "    </tr>\n",
       "    <tr>\n",
       "      <th>2615</th>\n",
       "      <td>Савва. Сердце воина</td>\n",
       "      <td>114001715</td>\n",
       "      <td>2015-07-21 12:00:00</td>\n",
       "      <td>Анимационный</td>\n",
       "      <td>ООО \"Глюкоза Продакшн\", ООО \"Арт Пикчерс Студия\"</td>\n",
       "      <td>Россия</td>\n",
       "      <td>М.Фадеев</td>\n",
       "      <td>А.Чистяков</td>\n",
       "      <td>«6+» - для детей старше 6 лет</td>\n",
       "      <td>60000000.0</td>\n",
       "      <td>100000000.0</td>\n",
       "      <td>0.0</td>\n",
       "      <td>Фонд кино</td>\n",
       "      <td>4.6</td>\n",
       "      <td>мультфильм,приключения,фэнтези</td>\n",
       "      <td>1.844876e+08</td>\n",
       "      <td>2015</td>\n",
       "    </tr>\n",
       "    <tr>\n",
       "      <th>2684</th>\n",
       "      <td>Тряпичный союз</td>\n",
       "      <td>111010215</td>\n",
       "      <td>2015-06-08 12:00:00</td>\n",
       "      <td>Художественный</td>\n",
       "      <td>ООО \"Кинокомпания \"КОКТЕБЕЛЬ\"</td>\n",
       "      <td>Россия</td>\n",
       "      <td>М.Местецкий</td>\n",
       "      <td>Р.Борисевич, А.Кушаев</td>\n",
       "      <td>«18+» - запрещено для детей</td>\n",
       "      <td>0.0</td>\n",
       "      <td>59000000.0</td>\n",
       "      <td>0.0</td>\n",
       "      <td>Фонд кино</td>\n",
       "      <td>6.3</td>\n",
       "      <td>комедия,драма</td>\n",
       "      <td>1.957739e+06</td>\n",
       "      <td>2015</td>\n",
       "    </tr>\n",
       "    <tr>\n",
       "      <th>2788</th>\n",
       "      <td>Срочно выйду замуж</td>\n",
       "      <td>111017115</td>\n",
       "      <td>2015-09-30 12:00:00</td>\n",
       "      <td>Художественный</td>\n",
       "      <td>АО \"ВайТ Медиа\", ООО \"Арт Пикчерс Студия\"</td>\n",
       "      <td>Россия</td>\n",
       "      <td>С Чекалов</td>\n",
       "      <td>Ф.Бондарчук, Т.Вайнштейн, Д.Рудовский</td>\n",
       "      <td>«16+» - для детей старше 16 лет</td>\n",
       "      <td>0.0</td>\n",
       "      <td>35000000.0</td>\n",
       "      <td>0.0</td>\n",
       "      <td>Фонд кино</td>\n",
       "      <td>5.1</td>\n",
       "      <td>комедия,мелодрама</td>\n",
       "      <td>7.293778e+07</td>\n",
       "      <td>2015</td>\n",
       "    </tr>\n",
       "    <tr>\n",
       "      <th>2874</th>\n",
       "      <td>Помню - не помню!</td>\n",
       "      <td>111004916</td>\n",
       "      <td>2016-03-01 12:00:00</td>\n",
       "      <td>Художественный</td>\n",
       "      <td>ООО \"КиноФирма\"</td>\n",
       "      <td>Россия</td>\n",
       "      <td>В.Ровенский</td>\n",
       "      <td>ООО \"КиноФирма\"</td>\n",
       "      <td>«12+» - для детей старше 12 лет</td>\n",
       "      <td>0.0</td>\n",
       "      <td>6000000.0</td>\n",
       "      <td>0.0</td>\n",
       "      <td>Министерство культуры</td>\n",
       "      <td>4.3</td>\n",
       "      <td>комедия</td>\n",
       "      <td>1.536293e+07</td>\n",
       "      <td>2016</td>\n",
       "    </tr>\n",
       "    <tr>\n",
       "      <th>3047</th>\n",
       "      <td>Любовь с ограничениями</td>\n",
       "      <td>111008216</td>\n",
       "      <td>2016-04-29 12:00:00</td>\n",
       "      <td>Художественный</td>\n",
       "      <td>АО \"ВайТ Медиа\", ООО \"Арт Пикчерс Студия\"</td>\n",
       "      <td>Россия</td>\n",
       "      <td>Д.Тюрин</td>\n",
       "      <td>Ф.Бондарчук, Т.Вайнштейн, Д.Рудовский</td>\n",
       "      <td>«16+» - для детей старше 16 лет</td>\n",
       "      <td>19000000.0</td>\n",
       "      <td>51000000.0</td>\n",
       "      <td>0.0</td>\n",
       "      <td>Фонд кино</td>\n",
       "      <td>6.3</td>\n",
       "      <td>комедия,мелодрама</td>\n",
       "      <td>7.029905e+07</td>\n",
       "      <td>2016</td>\n",
       "    </tr>\n",
       "    <tr>\n",
       "      <th>3565</th>\n",
       "      <td>Притяжение (2016)</td>\n",
       "      <td>111018116</td>\n",
       "      <td>2016-12-16 12:00:00</td>\n",
       "      <td>Художественный</td>\n",
       "      <td>ООО \"Водород 2011\",  ООО \"Арт Пикчерс Студия\"</td>\n",
       "      <td>Россия</td>\n",
       "      <td>Ф.Бондарчук</td>\n",
       "      <td>ООО \"Арт Пикчерс Студия\"</td>\n",
       "      <td>«12+» - для детей старше 12 лет</td>\n",
       "      <td>0.0</td>\n",
       "      <td>250000000.0</td>\n",
       "      <td>0.0</td>\n",
       "      <td>Фонд кино</td>\n",
       "      <td>5.6</td>\n",
       "      <td>фантастика</td>\n",
       "      <td>1.038321e+09</td>\n",
       "      <td>2016</td>\n",
       "    </tr>\n",
       "    <tr>\n",
       "      <th>3675</th>\n",
       "      <td>Чудо-юдо</td>\n",
       "      <td>114001817</td>\n",
       "      <td>2017-06-27 12:00:00</td>\n",
       "      <td>Анимационный</td>\n",
       "      <td>ООО \"КиноФирма\"</td>\n",
       "      <td>Россия</td>\n",
       "      <td>А.Лукичев</td>\n",
       "      <td>ООО \"КиноФирма\"</td>\n",
       "      <td>«6+» - для детей старше 6 лет</td>\n",
       "      <td>20000000.0</td>\n",
       "      <td>20000000.0</td>\n",
       "      <td>0.0</td>\n",
       "      <td>Фонд кино</td>\n",
       "      <td>5.2</td>\n",
       "      <td>мультфильм,фэнтези,семейный</td>\n",
       "      <td>5.510801e+07</td>\n",
       "      <td>2017</td>\n",
       "    </tr>\n",
       "    <tr>\n",
       "      <th>3739</th>\n",
       "      <td>Мифы</td>\n",
       "      <td>111004317</td>\n",
       "      <td>2017-06-07 12:00:00</td>\n",
       "      <td>Художественный</td>\n",
       "      <td>ООО \"ХАЙПФИЛМ\", ООО \"Арт Пикчерс Студия\"</td>\n",
       "      <td>Россия</td>\n",
       "      <td>А.Молочников</td>\n",
       "      <td>Ф.Бондарчук, Д.Рудовский, И.Стюарт, М.Османн, ...</td>\n",
       "      <td>«16+» - для детей старше 16 лет</td>\n",
       "      <td>25000000.0</td>\n",
       "      <td>20000000.0</td>\n",
       "      <td>0.0</td>\n",
       "      <td>Фонд кино</td>\n",
       "      <td>4.8</td>\n",
       "      <td>комедия</td>\n",
       "      <td>5.045195e+07</td>\n",
       "      <td>2017</td>\n",
       "    </tr>\n",
       "    <tr>\n",
       "      <th>5673</th>\n",
       "      <td>Селфи</td>\n",
       "      <td>111012117</td>\n",
       "      <td>2018-02-01 12:00:00</td>\n",
       "      <td>Художественный</td>\n",
       "      <td>ООО \"Киностудия \"Слово\", ООО \"Арт Пикчерс Студия\"</td>\n",
       "      <td>Россия</td>\n",
       "      <td>Н.Хомерики</td>\n",
       "      <td>П.Ануров, Ф.Бондарчук, Д.Рудовский</td>\n",
       "      <td>«16+» - для детей старше 16 лет</td>\n",
       "      <td>20000000.0</td>\n",
       "      <td>40000000.0</td>\n",
       "      <td>0.0</td>\n",
       "      <td>Фонд кино</td>\n",
       "      <td>5.8</td>\n",
       "      <td>триллер,драма</td>\n",
       "      <td>2.251964e+08</td>\n",
       "      <td>2018</td>\n",
       "    </tr>\n",
       "    <tr>\n",
       "      <th>5806</th>\n",
       "      <td>Два хвоста</td>\n",
       "      <td>114001018</td>\n",
       "      <td>2018-05-31 12:00:00</td>\n",
       "      <td>Анимационный</td>\n",
       "      <td>ООО \"ЛИЦЕНЗИОННЫЕ БРЕНДЫ\"</td>\n",
       "      <td>Россия</td>\n",
       "      <td>В.Ровенский, Н.Лопато, В.Азеев</td>\n",
       "      <td>ООО \"ЛИЦЕНЗИОННЫЕ БРЕНДЫ\"</td>\n",
       "      <td>«6+» - для детей старше 6 лет</td>\n",
       "      <td>10000000.0</td>\n",
       "      <td>60000000.0</td>\n",
       "      <td>0.0</td>\n",
       "      <td>Фонд кино</td>\n",
       "      <td>5.0</td>\n",
       "      <td>мультфильм,детский</td>\n",
       "      <td>1.065143e+08</td>\n",
       "      <td>2018</td>\n",
       "    </tr>\n",
       "    <tr>\n",
       "      <th>6008</th>\n",
       "      <td>Принцесса и дракон</td>\n",
       "      <td>114003018</td>\n",
       "      <td>2018-08-23 12:00:00</td>\n",
       "      <td>Анимационный</td>\n",
       "      <td>ООО \"ЛИЦЕНЗИОННЫЕ БРЕНДЫ\"</td>\n",
       "      <td>Россия</td>\n",
       "      <td>М.Нефедова</td>\n",
       "      <td>ООО \"ЛИЦЕНЗИОННЫЕ БРЕНДЫ\"</td>\n",
       "      <td>«6+» - для детей старше 6 лет</td>\n",
       "      <td>40000000.0</td>\n",
       "      <td>40000000.0</td>\n",
       "      <td>0.0</td>\n",
       "      <td>Фонд кино</td>\n",
       "      <td>5.2</td>\n",
       "      <td>мультфильм,фэнтези,детский</td>\n",
       "      <td>8.336633e+07</td>\n",
       "      <td>2018</td>\n",
       "    </tr>\n",
       "    <tr>\n",
       "      <th>6323</th>\n",
       "      <td>Баба Яга</td>\n",
       "      <td>114006518</td>\n",
       "      <td>2018-11-08 12:00:00</td>\n",
       "      <td>Анимационный</td>\n",
       "      <td>ООО \"Арт Пикчерс Студия\"</td>\n",
       "      <td>Россия</td>\n",
       "      <td>В.Саков</td>\n",
       "      <td>ООО \"Арт Пикчерс Студия\", ООО \"КРИЭЙТИВ АНИМЭЙ...</td>\n",
       "      <td>«6+» - для детей старше 6 лет</td>\n",
       "      <td>0.0</td>\n",
       "      <td>138969465.0</td>\n",
       "      <td>0.0</td>\n",
       "      <td>Фонд кино</td>\n",
       "      <td>NaN</td>\n",
       "      <td>NaN</td>\n",
       "      <td>1.334699e+06</td>\n",
       "      <td>2018</td>\n",
       "    </tr>\n",
       "    <tr>\n",
       "      <th>6823</th>\n",
       "      <td>Большое путешествие</td>\n",
       "      <td>114002419</td>\n",
       "      <td>2019-04-20 12:00:00</td>\n",
       "      <td>Анимационный</td>\n",
       "      <td>ООО \"ЛИЦЕНЗИОННЫЕ БРЕНДЫ\"</td>\n",
       "      <td>Россия</td>\n",
       "      <td>Н.Лопато, В.Ровенский</td>\n",
       "      <td>ООО \"ЛИЦЕНЗИОННЫЕ БРЕНДЫ\"</td>\n",
       "      <td>«6+» - для детей старше 6 лет</td>\n",
       "      <td>60000000.0</td>\n",
       "      <td>120000000.0</td>\n",
       "      <td>0.0</td>\n",
       "      <td>Фонд кино</td>\n",
       "      <td>6.2</td>\n",
       "      <td>мультфильм,комедия,приключения</td>\n",
       "      <td>1.476068e+08</td>\n",
       "      <td>2019</td>\n",
       "    </tr>\n",
       "  </tbody>\n",
       "</table>\n",
       "</div>"
      ],
      "text/plain": [
       "                       title   puNumber     show_start_date            type  \\\n",
       "2053                     14+  111023614 2014-12-19 12:00:00  Художественный   \n",
       "2058               Дуxless 2  111000415 2015-01-26 12:00:00  Художественный   \n",
       "2472             Воин (2015)  111017315 2015-09-28 12:00:00  Художественный   \n",
       "2532                 Бармен.  111009615 2015-05-26 12:00:00  Художественный   \n",
       "2615     Савва. Сердце воина  114001715 2015-07-21 12:00:00    Анимационный   \n",
       "2684          Тряпичный союз  111010215 2015-06-08 12:00:00  Художественный   \n",
       "2788      Срочно выйду замуж  111017115 2015-09-30 12:00:00  Художественный   \n",
       "2874       Помню - не помню!  111004916 2016-03-01 12:00:00  Художественный   \n",
       "3047  Любовь с ограничениями  111008216 2016-04-29 12:00:00  Художественный   \n",
       "3565       Притяжение (2016)  111018116 2016-12-16 12:00:00  Художественный   \n",
       "3675                Чудо-юдо  114001817 2017-06-27 12:00:00    Анимационный   \n",
       "3739                    Мифы  111004317 2017-06-07 12:00:00  Художественный   \n",
       "5673                   Селфи  111012117 2018-02-01 12:00:00  Художественный   \n",
       "5806              Два хвоста  114001018 2018-05-31 12:00:00    Анимационный   \n",
       "6008      Принцесса и дракон  114003018 2018-08-23 12:00:00    Анимационный   \n",
       "6323                Баба Яга  114006518 2018-11-08 12:00:00    Анимационный   \n",
       "6823     Большое путешествие  114002419 2019-04-20 12:00:00    Анимационный   \n",
       "\n",
       "                                            film_studio production_country  \\\n",
       "2053                         ООО Киностудия  \"Сентябрь\"             Россия   \n",
       "2058  ООО \"Киностудия \"Слово\", ООО \"Арт Пикчерс Студия\"             Россия   \n",
       "2472   ООО \"Форпост Продакшн\", ООО \"Арт Пикчерс Студия\"             Россия   \n",
       "2532          АО \"ВайТ Медиа\", ООО \"Арт Пикчерс Студия\"             Россия   \n",
       "2615   ООО \"Глюкоза Продакшн\", ООО \"Арт Пикчерс Студия\"             Россия   \n",
       "2684                      ООО \"Кинокомпания \"КОКТЕБЕЛЬ\"             Россия   \n",
       "2788          АО \"ВайТ Медиа\", ООО \"Арт Пикчерс Студия\"             Россия   \n",
       "2874                                    ООО \"КиноФирма\"             Россия   \n",
       "3047          АО \"ВайТ Медиа\", ООО \"Арт Пикчерс Студия\"             Россия   \n",
       "3565      ООО \"Водород 2011\",  ООО \"Арт Пикчерс Студия\"             Россия   \n",
       "3675                                    ООО \"КиноФирма\"             Россия   \n",
       "3739           ООО \"ХАЙПФИЛМ\", ООО \"Арт Пикчерс Студия\"             Россия   \n",
       "5673  ООО \"Киностудия \"Слово\", ООО \"Арт Пикчерс Студия\"             Россия   \n",
       "5806                          ООО \"ЛИЦЕНЗИОННЫЕ БРЕНДЫ\"             Россия   \n",
       "6008                          ООО \"ЛИЦЕНЗИОННЫЕ БРЕНДЫ\"             Россия   \n",
       "6323                           ООО \"Арт Пикчерс Студия\"             Россия   \n",
       "6823                          ООО \"ЛИЦЕНЗИОННЫЕ БРЕНДЫ\"             Россия   \n",
       "\n",
       "                            director  \\\n",
       "2053                        А.Зайцев   \n",
       "2058                      Р.Прыгунов   \n",
       "2472                     А.Андрианов   \n",
       "2532                    Д.Штурманова   \n",
       "2615                        М.Фадеев   \n",
       "2684                     М.Местецкий   \n",
       "2788                       С Чекалов   \n",
       "2874                     В.Ровенский   \n",
       "3047                         Д.Тюрин   \n",
       "3565                     Ф.Бондарчук   \n",
       "3675                       А.Лукичев   \n",
       "3739                    А.Молочников   \n",
       "5673                      Н.Хомерики   \n",
       "5806  В.Ровенский, Н.Лопато, В.Азеев   \n",
       "6008                      М.Нефедова   \n",
       "6323                         В.Саков   \n",
       "6823           Н.Лопато, В.Ровенский   \n",
       "\n",
       "                                               producer  \\\n",
       "2053                                О.Гранина, А.Зайцев   \n",
       "2058                 П.Ануров, Ф.Бондарчук, Д.Рудовский   \n",
       "2472                           ООО \"Арт Пикчерс Студия\"   \n",
       "2532                                        Т.Вайнштейн   \n",
       "2615                                         А.Чистяков   \n",
       "2684                              Р.Борисевич, А.Кушаев   \n",
       "2788              Ф.Бондарчук, Т.Вайнштейн, Д.Рудовский   \n",
       "2874                                    ООО \"КиноФирма\"   \n",
       "3047              Ф.Бондарчук, Т.Вайнштейн, Д.Рудовский   \n",
       "3565                           ООО \"Арт Пикчерс Студия\"   \n",
       "3675                                    ООО \"КиноФирма\"   \n",
       "3739  Ф.Бондарчук, Д.Рудовский, И.Стюарт, М.Османн, ...   \n",
       "5673                 П.Ануров, Ф.Бондарчук, Д.Рудовский   \n",
       "5806                          ООО \"ЛИЦЕНЗИОННЫЕ БРЕНДЫ\"   \n",
       "6008                          ООО \"ЛИЦЕНЗИОННЫЕ БРЕНДЫ\"   \n",
       "6323  ООО \"Арт Пикчерс Студия\", ООО \"КРИЭЙТИВ АНИМЭЙ...   \n",
       "6823                          ООО \"ЛИЦЕНЗИОННЫЕ БРЕНДЫ\"   \n",
       "\n",
       "                      age_restriction  refundable_support  \\\n",
       "2053  «16+» - для детей старше 16 лет                 0.0   \n",
       "2058  «16+» - для детей старше 16 лет                 0.0   \n",
       "2472  «12+» - для детей старше 12 лет          10000000.0   \n",
       "2532  «16+» - для детей старше 16 лет          20000000.0   \n",
       "2615    «6+» - для детей старше 6 лет          60000000.0   \n",
       "2684      «18+» - запрещено для детей                 0.0   \n",
       "2788  «16+» - для детей старше 16 лет                 0.0   \n",
       "2874  «12+» - для детей старше 12 лет                 0.0   \n",
       "3047  «16+» - для детей старше 16 лет          19000000.0   \n",
       "3565  «12+» - для детей старше 12 лет                 0.0   \n",
       "3675    «6+» - для детей старше 6 лет          20000000.0   \n",
       "3739  «16+» - для детей старше 16 лет          25000000.0   \n",
       "5673  «16+» - для детей старше 16 лет          20000000.0   \n",
       "5806    «6+» - для детей старше 6 лет          10000000.0   \n",
       "6008    «6+» - для детей старше 6 лет          40000000.0   \n",
       "6323    «6+» - для детей старше 6 лет                 0.0   \n",
       "6823    «6+» - для детей старше 6 лет          60000000.0   \n",
       "\n",
       "      nonrefundable_support  budget                  financing_source  \\\n",
       "2053             23000000.0     0.0  Министерство культуры, Фонд кино   \n",
       "2058             75000000.0     0.0                         Фонд кино   \n",
       "2472             70000000.0     0.0                         Фонд кино   \n",
       "2532                    0.0     0.0                         Фонд кино   \n",
       "2615            100000000.0     0.0                         Фонд кино   \n",
       "2684             59000000.0     0.0                         Фонд кино   \n",
       "2788             35000000.0     0.0                         Фонд кино   \n",
       "2874              6000000.0     0.0             Министерство культуры   \n",
       "3047             51000000.0     0.0                         Фонд кино   \n",
       "3565            250000000.0     0.0                         Фонд кино   \n",
       "3675             20000000.0     0.0                         Фонд кино   \n",
       "3739             20000000.0     0.0                         Фонд кино   \n",
       "5673             40000000.0     0.0                         Фонд кино   \n",
       "5806             60000000.0     0.0                         Фонд кино   \n",
       "6008             40000000.0     0.0                         Фонд кино   \n",
       "6323            138969465.0     0.0                         Фонд кино   \n",
       "6823            120000000.0     0.0                         Фонд кино   \n",
       "\n",
       "      ratings                          genres    box_office  year  \n",
       "2053      6.6                       мелодрама  1.023402e+07  2014  \n",
       "2058      6.6                           драма  4.461635e+08  2015  \n",
       "2472      7.8           боевик,драма,криминал  1.965724e+08  2015  \n",
       "2532      6.2                 комедия,фэнтези  6.741897e+07  2015  \n",
       "2615      4.6  мультфильм,приключения,фэнтези  1.844876e+08  2015  \n",
       "2684      6.3                   комедия,драма  1.957739e+06  2015  \n",
       "2788      5.1               комедия,мелодрама  7.293778e+07  2015  \n",
       "2874      4.3                         комедия  1.536293e+07  2016  \n",
       "3047      6.3               комедия,мелодрама  7.029905e+07  2016  \n",
       "3565      5.6                      фантастика  1.038321e+09  2016  \n",
       "3675      5.2     мультфильм,фэнтези,семейный  5.510801e+07  2017  \n",
       "3739      4.8                         комедия  5.045195e+07  2017  \n",
       "5673      5.8                   триллер,драма  2.251964e+08  2018  \n",
       "5806      5.0              мультфильм,детский  1.065143e+08  2018  \n",
       "6008      5.2      мультфильм,фэнтези,детский  8.336633e+07  2018  \n",
       "6323      NaN                             NaN  1.334699e+06  2018  \n",
       "6823      6.2  мультфильм,комедия,приключения  1.476068e+08  2019  "
      ]
     },
     "execution_count": 24,
     "metadata": {},
     "output_type": "execute_result"
    }
   ],
   "source": [
    "budget_check=data[data['budget'] <= 0]\n",
    "budget_check"
   ]
  },
  {
   "cell_type": "code",
   "execution_count": 25,
   "metadata": {},
   "outputs": [
    {
     "data": {
      "text/plain": [
       "0.6140376284219444"
      ]
     },
     "execution_count": 25,
     "metadata": {},
     "output_type": "execute_result"
    }
   ],
   "source": [
    "data['support_per']=(data['refundable_support']+data['nonrefundable_support'])/data['budget']\n",
    "data['support_per'].median()"
   ]
  },
  {
   "cell_type": "code",
   "execution_count": 26,
   "metadata": {
    "scrolled": true
   },
   "outputs": [
    {
     "data": {
      "text/html": [
       "<div>\n",
       "<style scoped>\n",
       "    .dataframe tbody tr th:only-of-type {\n",
       "        vertical-align: middle;\n",
       "    }\n",
       "\n",
       "    .dataframe tbody tr th {\n",
       "        vertical-align: top;\n",
       "    }\n",
       "\n",
       "    .dataframe thead th {\n",
       "        text-align: right;\n",
       "    }\n",
       "</style>\n",
       "<table border=\"1\" class=\"dataframe\">\n",
       "  <thead>\n",
       "    <tr style=\"text-align: right;\">\n",
       "      <th></th>\n",
       "      <th>title</th>\n",
       "      <th>puNumber</th>\n",
       "      <th>show_start_date</th>\n",
       "      <th>type</th>\n",
       "      <th>film_studio</th>\n",
       "      <th>production_country</th>\n",
       "      <th>director</th>\n",
       "      <th>producer</th>\n",
       "      <th>age_restriction</th>\n",
       "      <th>refundable_support</th>\n",
       "      <th>nonrefundable_support</th>\n",
       "      <th>budget</th>\n",
       "      <th>financing_source</th>\n",
       "      <th>ratings</th>\n",
       "      <th>genres</th>\n",
       "      <th>box_office</th>\n",
       "      <th>year</th>\n",
       "      <th>support_per</th>\n",
       "    </tr>\n",
       "  </thead>\n",
       "  <tbody>\n",
       "    <tr>\n",
       "      <th>2053</th>\n",
       "      <td>14+</td>\n",
       "      <td>111023614</td>\n",
       "      <td>2014-12-19 12:00:00</td>\n",
       "      <td>Художественный</td>\n",
       "      <td>ООО Киностудия  \"Сентябрь\"</td>\n",
       "      <td>Россия</td>\n",
       "      <td>А.Зайцев</td>\n",
       "      <td>О.Гранина, А.Зайцев</td>\n",
       "      <td>«16+» - для детей старше 16 лет</td>\n",
       "      <td>0.0</td>\n",
       "      <td>23000000.0</td>\n",
       "      <td>3.745699e+07</td>\n",
       "      <td>Министерство культуры, Фонд кино</td>\n",
       "      <td>6.6</td>\n",
       "      <td>мелодрама</td>\n",
       "      <td>1.023402e+07</td>\n",
       "      <td>2014</td>\n",
       "      <td>inf</td>\n",
       "    </tr>\n",
       "    <tr>\n",
       "      <th>2058</th>\n",
       "      <td>Дуxless 2</td>\n",
       "      <td>111000415</td>\n",
       "      <td>2015-01-26 12:00:00</td>\n",
       "      <td>Художественный</td>\n",
       "      <td>ООО \"Киностудия \"Слово\", ООО \"Арт Пикчерс Студия\"</td>\n",
       "      <td>Россия</td>\n",
       "      <td>Р.Прыгунов</td>\n",
       "      <td>П.Ануров, Ф.Бондарчук, Д.Рудовский</td>\n",
       "      <td>«16+» - для детей старше 16 лет</td>\n",
       "      <td>0.0</td>\n",
       "      <td>75000000.0</td>\n",
       "      <td>1.221424e+08</td>\n",
       "      <td>Фонд кино</td>\n",
       "      <td>6.6</td>\n",
       "      <td>драма</td>\n",
       "      <td>4.461635e+08</td>\n",
       "      <td>2015</td>\n",
       "      <td>inf</td>\n",
       "    </tr>\n",
       "    <tr>\n",
       "      <th>2472</th>\n",
       "      <td>Воин (2015)</td>\n",
       "      <td>111017315</td>\n",
       "      <td>2015-09-28 12:00:00</td>\n",
       "      <td>Художественный</td>\n",
       "      <td>ООО \"Форпост Продакшн\", ООО \"Арт Пикчерс Студия\"</td>\n",
       "      <td>Россия</td>\n",
       "      <td>А.Андрианов</td>\n",
       "      <td>ООО \"Арт Пикчерс Студия\"</td>\n",
       "      <td>«12+» - для детей старше 12 лет</td>\n",
       "      <td>10000000.0</td>\n",
       "      <td>70000000.0</td>\n",
       "      <td>1.302852e+08</td>\n",
       "      <td>Фонд кино</td>\n",
       "      <td>7.8</td>\n",
       "      <td>боевик,драма,криминал</td>\n",
       "      <td>1.965724e+08</td>\n",
       "      <td>2015</td>\n",
       "      <td>inf</td>\n",
       "    </tr>\n",
       "    <tr>\n",
       "      <th>2532</th>\n",
       "      <td>Бармен.</td>\n",
       "      <td>111009615</td>\n",
       "      <td>2015-05-26 12:00:00</td>\n",
       "      <td>Художественный</td>\n",
       "      <td>АО \"ВайТ Медиа\", ООО \"Арт Пикчерс Студия\"</td>\n",
       "      <td>Россия</td>\n",
       "      <td>Д.Штурманова</td>\n",
       "      <td>Т.Вайнштейн</td>\n",
       "      <td>«16+» - для детей старше 16 лет</td>\n",
       "      <td>20000000.0</td>\n",
       "      <td>0.0</td>\n",
       "      <td>3.257129e+07</td>\n",
       "      <td>Фонд кино</td>\n",
       "      <td>6.2</td>\n",
       "      <td>комедия,фэнтези</td>\n",
       "      <td>6.741897e+07</td>\n",
       "      <td>2015</td>\n",
       "      <td>inf</td>\n",
       "    </tr>\n",
       "    <tr>\n",
       "      <th>2615</th>\n",
       "      <td>Савва. Сердце воина</td>\n",
       "      <td>114001715</td>\n",
       "      <td>2015-07-21 12:00:00</td>\n",
       "      <td>Анимационный</td>\n",
       "      <td>ООО \"Глюкоза Продакшн\", ООО \"Арт Пикчерс Студия\"</td>\n",
       "      <td>Россия</td>\n",
       "      <td>М.Фадеев</td>\n",
       "      <td>А.Чистяков</td>\n",
       "      <td>«6+» - для детей старше 6 лет</td>\n",
       "      <td>60000000.0</td>\n",
       "      <td>100000000.0</td>\n",
       "      <td>2.605704e+08</td>\n",
       "      <td>Фонд кино</td>\n",
       "      <td>4.6</td>\n",
       "      <td>мультфильм,приключения,фэнтези</td>\n",
       "      <td>1.844876e+08</td>\n",
       "      <td>2015</td>\n",
       "      <td>inf</td>\n",
       "    </tr>\n",
       "    <tr>\n",
       "      <th>2684</th>\n",
       "      <td>Тряпичный союз</td>\n",
       "      <td>111010215</td>\n",
       "      <td>2015-06-08 12:00:00</td>\n",
       "      <td>Художественный</td>\n",
       "      <td>ООО \"Кинокомпания \"КОКТЕБЕЛЬ\"</td>\n",
       "      <td>Россия</td>\n",
       "      <td>М.Местецкий</td>\n",
       "      <td>Р.Борисевич, А.Кушаев</td>\n",
       "      <td>«18+» - запрещено для детей</td>\n",
       "      <td>0.0</td>\n",
       "      <td>59000000.0</td>\n",
       "      <td>9.608532e+07</td>\n",
       "      <td>Фонд кино</td>\n",
       "      <td>6.3</td>\n",
       "      <td>комедия,драма</td>\n",
       "      <td>1.957739e+06</td>\n",
       "      <td>2015</td>\n",
       "      <td>inf</td>\n",
       "    </tr>\n",
       "    <tr>\n",
       "      <th>2788</th>\n",
       "      <td>Срочно выйду замуж</td>\n",
       "      <td>111017115</td>\n",
       "      <td>2015-09-30 12:00:00</td>\n",
       "      <td>Художественный</td>\n",
       "      <td>АО \"ВайТ Медиа\", ООО \"Арт Пикчерс Студия\"</td>\n",
       "      <td>Россия</td>\n",
       "      <td>С Чекалов</td>\n",
       "      <td>Ф.Бондарчук, Т.Вайнштейн, Д.Рудовский</td>\n",
       "      <td>«16+» - для детей старше 16 лет</td>\n",
       "      <td>0.0</td>\n",
       "      <td>35000000.0</td>\n",
       "      <td>5.699976e+07</td>\n",
       "      <td>Фонд кино</td>\n",
       "      <td>5.1</td>\n",
       "      <td>комедия,мелодрама</td>\n",
       "      <td>7.293778e+07</td>\n",
       "      <td>2015</td>\n",
       "      <td>inf</td>\n",
       "    </tr>\n",
       "    <tr>\n",
       "      <th>2874</th>\n",
       "      <td>Помню - не помню!</td>\n",
       "      <td>111004916</td>\n",
       "      <td>2016-03-01 12:00:00</td>\n",
       "      <td>Художественный</td>\n",
       "      <td>ООО \"КиноФирма\"</td>\n",
       "      <td>Россия</td>\n",
       "      <td>В.Ровенский</td>\n",
       "      <td>ООО \"КиноФирма\"</td>\n",
       "      <td>«12+» - для детей старше 12 лет</td>\n",
       "      <td>0.0</td>\n",
       "      <td>6000000.0</td>\n",
       "      <td>9.771388e+06</td>\n",
       "      <td>Министерство культуры</td>\n",
       "      <td>4.3</td>\n",
       "      <td>комедия</td>\n",
       "      <td>1.536293e+07</td>\n",
       "      <td>2016</td>\n",
       "      <td>inf</td>\n",
       "    </tr>\n",
       "    <tr>\n",
       "      <th>3047</th>\n",
       "      <td>Любовь с ограничениями</td>\n",
       "      <td>111008216</td>\n",
       "      <td>2016-04-29 12:00:00</td>\n",
       "      <td>Художественный</td>\n",
       "      <td>АО \"ВайТ Медиа\", ООО \"Арт Пикчерс Студия\"</td>\n",
       "      <td>Россия</td>\n",
       "      <td>Д.Тюрин</td>\n",
       "      <td>Ф.Бондарчук, Т.Вайнштейн, Д.Рудовский</td>\n",
       "      <td>«16+» - для детей старше 16 лет</td>\n",
       "      <td>19000000.0</td>\n",
       "      <td>51000000.0</td>\n",
       "      <td>1.139995e+08</td>\n",
       "      <td>Фонд кино</td>\n",
       "      <td>6.3</td>\n",
       "      <td>комедия,мелодрама</td>\n",
       "      <td>7.029905e+07</td>\n",
       "      <td>2016</td>\n",
       "      <td>inf</td>\n",
       "    </tr>\n",
       "    <tr>\n",
       "      <th>3565</th>\n",
       "      <td>Притяжение (2016)</td>\n",
       "      <td>111018116</td>\n",
       "      <td>2016-12-16 12:00:00</td>\n",
       "      <td>Художественный</td>\n",
       "      <td>ООО \"Водород 2011\",  ООО \"Арт Пикчерс Студия\"</td>\n",
       "      <td>Россия</td>\n",
       "      <td>Ф.Бондарчук</td>\n",
       "      <td>ООО \"Арт Пикчерс Студия\"</td>\n",
       "      <td>«12+» - для детей старше 12 лет</td>\n",
       "      <td>0.0</td>\n",
       "      <td>250000000.0</td>\n",
       "      <td>4.071412e+08</td>\n",
       "      <td>Фонд кино</td>\n",
       "      <td>5.6</td>\n",
       "      <td>фантастика</td>\n",
       "      <td>1.038321e+09</td>\n",
       "      <td>2016</td>\n",
       "      <td>inf</td>\n",
       "    </tr>\n",
       "    <tr>\n",
       "      <th>3675</th>\n",
       "      <td>Чудо-юдо</td>\n",
       "      <td>114001817</td>\n",
       "      <td>2017-06-27 12:00:00</td>\n",
       "      <td>Анимационный</td>\n",
       "      <td>ООО \"КиноФирма\"</td>\n",
       "      <td>Россия</td>\n",
       "      <td>А.Лукичев</td>\n",
       "      <td>ООО \"КиноФирма\"</td>\n",
       "      <td>«6+» - для детей старше 6 лет</td>\n",
       "      <td>20000000.0</td>\n",
       "      <td>20000000.0</td>\n",
       "      <td>6.514259e+07</td>\n",
       "      <td>Фонд кино</td>\n",
       "      <td>5.2</td>\n",
       "      <td>мультфильм,фэнтези,семейный</td>\n",
       "      <td>5.510801e+07</td>\n",
       "      <td>2017</td>\n",
       "      <td>inf</td>\n",
       "    </tr>\n",
       "    <tr>\n",
       "      <th>3739</th>\n",
       "      <td>Мифы</td>\n",
       "      <td>111004317</td>\n",
       "      <td>2017-06-07 12:00:00</td>\n",
       "      <td>Художественный</td>\n",
       "      <td>ООО \"ХАЙПФИЛМ\", ООО \"Арт Пикчерс Студия\"</td>\n",
       "      <td>Россия</td>\n",
       "      <td>А.Молочников</td>\n",
       "      <td>Ф.Бондарчук, Д.Рудовский, И.Стюарт, М.Османн, ...</td>\n",
       "      <td>«16+» - для детей старше 16 лет</td>\n",
       "      <td>25000000.0</td>\n",
       "      <td>20000000.0</td>\n",
       "      <td>7.328541e+07</td>\n",
       "      <td>Фонд кино</td>\n",
       "      <td>4.8</td>\n",
       "      <td>комедия</td>\n",
       "      <td>5.045195e+07</td>\n",
       "      <td>2017</td>\n",
       "      <td>inf</td>\n",
       "    </tr>\n",
       "    <tr>\n",
       "      <th>5673</th>\n",
       "      <td>Селфи</td>\n",
       "      <td>111012117</td>\n",
       "      <td>2018-02-01 12:00:00</td>\n",
       "      <td>Художественный</td>\n",
       "      <td>ООО \"Киностудия \"Слово\", ООО \"Арт Пикчерс Студия\"</td>\n",
       "      <td>Россия</td>\n",
       "      <td>Н.Хомерики</td>\n",
       "      <td>П.Ануров, Ф.Бондарчук, Д.Рудовский</td>\n",
       "      <td>«16+» - для детей старше 16 лет</td>\n",
       "      <td>20000000.0</td>\n",
       "      <td>40000000.0</td>\n",
       "      <td>9.771388e+07</td>\n",
       "      <td>Фонд кино</td>\n",
       "      <td>5.8</td>\n",
       "      <td>триллер,драма</td>\n",
       "      <td>2.251964e+08</td>\n",
       "      <td>2018</td>\n",
       "      <td>inf</td>\n",
       "    </tr>\n",
       "    <tr>\n",
       "      <th>5806</th>\n",
       "      <td>Два хвоста</td>\n",
       "      <td>114001018</td>\n",
       "      <td>2018-05-31 12:00:00</td>\n",
       "      <td>Анимационный</td>\n",
       "      <td>ООО \"ЛИЦЕНЗИОННЫЕ БРЕНДЫ\"</td>\n",
       "      <td>Россия</td>\n",
       "      <td>В.Ровенский, Н.Лопато, В.Азеев</td>\n",
       "      <td>ООО \"ЛИЦЕНЗИОННЫЕ БРЕНДЫ\"</td>\n",
       "      <td>«6+» - для детей старше 6 лет</td>\n",
       "      <td>10000000.0</td>\n",
       "      <td>60000000.0</td>\n",
       "      <td>1.139995e+08</td>\n",
       "      <td>Фонд кино</td>\n",
       "      <td>5.0</td>\n",
       "      <td>мультфильм,детский</td>\n",
       "      <td>1.065143e+08</td>\n",
       "      <td>2018</td>\n",
       "      <td>inf</td>\n",
       "    </tr>\n",
       "    <tr>\n",
       "      <th>6008</th>\n",
       "      <td>Принцесса и дракон</td>\n",
       "      <td>114003018</td>\n",
       "      <td>2018-08-23 12:00:00</td>\n",
       "      <td>Анимационный</td>\n",
       "      <td>ООО \"ЛИЦЕНЗИОННЫЕ БРЕНДЫ\"</td>\n",
       "      <td>Россия</td>\n",
       "      <td>М.Нефедова</td>\n",
       "      <td>ООО \"ЛИЦЕНЗИОННЫЕ БРЕНДЫ\"</td>\n",
       "      <td>«6+» - для детей старше 6 лет</td>\n",
       "      <td>40000000.0</td>\n",
       "      <td>40000000.0</td>\n",
       "      <td>1.302852e+08</td>\n",
       "      <td>Фонд кино</td>\n",
       "      <td>5.2</td>\n",
       "      <td>мультфильм,фэнтези,детский</td>\n",
       "      <td>8.336633e+07</td>\n",
       "      <td>2018</td>\n",
       "      <td>inf</td>\n",
       "    </tr>\n",
       "    <tr>\n",
       "      <th>6323</th>\n",
       "      <td>Баба Яга</td>\n",
       "      <td>114006518</td>\n",
       "      <td>2018-11-08 12:00:00</td>\n",
       "      <td>Анимационный</td>\n",
       "      <td>ООО \"Арт Пикчерс Студия\"</td>\n",
       "      <td>Россия</td>\n",
       "      <td>В.Саков</td>\n",
       "      <td>ООО \"Арт Пикчерс Студия\", ООО \"КРИЭЙТИВ АНИМЭЙ...</td>\n",
       "      <td>«6+» - для детей старше 6 лет</td>\n",
       "      <td>0.0</td>\n",
       "      <td>138969465.0</td>\n",
       "      <td>2.263208e+08</td>\n",
       "      <td>Фонд кино</td>\n",
       "      <td>NaN</td>\n",
       "      <td>NaN</td>\n",
       "      <td>1.334699e+06</td>\n",
       "      <td>2018</td>\n",
       "      <td>inf</td>\n",
       "    </tr>\n",
       "    <tr>\n",
       "      <th>6823</th>\n",
       "      <td>Большое путешествие</td>\n",
       "      <td>114002419</td>\n",
       "      <td>2019-04-20 12:00:00</td>\n",
       "      <td>Анимационный</td>\n",
       "      <td>ООО \"ЛИЦЕНЗИОННЫЕ БРЕНДЫ\"</td>\n",
       "      <td>Россия</td>\n",
       "      <td>Н.Лопато, В.Ровенский</td>\n",
       "      <td>ООО \"ЛИЦЕНЗИОННЫЕ БРЕНДЫ\"</td>\n",
       "      <td>«6+» - для детей старше 6 лет</td>\n",
       "      <td>60000000.0</td>\n",
       "      <td>120000000.0</td>\n",
       "      <td>2.931416e+08</td>\n",
       "      <td>Фонд кино</td>\n",
       "      <td>6.2</td>\n",
       "      <td>мультфильм,комедия,приключения</td>\n",
       "      <td>1.476068e+08</td>\n",
       "      <td>2019</td>\n",
       "      <td>inf</td>\n",
       "    </tr>\n",
       "  </tbody>\n",
       "</table>\n",
       "</div>"
      ],
      "text/plain": [
       "                       title   puNumber     show_start_date            type  \\\n",
       "2053                     14+  111023614 2014-12-19 12:00:00  Художественный   \n",
       "2058               Дуxless 2  111000415 2015-01-26 12:00:00  Художественный   \n",
       "2472             Воин (2015)  111017315 2015-09-28 12:00:00  Художественный   \n",
       "2532                 Бармен.  111009615 2015-05-26 12:00:00  Художественный   \n",
       "2615     Савва. Сердце воина  114001715 2015-07-21 12:00:00    Анимационный   \n",
       "2684          Тряпичный союз  111010215 2015-06-08 12:00:00  Художественный   \n",
       "2788      Срочно выйду замуж  111017115 2015-09-30 12:00:00  Художественный   \n",
       "2874       Помню - не помню!  111004916 2016-03-01 12:00:00  Художественный   \n",
       "3047  Любовь с ограничениями  111008216 2016-04-29 12:00:00  Художественный   \n",
       "3565       Притяжение (2016)  111018116 2016-12-16 12:00:00  Художественный   \n",
       "3675                Чудо-юдо  114001817 2017-06-27 12:00:00    Анимационный   \n",
       "3739                    Мифы  111004317 2017-06-07 12:00:00  Художественный   \n",
       "5673                   Селфи  111012117 2018-02-01 12:00:00  Художественный   \n",
       "5806              Два хвоста  114001018 2018-05-31 12:00:00    Анимационный   \n",
       "6008      Принцесса и дракон  114003018 2018-08-23 12:00:00    Анимационный   \n",
       "6323                Баба Яга  114006518 2018-11-08 12:00:00    Анимационный   \n",
       "6823     Большое путешествие  114002419 2019-04-20 12:00:00    Анимационный   \n",
       "\n",
       "                                            film_studio production_country  \\\n",
       "2053                         ООО Киностудия  \"Сентябрь\"             Россия   \n",
       "2058  ООО \"Киностудия \"Слово\", ООО \"Арт Пикчерс Студия\"             Россия   \n",
       "2472   ООО \"Форпост Продакшн\", ООО \"Арт Пикчерс Студия\"             Россия   \n",
       "2532          АО \"ВайТ Медиа\", ООО \"Арт Пикчерс Студия\"             Россия   \n",
       "2615   ООО \"Глюкоза Продакшн\", ООО \"Арт Пикчерс Студия\"             Россия   \n",
       "2684                      ООО \"Кинокомпания \"КОКТЕБЕЛЬ\"             Россия   \n",
       "2788          АО \"ВайТ Медиа\", ООО \"Арт Пикчерс Студия\"             Россия   \n",
       "2874                                    ООО \"КиноФирма\"             Россия   \n",
       "3047          АО \"ВайТ Медиа\", ООО \"Арт Пикчерс Студия\"             Россия   \n",
       "3565      ООО \"Водород 2011\",  ООО \"Арт Пикчерс Студия\"             Россия   \n",
       "3675                                    ООО \"КиноФирма\"             Россия   \n",
       "3739           ООО \"ХАЙПФИЛМ\", ООО \"Арт Пикчерс Студия\"             Россия   \n",
       "5673  ООО \"Киностудия \"Слово\", ООО \"Арт Пикчерс Студия\"             Россия   \n",
       "5806                          ООО \"ЛИЦЕНЗИОННЫЕ БРЕНДЫ\"             Россия   \n",
       "6008                          ООО \"ЛИЦЕНЗИОННЫЕ БРЕНДЫ\"             Россия   \n",
       "6323                           ООО \"Арт Пикчерс Студия\"             Россия   \n",
       "6823                          ООО \"ЛИЦЕНЗИОННЫЕ БРЕНДЫ\"             Россия   \n",
       "\n",
       "                            director  \\\n",
       "2053                        А.Зайцев   \n",
       "2058                      Р.Прыгунов   \n",
       "2472                     А.Андрианов   \n",
       "2532                    Д.Штурманова   \n",
       "2615                        М.Фадеев   \n",
       "2684                     М.Местецкий   \n",
       "2788                       С Чекалов   \n",
       "2874                     В.Ровенский   \n",
       "3047                         Д.Тюрин   \n",
       "3565                     Ф.Бондарчук   \n",
       "3675                       А.Лукичев   \n",
       "3739                    А.Молочников   \n",
       "5673                      Н.Хомерики   \n",
       "5806  В.Ровенский, Н.Лопато, В.Азеев   \n",
       "6008                      М.Нефедова   \n",
       "6323                         В.Саков   \n",
       "6823           Н.Лопато, В.Ровенский   \n",
       "\n",
       "                                               producer  \\\n",
       "2053                                О.Гранина, А.Зайцев   \n",
       "2058                 П.Ануров, Ф.Бондарчук, Д.Рудовский   \n",
       "2472                           ООО \"Арт Пикчерс Студия\"   \n",
       "2532                                        Т.Вайнштейн   \n",
       "2615                                         А.Чистяков   \n",
       "2684                              Р.Борисевич, А.Кушаев   \n",
       "2788              Ф.Бондарчук, Т.Вайнштейн, Д.Рудовский   \n",
       "2874                                    ООО \"КиноФирма\"   \n",
       "3047              Ф.Бондарчук, Т.Вайнштейн, Д.Рудовский   \n",
       "3565                           ООО \"Арт Пикчерс Студия\"   \n",
       "3675                                    ООО \"КиноФирма\"   \n",
       "3739  Ф.Бондарчук, Д.Рудовский, И.Стюарт, М.Османн, ...   \n",
       "5673                 П.Ануров, Ф.Бондарчук, Д.Рудовский   \n",
       "5806                          ООО \"ЛИЦЕНЗИОННЫЕ БРЕНДЫ\"   \n",
       "6008                          ООО \"ЛИЦЕНЗИОННЫЕ БРЕНДЫ\"   \n",
       "6323  ООО \"Арт Пикчерс Студия\", ООО \"КРИЭЙТИВ АНИМЭЙ...   \n",
       "6823                          ООО \"ЛИЦЕНЗИОННЫЕ БРЕНДЫ\"   \n",
       "\n",
       "                      age_restriction  refundable_support  \\\n",
       "2053  «16+» - для детей старше 16 лет                 0.0   \n",
       "2058  «16+» - для детей старше 16 лет                 0.0   \n",
       "2472  «12+» - для детей старше 12 лет          10000000.0   \n",
       "2532  «16+» - для детей старше 16 лет          20000000.0   \n",
       "2615    «6+» - для детей старше 6 лет          60000000.0   \n",
       "2684      «18+» - запрещено для детей                 0.0   \n",
       "2788  «16+» - для детей старше 16 лет                 0.0   \n",
       "2874  «12+» - для детей старше 12 лет                 0.0   \n",
       "3047  «16+» - для детей старше 16 лет          19000000.0   \n",
       "3565  «12+» - для детей старше 12 лет                 0.0   \n",
       "3675    «6+» - для детей старше 6 лет          20000000.0   \n",
       "3739  «16+» - для детей старше 16 лет          25000000.0   \n",
       "5673  «16+» - для детей старше 16 лет          20000000.0   \n",
       "5806    «6+» - для детей старше 6 лет          10000000.0   \n",
       "6008    «6+» - для детей старше 6 лет          40000000.0   \n",
       "6323    «6+» - для детей старше 6 лет                 0.0   \n",
       "6823    «6+» - для детей старше 6 лет          60000000.0   \n",
       "\n",
       "      nonrefundable_support        budget                  financing_source  \\\n",
       "2053             23000000.0  3.745699e+07  Министерство культуры, Фонд кино   \n",
       "2058             75000000.0  1.221424e+08                         Фонд кино   \n",
       "2472             70000000.0  1.302852e+08                         Фонд кино   \n",
       "2532                    0.0  3.257129e+07                         Фонд кино   \n",
       "2615            100000000.0  2.605704e+08                         Фонд кино   \n",
       "2684             59000000.0  9.608532e+07                         Фонд кино   \n",
       "2788             35000000.0  5.699976e+07                         Фонд кино   \n",
       "2874              6000000.0  9.771388e+06             Министерство культуры   \n",
       "3047             51000000.0  1.139995e+08                         Фонд кино   \n",
       "3565            250000000.0  4.071412e+08                         Фонд кино   \n",
       "3675             20000000.0  6.514259e+07                         Фонд кино   \n",
       "3739             20000000.0  7.328541e+07                         Фонд кино   \n",
       "5673             40000000.0  9.771388e+07                         Фонд кино   \n",
       "5806             60000000.0  1.139995e+08                         Фонд кино   \n",
       "6008             40000000.0  1.302852e+08                         Фонд кино   \n",
       "6323            138969465.0  2.263208e+08                         Фонд кино   \n",
       "6823            120000000.0  2.931416e+08                         Фонд кино   \n",
       "\n",
       "      ratings                          genres    box_office  year  support_per  \n",
       "2053      6.6                       мелодрама  1.023402e+07  2014          inf  \n",
       "2058      6.6                           драма  4.461635e+08  2015          inf  \n",
       "2472      7.8           боевик,драма,криминал  1.965724e+08  2015          inf  \n",
       "2532      6.2                 комедия,фэнтези  6.741897e+07  2015          inf  \n",
       "2615      4.6  мультфильм,приключения,фэнтези  1.844876e+08  2015          inf  \n",
       "2684      6.3                   комедия,драма  1.957739e+06  2015          inf  \n",
       "2788      5.1               комедия,мелодрама  7.293778e+07  2015          inf  \n",
       "2874      4.3                         комедия  1.536293e+07  2016          inf  \n",
       "3047      6.3               комедия,мелодрама  7.029905e+07  2016          inf  \n",
       "3565      5.6                      фантастика  1.038321e+09  2016          inf  \n",
       "3675      5.2     мультфильм,фэнтези,семейный  5.510801e+07  2017          inf  \n",
       "3739      4.8                         комедия  5.045195e+07  2017          inf  \n",
       "5673      5.8                   триллер,драма  2.251964e+08  2018          inf  \n",
       "5806      5.0              мультфильм,детский  1.065143e+08  2018          inf  \n",
       "6008      5.2      мультфильм,фэнтези,детский  8.336633e+07  2018          inf  \n",
       "6323      NaN                             NaN  1.334699e+06  2018          inf  \n",
       "6823      6.2  мультфильм,комедия,приключения  1.476068e+08  2019          inf  "
      ]
     },
     "execution_count": 26,
     "metadata": {},
     "output_type": "execute_result"
    }
   ],
   "source": [
    "data.loc[budget_check.index, 'budget']= (data.loc[budget_check.index, 'refundable_support'] + data.loc[budget_check.index, 'nonrefundable_support']) / data['support_per'].median()\n",
    "data.loc[budget_check.index]"
   ]
  },
  {
   "cell_type": "markdown",
   "metadata": {
    "id": "Eu6oWp2CgFyS"
   },
   "source": [
    "#### Добавление доп столбцов\n",
    "\n",
    "\n",
    "\n"
   ]
  },
  {
   "cell_type": "code",
   "execution_count": 27,
   "metadata": {
    "id": "LSbRZKbMgFyU"
   },
   "outputs": [],
   "source": [
    "data['main_director'] = data['director'].str.replace(',.*', '', regex=True)"
   ]
  },
  {
   "cell_type": "code",
   "execution_count": 28,
   "metadata": {},
   "outputs": [],
   "source": [
    "data['main_genre'] = data['genres'].str.replace(',.*', '', regex=True)"
   ]
  },
  {
   "cell_type": "markdown",
   "metadata": {
    "id": "6t4EukPLgFyV"
   },
   "source": [
    "### Исследовательский анализ данных\n"
   ]
  },
  {
   "cell_type": "code",
   "execution_count": 29,
   "metadata": {
    "id": "ABeV47y7gFyW"
   },
   "outputs": [
    {
     "name": "stdout",
     "output_type": "stream",
     "text": [
      "Доля фильмов с указанной информацией о прокате: 42 %\n"
     ]
    }
   ],
   "source": [
    "known_date=data['box_office'][data['box_office'].notna()]\n",
    "print('Доля фильмов с указанной информацией о прокате:',round((known_date.count()/data['year'].count())*100),'%')\n"
   ]
  },
  {
   "cell_type": "markdown",
   "metadata": {},
   "source": [
    "В дальнейшем анализе будем использовать лишь эту часть датасета."
   ]
  },
  {
   "cell_type": "code",
   "execution_count": 30,
   "metadata": {},
   "outputs": [],
   "source": [
    "pivot_data=data[data['box_office'].notna()]\n",
    "pivot_t=pivot_data.pivot_table(index='year', values=['box_office'],aggfunc=['count', 'sum', 'mean', 'median'])\n",
    "pivot_t.columns = ['count', 'sum', 'mean', 'median']"
   ]
  },
  {
   "cell_type": "code",
   "execution_count": 31,
   "metadata": {
    "id": "tfEhofYvgFyX",
    "scrolled": false
   },
   "outputs": [
    {
     "data": {
      "text/plain": [
       "<AxesSubplot:title={'center':'Кол-во выпущенных фильмов по годам'}, xlabel='Год', ylabel='Кол-во фильмов'>"
      ]
     },
     "execution_count": 31,
     "metadata": {},
     "output_type": "execute_result"
    },
    {
     "data": {
      "image/png": "[encoded data removed]",
      "text/plain": [
       "<Figure size 1008x360 with 1 Axes>"
      ]
     },
     "metadata": {
      "needs_background": "light"
     },
     "output_type": "display_data"
    }
   ],
   "source": [
    "pivot_t.plot(y='count',kind='bar',xlabel =\"Год\", figsize=(14, 5), color=['plum'],\n",
    "                   ylabel = \"Кол-во фильмов\", title ='Кол-во выпущенных фильмов по годам',legend=None)"
   ]
  },
  {
   "cell_type": "markdown",
   "metadata": {},
   "source": [
    "Максимальное количество фильмов было в прокате 2019 году, минимальное - в 2010."
   ]
  },
  {
   "cell_type": "code",
   "execution_count": 32,
   "metadata": {},
   "outputs": [
    {
     "data": {
      "text/plain": [
       "<AxesSubplot:title={'center':'Суммы сборов кинопроката по годам'}, ylabel='Год'>"
      ]
     },
     "execution_count": 32,
     "metadata": {},
     "output_type": "execute_result"
    },
    {
     "data": {
      "image/png": "[encoded data removed]",
      "text/plain": [
       "<Figure size 1080x576 with 1 Axes>"
      ]
     },
     "metadata": {
      "needs_background": "light"
     },
     "output_type": "display_data"
    }
   ],
   "source": [
    "pivot_t.plot(y='sum',kind='barh', figsize=(15, 8), xlabel =\"Год\", color='pink',\n",
    "             ylabel = \"Сумма сборов\", title ='Суммы сборов кинопроката по годам',legend=None)"
   ]
  },
  {
   "cell_type": "markdown",
   "metadata": {},
   "source": [
    "Максимальная сумма сборов была в 2018 году, минимальная - в 2010."
   ]
  },
  {
   "cell_type": "code",
   "execution_count": 33,
   "metadata": {
    "id": "jmp-rgg9gFyY"
   },
   "outputs": [
    {
     "data": {
      "text/html": [
       "<div>\n",
       "<style scoped>\n",
       "    .dataframe tbody tr th:only-of-type {\n",
       "        vertical-align: middle;\n",
       "    }\n",
       "\n",
       "    .dataframe tbody tr th {\n",
       "        vertical-align: top;\n",
       "    }\n",
       "\n",
       "    .dataframe thead th {\n",
       "        text-align: right;\n",
       "    }\n",
       "</style>\n",
       "<table border=\"1\" class=\"dataframe\">\n",
       "  <thead>\n",
       "    <tr style=\"text-align: right;\">\n",
       "      <th></th>\n",
       "      <th>count</th>\n",
       "      <th>sum</th>\n",
       "      <th>mean</th>\n",
       "      <th>median</th>\n",
       "    </tr>\n",
       "    <tr>\n",
       "      <th>year</th>\n",
       "      <th></th>\n",
       "      <th></th>\n",
       "      <th></th>\n",
       "      <th></th>\n",
       "    </tr>\n",
       "  </thead>\n",
       "  <tbody>\n",
       "    <tr>\n",
       "      <th>2010</th>\n",
       "      <td>105</td>\n",
       "      <td>2.428654e+06</td>\n",
       "      <td>2.313004e+04</td>\n",
       "      <td>1700.000</td>\n",
       "    </tr>\n",
       "    <tr>\n",
       "      <th>2011</th>\n",
       "      <td>109</td>\n",
       "      <td>1.410276e+07</td>\n",
       "      <td>1.293832e+05</td>\n",
       "      <td>3000.000</td>\n",
       "    </tr>\n",
       "    <tr>\n",
       "      <th>2012</th>\n",
       "      <td>128</td>\n",
       "      <td>6.955423e+06</td>\n",
       "      <td>5.433924e+04</td>\n",
       "      <td>5660.000</td>\n",
       "    </tr>\n",
       "    <tr>\n",
       "      <th>2013</th>\n",
       "      <td>184</td>\n",
       "      <td>2.979971e+07</td>\n",
       "      <td>1.619549e+05</td>\n",
       "      <td>3522.500</td>\n",
       "    </tr>\n",
       "    <tr>\n",
       "      <th>2014</th>\n",
       "      <td>279</td>\n",
       "      <td>7.444952e+09</td>\n",
       "      <td>2.668442e+07</td>\n",
       "      <td>18160.000</td>\n",
       "    </tr>\n",
       "    <tr>\n",
       "      <th>2015</th>\n",
       "      <td>465</td>\n",
       "      <td>3.949737e+10</td>\n",
       "      <td>8.494057e+07</td>\n",
       "      <td>4920933.000</td>\n",
       "    </tr>\n",
       "    <tr>\n",
       "      <th>2016</th>\n",
       "      <td>526</td>\n",
       "      <td>4.786630e+10</td>\n",
       "      <td>9.100057e+07</td>\n",
       "      <td>3846679.410</td>\n",
       "    </tr>\n",
       "    <tr>\n",
       "      <th>2017</th>\n",
       "      <td>357</td>\n",
       "      <td>4.856371e+10</td>\n",
       "      <td>1.360328e+08</td>\n",
       "      <td>9968340.000</td>\n",
       "    </tr>\n",
       "    <tr>\n",
       "      <th>2018</th>\n",
       "      <td>475</td>\n",
       "      <td>4.966840e+10</td>\n",
       "      <td>1.045651e+08</td>\n",
       "      <td>8891102.210</td>\n",
       "    </tr>\n",
       "    <tr>\n",
       "      <th>2019</th>\n",
       "      <td>530</td>\n",
       "      <td>4.842571e+10</td>\n",
       "      <td>9.136926e+07</td>\n",
       "      <td>4627798.345</td>\n",
       "    </tr>\n",
       "  </tbody>\n",
       "</table>\n",
       "</div>"
      ],
      "text/plain": [
       "      count           sum          mean       median\n",
       "year                                                \n",
       "2010    105  2.428654e+06  2.313004e+04     1700.000\n",
       "2011    109  1.410276e+07  1.293832e+05     3000.000\n",
       "2012    128  6.955423e+06  5.433924e+04     5660.000\n",
       "2013    184  2.979971e+07  1.619549e+05     3522.500\n",
       "2014    279  7.444952e+09  2.668442e+07    18160.000\n",
       "2015    465  3.949737e+10  8.494057e+07  4920933.000\n",
       "2016    526  4.786630e+10  9.100057e+07  3846679.410\n",
       "2017    357  4.856371e+10  1.360328e+08  9968340.000\n",
       "2018    475  4.966840e+10  1.045651e+08  8891102.210\n",
       "2019    530  4.842571e+10  9.136926e+07  4627798.345"
      ]
     },
     "execution_count": 33,
     "metadata": {},
     "output_type": "execute_result"
    }
   ],
   "source": [
    "pivot_t"
   ]
  },
  {
   "cell_type": "code",
   "execution_count": 34,
   "metadata": {
    "id": "jsSbEqfjgFya"
   },
   "outputs": [
    {
     "data": {
      "text/html": [
       "<div>\n",
       "<style scoped>\n",
       "    .dataframe tbody tr th:only-of-type {\n",
       "        vertical-align: middle;\n",
       "    }\n",
       "\n",
       "    .dataframe tbody tr th {\n",
       "        vertical-align: top;\n",
       "    }\n",
       "\n",
       "    .dataframe thead th {\n",
       "        text-align: right;\n",
       "    }\n",
       "</style>\n",
       "<table border=\"1\" class=\"dataframe\">\n",
       "  <thead>\n",
       "    <tr style=\"text-align: right;\">\n",
       "      <th>age_restriction</th>\n",
       "      <th>«0+» - для любой зрительской аудитории</th>\n",
       "      <th>«12+» - для детей старше 12 лет</th>\n",
       "      <th>«16+» - для детей старше 16 лет</th>\n",
       "      <th>«18+» - запрещено для детей</th>\n",
       "      <th>«6+» - для детей старше 6 лет</th>\n",
       "    </tr>\n",
       "    <tr>\n",
       "      <th>year</th>\n",
       "      <th></th>\n",
       "      <th></th>\n",
       "      <th></th>\n",
       "      <th></th>\n",
       "      <th></th>\n",
       "    </tr>\n",
       "  </thead>\n",
       "  <tbody>\n",
       "    <tr>\n",
       "      <th>2010</th>\n",
       "      <td>1.887611e+06</td>\n",
       "      <td>1.201460e+05</td>\n",
       "      <td>3.665120e+05</td>\n",
       "      <td>5.438500e+04</td>\n",
       "      <td>NaN</td>\n",
       "    </tr>\n",
       "    <tr>\n",
       "      <th>2011</th>\n",
       "      <td>1.349987e+07</td>\n",
       "      <td>2.198910e+05</td>\n",
       "      <td>3.815130e+05</td>\n",
       "      <td>1.040000e+03</td>\n",
       "      <td>4.500000e+02</td>\n",
       "    </tr>\n",
       "    <tr>\n",
       "      <th>2012</th>\n",
       "      <td>2.266483e+06</td>\n",
       "      <td>1.087340e+05</td>\n",
       "      <td>3.254216e+06</td>\n",
       "      <td>1.825800e+05</td>\n",
       "      <td>1.143410e+06</td>\n",
       "    </tr>\n",
       "    <tr>\n",
       "      <th>2013</th>\n",
       "      <td>2.710302e+06</td>\n",
       "      <td>2.091034e+07</td>\n",
       "      <td>6.580696e+05</td>\n",
       "      <td>5.161246e+06</td>\n",
       "      <td>3.597520e+05</td>\n",
       "    </tr>\n",
       "    <tr>\n",
       "      <th>2014</th>\n",
       "      <td>3.755623e+08</td>\n",
       "      <td>2.584782e+09</td>\n",
       "      <td>5.442801e+08</td>\n",
       "      <td>2.209713e+09</td>\n",
       "      <td>1.730614e+09</td>\n",
       "    </tr>\n",
       "    <tr>\n",
       "      <th>2015</th>\n",
       "      <td>3.790546e+08</td>\n",
       "      <td>1.361608e+10</td>\n",
       "      <td>1.136812e+10</td>\n",
       "      <td>5.432308e+09</td>\n",
       "      <td>8.701799e+09</td>\n",
       "    </tr>\n",
       "    <tr>\n",
       "      <th>2016</th>\n",
       "      <td>1.502288e+08</td>\n",
       "      <td>1.220445e+10</td>\n",
       "      <td>1.666455e+10</td>\n",
       "      <td>6.793930e+09</td>\n",
       "      <td>1.205315e+10</td>\n",
       "    </tr>\n",
       "    <tr>\n",
       "      <th>2017</th>\n",
       "      <td>2.295989e+08</td>\n",
       "      <td>7.851428e+09</td>\n",
       "      <td>1.874504e+10</td>\n",
       "      <td>9.651496e+09</td>\n",
       "      <td>1.208614e+10</td>\n",
       "    </tr>\n",
       "    <tr>\n",
       "      <th>2018</th>\n",
       "      <td>3.244900e+07</td>\n",
       "      <td>1.426729e+10</td>\n",
       "      <td>1.650360e+10</td>\n",
       "      <td>8.760086e+09</td>\n",
       "      <td>1.010497e+10</td>\n",
       "    </tr>\n",
       "    <tr>\n",
       "      <th>2019</th>\n",
       "      <td>1.774607e+07</td>\n",
       "      <td>1.268020e+10</td>\n",
       "      <td>1.275342e+10</td>\n",
       "      <td>1.012180e+10</td>\n",
       "      <td>1.285255e+10</td>\n",
       "    </tr>\n",
       "  </tbody>\n",
       "</table>\n",
       "</div>"
      ],
      "text/plain": [
       "age_restriction  «0+» - для любой зрительской аудитории  \\\n",
       "year                                                      \n",
       "2010                                       1.887611e+06   \n",
       "2011                                       1.349987e+07   \n",
       "2012                                       2.266483e+06   \n",
       "2013                                       2.710302e+06   \n",
       "2014                                       3.755623e+08   \n",
       "2015                                       3.790546e+08   \n",
       "2016                                       1.502288e+08   \n",
       "2017                                       2.295989e+08   \n",
       "2018                                       3.244900e+07   \n",
       "2019                                       1.774607e+07   \n",
       "\n",
       "age_restriction  «12+» - для детей старше 12 лет  \\\n",
       "year                                               \n",
       "2010                                1.201460e+05   \n",
       "2011                                2.198910e+05   \n",
       "2012                                1.087340e+05   \n",
       "2013                                2.091034e+07   \n",
       "2014                                2.584782e+09   \n",
       "2015                                1.361608e+10   \n",
       "2016                                1.220445e+10   \n",
       "2017                                7.851428e+09   \n",
       "2018                                1.426729e+10   \n",
       "2019                                1.268020e+10   \n",
       "\n",
       "age_restriction  «16+» - для детей старше 16 лет  «18+» - запрещено для детей  \\\n",
       "year                                                                            \n",
       "2010                                3.665120e+05                 5.438500e+04   \n",
       "2011                                3.815130e+05                 1.040000e+03   \n",
       "2012                                3.254216e+06                 1.825800e+05   \n",
       "2013                                6.580696e+05                 5.161246e+06   \n",
       "2014                                5.442801e+08                 2.209713e+09   \n",
       "2015                                1.136812e+10                 5.432308e+09   \n",
       "2016                                1.666455e+10                 6.793930e+09   \n",
       "2017                                1.874504e+10                 9.651496e+09   \n",
       "2018                                1.650360e+10                 8.760086e+09   \n",
       "2019                                1.275342e+10                 1.012180e+10   \n",
       "\n",
       "age_restriction  «6+» - для детей старше 6 лет  \n",
       "year                                            \n",
       "2010                                       NaN  \n",
       "2011                              4.500000e+02  \n",
       "2012                              1.143410e+06  \n",
       "2013                              3.597520e+05  \n",
       "2014                              1.730614e+09  \n",
       "2015                              8.701799e+09  \n",
       "2016                              1.205315e+10  \n",
       "2017                              1.208614e+10  \n",
       "2018                              1.010497e+10  \n",
       "2019                              1.285255e+10  "
      ]
     },
     "execution_count": 34,
     "metadata": {},
     "output_type": "execute_result"
    },
    {
     "data": {
      "image/png": "[encoded data removed]",
      "text/plain": [
       "<Figure size 1080x576 with 1 Axes>"
      ]
     },
     "metadata": {
      "needs_background": "light"
     },
     "output_type": "display_data"
    }
   ],
   "source": [
    "age_table=pivot_data.pivot_table(index='year',columns='age_restriction', values='box_office',aggfunc='sum')\n",
    "age_table.plot(kind='line', xlim=[2015,2019], figsize=(15, 8), xlabel =\"Год\", color=['rosybrown',\n",
    "               'palevioletred','powderblue','slategrey','plum'],\n",
    "             ylabel = \"Сумма сборов\", title ='Суммы сборов кинопроката по годам и возрастным категориям')\n",
    "age_table\n"
   ]
  },
  {
   "cell_type": "markdown",
   "metadata": {},
   "source": [
    "Большую часть периода самые крупные суммы собирали фильмы с возрастной категорией 16+, меньше всего фильмы с категорией 0+. Сборы остальных возрастных категорий колебались от года к году, к концу периода, в 2019 фильмы в  категориях 16+, 12+ и 6+ собрали практически идентичный объем средств. Скорее всего такая динамика связана с тем, что у фильмов с более высоким возрастным рейтингом более платежеспособная аудитория, на фильмы категорий 6+ и 0+ ходят в основном семьи с детьми, заинтересованы в них больше дети, но принятие решения о покупке билета в конечном итоге лежит на родителях. Аудитория фильмов, начиная с 12+, более самостоятельная и независимая, им проще решиться пойти в кино. "
   ]
  },
  {
   "cell_type": "code",
   "execution_count": 35,
   "metadata": {},
   "outputs": [
    {
     "name": "stdout",
     "output_type": "stream",
     "text": [
      "Сборы по категориям в млрд\n"
     ]
    },
    {
     "data": {
      "text/plain": [
       "age_restriction\n",
       "«0+» - для любой зрительской аудитории     1.0\n",
       "«12+» - для детей старше 12 лет           63.0\n",
       "«16+» - для детей старше 16 лет           77.0\n",
       "«18+» - запрещено для детей               43.0\n",
       "«6+» - для детей старше 6 лет             58.0\n",
       "dtype: float64"
      ]
     },
     "execution_count": 35,
     "metadata": {},
     "output_type": "execute_result"
    }
   ],
   "source": [
    "print('Сборы по категориям в млрд')\n",
    "round(age_table.sum()/1000000000)"
   ]
  },
  {
   "cell_type": "markdown",
   "metadata": {
    "id": "l_Kg6Ku4gFya"
   },
   "source": [
    "### Исследование фильмов, которые получили государственную поддержку\n"
   ]
  },
  {
   "cell_type": "code",
   "execution_count": 36,
   "metadata": {
    "id": "W9QKpjUdgFyb"
   },
   "outputs": [
    {
     "data": {
      "text/html": [
       "<div>\n",
       "<style scoped>\n",
       "    .dataframe tbody tr th:only-of-type {\n",
       "        vertical-align: middle;\n",
       "    }\n",
       "\n",
       "    .dataframe tbody tr th {\n",
       "        vertical-align: top;\n",
       "    }\n",
       "\n",
       "    .dataframe thead tr th {\n",
       "        text-align: left;\n",
       "    }\n",
       "\n",
       "    .dataframe thead tr:last-of-type th {\n",
       "        text-align: right;\n",
       "    }\n",
       "</style>\n",
       "<table border=\"1\" class=\"dataframe\">\n",
       "  <thead>\n",
       "    <tr>\n",
       "      <th></th>\n",
       "      <th>count</th>\n",
       "      <th>sum</th>\n",
       "      <th>mean</th>\n",
       "    </tr>\n",
       "    <tr>\n",
       "      <th></th>\n",
       "      <th>support_budget</th>\n",
       "      <th>support_budget</th>\n",
       "      <th>support_budget</th>\n",
       "    </tr>\n",
       "    <tr>\n",
       "      <th>year</th>\n",
       "      <th></th>\n",
       "      <th></th>\n",
       "      <th></th>\n",
       "    </tr>\n",
       "  </thead>\n",
       "  <tbody>\n",
       "    <tr>\n",
       "      <th>2013</th>\n",
       "      <td>2</td>\n",
       "      <td>2.686959e+08</td>\n",
       "      <td>1.343479e+08</td>\n",
       "    </tr>\n",
       "    <tr>\n",
       "      <th>2014</th>\n",
       "      <td>16</td>\n",
       "      <td>1.002005e+09</td>\n",
       "      <td>6.262529e+07</td>\n",
       "    </tr>\n",
       "    <tr>\n",
       "      <th>2015</th>\n",
       "      <td>86</td>\n",
       "      <td>6.038177e+09</td>\n",
       "      <td>7.021136e+07</td>\n",
       "    </tr>\n",
       "    <tr>\n",
       "      <th>2016</th>\n",
       "      <td>61</td>\n",
       "      <td>6.763311e+09</td>\n",
       "      <td>1.108740e+08</td>\n",
       "    </tr>\n",
       "    <tr>\n",
       "      <th>2017</th>\n",
       "      <td>41</td>\n",
       "      <td>4.929250e+09</td>\n",
       "      <td>1.202256e+08</td>\n",
       "    </tr>\n",
       "    <tr>\n",
       "      <th>2018</th>\n",
       "      <td>56</td>\n",
       "      <td>5.569939e+09</td>\n",
       "      <td>9.946320e+07</td>\n",
       "    </tr>\n",
       "    <tr>\n",
       "      <th>2019</th>\n",
       "      <td>70</td>\n",
       "      <td>7.952000e+09</td>\n",
       "      <td>1.136000e+08</td>\n",
       "    </tr>\n",
       "  </tbody>\n",
       "</table>\n",
       "</div>"
      ],
      "text/plain": [
       "              count            sum           mean\n",
       "     support_budget support_budget support_budget\n",
       "year                                             \n",
       "2013              2   2.686959e+08   1.343479e+08\n",
       "2014             16   1.002005e+09   6.262529e+07\n",
       "2015             86   6.038177e+09   7.021136e+07\n",
       "2016             61   6.763311e+09   1.108740e+08\n",
       "2017             41   4.929250e+09   1.202256e+08\n",
       "2018             56   5.569939e+09   9.946320e+07\n",
       "2019             70   7.952000e+09   1.136000e+08"
      ]
     },
     "execution_count": 36,
     "metadata": {},
     "output_type": "execute_result"
    }
   ],
   "source": [
    "supported_films=data.loc[(data['nonrefundable_support'].notna()) | (data['refundable_support'].notna())].copy()\n",
    "supported_films['support_budget']=supported_films['nonrefundable_support'] + supported_films['nonrefundable_support']\n",
    "support_table_1=supported_films.pivot_table(index='year', values='support_budget',aggfunc=['count', 'sum', 'mean'])\n",
    "support_table_1"
   ]
  },
  {
   "cell_type": "code",
   "execution_count": 37,
   "metadata": {},
   "outputs": [
    {
     "data": {
      "text/html": [
       "<div>\n",
       "<style scoped>\n",
       "    .dataframe tbody tr th:only-of-type {\n",
       "        vertical-align: middle;\n",
       "    }\n",
       "\n",
       "    .dataframe tbody tr th {\n",
       "        vertical-align: top;\n",
       "    }\n",
       "\n",
       "    .dataframe thead tr th {\n",
       "        text-align: left;\n",
       "    }\n",
       "</style>\n",
       "<table border=\"1\" class=\"dataframe\">\n",
       "  <thead>\n",
       "    <tr>\n",
       "      <th></th>\n",
       "      <th>count</th>\n",
       "      <th>sum</th>\n",
       "      <th>mean</th>\n",
       "    </tr>\n",
       "    <tr>\n",
       "      <th></th>\n",
       "      <th>support_budget</th>\n",
       "      <th>support_budget</th>\n",
       "      <th>support_budget</th>\n",
       "    </tr>\n",
       "  </thead>\n",
       "  <tbody>\n",
       "    <tr>\n",
       "      <th>count</th>\n",
       "      <td>7.000000</td>\n",
       "      <td>7.000000e+00</td>\n",
       "      <td>7.000000e+00</td>\n",
       "    </tr>\n",
       "    <tr>\n",
       "      <th>mean</th>\n",
       "      <td>47.428571</td>\n",
       "      <td>4.646197e+09</td>\n",
       "      <td>1.016210e+08</td>\n",
       "    </tr>\n",
       "    <tr>\n",
       "      <th>std</th>\n",
       "      <td>29.854409</td>\n",
       "      <td>2.907582e+09</td>\n",
       "      <td>2.632548e+07</td>\n",
       "    </tr>\n",
       "    <tr>\n",
       "      <th>min</th>\n",
       "      <td>2.000000</td>\n",
       "      <td>2.686959e+08</td>\n",
       "      <td>6.262529e+07</td>\n",
       "    </tr>\n",
       "    <tr>\n",
       "      <th>25%</th>\n",
       "      <td>28.500000</td>\n",
       "      <td>2.965627e+09</td>\n",
       "      <td>8.483728e+07</td>\n",
       "    </tr>\n",
       "    <tr>\n",
       "      <th>50%</th>\n",
       "      <td>56.000000</td>\n",
       "      <td>5.569939e+09</td>\n",
       "      <td>1.108740e+08</td>\n",
       "    </tr>\n",
       "    <tr>\n",
       "      <th>75%</th>\n",
       "      <td>65.500000</td>\n",
       "      <td>6.400744e+09</td>\n",
       "      <td>1.169128e+08</td>\n",
       "    </tr>\n",
       "    <tr>\n",
       "      <th>max</th>\n",
       "      <td>86.000000</td>\n",
       "      <td>7.952000e+09</td>\n",
       "      <td>1.343479e+08</td>\n",
       "    </tr>\n",
       "  </tbody>\n",
       "</table>\n",
       "</div>"
      ],
      "text/plain": [
       "               count            sum           mean\n",
       "      support_budget support_budget support_budget\n",
       "count       7.000000   7.000000e+00   7.000000e+00\n",
       "mean       47.428571   4.646197e+09   1.016210e+08\n",
       "std        29.854409   2.907582e+09   2.632548e+07\n",
       "min         2.000000   2.686959e+08   6.262529e+07\n",
       "25%        28.500000   2.965627e+09   8.483728e+07\n",
       "50%        56.000000   5.569939e+09   1.108740e+08\n",
       "75%        65.500000   6.400744e+09   1.169128e+08\n",
       "max        86.000000   7.952000e+09   1.343479e+08"
      ]
     },
     "execution_count": 37,
     "metadata": {},
     "output_type": "execute_result"
    }
   ],
   "source": [
    "support_table_1.describe()"
   ]
  },
  {
   "cell_type": "code",
   "execution_count": 38,
   "metadata": {},
   "outputs": [
    {
     "data": {
      "text/plain": [
       "<AxesSubplot:title={'center':'Кол-во фильмов с гос. поддержкой по годам'}, xlabel='Год', ylabel='Кол-во фильмов'>"
      ]
     },
     "execution_count": 38,
     "metadata": {},
     "output_type": "execute_result"
    },
    {
     "data": {
      "image/png": "[encoded data removed]",
      "text/plain": [
       "<Figure size 864x504 with 1 Axes>"
      ]
     },
     "metadata": {
      "needs_background": "light"
     },
     "output_type": "display_data"
    }
   ],
   "source": [
    "support_table_1.plot(kind='bar', y='count', figsize=(12, 7), color='pink', xlabel =\"Год\", \n",
    "             ylabel = \"Кол-во фильмов\", title ='Кол-во фильмов с гос. поддержкой по годам',legend=None)"
   ]
  },
  {
   "cell_type": "code",
   "execution_count": 39,
   "metadata": {},
   "outputs": [
    {
     "data": {
      "text/plain": [
       "<AxesSubplot:title={'center':'Суммы гос. поддержки кинопроката по годам'}, xlabel='Год', ylabel='Сумма гос. поддержки'>"
      ]
     },
     "execution_count": 39,
     "metadata": {},
     "output_type": "execute_result"
    },
    {
     "data": {
      "image/png": "[encoded data removed]",
      "text/plain": [
       "<Figure size 864x504 with 1 Axes>"
      ]
     },
     "metadata": {
      "needs_background": "light"
     },
     "output_type": "display_data"
    }
   ],
   "source": [
    "support_table_1.plot(kind='bar', y='sum', figsize=(12, 7), color='orchid', xlabel =\"Год\", \n",
    "             ylabel = \"Сумма гос. поддержки\", title ='Суммы гос. поддержки кинопроката по годам',legend=None)"
   ]
  },
  {
   "cell_type": "code",
   "execution_count": 40,
   "metadata": {},
   "outputs": [
    {
     "data": {
      "text/plain": [
       "<AxesSubplot:title={'center':'Средняя гос. поддержка кинопроката по годам'}, xlabel='Год', ylabel='Средняя сумма гос. поддержки'>"
      ]
     },
     "execution_count": 40,
     "metadata": {},
     "output_type": "execute_result"
    },
    {
     "data": {
      "image/png": "[encoded data removed]",
      "text/plain": [
       "<Figure size 1080x504 with 1 Axes>"
      ]
     },
     "metadata": {
      "needs_background": "light"
     },
     "output_type": "display_data"
    }
   ],
   "source": [
    "support_table_1.plot(kind='line', y='mean', figsize=(15, 7),color='purple', xlabel =\"Год\", \n",
    "             ylabel = \"Средняя сумма гос. поддержки\", title ='Средняя гос. поддержка кинопроката по годам',legend=None)"
   ]
  },
  {
   "cell_type": "markdown",
   "metadata": {},
   "source": [
    "Максимальное число фильмов с гос. поддержкой было выпущено в прокат в 2015 году. При этом в этом году средний размер поддержки из расчета на фильм был вторым с конца, меньшие суммы на фильм в среднем выделялись на фильмы, выпущенные в 2014 году.\n",
    "Суммарно больше всего денег было выделено на фильмы, вышедшие в прокат в 2019 году. В целом в последние 3 года рассматриваемого периода виднеется тренд на выделение больших сумм на поддержку кино  и в сумме средств в общем и в количестве фильмов."
   ]
  },
  {
   "cell_type": "code",
   "execution_count": 41,
   "metadata": {
    "scrolled": true
   },
   "outputs": [
    {
     "data": {
      "text/html": [
       "<div>\n",
       "<style scoped>\n",
       "    .dataframe tbody tr th:only-of-type {\n",
       "        vertical-align: middle;\n",
       "    }\n",
       "\n",
       "    .dataframe tbody tr th {\n",
       "        vertical-align: top;\n",
       "    }\n",
       "\n",
       "    .dataframe thead tr th {\n",
       "        text-align: left;\n",
       "    }\n",
       "\n",
       "    .dataframe thead tr:last-of-type th {\n",
       "        text-align: right;\n",
       "    }\n",
       "</style>\n",
       "<table border=\"1\" class=\"dataframe\">\n",
       "  <thead>\n",
       "    <tr>\n",
       "      <th></th>\n",
       "      <th>mean</th>\n",
       "    </tr>\n",
       "    <tr>\n",
       "      <th></th>\n",
       "      <th>ratings</th>\n",
       "    </tr>\n",
       "    <tr>\n",
       "      <th>year</th>\n",
       "      <th></th>\n",
       "    </tr>\n",
       "  </thead>\n",
       "  <tbody>\n",
       "    <tr>\n",
       "      <th>2013</th>\n",
       "      <td>6.700000</td>\n",
       "    </tr>\n",
       "    <tr>\n",
       "      <th>2014</th>\n",
       "      <td>6.006667</td>\n",
       "    </tr>\n",
       "    <tr>\n",
       "      <th>2015</th>\n",
       "      <td>6.139759</td>\n",
       "    </tr>\n",
       "    <tr>\n",
       "      <th>2016</th>\n",
       "      <td>5.677193</td>\n",
       "    </tr>\n",
       "    <tr>\n",
       "      <th>2017</th>\n",
       "      <td>6.000000</td>\n",
       "    </tr>\n",
       "    <tr>\n",
       "      <th>2018</th>\n",
       "      <td>6.001887</td>\n",
       "    </tr>\n",
       "    <tr>\n",
       "      <th>2019</th>\n",
       "      <td>6.176119</td>\n",
       "    </tr>\n",
       "  </tbody>\n",
       "</table>\n",
       "</div>"
      ],
      "text/plain": [
       "          mean\n",
       "       ratings\n",
       "year          \n",
       "2013  6.700000\n",
       "2014  6.006667\n",
       "2015  6.139759\n",
       "2016  5.677193\n",
       "2017  6.000000\n",
       "2018  6.001887\n",
       "2019  6.176119"
      ]
     },
     "execution_count": 41,
     "metadata": {},
     "output_type": "execute_result"
    }
   ],
   "source": [
    "support_table_2=supported_films.pivot_table(index='year', values='ratings',aggfunc=['mean'])\n",
    "support_table_2"
   ]
  },
  {
   "cell_type": "code",
   "execution_count": 42,
   "metadata": {},
   "outputs": [
    {
     "name": "stdout",
     "output_type": "stream",
     "text": [
      "Средний рейтинг фильма с гос. поддержкой: mean  ratings    6.100232\n",
      "dtype: float64\n"
     ]
    }
   ],
   "source": [
    "print('Средний рейтинг фильма с гос. поддержкой:',support_table_2.mean())"
   ]
  },
  {
   "cell_type": "markdown",
   "metadata": {},
   "source": [
    "Рейтинги фильмов с гос. поддержкой в рассматриваемом периоде значительно не менялся от года к году, сильнее всего он упал примерно на 0.7 между 2013 и 2014 годами, дальше изменения были менее масштабными и в среднем рейтинг держался около отметки в 6,1."
   ]
  },
  {
   "cell_type": "code",
   "execution_count": 43,
   "metadata": {},
   "outputs": [
    {
     "data": {
      "text/plain": [
       "<AxesSubplot:title={'center':'Суммы гос. поддержки кинопроката по жанрам'}, ylabel='Жанр'>"
      ]
     },
     "execution_count": 43,
     "metadata": {},
     "output_type": "execute_result"
    },
    {
     "data": {
      "image/png": "[encoded data removed]",
      "text/plain": [
       "<Figure size 720x504 with 1 Axes>"
      ]
     },
     "metadata": {
      "needs_background": "light"
     },
     "output_type": "display_data"
    }
   ],
   "source": [
    "support_table_3=supported_films.pivot_table(index='main_genre', values='support_budget',aggfunc=['sum','mean'])\n",
    "support_table_3.columns = ['sum','mean']\n",
    "support_table_3.plot(kind='barh', y='sum', figsize=(10, 7),color='orchid', \n",
    "             xlabel = \"Жанр\", title ='Суммы гос. поддержки кинопроката по жанрам',legend=None)\n"
   ]
  },
  {
   "cell_type": "code",
   "execution_count": 44,
   "metadata": {},
   "outputs": [
    {
     "data": {
      "text/plain": [
       "<AxesSubplot:title={'center':'Средний объем гос. поддержки по жанрам'}, ylabel='Жанр'>"
      ]
     },
     "execution_count": 44,
     "metadata": {},
     "output_type": "execute_result"
    },
    {
     "data": {
      "image/png": "[encoded data removed]",
      "text/plain": [
       "<Figure size 720x504 with 1 Axes>"
      ]
     },
     "metadata": {
      "needs_background": "light"
     },
     "output_type": "display_data"
    }
   ],
   "source": [
    "support_table_3.plot(kind='barh', y='mean', figsize=(10, 7),color='indigo',  \n",
    "             xlabel = \"Жанр\", title ='Средний объем гос. поддержки по жанрам',legend=None)"
   ]
  },
  {
   "cell_type": "code",
   "execution_count": 45,
   "metadata": {
    "scrolled": false
   },
   "outputs": [
    {
     "data": {
      "text/html": [
       "<div>\n",
       "<style scoped>\n",
       "    .dataframe tbody tr th:only-of-type {\n",
       "        vertical-align: middle;\n",
       "    }\n",
       "\n",
       "    .dataframe tbody tr th {\n",
       "        vertical-align: top;\n",
       "    }\n",
       "\n",
       "    .dataframe thead th {\n",
       "        text-align: right;\n",
       "    }\n",
       "</style>\n",
       "<table border=\"1\" class=\"dataframe\">\n",
       "  <thead>\n",
       "    <tr style=\"text-align: right;\">\n",
       "      <th>main_genre</th>\n",
       "      <th>биография</th>\n",
       "      <th>боевик</th>\n",
       "      <th>военный</th>\n",
       "      <th>детектив</th>\n",
       "      <th>детский</th>\n",
       "      <th>драма</th>\n",
       "      <th>история</th>\n",
       "      <th>комедия</th>\n",
       "      <th>криминал</th>\n",
       "      <th>мелодрама</th>\n",
       "      <th>мультфильм</th>\n",
       "      <th>мюзикл</th>\n",
       "      <th>приключения</th>\n",
       "      <th>реальное ТВ</th>\n",
       "      <th>семейный</th>\n",
       "      <th>спорт</th>\n",
       "      <th>триллер</th>\n",
       "      <th>ужасы</th>\n",
       "      <th>фантастика</th>\n",
       "      <th>фэнтези</th>\n",
       "    </tr>\n",
       "    <tr>\n",
       "      <th>year</th>\n",
       "      <th></th>\n",
       "      <th></th>\n",
       "      <th></th>\n",
       "      <th></th>\n",
       "      <th></th>\n",
       "      <th></th>\n",
       "      <th></th>\n",
       "      <th></th>\n",
       "      <th></th>\n",
       "      <th></th>\n",
       "      <th></th>\n",
       "      <th></th>\n",
       "      <th></th>\n",
       "      <th></th>\n",
       "      <th></th>\n",
       "      <th></th>\n",
       "      <th></th>\n",
       "      <th></th>\n",
       "      <th></th>\n",
       "      <th></th>\n",
       "    </tr>\n",
       "  </thead>\n",
       "  <tbody>\n",
       "    <tr>\n",
       "      <th>2013</th>\n",
       "      <td>NaN</td>\n",
       "      <td>NaN</td>\n",
       "      <td>NaN</td>\n",
       "      <td>NaN</td>\n",
       "      <td>NaN</td>\n",
       "      <td>3.653536e+05</td>\n",
       "      <td>NaN</td>\n",
       "      <td>1.995703e+07</td>\n",
       "      <td>NaN</td>\n",
       "      <td>NaN</td>\n",
       "      <td>NaN</td>\n",
       "      <td>NaN</td>\n",
       "      <td>NaN</td>\n",
       "      <td>NaN</td>\n",
       "      <td>NaN</td>\n",
       "      <td>NaN</td>\n",
       "      <td>NaN</td>\n",
       "      <td>NaN</td>\n",
       "      <td>NaN</td>\n",
       "      <td>NaN</td>\n",
       "    </tr>\n",
       "    <tr>\n",
       "      <th>2014</th>\n",
       "      <td>NaN</td>\n",
       "      <td>NaN</td>\n",
       "      <td>NaN</td>\n",
       "      <td>NaN</td>\n",
       "      <td>NaN</td>\n",
       "      <td>9.648820e+07</td>\n",
       "      <td>NaN</td>\n",
       "      <td>3.996224e+08</td>\n",
       "      <td>NaN</td>\n",
       "      <td>10788267.10</td>\n",
       "      <td>3.134898e+08</td>\n",
       "      <td>NaN</td>\n",
       "      <td>NaN</td>\n",
       "      <td>NaN</td>\n",
       "      <td>1.534704e+08</td>\n",
       "      <td>NaN</td>\n",
       "      <td>NaN</td>\n",
       "      <td>NaN</td>\n",
       "      <td>4.353485e+07</td>\n",
       "      <td>NaN</td>\n",
       "    </tr>\n",
       "    <tr>\n",
       "      <th>2015</th>\n",
       "      <td>4.018045e+08</td>\n",
       "      <td>2.295780e+08</td>\n",
       "      <td>3.530010e+07</td>\n",
       "      <td>72618367.4</td>\n",
       "      <td>1038520.0</td>\n",
       "      <td>1.215550e+09</td>\n",
       "      <td>NaN</td>\n",
       "      <td>1.498941e+09</td>\n",
       "      <td>NaN</td>\n",
       "      <td>11273400.20</td>\n",
       "      <td>1.327676e+09</td>\n",
       "      <td>20274378.16</td>\n",
       "      <td>NaN</td>\n",
       "      <td>NaN</td>\n",
       "      <td>NaN</td>\n",
       "      <td>1.686889e+08</td>\n",
       "      <td>3.700961e+08</td>\n",
       "      <td>3.106680e+08</td>\n",
       "      <td>3.347500e+05</td>\n",
       "      <td>1.102294e+08</td>\n",
       "    </tr>\n",
       "    <tr>\n",
       "      <th>2016</th>\n",
       "      <td>NaN</td>\n",
       "      <td>NaN</td>\n",
       "      <td>4.153278e+08</td>\n",
       "      <td>NaN</td>\n",
       "      <td>1975132.0</td>\n",
       "      <td>2.382826e+09</td>\n",
       "      <td>NaN</td>\n",
       "      <td>9.574890e+08</td>\n",
       "      <td>228578204.0</td>\n",
       "      <td>22947520.00</td>\n",
       "      <td>2.292630e+08</td>\n",
       "      <td>81430626.82</td>\n",
       "      <td>4.351320e+05</td>\n",
       "      <td>NaN</td>\n",
       "      <td>3.106459e+08</td>\n",
       "      <td>1.939338e+07</td>\n",
       "      <td>7.393417e+07</td>\n",
       "      <td>2.131833e+08</td>\n",
       "      <td>1.048125e+09</td>\n",
       "      <td>8.397881e+07</td>\n",
       "    </tr>\n",
       "    <tr>\n",
       "      <th>2017</th>\n",
       "      <td>NaN</td>\n",
       "      <td>NaN</td>\n",
       "      <td>8.667192e+06</td>\n",
       "      <td>NaN</td>\n",
       "      <td>0.0</td>\n",
       "      <td>1.138982e+09</td>\n",
       "      <td>5.904051e+08</td>\n",
       "      <td>3.391506e+09</td>\n",
       "      <td>11215659.0</td>\n",
       "      <td>270497.00</td>\n",
       "      <td>1.485720e+09</td>\n",
       "      <td>NaN</td>\n",
       "      <td>6.710457e+08</td>\n",
       "      <td>NaN</td>\n",
       "      <td>NaN</td>\n",
       "      <td>2.779686e+09</td>\n",
       "      <td>7.189790e+06</td>\n",
       "      <td>NaN</td>\n",
       "      <td>2.620403e+08</td>\n",
       "      <td>5.117755e+08</td>\n",
       "    </tr>\n",
       "    <tr>\n",
       "      <th>2018</th>\n",
       "      <td>9.884130e+05</td>\n",
       "      <td>5.716499e+07</td>\n",
       "      <td>5.583754e+08</td>\n",
       "      <td>8425367.6</td>\n",
       "      <td>NaN</td>\n",
       "      <td>3.840756e+09</td>\n",
       "      <td>NaN</td>\n",
       "      <td>2.199490e+09</td>\n",
       "      <td>NaN</td>\n",
       "      <td>7062395.93</td>\n",
       "      <td>1.052855e+09</td>\n",
       "      <td>NaN</td>\n",
       "      <td>9.575509e+07</td>\n",
       "      <td>NaN</td>\n",
       "      <td>NaN</td>\n",
       "      <td>NaN</td>\n",
       "      <td>2.257233e+08</td>\n",
       "      <td>4.645115e+07</td>\n",
       "      <td>2.918658e+08</td>\n",
       "      <td>1.008747e+08</td>\n",
       "    </tr>\n",
       "    <tr>\n",
       "      <th>2019</th>\n",
       "      <td>1.140902e+08</td>\n",
       "      <td>3.091860e+08</td>\n",
       "      <td>NaN</td>\n",
       "      <td>57503776.4</td>\n",
       "      <td>NaN</td>\n",
       "      <td>8.158756e+08</td>\n",
       "      <td>8.650632e+08</td>\n",
       "      <td>4.012972e+09</td>\n",
       "      <td>NaN</td>\n",
       "      <td>2446886.00</td>\n",
       "      <td>1.213011e+09</td>\n",
       "      <td>NaN</td>\n",
       "      <td>4.383610e+08</td>\n",
       "      <td>32721103.43</td>\n",
       "      <td>1.203084e+08</td>\n",
       "      <td>NaN</td>\n",
       "      <td>2.350688e+07</td>\n",
       "      <td>1.398208e+08</td>\n",
       "      <td>7.230379e+07</td>\n",
       "      <td>1.889782e+08</td>\n",
       "    </tr>\n",
       "  </tbody>\n",
       "</table>\n",
       "</div>"
      ],
      "text/plain": [
       "main_genre     биография        боевик       военный    детектив    детский  \\\n",
       "year                                                                          \n",
       "2013                 NaN           NaN           NaN         NaN        NaN   \n",
       "2014                 NaN           NaN           NaN         NaN        NaN   \n",
       "2015        4.018045e+08  2.295780e+08  3.530010e+07  72618367.4  1038520.0   \n",
       "2016                 NaN           NaN  4.153278e+08         NaN  1975132.0   \n",
       "2017                 NaN           NaN  8.667192e+06         NaN        0.0   \n",
       "2018        9.884130e+05  5.716499e+07  5.583754e+08   8425367.6        NaN   \n",
       "2019        1.140902e+08  3.091860e+08           NaN  57503776.4        NaN   \n",
       "\n",
       "main_genre         драма       история       комедия     криминал  \\\n",
       "year                                                                \n",
       "2013        3.653536e+05           NaN  1.995703e+07          NaN   \n",
       "2014        9.648820e+07           NaN  3.996224e+08          NaN   \n",
       "2015        1.215550e+09           NaN  1.498941e+09          NaN   \n",
       "2016        2.382826e+09           NaN  9.574890e+08  228578204.0   \n",
       "2017        1.138982e+09  5.904051e+08  3.391506e+09   11215659.0   \n",
       "2018        3.840756e+09           NaN  2.199490e+09          NaN   \n",
       "2019        8.158756e+08  8.650632e+08  4.012972e+09          NaN   \n",
       "\n",
       "main_genre    мелодрама    мультфильм       мюзикл   приключения  реальное ТВ  \\\n",
       "year                                                                            \n",
       "2013                NaN           NaN          NaN           NaN          NaN   \n",
       "2014        10788267.10  3.134898e+08          NaN           NaN          NaN   \n",
       "2015        11273400.20  1.327676e+09  20274378.16           NaN          NaN   \n",
       "2016        22947520.00  2.292630e+08  81430626.82  4.351320e+05          NaN   \n",
       "2017          270497.00  1.485720e+09          NaN  6.710457e+08          NaN   \n",
       "2018         7062395.93  1.052855e+09          NaN  9.575509e+07          NaN   \n",
       "2019         2446886.00  1.213011e+09          NaN  4.383610e+08  32721103.43   \n",
       "\n",
       "main_genre      семейный         спорт       триллер         ужасы  \\\n",
       "year                                                                 \n",
       "2013                 NaN           NaN           NaN           NaN   \n",
       "2014        1.534704e+08           NaN           NaN           NaN   \n",
       "2015                 NaN  1.686889e+08  3.700961e+08  3.106680e+08   \n",
       "2016        3.106459e+08  1.939338e+07  7.393417e+07  2.131833e+08   \n",
       "2017                 NaN  2.779686e+09  7.189790e+06           NaN   \n",
       "2018                 NaN           NaN  2.257233e+08  4.645115e+07   \n",
       "2019        1.203084e+08           NaN  2.350688e+07  1.398208e+08   \n",
       "\n",
       "main_genre    фантастика       фэнтези  \n",
       "year                                    \n",
       "2013                 NaN           NaN  \n",
       "2014        4.353485e+07           NaN  \n",
       "2015        3.347500e+05  1.102294e+08  \n",
       "2016        1.048125e+09  8.397881e+07  \n",
       "2017        2.620403e+08  5.117755e+08  \n",
       "2018        2.918658e+08  1.008747e+08  \n",
       "2019        7.230379e+07  1.889782e+08  "
      ]
     },
     "execution_count": 45,
     "metadata": {},
     "output_type": "execute_result"
    }
   ],
   "source": [
    "support_table_4=supported_films.pivot_table(index='year',columns='main_genre', values='box_office',aggfunc='sum')\n",
    "support_table_4"
   ]
  },
  {
   "cell_type": "markdown",
   "metadata": {},
   "source": [
    "Суммарно больше всего средств в этот период выделялось на драмы, комедии и мультфильмы, скорее всего самые популярные жанры кино. При этом средний объем поддержки выше всего у исторических фильмов, фильмов про спорт и фанстастических. Я полагаю, что это связанно с трудозатратностью и высокой стоимостью, например, на воссоздание исторических событий или спецэффекты.\n",
    "Также интересно, что не на каждый жанр госудаство ежегодно оказывало поддержку, ежегодно поддерживались драмы и комедии, реже всего реальное ТВ, мюзиклы, криминал, детское кино и высокозатратное историческое кино."
   ]
  },
  {
   "cell_type": "code",
   "execution_count": 46,
   "metadata": {},
   "outputs": [
    {
     "data": {
      "text/html": [
       "<div>\n",
       "<style scoped>\n",
       "    .dataframe tbody tr th:only-of-type {\n",
       "        vertical-align: middle;\n",
       "    }\n",
       "\n",
       "    .dataframe tbody tr th {\n",
       "        vertical-align: top;\n",
       "    }\n",
       "\n",
       "    .dataframe thead th {\n",
       "        text-align: right;\n",
       "    }\n",
       "</style>\n",
       "<table border=\"1\" class=\"dataframe\">\n",
       "  <thead>\n",
       "    <tr style=\"text-align: right;\">\n",
       "      <th></th>\n",
       "      <th>box_office</th>\n",
       "      <th>budget</th>\n",
       "      <th>payback</th>\n",
       "    </tr>\n",
       "    <tr>\n",
       "      <th>year</th>\n",
       "      <th></th>\n",
       "      <th></th>\n",
       "      <th></th>\n",
       "    </tr>\n",
       "  </thead>\n",
       "  <tbody>\n",
       "    <tr>\n",
       "      <th>2018</th>\n",
       "      <td>1.773941e+08</td>\n",
       "      <td>1.289288e+08</td>\n",
       "      <td>1.117890</td>\n",
       "    </tr>\n",
       "    <tr>\n",
       "      <th>2017</th>\n",
       "      <td>2.785917e+08</td>\n",
       "      <td>1.734293e+08</td>\n",
       "      <td>1.009244</td>\n",
       "    </tr>\n",
       "    <tr>\n",
       "      <th>2019</th>\n",
       "      <td>1.401605e+08</td>\n",
       "      <td>1.833715e+08</td>\n",
       "      <td>0.871802</td>\n",
       "    </tr>\n",
       "    <tr>\n",
       "      <th>2016</th>\n",
       "      <td>1.013618e+08</td>\n",
       "      <td>1.272107e+08</td>\n",
       "      <td>0.647648</td>\n",
       "    </tr>\n",
       "    <tr>\n",
       "      <th>2014</th>\n",
       "      <td>6.358889e+07</td>\n",
       "      <td>8.230886e+07</td>\n",
       "      <td>0.603401</td>\n",
       "    </tr>\n",
       "    <tr>\n",
       "      <th>2015</th>\n",
       "      <td>6.806218e+07</td>\n",
       "      <td>9.312004e+07</td>\n",
       "      <td>0.553284</td>\n",
       "    </tr>\n",
       "    <tr>\n",
       "      <th>2013</th>\n",
       "      <td>1.016119e+07</td>\n",
       "      <td>1.277177e+08</td>\n",
       "      <td>0.058989</td>\n",
       "    </tr>\n",
       "  </tbody>\n",
       "</table>\n",
       "</div>"
      ],
      "text/plain": [
       "        box_office        budget   payback\n",
       "year                                      \n",
       "2018  1.773941e+08  1.289288e+08  1.117890\n",
       "2017  2.785917e+08  1.734293e+08  1.009244\n",
       "2019  1.401605e+08  1.833715e+08  0.871802\n",
       "2016  1.013618e+08  1.272107e+08  0.647648\n",
       "2014  6.358889e+07  8.230886e+07  0.603401\n",
       "2015  6.806218e+07  9.312004e+07  0.553284\n",
       "2013  1.016119e+07  1.277177e+08  0.058989"
      ]
     },
     "execution_count": 46,
     "metadata": {},
     "output_type": "execute_result"
    }
   ],
   "source": [
    "supported_films['payback']=supported_films['box_office']/supported_films['budget']\n",
    "support_table_5=supported_films.pivot_table(index='year', values=['box_office','budget','payback'],aggfunc=['mean'])\n",
    "support_table_5.columns = ['box_office','budget','payback']\n",
    "support_table_5.sort_values(by=['payback'],ascending=False)"
   ]
  },
  {
   "cell_type": "code",
   "execution_count": 47,
   "metadata": {},
   "outputs": [
    {
     "data": {
      "text/html": [
       "<div>\n",
       "<style scoped>\n",
       "    .dataframe tbody tr th:only-of-type {\n",
       "        vertical-align: middle;\n",
       "    }\n",
       "\n",
       "    .dataframe tbody tr th {\n",
       "        vertical-align: top;\n",
       "    }\n",
       "\n",
       "    .dataframe thead th {\n",
       "        text-align: right;\n",
       "    }\n",
       "</style>\n",
       "<table border=\"1\" class=\"dataframe\">\n",
       "  <thead>\n",
       "    <tr style=\"text-align: right;\">\n",
       "      <th></th>\n",
       "      <th>box_office</th>\n",
       "      <th>budget</th>\n",
       "      <th>payback</th>\n",
       "    </tr>\n",
       "    <tr>\n",
       "      <th>main_genre</th>\n",
       "      <th></th>\n",
       "      <th></th>\n",
       "      <th></th>\n",
       "    </tr>\n",
       "  </thead>\n",
       "  <tbody>\n",
       "    <tr>\n",
       "      <th>спорт</th>\n",
       "      <td>9.892561e+08</td>\n",
       "      <td>2.368230e+08</td>\n",
       "      <td>2.408273</td>\n",
       "    </tr>\n",
       "    <tr>\n",
       "      <th>комедия</th>\n",
       "      <td>1.709586e+08</td>\n",
       "      <td>8.511216e+07</td>\n",
       "      <td>1.487506</td>\n",
       "    </tr>\n",
       "    <tr>\n",
       "      <th>биография</th>\n",
       "      <td>1.722943e+08</td>\n",
       "      <td>1.763112e+08</td>\n",
       "      <td>1.136724</td>\n",
       "    </tr>\n",
       "    <tr>\n",
       "      <th>ужасы</th>\n",
       "      <td>7.101232e+07</td>\n",
       "      <td>5.638776e+07</td>\n",
       "      <td>1.050834</td>\n",
       "    </tr>\n",
       "    <tr>\n",
       "      <th>мультфильм</th>\n",
       "      <td>1.874005e+08</td>\n",
       "      <td>1.983432e+08</td>\n",
       "      <td>0.952609</td>\n",
       "    </tr>\n",
       "    <tr>\n",
       "      <th>военный</th>\n",
       "      <td>1.130745e+08</td>\n",
       "      <td>1.428785e+08</td>\n",
       "      <td>0.857312</td>\n",
       "    </tr>\n",
       "    <tr>\n",
       "      <th>семейный</th>\n",
       "      <td>9.740412e+07</td>\n",
       "      <td>9.097140e+07</td>\n",
       "      <td>0.752485</td>\n",
       "    </tr>\n",
       "    <tr>\n",
       "      <th>боевик</th>\n",
       "      <td>9.932149e+07</td>\n",
       "      <td>1.222870e+08</td>\n",
       "      <td>0.745657</td>\n",
       "    </tr>\n",
       "    <tr>\n",
       "      <th>фантастика</th>\n",
       "      <td>1.718204e+08</td>\n",
       "      <td>2.363856e+08</td>\n",
       "      <td>0.604101</td>\n",
       "    </tr>\n",
       "    <tr>\n",
       "      <th>приключения</th>\n",
       "      <td>2.009328e+08</td>\n",
       "      <td>4.821060e+08</td>\n",
       "      <td>0.578861</td>\n",
       "    </tr>\n",
       "    <tr>\n",
       "      <th>история</th>\n",
       "      <td>3.638671e+08</td>\n",
       "      <td>5.362656e+08</td>\n",
       "      <td>0.561304</td>\n",
       "    </tr>\n",
       "    <tr>\n",
       "      <th>драма</th>\n",
       "      <td>1.090902e+08</td>\n",
       "      <td>1.201508e+08</td>\n",
       "      <td>0.447928</td>\n",
       "    </tr>\n",
       "    <tr>\n",
       "      <th>фэнтези</th>\n",
       "      <td>9.053060e+07</td>\n",
       "      <td>2.127385e+08</td>\n",
       "      <td>0.427616</td>\n",
       "    </tr>\n",
       "    <tr>\n",
       "      <th>реальное ТВ</th>\n",
       "      <td>3.272110e+07</td>\n",
       "      <td>8.000000e+07</td>\n",
       "      <td>0.409014</td>\n",
       "    </tr>\n",
       "    <tr>\n",
       "      <th>триллер</th>\n",
       "      <td>4.669668e+07</td>\n",
       "      <td>9.257832e+07</td>\n",
       "      <td>0.397989</td>\n",
       "    </tr>\n",
       "    <tr>\n",
       "      <th>криминал</th>\n",
       "      <td>7.993129e+07</td>\n",
       "      <td>1.421983e+08</td>\n",
       "      <td>0.317476</td>\n",
       "    </tr>\n",
       "    <tr>\n",
       "      <th>мюзикл</th>\n",
       "      <td>2.542625e+07</td>\n",
       "      <td>1.410494e+08</td>\n",
       "      <td>0.155640</td>\n",
       "    </tr>\n",
       "    <tr>\n",
       "      <th>детектив</th>\n",
       "      <td>2.770950e+07</td>\n",
       "      <td>2.396445e+08</td>\n",
       "      <td>0.071361</td>\n",
       "    </tr>\n",
       "    <tr>\n",
       "      <th>мелодрама</th>\n",
       "      <td>3.913498e+06</td>\n",
       "      <td>6.369749e+07</td>\n",
       "      <td>0.058696</td>\n",
       "    </tr>\n",
       "    <tr>\n",
       "      <th>детский</th>\n",
       "      <td>1.004551e+06</td>\n",
       "      <td>4.597450e+07</td>\n",
       "      <td>0.021660</td>\n",
       "    </tr>\n",
       "  </tbody>\n",
       "</table>\n",
       "</div>"
      ],
      "text/plain": [
       "               box_office        budget   payback\n",
       "main_genre                                       \n",
       "спорт        9.892561e+08  2.368230e+08  2.408273\n",
       "комедия      1.709586e+08  8.511216e+07  1.487506\n",
       "биография    1.722943e+08  1.763112e+08  1.136724\n",
       "ужасы        7.101232e+07  5.638776e+07  1.050834\n",
       "мультфильм   1.874005e+08  1.983432e+08  0.952609\n",
       "военный      1.130745e+08  1.428785e+08  0.857312\n",
       "семейный     9.740412e+07  9.097140e+07  0.752485\n",
       "боевик       9.932149e+07  1.222870e+08  0.745657\n",
       "фантастика   1.718204e+08  2.363856e+08  0.604101\n",
       "приключения  2.009328e+08  4.821060e+08  0.578861\n",
       "история      3.638671e+08  5.362656e+08  0.561304\n",
       "драма        1.090902e+08  1.201508e+08  0.447928\n",
       "фэнтези      9.053060e+07  2.127385e+08  0.427616\n",
       "реальное ТВ  3.272110e+07  8.000000e+07  0.409014\n",
       "триллер      4.669668e+07  9.257832e+07  0.397989\n",
       "криминал     7.993129e+07  1.421983e+08  0.317476\n",
       "мюзикл       2.542625e+07  1.410494e+08  0.155640\n",
       "детектив     2.770950e+07  2.396445e+08  0.071361\n",
       "мелодрама    3.913498e+06  6.369749e+07  0.058696\n",
       "детский      1.004551e+06  4.597450e+07  0.021660"
      ]
     },
     "execution_count": 47,
     "metadata": {},
     "output_type": "execute_result"
    }
   ],
   "source": [
    "support_table_6=supported_films.pivot_table(index='main_genre', values=['box_office','budget','payback'],aggfunc=['mean'])\n",
    "support_table_6.columns = ['box_office','budget','payback']\n",
    "support_table_6.sort_values(by=['payback'],ascending=False)"
   ]
  },
  {
   "cell_type": "markdown",
   "metadata": {},
   "source": [
    "В среднем в последние 3 года периода фильмы с гос. поддержкой стали лучше окупаться, в 2017 и 2018 году они даже давали прибыль. При этом наиболее окупаемыми жанрами стали спортивное кино, комедии, биогравии и фильмы ужасов."
   ]
  },
  {
   "cell_type": "code",
   "execution_count": 48,
   "metadata": {},
   "outputs": [
    {
     "data": {
      "text/html": [
       "<div>\n",
       "<style scoped>\n",
       "    .dataframe tbody tr th:only-of-type {\n",
       "        vertical-align: middle;\n",
       "    }\n",
       "\n",
       "    .dataframe tbody tr th {\n",
       "        vertical-align: top;\n",
       "    }\n",
       "\n",
       "    .dataframe thead th {\n",
       "        text-align: right;\n",
       "    }\n",
       "</style>\n",
       "<table border=\"1\" class=\"dataframe\">\n",
       "  <thead>\n",
       "    <tr style=\"text-align: right;\">\n",
       "      <th></th>\n",
       "      <th>sum</th>\n",
       "      <th>mean</th>\n",
       "    </tr>\n",
       "    <tr>\n",
       "      <th>age_restriction</th>\n",
       "      <th></th>\n",
       "      <th></th>\n",
       "    </tr>\n",
       "  </thead>\n",
       "  <tbody>\n",
       "    <tr>\n",
       "      <th>«6+» - для детей старше 6 лет</th>\n",
       "      <td>8.174748e+09</td>\n",
       "      <td>1.257654e+08</td>\n",
       "    </tr>\n",
       "    <tr>\n",
       "      <th>«12+» - для детей старше 12 лет</th>\n",
       "      <td>1.246379e+10</td>\n",
       "      <td>1.175829e+08</td>\n",
       "    </tr>\n",
       "    <tr>\n",
       "      <th>«16+» - для детей старше 16 лет</th>\n",
       "      <td>9.467800e+09</td>\n",
       "      <td>7.574240e+07</td>\n",
       "    </tr>\n",
       "    <tr>\n",
       "      <th>«18+» - запрещено для детей</th>\n",
       "      <td>1.960000e+09</td>\n",
       "      <td>7.000000e+07</td>\n",
       "    </tr>\n",
       "    <tr>\n",
       "      <th>«0+» - для любой зрительской аудитории</th>\n",
       "      <td>4.570400e+08</td>\n",
       "      <td>5.713000e+07</td>\n",
       "    </tr>\n",
       "  </tbody>\n",
       "</table>\n",
       "</div>"
      ],
      "text/plain": [
       "                                                 sum          mean\n",
       "age_restriction                                                   \n",
       "«6+» - для детей старше 6 лет           8.174748e+09  1.257654e+08\n",
       "«12+» - для детей старше 12 лет         1.246379e+10  1.175829e+08\n",
       "«16+» - для детей старше 16 лет         9.467800e+09  7.574240e+07\n",
       "«18+» - запрещено для детей             1.960000e+09  7.000000e+07\n",
       "«0+» - для любой зрительской аудитории  4.570400e+08  5.713000e+07"
      ]
     },
     "execution_count": 48,
     "metadata": {},
     "output_type": "execute_result"
    },
    {
     "data": {
      "image/png": "[encoded data removed]",
      "text/plain": [
       "<Figure size 504x504 with 1 Axes>"
      ]
     },
     "metadata": {
      "needs_background": "light"
     },
     "output_type": "display_data"
    }
   ],
   "source": [
    "support_table_7=supported_films.pivot_table(index='age_restriction', values=['support_budget'],aggfunc=['sum','mean'])\n",
    "support_table_7.columns = ['sum','mean']\n",
    "support_table_7.sort_values(by=['sum'],ascending=False).plot(kind='barh', y='sum', figsize=(7, 7), color='purple', \n",
    "                             xlabel =\"Возрастная категория\", title ='Сумма гос. поддержки по возрастным категориям',legend=None)\n",
    "support_table_7.sort_values(by=['mean'],ascending=False)"
   ]
  },
  {
   "cell_type": "markdown",
   "metadata": {},
   "source": [
    "Больше всего гос. поддержки выделялось на фильмы с возрастной категорией 12+, видимо с целью показа их достаточно широкой аудитории. На последнем месте по поддержке находятся фильмы с ограничением 0+, возможно это связанно с низкой окупаемостью детского кино, а также редкими вложениями в него."
   ]
  },
  {
   "cell_type": "code",
   "execution_count": 49,
   "metadata": {},
   "outputs": [
    {
     "data": {
      "text/html": [
       "<div>\n",
       "<style scoped>\n",
       "    .dataframe tbody tr th:only-of-type {\n",
       "        vertical-align: middle;\n",
       "    }\n",
       "\n",
       "    .dataframe tbody tr th {\n",
       "        vertical-align: top;\n",
       "    }\n",
       "\n",
       "    .dataframe thead th {\n",
       "        text-align: right;\n",
       "    }\n",
       "</style>\n",
       "<table border=\"1\" class=\"dataframe\">\n",
       "  <thead>\n",
       "    <tr style=\"text-align: right;\">\n",
       "      <th></th>\n",
       "      <th>box_office</th>\n",
       "      <th>budget</th>\n",
       "      <th>payback</th>\n",
       "    </tr>\n",
       "    <tr>\n",
       "      <th>age_restriction</th>\n",
       "      <th></th>\n",
       "      <th></th>\n",
       "      <th></th>\n",
       "    </tr>\n",
       "  </thead>\n",
       "  <tbody>\n",
       "    <tr>\n",
       "      <th>«12+» - для детей старше 12 лет</th>\n",
       "      <td>1.995796e+08</td>\n",
       "      <td>1.490485e+08</td>\n",
       "      <td>1.037290</td>\n",
       "    </tr>\n",
       "    <tr>\n",
       "      <th>«6+» - для детей старше 6 лет</th>\n",
       "      <td>2.059076e+08</td>\n",
       "      <td>2.063133e+08</td>\n",
       "      <td>0.868549</td>\n",
       "    </tr>\n",
       "    <tr>\n",
       "      <th>«16+» - для детей старше 16 лет</th>\n",
       "      <td>6.382052e+07</td>\n",
       "      <td>9.638209e+07</td>\n",
       "      <td>0.673161</td>\n",
       "    </tr>\n",
       "    <tr>\n",
       "      <th>«0+» - для любой зрительской аудитории</th>\n",
       "      <td>1.105866e+08</td>\n",
       "      <td>1.128731e+08</td>\n",
       "      <td>0.441742</td>\n",
       "    </tr>\n",
       "    <tr>\n",
       "      <th>«18+» - запрещено для детей</th>\n",
       "      <td>2.000567e+07</td>\n",
       "      <td>8.381866e+07</td>\n",
       "      <td>0.241361</td>\n",
       "    </tr>\n",
       "  </tbody>\n",
       "</table>\n",
       "</div>"
      ],
      "text/plain": [
       "                                          box_office        budget   payback\n",
       "age_restriction                                                             \n",
       "«12+» - для детей старше 12 лет         1.995796e+08  1.490485e+08  1.037290\n",
       "«6+» - для детей старше 6 лет           2.059076e+08  2.063133e+08  0.868549\n",
       "«16+» - для детей старше 16 лет         6.382052e+07  9.638209e+07  0.673161\n",
       "«0+» - для любой зрительской аудитории  1.105866e+08  1.128731e+08  0.441742\n",
       "«18+» - запрещено для детей             2.000567e+07  8.381866e+07  0.241361"
      ]
     },
     "execution_count": 49,
     "metadata": {},
     "output_type": "execute_result"
    }
   ],
   "source": [
    "support_table_8=supported_films.pivot_table(index='age_restriction', values=['box_office','budget','payback'],aggfunc=['mean'])\n",
    "support_table_8.columns = ['box_office','budget','payback']\n",
    "support_table_8.sort_values(by=['payback'],ascending=False)"
   ]
  },
  {
   "cell_type": "markdown",
   "metadata": {
    "id": "V2gYwMcPgFyd"
   },
   "source": [
    "### Выводы"
   ]
  },
  {
   "cell_type": "markdown",
   "metadata": {},
   "source": [
    "К сожалению, только 42% фильмов имели данные о прокате, так что выводы о коммерческом успехе тех или иных жанров, режиссеров и пр. можно делать меньше, чем по половине собранных данных.\n",
    "Несмотря на это, из имеющихся данных удалось выявить следующее:\n"
   ]
  },
  {
   "cell_type": "markdown",
   "metadata": {},
   "source": [
    "1. Максимальная сумма сборов кинопроката была в 2019 году, минимальная - в 2010. При этом сборы фильмов с разными возрастными ограничениями колебались на протяжении рассматриваемого периода, самой кассовой за эти годы является категория 16+, наименее востребованы фильмы с ограничением 0+.\n"
   ]
  },
  {
   "cell_type": "markdown",
   "metadata": {},
   "source": [
    "2. Максимальное число фильмов с гос. поддержкой было выпущено в прокат в 2015 году. В целом в последние 3 года рассматриваемого периода виднеется тренд на выделение больших сумм на поддержку кино и в сумме средств в общем и в количестве фильмов."
   ]
  },
  {
   "cell_type": "markdown",
   "metadata": {},
   "source": [
    "3. Рейтинги фильмов с гос. поддержкой в среднем держались около отметки в 6,1  и сильно не менялись в течение рассматриваемого периода."
   ]
  },
  {
   "cell_type": "markdown",
   "metadata": {},
   "source": [
    "4. Суммарно больше всего средств выделялось на драмы, комедии и мультфильмы. При этом средний объем поддержки выше всего у исторических фильмов, фильмов про спорт и фанстастических. Ежегодно поддерживались драмы и комедии, реже всего реальное ТВ."
   ]
  },
  {
   "cell_type": "markdown",
   "metadata": {},
   "source": [
    "5. В среднем в последние 3 года рассматриваемого периода фильмы с гос. поддержкой стали лучше окупаться, в 2017 и 2018 году они приносили прибыль. Лучше всего окупались: спортивное кино, комедии, биографии и фильмы ужасов."
   ]
  },
  {
   "cell_type": "markdown",
   "metadata": {},
   "source": [
    "6. Больше всего гос. поддержки выделялось на фильмы с возрастной категорией 12+, видимо с целью показа их достаточно широкой аудитории, именно эти фильмы и лидируют по окупаемости  среди поддержанных государством. На последнем месте по поддержке находятся фильмы с ограничением 0+, по окупаемости они вторые с конца, после категории 18+."
   ]
  },
  {
   "cell_type": "markdown",
   "metadata": {},
   "source": [
    "Таким образом, изучив данные о гос. поддержке кино за период 2013-2019 г. удалось выявить идеальный для поддержки с точки зрения государства фильм, это комедии с ограничением 12+. "
   ]
  }
 ],
 "metadata": {
  "ExecuteTimeLog": [
   {
    "duration": 537,
    "start_time": "2021-07-07T10:12:08.634Z"
   },
   {
    "duration": 206,
    "start_time": "2021-07-07T10:12:30.191Z"
   },
   {
    "duration": 227,
    "start_time": "2021-07-07T10:12:33.078Z"
   },
   {
    "duration": 153,
    "start_time": "2021-07-07T10:13:42.146Z"
   },
   {
    "duration": 233,
    "start_time": "2021-07-07T10:30:09.252Z"
   },
   {
    "duration": 19,
    "start_time": "2021-07-07T10:30:15.577Z"
   },
   {
    "duration": 18,
    "start_time": "2021-07-07T10:30:57.348Z"
   },
   {
    "duration": 19,
    "start_time": "2021-07-07T10:31:17.452Z"
   },
   {
    "duration": 21,
    "start_time": "2021-07-07T10:31:32.227Z"
   },
   {
    "duration": 27,
    "start_time": "2021-07-07T10:32:06.588Z"
   },
   {
    "duration": 23,
    "start_time": "2021-07-07T10:32:43.645Z"
   },
   {
    "duration": 24,
    "start_time": "2021-07-07T10:33:06.948Z"
   },
   {
    "duration": 7,
    "start_time": "2021-07-07T10:33:28.558Z"
   },
   {
    "duration": 23,
    "start_time": "2021-07-07T10:33:43.761Z"
   },
   {
    "duration": 28,
    "start_time": "2021-07-07T10:34:13.466Z"
   },
   {
    "duration": 23,
    "start_time": "2021-07-07T10:35:56.187Z"
   },
   {
    "duration": 6,
    "start_time": "2021-07-07T10:36:48.182Z"
   },
   {
    "duration": 14,
    "start_time": "2021-07-07T10:37:49.641Z"
   },
   {
    "duration": 6,
    "start_time": "2021-07-07T10:38:06.694Z"
   },
   {
    "duration": 6,
    "start_time": "2021-07-07T10:38:13.493Z"
   },
   {
    "duration": 19,
    "start_time": "2021-07-07T10:38:44.056Z"
   },
   {
    "duration": 186,
    "start_time": "2021-07-07T10:48:35.618Z"
   },
   {
    "duration": 24,
    "start_time": "2021-07-07T10:48:51.498Z"
   },
   {
    "duration": 20,
    "start_time": "2021-07-07T10:48:59.415Z"
   },
   {
    "duration": 20,
    "start_time": "2021-07-07T10:53:02.195Z"
   },
   {
    "duration": 188,
    "start_time": "2021-07-07T10:54:40.486Z"
   },
   {
    "duration": 115,
    "start_time": "2021-07-07T10:54:52.552Z"
   },
   {
    "duration": 214,
    "start_time": "2021-07-07T10:54:56.354Z"
   },
   {
    "duration": 47,
    "start_time": "2021-07-07T10:54:58.282Z"
   },
   {
    "duration": 217,
    "start_time": "2021-07-07T10:59:16.075Z"
   },
   {
    "duration": 51,
    "start_time": "2021-07-07T10:59:16.243Z"
   },
   {
    "duration": 578,
    "start_time": "2021-07-07T10:59:18.774Z"
   },
   {
    "duration": 161,
    "start_time": "2021-07-07T10:59:21.238Z"
   },
   {
    "duration": 59,
    "start_time": "2021-07-07T10:59:21.453Z"
   },
   {
    "duration": 3,
    "start_time": "2021-07-07T11:02:10.786Z"
   },
   {
    "duration": 13,
    "start_time": "2021-07-07T11:07:07.722Z"
   },
   {
    "duration": 26,
    "start_time": "2021-07-07T11:07:17.958Z"
   },
   {
    "duration": 22,
    "start_time": "2021-07-07T11:08:17.939Z"
   },
   {
    "duration": 212,
    "start_time": "2021-07-07T11:08:19.665Z"
   },
   {
    "duration": 21,
    "start_time": "2021-07-07T11:08:29.945Z"
   },
   {
    "duration": 31,
    "start_time": "2021-07-07T11:08:38.899Z"
   },
   {
    "duration": 23,
    "start_time": "2021-07-07T11:08:54.527Z"
   },
   {
    "duration": 8,
    "start_time": "2021-07-07T11:18:55.974Z"
   },
   {
    "duration": 7,
    "start_time": "2021-07-07T11:19:03.639Z"
   },
   {
    "duration": 7,
    "start_time": "2021-07-07T11:19:06.444Z"
   },
   {
    "duration": 578,
    "start_time": "2021-07-07T12:09:59.576Z"
   },
   {
    "duration": 195,
    "start_time": "2021-07-07T12:10:00.156Z"
   },
   {
    "duration": 115,
    "start_time": "2021-07-07T12:10:00.353Z"
   },
   {
    "duration": 3,
    "start_time": "2021-07-07T12:10:00.470Z"
   },
   {
    "duration": 32,
    "start_time": "2021-07-07T12:10:00.474Z"
   },
   {
    "duration": 23,
    "start_time": "2021-07-07T12:10:00.508Z"
   },
   {
    "duration": 19,
    "start_time": "2021-07-07T12:10:00.533Z"
   },
   {
    "duration": 44,
    "start_time": "2021-07-07T12:10:00.553Z"
   },
   {
    "duration": 7,
    "start_time": "2021-07-07T12:10:00.600Z"
   },
   {
    "duration": 7,
    "start_time": "2021-07-07T12:19:45.761Z"
   },
   {
    "duration": 21,
    "start_time": "2021-07-07T12:21:35.482Z"
   },
   {
    "duration": 21,
    "start_time": "2021-07-07T12:29:23.569Z"
   },
   {
    "duration": 525,
    "start_time": "2021-07-07T12:29:44.542Z"
   },
   {
    "duration": 214,
    "start_time": "2021-07-07T12:29:45.069Z"
   },
   {
    "duration": 92,
    "start_time": "2021-07-07T12:29:45.285Z"
   },
   {
    "duration": 3,
    "start_time": "2021-07-07T12:29:45.379Z"
   },
   {
    "duration": 28,
    "start_time": "2021-07-07T12:29:45.384Z"
   },
   {
    "duration": 23,
    "start_time": "2021-07-07T12:29:45.413Z"
   },
   {
    "duration": 21,
    "start_time": "2021-07-07T12:29:45.437Z"
   },
   {
    "duration": 41,
    "start_time": "2021-07-07T12:29:45.460Z"
   },
   {
    "duration": 7,
    "start_time": "2021-07-07T12:29:45.502Z"
   },
   {
    "duration": 20,
    "start_time": "2021-07-07T12:29:45.511Z"
   },
   {
    "duration": 12,
    "start_time": "2021-07-07T12:34:02.800Z"
   },
   {
    "duration": 7,
    "start_time": "2021-07-07T12:35:10.479Z"
   },
   {
    "duration": 8,
    "start_time": "2021-07-07T12:35:22.440Z"
   },
   {
    "duration": 6,
    "start_time": "2021-07-07T12:35:35.649Z"
   },
   {
    "duration": 6,
    "start_time": "2021-07-07T12:35:43.107Z"
   },
   {
    "duration": 22,
    "start_time": "2021-07-07T12:38:03.029Z"
   },
   {
    "duration": 10,
    "start_time": "2021-07-07T12:38:06.592Z"
   },
   {
    "duration": 563,
    "start_time": "2021-07-07T12:38:46.493Z"
   },
   {
    "duration": 265,
    "start_time": "2021-07-07T12:38:47.058Z"
   },
   {
    "duration": 94,
    "start_time": "2021-07-07T12:38:47.325Z"
   },
   {
    "duration": 3,
    "start_time": "2021-07-07T12:38:47.422Z"
   },
   {
    "duration": 30,
    "start_time": "2021-07-07T12:38:47.427Z"
   },
   {
    "duration": 16,
    "start_time": "2021-07-07T12:38:53.305Z"
   },
   {
    "duration": 10,
    "start_time": "2021-07-07T12:38:53.499Z"
   },
   {
    "duration": 8,
    "start_time": "2021-07-07T12:39:48.161Z"
   },
   {
    "duration": 27,
    "start_time": "2021-07-07T12:41:17.629Z"
   },
   {
    "duration": 17,
    "start_time": "2021-07-07T12:41:17.867Z"
   },
   {
    "duration": 21,
    "start_time": "2021-07-07T12:41:19.310Z"
   },
   {
    "duration": 7,
    "start_time": "2021-07-07T12:41:19.544Z"
   },
   {
    "duration": 20,
    "start_time": "2021-07-07T12:41:20.504Z"
   },
   {
    "duration": 554,
    "start_time": "2021-07-07T12:56:23.696Z"
   },
   {
    "duration": 200,
    "start_time": "2021-07-07T12:56:25.234Z"
   },
   {
    "duration": 119,
    "start_time": "2021-07-07T12:56:25.480Z"
   },
   {
    "duration": 4,
    "start_time": "2021-07-07T12:56:25.762Z"
   },
   {
    "duration": 26,
    "start_time": "2021-07-07T12:56:27.172Z"
   },
   {
    "duration": 12,
    "start_time": "2021-07-07T12:56:29.051Z"
   },
   {
    "duration": 10,
    "start_time": "2021-07-07T12:56:29.291Z"
   },
   {
    "duration": 8,
    "start_time": "2021-07-07T12:56:29.623Z"
   },
   {
    "duration": 28,
    "start_time": "2021-07-07T12:56:32.137Z"
   },
   {
    "duration": 19,
    "start_time": "2021-07-07T12:56:39.785Z"
   },
   {
    "duration": 20,
    "start_time": "2021-07-07T12:56:44.297Z"
   },
   {
    "duration": 7,
    "start_time": "2021-07-07T12:56:45.392Z"
   },
   {
    "duration": 23,
    "start_time": "2021-07-07T12:56:46.615Z"
   },
   {
    "duration": 4,
    "start_time": "2021-07-07T12:57:06.625Z"
   },
   {
    "duration": 32,
    "start_time": "2021-07-07T12:57:36.690Z"
   },
   {
    "duration": 18,
    "start_time": "2021-07-07T12:58:00.149Z"
   },
   {
    "duration": 15,
    "start_time": "2021-07-07T12:59:16.793Z"
   },
   {
    "duration": 7,
    "start_time": "2021-07-07T13:19:22.624Z"
   },
   {
    "duration": 6,
    "start_time": "2021-07-07T14:17:33.527Z"
   },
   {
    "duration": 9,
    "start_time": "2021-07-07T14:17:48.409Z"
   },
   {
    "duration": 8,
    "start_time": "2021-07-07T14:20:13.060Z"
   },
   {
    "duration": 8,
    "start_time": "2021-07-07T14:20:37.957Z"
   },
   {
    "duration": 8,
    "start_time": "2021-07-07T14:20:47.470Z"
   },
   {
    "duration": 9,
    "start_time": "2021-07-07T14:20:54.503Z"
   },
   {
    "duration": 10,
    "start_time": "2021-07-07T14:28:57.763Z"
   },
   {
    "duration": 3,
    "start_time": "2021-07-07T14:30:23.377Z"
   },
   {
    "duration": 3,
    "start_time": "2021-07-07T14:30:36.489Z"
   },
   {
    "duration": 103,
    "start_time": "2021-07-07T14:30:52.351Z"
   },
   {
    "duration": 8,
    "start_time": "2021-07-07T14:30:54.763Z"
   },
   {
    "duration": 8,
    "start_time": "2021-07-07T14:31:29.301Z"
   },
   {
    "duration": 13,
    "start_time": "2021-07-07T14:31:44.516Z"
   },
   {
    "duration": 7,
    "start_time": "2021-07-07T14:33:10.972Z"
   },
   {
    "duration": 11,
    "start_time": "2021-07-07T14:33:27.780Z"
   },
   {
    "duration": 8,
    "start_time": "2021-07-07T14:34:44.588Z"
   },
   {
    "duration": 57,
    "start_time": "2021-07-07T14:35:59.042Z"
   },
   {
    "duration": 3,
    "start_time": "2021-07-07T14:36:28.168Z"
   },
   {
    "duration": 5,
    "start_time": "2021-07-07T14:36:46.254Z"
   },
   {
    "duration": 4,
    "start_time": "2021-07-07T14:36:52.714Z"
   },
   {
    "duration": 3,
    "start_time": "2021-07-07T14:36:56.612Z"
   },
   {
    "duration": 4,
    "start_time": "2021-07-07T14:36:57.049Z"
   },
   {
    "duration": 3,
    "start_time": "2021-07-07T14:39:21.214Z"
   },
   {
    "duration": 7,
    "start_time": "2021-07-07T14:39:52.406Z"
   },
   {
    "duration": 11,
    "start_time": "2021-07-07T14:39:58.576Z"
   },
   {
    "duration": 9,
    "start_time": "2021-07-07T14:40:26.301Z"
   },
   {
    "duration": 10,
    "start_time": "2021-07-07T14:40:31.704Z"
   },
   {
    "duration": 11,
    "start_time": "2021-07-07T14:40:36.249Z"
   },
   {
    "duration": 10,
    "start_time": "2021-07-07T14:40:39.783Z"
   },
   {
    "duration": 9,
    "start_time": "2021-07-07T14:40:48.558Z"
   },
   {
    "duration": 10,
    "start_time": "2021-07-07T14:40:57.143Z"
   },
   {
    "duration": 9,
    "start_time": "2021-07-07T14:41:06.074Z"
   },
   {
    "duration": 4324,
    "start_time": "2021-07-07T14:41:22.004Z"
   },
   {
    "duration": 11,
    "start_time": "2021-07-07T14:41:33.392Z"
   },
   {
    "duration": 9,
    "start_time": "2021-07-07T14:41:39.288Z"
   },
   {
    "duration": 569,
    "start_time": "2021-07-07T14:42:14.387Z"
   },
   {
    "duration": 197,
    "start_time": "2021-07-07T14:42:14.959Z"
   },
   {
    "duration": 84,
    "start_time": "2021-07-07T14:42:16.052Z"
   },
   {
    "duration": 4,
    "start_time": "2021-07-07T14:42:16.900Z"
   },
   {
    "duration": 27,
    "start_time": "2021-07-07T14:42:19.898Z"
   },
   {
    "duration": 12,
    "start_time": "2021-07-07T14:42:21.577Z"
   },
   {
    "duration": 9,
    "start_time": "2021-07-07T14:42:21.813Z"
   },
   {
    "duration": 9,
    "start_time": "2021-07-07T14:42:22.569Z"
   },
   {
    "duration": 29,
    "start_time": "2021-07-07T14:42:25.837Z"
   },
   {
    "duration": 20,
    "start_time": "2021-07-07T14:42:27.003Z"
   },
   {
    "duration": 21,
    "start_time": "2021-07-07T14:42:28.767Z"
   },
   {
    "duration": 7,
    "start_time": "2021-07-07T14:42:29.838Z"
   },
   {
    "duration": 4,
    "start_time": "2021-07-07T14:43:25.493Z"
   },
   {
    "duration": 7,
    "start_time": "2021-07-07T14:43:26.573Z"
   },
   {
    "duration": 10,
    "start_time": "2021-07-07T14:43:31.639Z"
   },
   {
    "duration": 9,
    "start_time": "2021-07-07T14:43:32.046Z"
   },
   {
    "duration": 10,
    "start_time": "2021-07-07T14:43:33.301Z"
   },
   {
    "duration": 12,
    "start_time": "2021-07-07T14:43:33.658Z"
   },
   {
    "duration": 8,
    "start_time": "2021-07-07T14:43:34.552Z"
   },
   {
    "duration": 9,
    "start_time": "2021-07-07T14:43:35.058Z"
   },
   {
    "duration": 12,
    "start_time": "2021-07-07T14:43:35.914Z"
   },
   {
    "duration": 17,
    "start_time": "2021-07-07T14:45:34.368Z"
   },
   {
    "duration": 512,
    "start_time": "2021-07-07T14:51:58.236Z"
   },
   {
    "duration": 223,
    "start_time": "2021-07-07T14:51:58.750Z"
   },
   {
    "duration": 93,
    "start_time": "2021-07-07T14:51:58.977Z"
   },
   {
    "duration": 4,
    "start_time": "2021-07-07T14:51:59.071Z"
   },
   {
    "duration": 37,
    "start_time": "2021-07-07T14:51:59.077Z"
   },
   {
    "duration": 18,
    "start_time": "2021-07-07T14:51:59.116Z"
   },
   {
    "duration": 10,
    "start_time": "2021-07-07T14:51:59.137Z"
   },
   {
    "duration": 8,
    "start_time": "2021-07-07T14:51:59.149Z"
   },
   {
    "duration": 54,
    "start_time": "2021-07-07T14:51:59.158Z"
   },
   {
    "duration": 18,
    "start_time": "2021-07-07T14:51:59.213Z"
   },
   {
    "duration": 22,
    "start_time": "2021-07-07T14:51:59.232Z"
   },
   {
    "duration": 36,
    "start_time": "2021-07-07T14:51:59.255Z"
   },
   {
    "duration": 7,
    "start_time": "2021-07-07T14:51:59.293Z"
   },
   {
    "duration": 10,
    "start_time": "2021-07-07T14:51:59.302Z"
   },
   {
    "duration": 9,
    "start_time": "2021-07-07T14:51:59.313Z"
   },
   {
    "duration": 11,
    "start_time": "2021-07-07T14:51:59.324Z"
   },
   {
    "duration": 8,
    "start_time": "2021-07-07T14:51:59.337Z"
   },
   {
    "duration": 46,
    "start_time": "2021-07-07T14:51:59.347Z"
   },
   {
    "duration": 22,
    "start_time": "2021-07-07T14:51:59.395Z"
   },
   {
    "duration": 24,
    "start_time": "2021-07-07T14:57:32.911Z"
   },
   {
    "duration": 7,
    "start_time": "2021-07-07T14:58:22.070Z"
   },
   {
    "duration": 4,
    "start_time": "2021-07-07T14:59:11.239Z"
   },
   {
    "duration": 25,
    "start_time": "2021-07-07T15:07:22.208Z"
   },
   {
    "duration": 16,
    "start_time": "2021-07-07T15:08:25.560Z"
   },
   {
    "duration": 15,
    "start_time": "2021-07-07T15:08:40.647Z"
   },
   {
    "duration": 14,
    "start_time": "2021-07-07T15:08:46.669Z"
   },
   {
    "duration": 533,
    "start_time": "2021-07-07T15:18:07.440Z"
   },
   {
    "duration": 173,
    "start_time": "2021-07-07T15:18:07.974Z"
   },
   {
    "duration": 84,
    "start_time": "2021-07-07T15:18:08.149Z"
   },
   {
    "duration": 3,
    "start_time": "2021-07-07T15:18:08.235Z"
   },
   {
    "duration": 30,
    "start_time": "2021-07-07T15:18:08.240Z"
   },
   {
    "duration": 22,
    "start_time": "2021-07-07T15:18:08.272Z"
   },
   {
    "duration": 11,
    "start_time": "2021-07-07T15:18:08.295Z"
   },
   {
    "duration": 11,
    "start_time": "2021-07-07T15:18:08.309Z"
   },
   {
    "duration": 40,
    "start_time": "2021-07-07T15:18:08.322Z"
   },
   {
    "duration": 42,
    "start_time": "2021-07-07T15:18:08.364Z"
   },
   {
    "duration": 22,
    "start_time": "2021-07-07T15:18:08.408Z"
   },
   {
    "duration": 5,
    "start_time": "2021-07-07T15:18:08.432Z"
   },
   {
    "duration": 13,
    "start_time": "2021-07-07T15:18:08.439Z"
   },
   {
    "duration": 9,
    "start_time": "2021-07-07T15:18:08.454Z"
   },
   {
    "duration": 32,
    "start_time": "2021-07-07T15:18:08.465Z"
   },
   {
    "duration": 10,
    "start_time": "2021-07-07T15:18:08.501Z"
   },
   {
    "duration": 7,
    "start_time": "2021-07-07T15:18:08.513Z"
   },
   {
    "duration": 11,
    "start_time": "2021-07-07T15:18:08.521Z"
   },
   {
    "duration": 17,
    "start_time": "2021-07-07T15:18:08.534Z"
   },
   {
    "duration": 44,
    "start_time": "2021-07-07T15:18:08.553Z"
   },
   {
    "duration": 22,
    "start_time": "2021-07-07T15:18:08.599Z"
   },
   {
    "duration": 61,
    "start_time": "2021-07-07T15:18:08.622Z"
   },
   {
    "duration": 7,
    "start_time": "2021-07-07T15:18:39.457Z"
   },
   {
    "duration": 5,
    "start_time": "2021-07-07T16:05:17.020Z"
   },
   {
    "duration": 5,
    "start_time": "2021-07-07T16:51:28.794Z"
   },
   {
    "duration": 546,
    "start_time": "2021-07-07T16:52:26.306Z"
   },
   {
    "duration": 203,
    "start_time": "2021-07-07T16:52:27.523Z"
   },
   {
    "duration": 85,
    "start_time": "2021-07-07T16:52:27.736Z"
   },
   {
    "duration": 4,
    "start_time": "2021-07-07T16:52:27.899Z"
   },
   {
    "duration": 25,
    "start_time": "2021-07-07T16:52:28.674Z"
   },
   {
    "duration": 8,
    "start_time": "2021-07-07T16:52:32.956Z"
   },
   {
    "duration": 18,
    "start_time": "2021-07-07T16:52:35.616Z"
   },
   {
    "duration": 6,
    "start_time": "2021-07-07T16:52:36.913Z"
   },
   {
    "duration": 11,
    "start_time": "2021-07-07T16:52:40.258Z"
   },
   {
    "duration": 10,
    "start_time": "2021-07-07T16:52:46.251Z"
   },
   {
    "duration": 8,
    "start_time": "2021-07-07T16:52:47.182Z"
   },
   {
    "duration": 27,
    "start_time": "2021-07-07T16:53:20.391Z"
   },
   {
    "duration": 20,
    "start_time": "2021-07-07T16:53:22.022Z"
   },
   {
    "duration": 23,
    "start_time": "2021-07-07T16:53:23.690Z"
   },
   {
    "duration": 8,
    "start_time": "2021-07-07T16:53:24.261Z"
   },
   {
    "duration": 4,
    "start_time": "2021-07-07T16:53:38.733Z"
   },
   {
    "duration": 7,
    "start_time": "2021-07-07T16:53:40.445Z"
   },
   {
    "duration": 11,
    "start_time": "2021-07-07T16:53:41.348Z"
   },
   {
    "duration": 13,
    "start_time": "2021-07-07T16:53:45.250Z"
   },
   {
    "duration": 12,
    "start_time": "2021-07-07T16:53:45.467Z"
   },
   {
    "duration": 4,
    "start_time": "2021-07-07T16:55:32.704Z"
   },
   {
    "duration": 12,
    "start_time": "2021-07-07T16:55:49.012Z"
   },
   {
    "duration": 18,
    "start_time": "2021-07-07T16:55:49.547Z"
   },
   {
    "duration": 611,
    "start_time": "2021-07-07T16:58:35.156Z"
   },
   {
    "duration": 200,
    "start_time": "2021-07-07T16:58:35.770Z"
   },
   {
    "duration": 86,
    "start_time": "2021-07-07T16:58:35.972Z"
   },
   {
    "duration": 3,
    "start_time": "2021-07-07T16:58:36.060Z"
   },
   {
    "duration": 27,
    "start_time": "2021-07-07T16:58:36.065Z"
   },
   {
    "duration": 8,
    "start_time": "2021-07-07T16:58:36.094Z"
   },
   {
    "duration": 17,
    "start_time": "2021-07-07T16:58:36.103Z"
   },
   {
    "duration": 5,
    "start_time": "2021-07-07T16:58:36.123Z"
   },
   {
    "duration": 11,
    "start_time": "2021-07-07T16:58:36.130Z"
   },
   {
    "duration": 7,
    "start_time": "2021-07-07T16:58:36.143Z"
   },
   {
    "duration": 37,
    "start_time": "2021-07-07T16:58:36.152Z"
   },
   {
    "duration": 27,
    "start_time": "2021-07-07T16:58:36.191Z"
   },
   {
    "duration": 19,
    "start_time": "2021-07-07T16:58:36.219Z"
   },
   {
    "duration": 49,
    "start_time": "2021-07-07T16:58:36.240Z"
   },
   {
    "duration": 6,
    "start_time": "2021-07-07T16:58:36.291Z"
   },
   {
    "duration": 3,
    "start_time": "2021-07-07T16:58:36.299Z"
   },
   {
    "duration": 13,
    "start_time": "2021-07-07T16:58:36.304Z"
   },
   {
    "duration": 10,
    "start_time": "2021-07-07T16:58:36.319Z"
   },
   {
    "duration": 10,
    "start_time": "2021-07-07T16:58:36.331Z"
   },
   {
    "duration": 44,
    "start_time": "2021-07-07T16:58:36.343Z"
   },
   {
    "duration": 4,
    "start_time": "2021-07-07T16:58:36.388Z"
   },
   {
    "duration": 13,
    "start_time": "2021-07-07T16:58:36.394Z"
   },
   {
    "duration": 16,
    "start_time": "2021-07-07T16:58:36.410Z"
   },
   {
    "duration": 8,
    "start_time": "2021-07-07T17:02:31.629Z"
   },
   {
    "duration": 8,
    "start_time": "2021-07-07T17:02:34.308Z"
   },
   {
    "duration": 6,
    "start_time": "2021-07-07T17:05:13.483Z"
   },
   {
    "duration": 17,
    "start_time": "2021-07-07T17:05:20.606Z"
   },
   {
    "duration": 7,
    "start_time": "2021-07-07T17:05:34.638Z"
   },
   {
    "duration": 3,
    "start_time": "2021-07-07T17:06:31.883Z"
   },
   {
    "duration": 570,
    "start_time": "2021-07-07T17:06:37.165Z"
   },
   {
    "duration": 174,
    "start_time": "2021-07-07T17:06:37.737Z"
   },
   {
    "duration": 47,
    "start_time": "2021-07-07T17:06:37.913Z"
   },
   {
    "duration": 3,
    "start_time": "2021-07-07T17:06:37.962Z"
   },
   {
    "duration": 27,
    "start_time": "2021-07-07T17:06:37.967Z"
   },
   {
    "duration": 7,
    "start_time": "2021-07-07T17:06:37.996Z"
   },
   {
    "duration": 16,
    "start_time": "2021-07-07T17:06:38.005Z"
   },
   {
    "duration": 6,
    "start_time": "2021-07-07T17:06:38.024Z"
   },
   {
    "duration": 12,
    "start_time": "2021-07-07T17:06:38.031Z"
   },
   {
    "duration": 41,
    "start_time": "2021-07-07T17:06:38.045Z"
   },
   {
    "duration": 8,
    "start_time": "2021-07-07T17:06:38.088Z"
   },
   {
    "duration": 26,
    "start_time": "2021-07-07T17:06:38.098Z"
   },
   {
    "duration": 17,
    "start_time": "2021-07-07T17:06:38.126Z"
   },
   {
    "duration": 43,
    "start_time": "2021-07-07T17:06:38.144Z"
   },
   {
    "duration": 6,
    "start_time": "2021-07-07T17:06:38.188Z"
   },
   {
    "duration": 5,
    "start_time": "2021-07-07T17:06:38.195Z"
   },
   {
    "duration": 9,
    "start_time": "2021-07-07T17:06:38.201Z"
   },
   {
    "duration": 12,
    "start_time": "2021-07-07T17:06:38.212Z"
   },
   {
    "duration": 11,
    "start_time": "2021-07-07T17:06:38.226Z"
   },
   {
    "duration": 47,
    "start_time": "2021-07-07T17:06:38.239Z"
   },
   {
    "duration": 4,
    "start_time": "2021-07-07T17:06:38.288Z"
   },
   {
    "duration": 13,
    "start_time": "2021-07-07T17:06:38.293Z"
   },
   {
    "duration": 5,
    "start_time": "2021-07-07T17:06:38.309Z"
   },
   {
    "duration": 18,
    "start_time": "2021-07-07T17:06:38.325Z"
   },
   {
    "duration": 20,
    "start_time": "2021-07-07T17:07:02.805Z"
   },
   {
    "duration": 19,
    "start_time": "2021-07-07T17:07:08.527Z"
   },
   {
    "duration": 19,
    "start_time": "2021-07-07T17:07:12.758Z"
   },
   {
    "duration": 22,
    "start_time": "2021-07-07T17:07:17.497Z"
   },
   {
    "duration": 19,
    "start_time": "2021-07-07T17:07:19.645Z"
   },
   {
    "duration": 10,
    "start_time": "2021-07-07T17:07:34.239Z"
   },
   {
    "duration": 17,
    "start_time": "2021-07-07T17:07:54.144Z"
   },
   {
    "duration": 14,
    "start_time": "2021-07-07T17:08:14.357Z"
   },
   {
    "duration": 616,
    "start_time": "2021-07-07T17:08:45.254Z"
   },
   {
    "duration": 178,
    "start_time": "2021-07-07T17:08:45.872Z"
   },
   {
    "duration": 60,
    "start_time": "2021-07-07T17:08:46.054Z"
   },
   {
    "duration": 3,
    "start_time": "2021-07-07T17:08:46.116Z"
   },
   {
    "duration": 26,
    "start_time": "2021-07-07T17:08:46.121Z"
   },
   {
    "duration": 7,
    "start_time": "2021-07-07T17:08:46.149Z"
   },
   {
    "duration": 17,
    "start_time": "2021-07-07T17:08:46.158Z"
   },
   {
    "duration": 14,
    "start_time": "2021-07-07T17:08:46.176Z"
   },
   {
    "duration": 17,
    "start_time": "2021-07-07T17:08:46.193Z"
   },
   {
    "duration": 9,
    "start_time": "2021-07-07T17:08:46.211Z"
   },
   {
    "duration": 21,
    "start_time": "2021-07-07T17:08:46.221Z"
   },
   {
    "duration": 49,
    "start_time": "2021-07-07T17:08:46.244Z"
   },
   {
    "duration": 24,
    "start_time": "2021-07-07T17:08:46.295Z"
   },
   {
    "duration": 22,
    "start_time": "2021-07-07T17:08:46.321Z"
   },
   {
    "duration": 6,
    "start_time": "2021-07-07T17:08:46.345Z"
   },
   {
    "duration": 5,
    "start_time": "2021-07-07T17:08:46.353Z"
   },
   {
    "duration": 13,
    "start_time": "2021-07-07T17:08:46.386Z"
   },
   {
    "duration": 12,
    "start_time": "2021-07-07T17:08:46.402Z"
   },
   {
    "duration": 10,
    "start_time": "2021-07-07T17:08:46.415Z"
   },
   {
    "duration": 7,
    "start_time": "2021-07-07T17:08:46.427Z"
   },
   {
    "duration": 8,
    "start_time": "2021-07-07T17:08:46.435Z"
   },
   {
    "duration": 68,
    "start_time": "2021-07-07T17:08:46.446Z"
   },
   {
    "duration": 13,
    "start_time": "2021-07-07T17:08:46.516Z"
   },
   {
    "duration": 78,
    "start_time": "2021-07-07T17:08:46.530Z"
   },
   {
    "duration": 40,
    "start_time": "2021-07-07T17:09:08.185Z"
   },
   {
    "duration": 16,
    "start_time": "2021-07-07T17:09:19.324Z"
   },
   {
    "duration": 21,
    "start_time": "2021-07-07T17:09:23.290Z"
   },
   {
    "duration": 13,
    "start_time": "2021-07-07T17:09:54.812Z"
   },
   {
    "duration": 13,
    "start_time": "2021-07-07T17:10:02.039Z"
   },
   {
    "duration": 10,
    "start_time": "2021-07-07T17:10:29.632Z"
   },
   {
    "duration": 13,
    "start_time": "2021-07-07T17:10:52.372Z"
   },
   {
    "duration": 13,
    "start_time": "2021-07-07T17:11:17.270Z"
   },
   {
    "duration": 13,
    "start_time": "2021-07-07T17:14:59.284Z"
   },
   {
    "duration": 547,
    "start_time": "2021-07-07T17:18:52.403Z"
   },
   {
    "duration": 163,
    "start_time": "2021-07-07T17:18:52.952Z"
   },
   {
    "duration": 44,
    "start_time": "2021-07-07T17:18:53.117Z"
   },
   {
    "duration": 3,
    "start_time": "2021-07-07T17:18:53.162Z"
   },
   {
    "duration": 26,
    "start_time": "2021-07-07T17:18:53.167Z"
   },
   {
    "duration": 6,
    "start_time": "2021-07-07T17:18:53.195Z"
   },
   {
    "duration": 15,
    "start_time": "2021-07-07T17:18:53.203Z"
   },
   {
    "duration": 5,
    "start_time": "2021-07-07T17:18:53.220Z"
   },
   {
    "duration": 11,
    "start_time": "2021-07-07T17:18:53.228Z"
   },
   {
    "duration": 9,
    "start_time": "2021-07-07T17:18:53.241Z"
   },
   {
    "duration": 41,
    "start_time": "2021-07-07T17:18:53.252Z"
   },
   {
    "duration": 33,
    "start_time": "2021-07-07T17:18:53.295Z"
   },
   {
    "duration": 19,
    "start_time": "2021-07-07T17:18:53.330Z"
   },
   {
    "duration": 49,
    "start_time": "2021-07-07T17:18:53.350Z"
   },
   {
    "duration": 5,
    "start_time": "2021-07-07T17:18:53.401Z"
   },
   {
    "duration": 5,
    "start_time": "2021-07-07T17:18:53.408Z"
   },
   {
    "duration": 11,
    "start_time": "2021-07-07T17:18:53.414Z"
   },
   {
    "duration": 9,
    "start_time": "2021-07-07T17:18:53.427Z"
   },
   {
    "duration": 10,
    "start_time": "2021-07-07T17:18:53.437Z"
   },
   {
    "duration": 39,
    "start_time": "2021-07-07T17:18:53.448Z"
   },
   {
    "duration": 26,
    "start_time": "2021-07-07T17:18:55.799Z"
   },
   {
    "duration": 598,
    "start_time": "2021-07-07T17:20:17.862Z"
   },
   {
    "duration": 161,
    "start_time": "2021-07-07T17:20:18.462Z"
   },
   {
    "duration": 45,
    "start_time": "2021-07-07T17:20:18.626Z"
   },
   {
    "duration": 4,
    "start_time": "2021-07-07T17:20:18.673Z"
   },
   {
    "duration": 38,
    "start_time": "2021-07-07T17:20:26.877Z"
   },
   {
    "duration": 7,
    "start_time": "2021-07-07T17:20:37.405Z"
   },
   {
    "duration": 19,
    "start_time": "2021-07-07T17:20:51.534Z"
   },
   {
    "duration": 5,
    "start_time": "2021-07-07T17:20:57.228Z"
   },
   {
    "duration": 7,
    "start_time": "2021-07-07T17:21:08.235Z"
   },
   {
    "duration": 19,
    "start_time": "2021-07-07T17:21:42.158Z"
   },
   {
    "duration": 14,
    "start_time": "2021-07-07T17:21:50.225Z"
   },
   {
    "duration": 22,
    "start_time": "2021-07-07T17:22:54.104Z"
   },
   {
    "duration": 5,
    "start_time": "2021-07-07T17:22:56.371Z"
   },
   {
    "duration": 14,
    "start_time": "2021-07-07T17:22:58.316Z"
   },
   {
    "duration": 5,
    "start_time": "2021-07-07T17:22:58.493Z"
   },
   {
    "duration": 35,
    "start_time": "2021-07-07T17:22:59.666Z"
   },
   {
    "duration": 6,
    "start_time": "2021-07-07T17:23:02.410Z"
   },
   {
    "duration": 611,
    "start_time": "2021-07-07T17:24:59.664Z"
   },
   {
    "duration": 178,
    "start_time": "2021-07-07T17:25:01.945Z"
   },
   {
    "duration": 47,
    "start_time": "2021-07-07T17:25:02.125Z"
   },
   {
    "duration": 2,
    "start_time": "2021-07-07T17:25:07.903Z"
   },
   {
    "duration": 254,
    "start_time": "2021-07-07T17:25:08.232Z"
   },
   {
    "duration": 182,
    "start_time": "2021-07-07T17:25:08.671Z"
   },
   {
    "duration": 6,
    "start_time": "2021-07-07T17:25:13.104Z"
   },
   {
    "duration": 36,
    "start_time": "2021-07-07T17:25:13.662Z"
   },
   {
    "duration": 7,
    "start_time": "2021-07-07T17:25:14.528Z"
   },
   {
    "duration": 24,
    "start_time": "2021-07-07T17:25:27.982Z"
   },
   {
    "duration": 3,
    "start_time": "2021-07-07T17:25:48.982Z"
   },
   {
    "duration": 165,
    "start_time": "2021-07-07T17:25:48.987Z"
   },
   {
    "duration": 50,
    "start_time": "2021-07-07T17:25:49.154Z"
   },
   {
    "duration": 4,
    "start_time": "2021-07-07T17:25:49.206Z"
   },
   {
    "duration": 26,
    "start_time": "2021-07-07T17:25:49.212Z"
   },
   {
    "duration": 7,
    "start_time": "2021-07-07T17:25:49.240Z"
   },
   {
    "duration": 16,
    "start_time": "2021-07-07T17:25:49.249Z"
   },
   {
    "duration": 22,
    "start_time": "2021-07-07T17:25:49.266Z"
   },
   {
    "duration": 16,
    "start_time": "2021-07-07T17:25:49.291Z"
   },
   {
    "duration": 9,
    "start_time": "2021-07-07T17:25:49.309Z"
   },
   {
    "duration": 7,
    "start_time": "2021-07-07T17:25:49.319Z"
   },
   {
    "duration": 28,
    "start_time": "2021-07-07T17:25:49.328Z"
   },
   {
    "duration": 44,
    "start_time": "2021-07-07T17:25:49.357Z"
   },
   {
    "duration": 22,
    "start_time": "2021-07-07T17:25:49.403Z"
   },
   {
    "duration": 7,
    "start_time": "2021-07-07T17:25:49.427Z"
   },
   {
    "duration": 3,
    "start_time": "2021-07-07T17:25:49.436Z"
   },
   {
    "duration": 44,
    "start_time": "2021-07-07T17:25:49.441Z"
   },
   {
    "duration": 12,
    "start_time": "2021-07-07T17:25:49.488Z"
   },
   {
    "duration": 13,
    "start_time": "2021-07-07T17:25:49.502Z"
   },
   {
    "duration": 10,
    "start_time": "2021-07-07T17:25:49.516Z"
   },
   {
    "duration": 62,
    "start_time": "2021-07-07T17:25:49.527Z"
   },
   {
    "duration": 26,
    "start_time": "2021-07-07T17:26:51.809Z"
   },
   {
    "duration": 26,
    "start_time": "2021-07-07T17:26:55.759Z"
   },
   {
    "duration": 26,
    "start_time": "2021-07-07T17:27:04.501Z"
   },
   {
    "duration": 25,
    "start_time": "2021-07-07T17:28:24.859Z"
   },
   {
    "duration": 21,
    "start_time": "2021-07-07T17:28:55.250Z"
   },
   {
    "duration": 21,
    "start_time": "2021-07-07T17:28:58.885Z"
   },
   {
    "duration": 7,
    "start_time": "2021-07-07T17:45:40.972Z"
   },
   {
    "duration": 13,
    "start_time": "2021-07-07T17:45:42.529Z"
   },
   {
    "duration": 27,
    "start_time": "2021-07-07T17:45:51.026Z"
   },
   {
    "duration": 518,
    "start_time": "2021-07-07T17:46:15.532Z"
   },
   {
    "duration": 235,
    "start_time": "2021-07-07T17:46:16.053Z"
   },
   {
    "duration": 80,
    "start_time": "2021-07-07T17:46:16.292Z"
   },
   {
    "duration": 5,
    "start_time": "2021-07-07T17:46:16.373Z"
   },
   {
    "duration": 26,
    "start_time": "2021-07-07T17:46:16.380Z"
   },
   {
    "duration": 7,
    "start_time": "2021-07-07T17:46:16.408Z"
   },
   {
    "duration": 16,
    "start_time": "2021-07-07T17:46:16.418Z"
   },
   {
    "duration": 5,
    "start_time": "2021-07-07T17:46:16.436Z"
   },
   {
    "duration": 13,
    "start_time": "2021-07-07T17:46:16.442Z"
   },
   {
    "duration": 35,
    "start_time": "2021-07-07T17:46:16.456Z"
   },
   {
    "duration": 8,
    "start_time": "2021-07-07T17:46:16.493Z"
   },
   {
    "duration": 28,
    "start_time": "2021-07-07T17:46:16.502Z"
   },
   {
    "duration": 17,
    "start_time": "2021-07-07T17:46:16.532Z"
   },
   {
    "duration": 44,
    "start_time": "2021-07-07T17:46:16.551Z"
   },
   {
    "duration": 6,
    "start_time": "2021-07-07T17:46:16.597Z"
   },
   {
    "duration": 4,
    "start_time": "2021-07-07T17:46:16.605Z"
   },
   {
    "duration": 9,
    "start_time": "2021-07-07T17:46:16.610Z"
   },
   {
    "duration": 9,
    "start_time": "2021-07-07T17:46:16.621Z"
   },
   {
    "duration": 10,
    "start_time": "2021-07-07T17:46:16.632Z"
   },
   {
    "duration": 43,
    "start_time": "2021-07-07T17:46:16.644Z"
   },
   {
    "duration": 26,
    "start_time": "2021-07-07T17:46:16.689Z"
   },
   {
    "duration": 19,
    "start_time": "2021-07-07T17:46:16.718Z"
   },
   {
    "duration": 8,
    "start_time": "2021-07-07T17:46:16.738Z"
   },
   {
    "duration": 43,
    "start_time": "2021-07-07T17:46:16.747Z"
   },
   {
    "duration": 19,
    "start_time": "2021-07-07T17:46:16.791Z"
   },
   {
    "duration": 9,
    "start_time": "2021-07-07T17:46:16.812Z"
   },
   {
    "duration": 60,
    "start_time": "2021-07-07T17:46:16.822Z"
   },
   {
    "duration": -8,
    "start_time": "2021-07-07T17:46:16.892Z"
   },
   {
    "duration": 12,
    "start_time": "2021-07-07T17:48:47.707Z"
   },
   {
    "duration": 553,
    "start_time": "2021-07-07T18:10:09.350Z"
   },
   {
    "duration": 230,
    "start_time": "2021-07-07T18:10:09.905Z"
   },
   {
    "duration": 97,
    "start_time": "2021-07-07T18:10:10.137Z"
   },
   {
    "duration": 5,
    "start_time": "2021-07-07T18:10:10.236Z"
   },
   {
    "duration": 29,
    "start_time": "2021-07-07T18:10:10.242Z"
   },
   {
    "duration": 7,
    "start_time": "2021-07-07T18:10:10.272Z"
   },
   {
    "duration": 15,
    "start_time": "2021-07-07T18:10:10.281Z"
   },
   {
    "duration": 4,
    "start_time": "2021-07-07T18:10:10.299Z"
   },
   {
    "duration": 14,
    "start_time": "2021-07-07T18:10:10.305Z"
   },
   {
    "duration": 8,
    "start_time": "2021-07-07T18:10:10.321Z"
   },
   {
    "duration": 8,
    "start_time": "2021-07-07T18:10:10.331Z"
   },
   {
    "duration": 56,
    "start_time": "2021-07-07T18:10:10.341Z"
   },
   {
    "duration": 19,
    "start_time": "2021-07-07T18:10:10.399Z"
   },
   {
    "duration": 23,
    "start_time": "2021-07-07T18:10:10.419Z"
   },
   {
    "duration": 6,
    "start_time": "2021-07-07T18:10:10.444Z"
   },
   {
    "duration": 9,
    "start_time": "2021-07-07T18:10:10.451Z"
   },
   {
    "duration": 30,
    "start_time": "2021-07-07T18:10:10.462Z"
   },
   {
    "duration": 9,
    "start_time": "2021-07-07T18:10:10.494Z"
   },
   {
    "duration": 14,
    "start_time": "2021-07-07T18:10:10.505Z"
   },
   {
    "duration": 7,
    "start_time": "2021-07-07T18:10:10.521Z"
   },
   {
    "duration": 26,
    "start_time": "2021-07-07T18:10:10.530Z"
   },
   {
    "duration": 44,
    "start_time": "2021-07-07T18:10:10.558Z"
   },
   {
    "duration": 7,
    "start_time": "2021-07-07T18:10:10.605Z"
   },
   {
    "duration": 11,
    "start_time": "2021-07-07T18:10:10.614Z"
   },
   {
    "duration": 19,
    "start_time": "2021-07-07T18:10:10.626Z"
   },
   {
    "duration": 44,
    "start_time": "2021-07-07T18:10:10.646Z"
   },
   {
    "duration": 516,
    "start_time": "2021-07-07T18:14:00.826Z"
   },
   {
    "duration": 230,
    "start_time": "2021-07-07T18:14:01.344Z"
   },
   {
    "duration": 105,
    "start_time": "2021-07-07T18:14:01.576Z"
   },
   {
    "duration": 5,
    "start_time": "2021-07-07T18:14:01.683Z"
   },
   {
    "duration": 46,
    "start_time": "2021-07-07T18:14:01.690Z"
   },
   {
    "duration": 7,
    "start_time": "2021-07-07T18:14:01.738Z"
   },
   {
    "duration": 20,
    "start_time": "2021-07-07T18:14:01.747Z"
   },
   {
    "duration": 16,
    "start_time": "2021-07-07T18:14:01.769Z"
   },
   {
    "duration": 14,
    "start_time": "2021-07-07T18:14:01.787Z"
   },
   {
    "duration": 15,
    "start_time": "2021-07-07T18:14:01.803Z"
   },
   {
    "duration": 12,
    "start_time": "2021-07-07T18:14:01.820Z"
   },
   {
    "duration": 35,
    "start_time": "2021-07-07T18:14:01.833Z"
   },
   {
    "duration": 31,
    "start_time": "2021-07-07T18:14:01.869Z"
   },
   {
    "duration": 37,
    "start_time": "2021-07-07T18:14:01.902Z"
   },
   {
    "duration": 8,
    "start_time": "2021-07-07T18:14:01.942Z"
   },
   {
    "duration": 16,
    "start_time": "2021-07-07T18:14:01.952Z"
   },
   {
    "duration": 13,
    "start_time": "2021-07-07T18:14:01.970Z"
   },
   {
    "duration": 32,
    "start_time": "2021-07-07T18:14:01.985Z"
   },
   {
    "duration": 11,
    "start_time": "2021-07-07T18:14:02.019Z"
   },
   {
    "duration": 22,
    "start_time": "2021-07-07T18:14:02.031Z"
   },
   {
    "duration": 27,
    "start_time": "2021-07-07T18:14:02.055Z"
   },
   {
    "duration": 18,
    "start_time": "2021-07-07T18:14:02.084Z"
   },
   {
    "duration": 18,
    "start_time": "2021-07-07T18:14:02.106Z"
   },
   {
    "duration": 11,
    "start_time": "2021-07-07T18:14:02.126Z"
   },
   {
    "duration": 21,
    "start_time": "2021-07-07T18:14:02.138Z"
   },
   {
    "duration": 32,
    "start_time": "2021-07-07T18:14:02.161Z"
   },
   {
    "duration": 28,
    "start_time": "2021-07-07T18:14:44.295Z"
   },
   {
    "duration": 6,
    "start_time": "2021-07-07T18:15:05.834Z"
   },
   {
    "duration": 511,
    "start_time": "2021-07-07T18:15:41.541Z"
   },
   {
    "duration": 183,
    "start_time": "2021-07-07T18:15:42.054Z"
   },
   {
    "duration": 50,
    "start_time": "2021-07-07T18:15:42.239Z"
   },
   {
    "duration": 5,
    "start_time": "2021-07-07T18:15:42.291Z"
   },
   {
    "duration": 48,
    "start_time": "2021-07-07T18:15:42.297Z"
   },
   {
    "duration": 8,
    "start_time": "2021-07-07T18:15:42.346Z"
   },
   {
    "duration": 17,
    "start_time": "2021-07-07T18:15:42.356Z"
   },
   {
    "duration": 15,
    "start_time": "2021-07-07T18:15:42.375Z"
   },
   {
    "duration": 12,
    "start_time": "2021-07-07T18:15:42.392Z"
   },
   {
    "duration": 7,
    "start_time": "2021-07-07T18:15:42.406Z"
   },
   {
    "duration": 7,
    "start_time": "2021-07-07T18:15:42.415Z"
   },
   {
    "duration": 29,
    "start_time": "2021-07-07T18:15:42.423Z"
   },
   {
    "duration": 43,
    "start_time": "2021-07-07T18:15:42.453Z"
   },
   {
    "duration": 18,
    "start_time": "2021-07-07T18:15:42.497Z"
   },
   {
    "duration": 6,
    "start_time": "2021-07-07T18:15:42.516Z"
   },
   {
    "duration": 3,
    "start_time": "2021-07-07T18:15:42.523Z"
   },
   {
    "duration": 18,
    "start_time": "2021-07-07T18:15:42.528Z"
   },
   {
    "duration": 10,
    "start_time": "2021-07-07T18:15:42.547Z"
   },
   {
    "duration": 36,
    "start_time": "2021-07-07T18:15:42.559Z"
   },
   {
    "duration": 8,
    "start_time": "2021-07-07T18:15:42.597Z"
   },
   {
    "duration": 28,
    "start_time": "2021-07-07T18:15:42.606Z"
   },
   {
    "duration": 52,
    "start_time": "2021-07-07T18:15:42.635Z"
   },
   {
    "duration": 7,
    "start_time": "2021-07-07T18:15:42.690Z"
   },
   {
    "duration": 10,
    "start_time": "2021-07-07T18:15:42.699Z"
   },
   {
    "duration": 19,
    "start_time": "2021-07-07T18:15:42.711Z"
   },
   {
    "duration": 9,
    "start_time": "2021-07-07T18:15:42.732Z"
   },
   {
    "duration": 5,
    "start_time": "2021-07-07T18:15:42.743Z"
   },
   {
    "duration": 1450,
    "start_time": "2021-07-07T18:15:51.984Z"
   },
   {
    "duration": 161,
    "start_time": "2021-07-07T18:15:53.435Z"
   },
   {
    "duration": 124,
    "start_time": "2021-07-07T18:15:53.598Z"
   },
   {
    "duration": 5,
    "start_time": "2021-07-07T18:15:53.724Z"
   },
   {
    "duration": 34,
    "start_time": "2021-07-07T18:15:53.730Z"
   },
   {
    "duration": 7,
    "start_time": "2021-07-07T18:15:53.765Z"
   },
   {
    "duration": 15,
    "start_time": "2021-07-07T18:15:53.773Z"
   },
   {
    "duration": 5,
    "start_time": "2021-07-07T18:15:53.791Z"
   },
   {
    "duration": 19,
    "start_time": "2021-07-07T18:15:53.798Z"
   },
   {
    "duration": 9,
    "start_time": "2021-07-07T18:15:53.818Z"
   },
   {
    "duration": 19,
    "start_time": "2021-07-07T18:15:53.828Z"
   },
   {
    "duration": 27,
    "start_time": "2021-07-07T18:15:53.848Z"
   },
   {
    "duration": 16,
    "start_time": "2021-07-07T18:15:53.884Z"
   },
   {
    "duration": 29,
    "start_time": "2021-07-07T18:15:53.901Z"
   },
   {
    "duration": 5,
    "start_time": "2021-07-07T18:15:53.932Z"
   },
   {
    "duration": 15,
    "start_time": "2021-07-07T18:15:53.939Z"
   },
   {
    "duration": 13,
    "start_time": "2021-07-07T18:15:53.956Z"
   },
   {
    "duration": 20,
    "start_time": "2021-07-07T18:15:53.971Z"
   },
   {
    "duration": 14,
    "start_time": "2021-07-07T18:15:53.992Z"
   },
   {
    "duration": 9,
    "start_time": "2021-07-07T18:15:54.009Z"
   },
   {
    "duration": 28,
    "start_time": "2021-07-07T18:15:54.020Z"
   },
   {
    "duration": 50,
    "start_time": "2021-07-07T18:15:54.051Z"
   },
   {
    "duration": 8,
    "start_time": "2021-07-07T18:15:54.105Z"
   },
   {
    "duration": 11,
    "start_time": "2021-07-07T18:15:54.115Z"
   },
   {
    "duration": 20,
    "start_time": "2021-07-07T18:15:54.128Z"
   },
   {
    "duration": 13,
    "start_time": "2021-07-07T18:15:54.184Z"
   },
   {
    "duration": 7,
    "start_time": "2021-07-07T18:15:54.199Z"
   },
   {
    "duration": 7,
    "start_time": "2021-07-07T18:17:08.042Z"
   },
   {
    "duration": 8,
    "start_time": "2021-07-07T18:17:21.008Z"
   },
   {
    "duration": 7,
    "start_time": "2021-07-07T18:17:29.003Z"
   },
   {
    "duration": 8,
    "start_time": "2021-07-07T18:17:32.492Z"
   },
   {
    "duration": 9,
    "start_time": "2021-07-07T18:17:41.758Z"
   },
   {
    "duration": 255,
    "start_time": "2021-07-07T18:20:20.897Z"
   },
   {
    "duration": 173,
    "start_time": "2021-07-07T18:20:26.636Z"
   },
   {
    "duration": 7,
    "start_time": "2021-07-07T18:21:47.164Z"
   },
   {
    "duration": 254,
    "start_time": "2021-07-07T18:23:08.703Z"
   },
   {
    "duration": 21,
    "start_time": "2021-07-07T18:23:22.506Z"
   },
   {
    "duration": 315,
    "start_time": "2021-07-07T18:25:54.801Z"
   },
   {
    "duration": 34,
    "start_time": "2021-07-07T18:26:51.817Z"
   },
   {
    "duration": 327,
    "start_time": "2021-07-07T18:26:56.147Z"
   },
   {
    "duration": 342,
    "start_time": "2021-07-07T18:27:15.887Z"
   },
   {
    "duration": 302,
    "start_time": "2021-07-07T18:28:18.569Z"
   },
   {
    "duration": 226,
    "start_time": "2021-07-07T18:29:20.879Z"
   },
   {
    "duration": 207,
    "start_time": "2021-07-07T18:29:58.114Z"
   },
   {
    "duration": 140,
    "start_time": "2021-07-07T18:32:04.372Z"
   },
   {
    "duration": 158,
    "start_time": "2021-07-07T18:32:32.508Z"
   },
   {
    "duration": 145,
    "start_time": "2021-07-07T18:32:41.365Z"
   },
   {
    "duration": 132,
    "start_time": "2021-07-07T18:32:45.199Z"
   },
   {
    "duration": 11,
    "start_time": "2021-07-07T18:35:24.679Z"
   },
   {
    "duration": 268,
    "start_time": "2021-07-07T18:36:16.145Z"
   },
   {
    "duration": 227,
    "start_time": "2021-07-07T18:37:04.918Z"
   },
   {
    "duration": 3,
    "start_time": "2021-07-07T18:37:33.012Z"
   },
   {
    "duration": 671,
    "start_time": "2021-07-07T18:37:38.295Z"
   },
   {
    "duration": 54,
    "start_time": "2021-07-07T18:37:53.406Z"
   },
   {
    "duration": 631,
    "start_time": "2021-07-07T18:37:56.463Z"
   },
   {
    "duration": 19,
    "start_time": "2021-07-07T18:39:40.535Z"
   },
   {
    "duration": 20,
    "start_time": "2021-07-07T18:40:12.236Z"
   },
   {
    "duration": 633,
    "start_time": "2021-07-07T18:42:00.398Z"
   },
   {
    "duration": 218,
    "start_time": "2021-07-07T18:42:01.033Z"
   },
   {
    "duration": 49,
    "start_time": "2021-07-07T18:42:01.253Z"
   },
   {
    "duration": 5,
    "start_time": "2021-07-07T18:42:01.303Z"
   },
   {
    "duration": 27,
    "start_time": "2021-07-07T18:42:01.310Z"
   },
   {
    "duration": 8,
    "start_time": "2021-07-07T18:42:01.339Z"
   },
   {
    "duration": 20,
    "start_time": "2021-07-07T18:42:01.348Z"
   },
   {
    "duration": 6,
    "start_time": "2021-07-07T18:42:01.386Z"
   },
   {
    "duration": 16,
    "start_time": "2021-07-07T18:42:01.394Z"
   },
   {
    "duration": 9,
    "start_time": "2021-07-07T18:42:01.411Z"
   },
   {
    "duration": 11,
    "start_time": "2021-07-07T18:42:01.421Z"
   },
   {
    "duration": 31,
    "start_time": "2021-07-07T18:42:01.434Z"
   },
   {
    "duration": 18,
    "start_time": "2021-07-07T18:42:01.485Z"
   },
   {
    "duration": 23,
    "start_time": "2021-07-07T18:42:01.505Z"
   },
   {
    "duration": 6,
    "start_time": "2021-07-07T18:42:01.530Z"
   },
   {
    "duration": 10,
    "start_time": "2021-07-07T18:42:01.538Z"
   },
   {
    "duration": 13,
    "start_time": "2021-07-07T18:42:01.550Z"
   },
   {
    "duration": 24,
    "start_time": "2021-07-07T18:42:01.564Z"
   },
   {
    "duration": 20,
    "start_time": "2021-07-07T18:42:01.590Z"
   },
   {
    "duration": 8,
    "start_time": "2021-07-07T18:42:01.611Z"
   },
   {
    "duration": 31,
    "start_time": "2021-07-07T18:42:01.620Z"
   },
   {
    "duration": 39,
    "start_time": "2021-07-07T18:42:01.653Z"
   },
   {
    "duration": 8,
    "start_time": "2021-07-07T18:42:01.696Z"
   },
   {
    "duration": 13,
    "start_time": "2021-07-07T18:42:01.705Z"
   },
   {
    "duration": 20,
    "start_time": "2021-07-07T18:42:01.720Z"
   },
   {
    "duration": 12,
    "start_time": "2021-07-07T18:42:01.741Z"
   },
   {
    "duration": 35,
    "start_time": "2021-07-07T18:42:01.755Z"
   },
   {
    "duration": 14,
    "start_time": "2021-07-07T18:42:01.792Z"
   },
   {
    "duration": 188,
    "start_time": "2021-07-07T18:42:01.808Z"
   },
   {
    "duration": 19,
    "start_time": "2021-07-07T18:42:01.998Z"
   },
   {
    "duration": 175,
    "start_time": "2021-07-07T18:42:02.019Z"
   },
   {
    "duration": 134,
    "start_time": "2021-07-07T18:42:02.196Z"
   },
   {
    "duration": 10,
    "start_time": "2021-07-07T18:42:02.331Z"
   },
   {
    "duration": 19,
    "start_time": "2021-07-07T18:42:02.343Z"
   },
   {
    "duration": 628,
    "start_time": "2021-07-07T18:46:30.701Z"
   },
   {
    "duration": 183,
    "start_time": "2021-07-07T18:46:31.331Z"
   },
   {
    "duration": 48,
    "start_time": "2021-07-07T18:46:31.516Z"
   },
   {
    "duration": 5,
    "start_time": "2021-07-07T18:46:31.566Z"
   },
   {
    "duration": 28,
    "start_time": "2021-07-07T18:46:31.572Z"
   },
   {
    "duration": 8,
    "start_time": "2021-07-07T18:46:31.602Z"
   },
   {
    "duration": 19,
    "start_time": "2021-07-07T18:46:31.611Z"
   },
   {
    "duration": 6,
    "start_time": "2021-07-07T18:46:31.633Z"
   },
   {
    "duration": 17,
    "start_time": "2021-07-07T18:46:31.642Z"
   },
   {
    "duration": 10,
    "start_time": "2021-07-07T18:46:31.684Z"
   },
   {
    "duration": 9,
    "start_time": "2021-07-07T18:46:31.695Z"
   },
   {
    "duration": 28,
    "start_time": "2021-07-07T18:46:31.705Z"
   },
   {
    "duration": 18,
    "start_time": "2021-07-07T18:46:31.735Z"
   },
   {
    "duration": 48,
    "start_time": "2021-07-07T18:46:31.755Z"
   },
   {
    "duration": 6,
    "start_time": "2021-07-07T18:46:31.804Z"
   },
   {
    "duration": 4,
    "start_time": "2021-07-07T18:46:31.812Z"
   },
   {
    "duration": 9,
    "start_time": "2021-07-07T18:46:31.817Z"
   },
   {
    "duration": 10,
    "start_time": "2021-07-07T18:46:31.827Z"
   },
   {
    "duration": 12,
    "start_time": "2021-07-07T18:46:31.838Z"
   },
   {
    "duration": 39,
    "start_time": "2021-07-07T18:46:31.851Z"
   },
   {
    "duration": 24,
    "start_time": "2021-07-07T18:46:31.892Z"
   },
   {
    "duration": 15,
    "start_time": "2021-07-07T18:46:31.918Z"
   },
   {
    "duration": 7,
    "start_time": "2021-07-07T18:46:31.936Z"
   },
   {
    "duration": 8,
    "start_time": "2021-07-07T18:46:31.944Z"
   },
   {
    "duration": 19,
    "start_time": "2021-07-07T18:46:31.984Z"
   },
   {
    "duration": 10,
    "start_time": "2021-07-07T18:46:32.004Z"
   },
   {
    "duration": 5,
    "start_time": "2021-07-07T18:46:32.016Z"
   },
   {
    "duration": 9,
    "start_time": "2021-07-07T18:46:32.023Z"
   },
   {
    "duration": 199,
    "start_time": "2021-07-07T18:46:32.033Z"
   },
   {
    "duration": 19,
    "start_time": "2021-07-07T18:46:32.234Z"
   },
   {
    "duration": 159,
    "start_time": "2021-07-07T18:46:32.255Z"
   },
   {
    "duration": 134,
    "start_time": "2021-07-07T18:46:32.416Z"
   },
   {
    "duration": 10,
    "start_time": "2021-07-07T18:46:32.552Z"
   },
   {
    "duration": 34,
    "start_time": "2021-07-07T18:46:32.563Z"
   },
   {
    "duration": 1039,
    "start_time": "2021-07-08T08:41:09.419Z"
   },
   {
    "duration": 333,
    "start_time": "2021-07-08T08:41:10.459Z"
   },
   {
    "duration": 173,
    "start_time": "2021-07-08T08:41:10.794Z"
   },
   {
    "duration": 5,
    "start_time": "2021-07-08T08:41:10.968Z"
   },
   {
    "duration": 25,
    "start_time": "2021-07-08T08:41:10.975Z"
   },
   {
    "duration": 9,
    "start_time": "2021-07-08T08:41:11.002Z"
   },
   {
    "duration": 18,
    "start_time": "2021-07-08T08:41:11.013Z"
   },
   {
    "duration": 6,
    "start_time": "2021-07-08T08:41:11.033Z"
   },
   {
    "duration": 44,
    "start_time": "2021-07-08T08:41:11.042Z"
   },
   {
    "duration": 10,
    "start_time": "2021-07-08T08:41:11.088Z"
   },
   {
    "duration": 9,
    "start_time": "2021-07-08T08:41:11.100Z"
   },
   {
    "duration": 27,
    "start_time": "2021-07-08T08:41:11.111Z"
   },
   {
    "duration": 46,
    "start_time": "2021-07-08T08:41:11.140Z"
   },
   {
    "duration": 17,
    "start_time": "2021-07-08T08:41:11.187Z"
   },
   {
    "duration": 6,
    "start_time": "2021-07-08T08:41:11.206Z"
   },
   {
    "duration": 5,
    "start_time": "2021-07-08T08:41:11.213Z"
   },
   {
    "duration": 10,
    "start_time": "2021-07-08T08:41:11.219Z"
   },
   {
    "duration": 9,
    "start_time": "2021-07-08T08:41:11.230Z"
   },
   {
    "duration": 45,
    "start_time": "2021-07-08T08:41:11.241Z"
   },
   {
    "duration": 7,
    "start_time": "2021-07-08T08:41:11.287Z"
   },
   {
    "duration": 24,
    "start_time": "2021-07-08T08:41:11.296Z"
   },
   {
    "duration": 16,
    "start_time": "2021-07-08T08:41:11.322Z"
   },
   {
    "duration": 7,
    "start_time": "2021-07-08T08:41:11.341Z"
   },
   {
    "duration": 41,
    "start_time": "2021-07-08T08:41:11.349Z"
   },
   {
    "duration": 17,
    "start_time": "2021-07-08T08:41:11.391Z"
   },
   {
    "duration": 9,
    "start_time": "2021-07-08T08:41:11.410Z"
   },
   {
    "duration": 5,
    "start_time": "2021-07-08T08:41:11.421Z"
   },
   {
    "duration": 6,
    "start_time": "2021-07-08T08:41:11.428Z"
   },
   {
    "duration": 198,
    "start_time": "2021-07-08T08:41:11.435Z"
   },
   {
    "duration": 18,
    "start_time": "2021-07-08T08:41:11.635Z"
   },
   {
    "duration": 155,
    "start_time": "2021-07-08T08:41:11.655Z"
   },
   {
    "duration": 138,
    "start_time": "2021-07-08T08:41:11.811Z"
   },
   {
    "duration": 10,
    "start_time": "2021-07-08T08:41:11.950Z"
   },
   {
    "duration": 29,
    "start_time": "2021-07-08T08:41:11.961Z"
   },
   {
    "duration": 171,
    "start_time": "2021-07-08T08:47:44.522Z"
   },
   {
    "duration": 124,
    "start_time": "2021-07-08T08:47:46.872Z"
   },
   {
    "duration": 191,
    "start_time": "2021-07-08T08:47:58.148Z"
   },
   {
    "duration": 191,
    "start_time": "2021-07-08T08:48:07.412Z"
   },
   {
    "duration": 261,
    "start_time": "2021-07-08T08:48:10.385Z"
   },
   {
    "duration": 255,
    "start_time": "2021-07-08T08:48:14.494Z"
   },
   {
    "duration": 219,
    "start_time": "2021-07-08T08:48:22.752Z"
   },
   {
    "duration": 173,
    "start_time": "2021-07-08T08:49:06.395Z"
   },
   {
    "duration": 180,
    "start_time": "2021-07-08T08:49:21.011Z"
   },
   {
    "duration": 6,
    "start_time": "2021-07-08T08:50:31.697Z"
   },
   {
    "duration": 10,
    "start_time": "2021-07-08T08:50:47.394Z"
   },
   {
    "duration": 11,
    "start_time": "2021-07-08T08:53:49.332Z"
   },
   {
    "duration": 171,
    "start_time": "2021-07-08T08:54:28.408Z"
   },
   {
    "duration": 636,
    "start_time": "2021-07-08T09:02:48.385Z"
   },
   {
    "duration": 227,
    "start_time": "2021-07-08T09:02:49.023Z"
   },
   {
    "duration": 104,
    "start_time": "2021-07-08T09:02:49.252Z"
   },
   {
    "duration": 5,
    "start_time": "2021-07-08T09:02:49.358Z"
   },
   {
    "duration": 27,
    "start_time": "2021-07-08T09:02:49.365Z"
   },
   {
    "duration": 8,
    "start_time": "2021-07-08T09:02:49.394Z"
   },
   {
    "duration": 18,
    "start_time": "2021-07-08T09:02:49.404Z"
   },
   {
    "duration": 6,
    "start_time": "2021-07-08T09:02:49.424Z"
   },
   {
    "duration": 11,
    "start_time": "2021-07-08T09:02:49.433Z"
   },
   {
    "duration": 13,
    "start_time": "2021-07-08T09:02:49.485Z"
   },
   {
    "duration": 9,
    "start_time": "2021-07-08T09:02:49.500Z"
   },
   {
    "duration": 38,
    "start_time": "2021-07-08T09:02:49.511Z"
   },
   {
    "duration": 42,
    "start_time": "2021-07-08T09:02:49.551Z"
   },
   {
    "duration": 21,
    "start_time": "2021-07-08T09:02:49.594Z"
   },
   {
    "duration": 6,
    "start_time": "2021-07-08T09:02:49.616Z"
   },
   {
    "duration": 3,
    "start_time": "2021-07-08T09:02:49.623Z"
   },
   {
    "duration": 9,
    "start_time": "2021-07-08T09:02:49.628Z"
   },
   {
    "duration": 52,
    "start_time": "2021-07-08T09:02:49.638Z"
   },
   {
    "duration": 11,
    "start_time": "2021-07-08T09:02:49.692Z"
   },
   {
    "duration": 8,
    "start_time": "2021-07-08T09:02:49.704Z"
   },
   {
    "duration": 27,
    "start_time": "2021-07-08T09:02:49.713Z"
   },
   {
    "duration": 59,
    "start_time": "2021-07-08T09:02:49.741Z"
   },
   {
    "duration": 8,
    "start_time": "2021-07-08T09:02:49.803Z"
   },
   {
    "duration": 14,
    "start_time": "2021-07-08T09:02:49.813Z"
   },
   {
    "duration": 20,
    "start_time": "2021-07-08T09:02:49.829Z"
   },
   {
    "duration": 44,
    "start_time": "2021-07-08T09:02:49.851Z"
   },
   {
    "duration": 14,
    "start_time": "2021-07-08T09:02:49.896Z"
   },
   {
    "duration": 221,
    "start_time": "2021-07-08T09:02:49.912Z"
   },
   {
    "duration": 6,
    "start_time": "2021-07-08T09:02:50.134Z"
   },
   {
    "duration": 206,
    "start_time": "2021-07-08T09:02:50.142Z"
   },
   {
    "duration": 19,
    "start_time": "2021-07-08T09:02:50.350Z"
   },
   {
    "duration": 21,
    "start_time": "2021-07-08T09:02:50.370Z"
   },
   {
    "duration": 20,
    "start_time": "2021-07-08T09:02:50.393Z"
   },
   {
    "duration": 5,
    "start_time": "2021-07-08T09:02:50.414Z"
   },
   {
    "duration": 5,
    "start_time": "2021-07-08T09:03:34.173Z"
   },
   {
    "duration": 6,
    "start_time": "2021-07-08T09:04:49.062Z"
   },
   {
    "duration": 9,
    "start_time": "2021-07-08T09:04:50.118Z"
   },
   {
    "duration": 14,
    "start_time": "2021-07-08T09:04:58.512Z"
   },
   {
    "duration": 9,
    "start_time": "2021-07-08T09:05:10.988Z"
   },
   {
    "duration": 11,
    "start_time": "2021-07-08T09:05:11.743Z"
   },
   {
    "duration": 7,
    "start_time": "2021-07-08T09:05:25.677Z"
   },
   {
    "duration": 13,
    "start_time": "2021-07-08T09:05:47.189Z"
   },
   {
    "duration": 13,
    "start_time": "2021-07-08T09:05:54.755Z"
   },
   {
    "duration": 4,
    "start_time": "2021-07-08T09:06:29.189Z"
   },
   {
    "duration": 244,
    "start_time": "2021-07-08T09:06:29.195Z"
   },
   {
    "duration": 91,
    "start_time": "2021-07-08T09:06:29.441Z"
   },
   {
    "duration": 4,
    "start_time": "2021-07-08T09:06:29.534Z"
   },
   {
    "duration": 28,
    "start_time": "2021-07-08T09:06:29.540Z"
   },
   {
    "duration": 6,
    "start_time": "2021-07-08T09:06:29.570Z"
   },
   {
    "duration": 18,
    "start_time": "2021-07-08T09:06:29.578Z"
   },
   {
    "duration": 5,
    "start_time": "2021-07-08T09:06:29.597Z"
   },
   {
    "duration": 13,
    "start_time": "2021-07-08T09:06:29.605Z"
   },
   {
    "duration": 8,
    "start_time": "2021-07-08T09:06:29.620Z"
   },
   {
    "duration": 7,
    "start_time": "2021-07-08T09:06:29.630Z"
   },
   {
    "duration": 63,
    "start_time": "2021-07-08T09:06:29.639Z"
   },
   {
    "duration": 17,
    "start_time": "2021-07-08T09:06:29.704Z"
   },
   {
    "duration": 20,
    "start_time": "2021-07-08T09:06:29.723Z"
   },
   {
    "duration": 6,
    "start_time": "2021-07-08T09:06:29.745Z"
   },
   {
    "duration": 3,
    "start_time": "2021-07-08T09:06:29.752Z"
   },
   {
    "duration": 7,
    "start_time": "2021-07-08T09:06:29.785Z"
   },
   {
    "duration": 11,
    "start_time": "2021-07-08T09:06:29.794Z"
   },
   {
    "duration": 15,
    "start_time": "2021-07-08T09:06:29.807Z"
   },
   {
    "duration": 8,
    "start_time": "2021-07-08T09:06:29.823Z"
   },
   {
    "duration": 70,
    "start_time": "2021-07-08T09:06:29.832Z"
   },
   {
    "duration": 17,
    "start_time": "2021-07-08T09:06:29.903Z"
   },
   {
    "duration": 9,
    "start_time": "2021-07-08T09:06:29.921Z"
   },
   {
    "duration": 9,
    "start_time": "2021-07-08T09:06:29.932Z"
   },
   {
    "duration": 57,
    "start_time": "2021-07-08T09:06:29.942Z"
   },
   {
    "duration": 11,
    "start_time": "2021-07-08T09:06:30.001Z"
   },
   {
    "duration": 19,
    "start_time": "2021-07-08T09:06:30.016Z"
   },
   {
    "duration": 217,
    "start_time": "2021-07-08T09:06:30.037Z"
   },
   {
    "duration": 6,
    "start_time": "2021-07-08T09:06:30.255Z"
   },
   {
    "duration": 205,
    "start_time": "2021-07-08T09:06:30.263Z"
   },
   {
    "duration": 27,
    "start_time": "2021-07-08T09:06:30.470Z"
   },
   {
    "duration": 11,
    "start_time": "2021-07-08T09:06:30.500Z"
   },
   {
    "duration": 31,
    "start_time": "2021-07-08T09:06:30.513Z"
   },
   {
    "duration": 18,
    "start_time": "2021-07-08T09:06:30.546Z"
   },
   {
    "duration": 11,
    "start_time": "2021-07-08T09:06:30.566Z"
   },
   {
    "duration": 19,
    "start_time": "2021-07-08T09:06:30.579Z"
   },
   {
    "duration": 20,
    "start_time": "2021-07-08T09:06:49.466Z"
   },
   {
    "duration": 9,
    "start_time": "2021-07-08T09:06:51.994Z"
   },
   {
    "duration": 20,
    "start_time": "2021-07-08T09:06:52.273Z"
   },
   {
    "duration": 246,
    "start_time": "2021-07-08T09:10:21.272Z"
   },
   {
    "duration": 84,
    "start_time": "2021-07-08T09:10:21.436Z"
   },
   {
    "duration": 7,
    "start_time": "2021-07-08T09:10:37.608Z"
   },
   {
    "duration": 189,
    "start_time": "2021-07-08T09:10:38.573Z"
   },
   {
    "duration": 185,
    "start_time": "2021-07-08T09:10:53.181Z"
   },
   {
    "duration": 11,
    "start_time": "2021-07-08T09:10:59.549Z"
   },
   {
    "duration": 42,
    "start_time": "2021-07-08T09:10:59.709Z"
   },
   {
    "duration": 12,
    "start_time": "2021-07-08T09:11:02.857Z"
   },
   {
    "duration": 28,
    "start_time": "2021-07-08T09:11:10.062Z"
   },
   {
    "duration": 249,
    "start_time": "2021-07-08T09:11:37.388Z"
   },
   {
    "duration": 232,
    "start_time": "2021-07-08T09:11:49.485Z"
   },
   {
    "duration": 453,
    "start_time": "2021-07-08T09:12:01.546Z"
   },
   {
    "duration": 440,
    "start_time": "2021-07-08T09:12:12.347Z"
   },
   {
    "duration": 213,
    "start_time": "2021-07-08T09:13:32.196Z"
   },
   {
    "duration": 172,
    "start_time": "2021-07-08T09:14:07.400Z"
   },
   {
    "duration": 185,
    "start_time": "2021-07-08T09:14:14.905Z"
   },
   {
    "duration": 209,
    "start_time": "2021-07-08T09:14:40.109Z"
   },
   {
    "duration": 201,
    "start_time": "2021-07-08T09:14:54.506Z"
   },
   {
    "duration": 622,
    "start_time": "2021-07-08T09:18:14.497Z"
   },
   {
    "duration": 220,
    "start_time": "2021-07-08T09:18:15.121Z"
   },
   {
    "duration": 79,
    "start_time": "2021-07-08T09:18:15.343Z"
   },
   {
    "duration": 4,
    "start_time": "2021-07-08T09:18:15.425Z"
   },
   {
    "duration": 24,
    "start_time": "2021-07-08T09:18:15.431Z"
   },
   {
    "duration": 8,
    "start_time": "2021-07-08T09:18:15.457Z"
   },
   {
    "duration": 16,
    "start_time": "2021-07-08T09:18:15.466Z"
   },
   {
    "duration": 5,
    "start_time": "2021-07-08T09:18:15.484Z"
   },
   {
    "duration": 10,
    "start_time": "2021-07-08T09:18:15.493Z"
   },
   {
    "duration": 8,
    "start_time": "2021-07-08T09:18:15.504Z"
   },
   {
    "duration": 7,
    "start_time": "2021-07-08T09:18:15.513Z"
   },
   {
    "duration": 26,
    "start_time": "2021-07-08T09:18:15.522Z"
   },
   {
    "duration": 49,
    "start_time": "2021-07-08T09:18:15.550Z"
   },
   {
    "duration": 21,
    "start_time": "2021-07-08T09:18:15.601Z"
   },
   {
    "duration": 8,
    "start_time": "2021-07-08T09:18:15.624Z"
   },
   {
    "duration": 3,
    "start_time": "2021-07-08T09:18:15.634Z"
   },
   {
    "duration": 8,
    "start_time": "2021-07-08T09:18:15.639Z"
   },
   {
    "duration": 45,
    "start_time": "2021-07-08T09:18:15.649Z"
   },
   {
    "duration": 13,
    "start_time": "2021-07-08T09:18:15.696Z"
   },
   {
    "duration": 10,
    "start_time": "2021-07-08T09:18:15.711Z"
   },
   {
    "duration": 64,
    "start_time": "2021-07-08T09:18:15.722Z"
   },
   {
    "duration": 19,
    "start_time": "2021-07-08T09:18:15.788Z"
   },
   {
    "duration": 9,
    "start_time": "2021-07-08T09:18:15.809Z"
   },
   {
    "duration": 9,
    "start_time": "2021-07-08T09:18:15.820Z"
   },
   {
    "duration": 18,
    "start_time": "2021-07-08T09:18:15.831Z"
   },
   {
    "duration": 43,
    "start_time": "2021-07-08T09:18:15.851Z"
   },
   {
    "duration": 12,
    "start_time": "2021-07-08T09:18:15.897Z"
   },
   {
    "duration": 219,
    "start_time": "2021-07-08T09:18:15.911Z"
   },
   {
    "duration": 8,
    "start_time": "2021-07-08T09:18:16.132Z"
   },
   {
    "duration": 199,
    "start_time": "2021-07-08T09:18:16.141Z"
   },
   {
    "duration": 18,
    "start_time": "2021-07-08T09:18:16.341Z"
   },
   {
    "duration": 24,
    "start_time": "2021-07-08T09:18:16.361Z"
   },
   {
    "duration": 24,
    "start_time": "2021-07-08T09:18:16.387Z"
   },
   {
    "duration": 211,
    "start_time": "2021-07-08T09:18:16.413Z"
   },
   {
    "duration": 18,
    "start_time": "2021-07-08T09:18:16.626Z"
   },
   {
    "duration": 596,
    "start_time": "2021-07-08T10:06:33.623Z"
   },
   {
    "duration": 181,
    "start_time": "2021-07-08T10:06:34.221Z"
   },
   {
    "duration": 176,
    "start_time": "2021-07-08T10:06:34.635Z"
   },
   {
    "duration": 239,
    "start_time": "2021-07-08T10:06:55.572Z"
   },
   {
    "duration": 6,
    "start_time": "2021-07-08T10:06:57.687Z"
   },
   {
    "duration": 4,
    "start_time": "2021-07-08T10:07:03.956Z"
   },
   {
    "duration": 4,
    "start_time": "2021-07-08T10:07:10.376Z"
   },
   {
    "duration": 4,
    "start_time": "2021-07-08T10:17:19.889Z"
   },
   {
    "duration": 3,
    "start_time": "2021-07-08T10:19:19.407Z"
   },
   {
    "duration": 197,
    "start_time": "2021-07-08T10:19:19.412Z"
   },
   {
    "duration": 127,
    "start_time": "2021-07-08T10:19:19.611Z"
   },
   {
    "duration": 4,
    "start_time": "2021-07-08T10:19:19.740Z"
   },
   {
    "duration": 27,
    "start_time": "2021-07-08T10:19:19.746Z"
   },
   {
    "duration": 7,
    "start_time": "2021-07-08T10:19:19.775Z"
   },
   {
    "duration": 30,
    "start_time": "2021-07-08T10:19:19.784Z"
   },
   {
    "duration": 7,
    "start_time": "2021-07-08T10:19:19.817Z"
   },
   {
    "duration": 26,
    "start_time": "2021-07-08T10:19:19.826Z"
   },
   {
    "duration": 18,
    "start_time": "2021-07-08T10:19:19.854Z"
   },
   {
    "duration": 14,
    "start_time": "2021-07-08T10:19:19.874Z"
   },
   {
    "duration": 48,
    "start_time": "2021-07-08T10:19:19.890Z"
   },
   {
    "duration": 17,
    "start_time": "2021-07-08T10:19:19.940Z"
   },
   {
    "duration": 38,
    "start_time": "2021-07-08T10:19:19.959Z"
   },
   {
    "duration": 8,
    "start_time": "2021-07-08T10:19:19.999Z"
   },
   {
    "duration": 15,
    "start_time": "2021-07-08T10:19:20.009Z"
   },
   {
    "duration": 22,
    "start_time": "2021-07-08T10:19:20.026Z"
   },
   {
    "duration": 10,
    "start_time": "2021-07-08T10:19:20.050Z"
   },
   {
    "duration": 10,
    "start_time": "2021-07-08T10:19:20.062Z"
   },
   {
    "duration": 20,
    "start_time": "2021-07-08T10:19:20.073Z"
   },
   {
    "duration": 29,
    "start_time": "2021-07-08T10:19:20.095Z"
   },
   {
    "duration": 17,
    "start_time": "2021-07-08T10:19:20.126Z"
   },
   {
    "duration": 40,
    "start_time": "2021-07-08T10:19:20.146Z"
   },
   {
    "duration": 15,
    "start_time": "2021-07-08T10:19:20.189Z"
   },
   {
    "duration": 19,
    "start_time": "2021-07-08T10:19:20.206Z"
   },
   {
    "duration": 10,
    "start_time": "2021-07-08T10:19:20.226Z"
   },
   {
    "duration": 11,
    "start_time": "2021-07-08T10:19:20.238Z"
   },
   {
    "duration": 297,
    "start_time": "2021-07-08T10:19:20.250Z"
   },
   {
    "duration": 6,
    "start_time": "2021-07-08T10:19:20.549Z"
   },
   {
    "duration": 191,
    "start_time": "2021-07-08T10:19:20.557Z"
   },
   {
    "duration": 19,
    "start_time": "2021-07-08T10:19:20.750Z"
   },
   {
    "duration": 20,
    "start_time": "2021-07-08T10:19:20.771Z"
   },
   {
    "duration": 15,
    "start_time": "2021-07-08T10:19:20.793Z"
   },
   {
    "duration": 222,
    "start_time": "2021-07-08T10:19:20.809Z"
   },
   {
    "duration": 20,
    "start_time": "2021-07-08T10:19:21.033Z"
   },
   {
    "duration": 27,
    "start_time": "2021-07-08T10:45:04.055Z"
   },
   {
    "duration": 8,
    "start_time": "2021-07-08T10:45:08.478Z"
   },
   {
    "duration": 8,
    "start_time": "2021-07-08T10:45:31.982Z"
   },
   {
    "duration": 10,
    "start_time": "2021-07-08T10:46:01.221Z"
   },
   {
    "duration": 17,
    "start_time": "2021-07-08T10:46:40.011Z"
   },
   {
    "duration": 193,
    "start_time": "2021-07-08T10:48:19.471Z"
   },
   {
    "duration": 225,
    "start_time": "2021-07-08T10:49:26.480Z"
   },
   {
    "duration": 204,
    "start_time": "2021-07-08T10:49:59.992Z"
   },
   {
    "duration": 435,
    "start_time": "2021-07-08T10:50:06.779Z"
   },
   {
    "duration": 199,
    "start_time": "2021-07-08T10:50:14.891Z"
   },
   {
    "duration": 204,
    "start_time": "2021-07-08T10:50:18.501Z"
   },
   {
    "duration": 244,
    "start_time": "2021-07-08T10:50:23.359Z"
   },
   {
    "duration": 192,
    "start_time": "2021-07-08T10:50:29.135Z"
   },
   {
    "duration": 218,
    "start_time": "2021-07-08T10:50:33.092Z"
   },
   {
    "duration": 207,
    "start_time": "2021-07-08T10:52:45.381Z"
   },
   {
    "duration": 5,
    "start_time": "2021-07-08T10:53:34.641Z"
   },
   {
    "duration": 196,
    "start_time": "2021-07-08T10:53:41.478Z"
   },
   {
    "duration": 43,
    "start_time": "2021-07-08T10:53:50.335Z"
   },
   {
    "duration": 32,
    "start_time": "2021-07-08T10:53:55.294Z"
   },
   {
    "duration": 55,
    "start_time": "2021-07-08T10:54:09.675Z"
   },
   {
    "duration": 16,
    "start_time": "2021-07-08T10:54:12.260Z"
   },
   {
    "duration": 15,
    "start_time": "2021-07-08T10:54:49.150Z"
   },
   {
    "duration": 20,
    "start_time": "2021-07-08T10:56:07.596Z"
   },
   {
    "duration": 16,
    "start_time": "2021-07-08T10:58:26.276Z"
   },
   {
    "duration": 22,
    "start_time": "2021-07-08T10:59:00.486Z"
   },
   {
    "duration": 18,
    "start_time": "2021-07-08T11:02:09.653Z"
   },
   {
    "duration": 10,
    "start_time": "2021-07-08T11:03:44.331Z"
   },
   {
    "duration": 10,
    "start_time": "2021-07-08T11:03:54.055Z"
   },
   {
    "duration": 12,
    "start_time": "2021-07-08T11:04:41.967Z"
   },
   {
    "duration": 24,
    "start_time": "2021-07-08T11:07:30.732Z"
   },
   {
    "duration": 6,
    "start_time": "2021-07-08T11:07:37.364Z"
   },
   {
    "duration": 16,
    "start_time": "2021-07-08T11:08:01.819Z"
   },
   {
    "duration": 17,
    "start_time": "2021-07-08T11:09:47.488Z"
   },
   {
    "duration": 246,
    "start_time": "2021-07-08T11:10:00.830Z"
   },
   {
    "duration": 18,
    "start_time": "2021-07-08T11:13:55.195Z"
   },
   {
    "duration": 204,
    "start_time": "2021-07-08T11:14:04.951Z"
   },
   {
    "duration": 19,
    "start_time": "2021-07-08T11:15:10.613Z"
   },
   {
    "duration": 680,
    "start_time": "2021-07-08T11:16:25.793Z"
   },
   {
    "duration": 451,
    "start_time": "2021-07-08T11:16:40.313Z"
   },
   {
    "duration": 469,
    "start_time": "2021-07-08T11:17:21.286Z"
   },
   {
    "duration": 20,
    "start_time": "2021-07-08T11:19:12.554Z"
   },
   {
    "duration": 35,
    "start_time": "2021-07-08T11:20:05.484Z"
   },
   {
    "duration": 53,
    "start_time": "2021-07-08T11:21:40.050Z"
   },
   {
    "duration": 13,
    "start_time": "2021-07-08T11:22:26.059Z"
   },
   {
    "duration": 19,
    "start_time": "2021-07-08T11:22:47.419Z"
   },
   {
    "duration": 25,
    "start_time": "2021-07-08T11:23:19.958Z"
   },
   {
    "duration": 29,
    "start_time": "2021-07-08T11:23:25.415Z"
   },
   {
    "duration": 10,
    "start_time": "2021-07-08T11:24:45.138Z"
   },
   {
    "duration": 19,
    "start_time": "2021-07-08T11:24:54.498Z"
   },
   {
    "duration": 12,
    "start_time": "2021-07-08T11:25:32.225Z"
   },
   {
    "duration": 19,
    "start_time": "2021-07-08T11:25:37.092Z"
   },
   {
    "duration": 17,
    "start_time": "2021-07-08T11:25:58.116Z"
   },
   {
    "duration": 15,
    "start_time": "2021-07-08T11:26:02.258Z"
   },
   {
    "duration": 8,
    "start_time": "2021-07-08T11:26:59.682Z"
   },
   {
    "duration": 184,
    "start_time": "2021-07-08T11:27:21.894Z"
   },
   {
    "duration": 8,
    "start_time": "2021-07-08T11:27:23.824Z"
   },
   {
    "duration": 202,
    "start_time": "2021-07-08T11:27:23.962Z"
   },
   {
    "duration": 360,
    "start_time": "2021-07-08T11:28:33.215Z"
   },
   {
    "duration": 231,
    "start_time": "2021-07-08T11:32:05.542Z"
   },
   {
    "duration": 607,
    "start_time": "2021-07-08T11:36:27.854Z"
   },
   {
    "duration": 241,
    "start_time": "2021-07-08T11:36:28.463Z"
   },
   {
    "duration": 67,
    "start_time": "2021-07-08T11:36:28.709Z"
   },
   {
    "duration": 5,
    "start_time": "2021-07-08T11:36:28.778Z"
   },
   {
    "duration": 32,
    "start_time": "2021-07-08T11:36:28.784Z"
   },
   {
    "duration": 11,
    "start_time": "2021-07-08T11:36:28.819Z"
   },
   {
    "duration": 20,
    "start_time": "2021-07-08T11:36:28.834Z"
   },
   {
    "duration": 36,
    "start_time": "2021-07-08T11:36:28.857Z"
   },
   {
    "duration": 16,
    "start_time": "2021-07-08T11:36:28.895Z"
   },
   {
    "duration": 14,
    "start_time": "2021-07-08T11:36:28.913Z"
   },
   {
    "duration": 9,
    "start_time": "2021-07-08T11:36:28.930Z"
   },
   {
    "duration": 55,
    "start_time": "2021-07-08T11:36:28.941Z"
   },
   {
    "duration": 27,
    "start_time": "2021-07-08T11:36:28.999Z"
   },
   {
    "duration": 30,
    "start_time": "2021-07-08T11:36:29.028Z"
   },
   {
    "duration": 31,
    "start_time": "2021-07-08T11:36:29.060Z"
   },
   {
    "duration": 3,
    "start_time": "2021-07-08T11:36:29.093Z"
   },
   {
    "duration": 12,
    "start_time": "2021-07-08T11:36:29.099Z"
   },
   {
    "duration": 11,
    "start_time": "2021-07-08T11:36:29.112Z"
   },
   {
    "duration": 12,
    "start_time": "2021-07-08T11:36:29.125Z"
   },
   {
    "duration": 9,
    "start_time": "2021-07-08T11:36:29.139Z"
   },
   {
    "duration": 31,
    "start_time": "2021-07-08T11:36:29.191Z"
   },
   {
    "duration": 17,
    "start_time": "2021-07-08T11:36:29.226Z"
   },
   {
    "duration": 7,
    "start_time": "2021-07-08T11:36:29.245Z"
   },
   {
    "duration": 10,
    "start_time": "2021-07-08T11:36:29.254Z"
   },
   {
    "duration": 30,
    "start_time": "2021-07-08T11:36:29.292Z"
   },
   {
    "duration": 11,
    "start_time": "2021-07-08T11:36:29.324Z"
   },
   {
    "duration": 11,
    "start_time": "2021-07-08T11:36:29.337Z"
   },
   {
    "duration": 230,
    "start_time": "2021-07-08T11:36:29.349Z"
   },
   {
    "duration": 13,
    "start_time": "2021-07-08T11:36:29.588Z"
   },
   {
    "duration": 205,
    "start_time": "2021-07-08T11:36:29.603Z"
   },
   {
    "duration": 20,
    "start_time": "2021-07-08T11:36:29.810Z"
   },
   {
    "duration": 9,
    "start_time": "2021-07-08T11:36:29.832Z"
   },
   {
    "duration": 16,
    "start_time": "2021-07-08T11:36:29.843Z"
   },
   {
    "duration": 283,
    "start_time": "2021-07-08T11:36:29.861Z"
   },
   {
    "duration": 50,
    "start_time": "2021-07-08T11:36:30.146Z"
   },
   {
    "duration": 14,
    "start_time": "2021-07-08T11:36:30.198Z"
   },
   {
    "duration": 11,
    "start_time": "2021-07-08T11:36:30.214Z"
   },
   {
    "duration": 245,
    "start_time": "2021-07-08T11:36:30.227Z"
   },
   {
    "duration": 439,
    "start_time": "2021-07-08T11:36:30.474Z"
   },
   {
    "duration": 210,
    "start_time": "2021-07-08T11:36:30.915Z"
   },
   {
    "duration": 15,
    "start_time": "2021-07-08T11:36:31.127Z"
   },
   {
    "duration": 17,
    "start_time": "2021-07-08T11:38:20.451Z"
   },
   {
    "duration": 642,
    "start_time": "2021-07-08T11:46:17.881Z"
   },
   {
    "duration": 210,
    "start_time": "2021-07-08T11:46:18.525Z"
   },
   {
    "duration": 104,
    "start_time": "2021-07-08T11:46:18.741Z"
   },
   {
    "duration": 8,
    "start_time": "2021-07-08T11:46:18.847Z"
   },
   {
    "duration": 25,
    "start_time": "2021-07-08T11:46:18.857Z"
   },
   {
    "duration": 14,
    "start_time": "2021-07-08T11:46:18.884Z"
   },
   {
    "duration": 22,
    "start_time": "2021-07-08T11:46:18.900Z"
   },
   {
    "duration": 5,
    "start_time": "2021-07-08T11:46:18.924Z"
   },
   {
    "duration": 13,
    "start_time": "2021-07-08T11:46:18.931Z"
   },
   {
    "duration": 45,
    "start_time": "2021-07-08T11:46:18.946Z"
   },
   {
    "duration": 12,
    "start_time": "2021-07-08T11:46:18.993Z"
   },
   {
    "duration": 38,
    "start_time": "2021-07-08T11:46:19.006Z"
   },
   {
    "duration": 50,
    "start_time": "2021-07-08T11:46:19.046Z"
   },
   {
    "duration": 29,
    "start_time": "2021-07-08T11:46:19.099Z"
   },
   {
    "duration": 7,
    "start_time": "2021-07-08T11:46:19.130Z"
   },
   {
    "duration": 3,
    "start_time": "2021-07-08T11:46:19.139Z"
   },
   {
    "duration": 11,
    "start_time": "2021-07-08T11:46:19.144Z"
   },
   {
    "duration": 40,
    "start_time": "2021-07-08T11:46:19.157Z"
   },
   {
    "duration": 15,
    "start_time": "2021-07-08T11:46:19.199Z"
   },
   {
    "duration": 10,
    "start_time": "2021-07-08T11:46:19.217Z"
   },
   {
    "duration": 68,
    "start_time": "2021-07-08T11:46:19.230Z"
   },
   {
    "duration": 17,
    "start_time": "2021-07-08T11:46:19.301Z"
   },
   {
    "duration": 7,
    "start_time": "2021-07-08T11:46:19.321Z"
   },
   {
    "duration": 11,
    "start_time": "2021-07-08T11:46:19.330Z"
   },
   {
    "duration": 59,
    "start_time": "2021-07-08T11:46:19.343Z"
   },
   {
    "duration": 17,
    "start_time": "2021-07-08T11:46:19.405Z"
   },
   {
    "duration": 16,
    "start_time": "2021-07-08T11:46:19.424Z"
   },
   {
    "duration": 252,
    "start_time": "2021-07-08T11:46:19.443Z"
   },
   {
    "duration": 9,
    "start_time": "2021-07-08T11:46:19.697Z"
   },
   {
    "duration": 224,
    "start_time": "2021-07-08T11:46:19.708Z"
   },
   {
    "duration": 21,
    "start_time": "2021-07-08T11:46:19.934Z"
   },
   {
    "duration": 9,
    "start_time": "2021-07-08T11:46:19.956Z"
   },
   {
    "duration": 32,
    "start_time": "2021-07-08T11:46:19.967Z"
   },
   {
    "duration": 288,
    "start_time": "2021-07-08T11:46:20.004Z"
   },
   {
    "duration": 23,
    "start_time": "2021-07-08T11:46:20.300Z"
   },
   {
    "duration": 11,
    "start_time": "2021-07-08T11:46:20.325Z"
   },
   {
    "duration": 11,
    "start_time": "2021-07-08T11:46:20.339Z"
   },
   {
    "duration": 259,
    "start_time": "2021-07-08T11:46:20.352Z"
   },
   {
    "duration": 438,
    "start_time": "2021-07-08T11:46:20.613Z"
   },
   {
    "duration": 207,
    "start_time": "2021-07-08T11:46:21.054Z"
   },
   {
    "duration": 27,
    "start_time": "2021-07-08T11:46:21.262Z"
   },
   {
    "duration": 19,
    "start_time": "2021-07-08T11:46:21.291Z"
   },
   {
    "duration": 820,
    "start_time": "2021-07-08T11:49:01.655Z"
   },
   {
    "duration": 372,
    "start_time": "2021-07-08T11:49:02.478Z"
   },
   {
    "duration": 98,
    "start_time": "2021-07-08T11:49:02.853Z"
   },
   {
    "duration": 6,
    "start_time": "2021-07-08T11:49:02.953Z"
   },
   {
    "duration": 39,
    "start_time": "2021-07-08T11:49:02.960Z"
   },
   {
    "duration": 9,
    "start_time": "2021-07-08T11:49:03.003Z"
   },
   {
    "duration": 23,
    "start_time": "2021-07-08T11:49:03.014Z"
   },
   {
    "duration": 6,
    "start_time": "2021-07-08T11:49:03.041Z"
   },
   {
    "duration": 20,
    "start_time": "2021-07-08T11:49:03.049Z"
   },
   {
    "duration": 18,
    "start_time": "2021-07-08T11:49:03.084Z"
   },
   {
    "duration": 14,
    "start_time": "2021-07-08T11:49:03.104Z"
   },
   {
    "duration": 39,
    "start_time": "2021-07-08T11:49:03.119Z"
   },
   {
    "duration": 38,
    "start_time": "2021-07-08T11:49:03.160Z"
   },
   {
    "duration": 26,
    "start_time": "2021-07-08T11:49:03.200Z"
   },
   {
    "duration": 7,
    "start_time": "2021-07-08T11:49:03.227Z"
   },
   {
    "duration": 4,
    "start_time": "2021-07-08T11:49:03.236Z"
   },
   {
    "duration": 15,
    "start_time": "2021-07-08T11:49:03.243Z"
   },
   {
    "duration": 21,
    "start_time": "2021-07-08T11:49:03.285Z"
   },
   {
    "duration": 17,
    "start_time": "2021-07-08T11:49:03.309Z"
   },
   {
    "duration": 10,
    "start_time": "2021-07-08T11:49:03.328Z"
   },
   {
    "duration": 65,
    "start_time": "2021-07-08T11:49:03.340Z"
   },
   {
    "duration": 18,
    "start_time": "2021-07-08T11:49:03.407Z"
   },
   {
    "duration": 8,
    "start_time": "2021-07-08T11:49:03.428Z"
   },
   {
    "duration": 15,
    "start_time": "2021-07-08T11:49:03.438Z"
   },
   {
    "duration": 40,
    "start_time": "2021-07-08T11:49:03.455Z"
   },
   {
    "duration": 12,
    "start_time": "2021-07-08T11:49:03.497Z"
   },
   {
    "duration": 29,
    "start_time": "2021-07-08T11:49:03.511Z"
   },
   {
    "duration": 285,
    "start_time": "2021-07-08T11:49:03.542Z"
   },
   {
    "duration": 8,
    "start_time": "2021-07-08T11:49:03.829Z"
   },
   {
    "duration": 227,
    "start_time": "2021-07-08T11:49:03.838Z"
   },
   {
    "duration": 40,
    "start_time": "2021-07-08T11:49:04.066Z"
   },
   {
    "duration": 10,
    "start_time": "2021-07-08T11:49:04.108Z"
   },
   {
    "duration": 26,
    "start_time": "2021-07-08T11:49:04.121Z"
   },
   {
    "duration": 290,
    "start_time": "2021-07-08T11:49:04.149Z"
   },
   {
    "duration": 26,
    "start_time": "2021-07-08T11:49:04.441Z"
   },
   {
    "duration": 31,
    "start_time": "2021-07-08T11:49:04.470Z"
   },
   {
    "duration": 14,
    "start_time": "2021-07-08T11:49:04.503Z"
   },
   {
    "duration": 259,
    "start_time": "2021-07-08T11:49:04.521Z"
   },
   {
    "duration": 480,
    "start_time": "2021-07-08T11:49:04.782Z"
   },
   {
    "duration": 225,
    "start_time": "2021-07-08T11:49:05.264Z"
   },
   {
    "duration": 22,
    "start_time": "2021-07-08T11:49:05.491Z"
   },
   {
    "duration": 24,
    "start_time": "2021-07-08T11:49:05.515Z"
   },
   {
    "duration": 634,
    "start_time": "2021-07-08T11:52:24.960Z"
   },
   {
    "duration": 199,
    "start_time": "2021-07-08T11:52:25.599Z"
   },
   {
    "duration": 106,
    "start_time": "2021-07-08T11:52:25.803Z"
   },
   {
    "duration": 7,
    "start_time": "2021-07-08T11:52:25.911Z"
   },
   {
    "duration": 29,
    "start_time": "2021-07-08T11:52:25.920Z"
   },
   {
    "duration": 7,
    "start_time": "2021-07-08T11:52:25.951Z"
   },
   {
    "duration": 26,
    "start_time": "2021-07-08T11:52:25.961Z"
   },
   {
    "duration": 11,
    "start_time": "2021-07-08T11:52:25.990Z"
   },
   {
    "duration": 29,
    "start_time": "2021-07-08T11:52:26.005Z"
   },
   {
    "duration": 9,
    "start_time": "2021-07-08T11:52:26.036Z"
   },
   {
    "duration": 8,
    "start_time": "2021-07-08T11:52:26.047Z"
   },
   {
    "duration": 63,
    "start_time": "2021-07-08T11:52:26.057Z"
   },
   {
    "duration": 17,
    "start_time": "2021-07-08T11:52:26.122Z"
   },
   {
    "duration": 43,
    "start_time": "2021-07-08T11:52:26.142Z"
   },
   {
    "duration": 17,
    "start_time": "2021-07-08T11:52:26.187Z"
   },
   {
    "duration": 5,
    "start_time": "2021-07-08T11:52:26.206Z"
   },
   {
    "duration": 12,
    "start_time": "2021-07-08T11:52:26.212Z"
   },
   {
    "duration": 11,
    "start_time": "2021-07-08T11:52:26.226Z"
   },
   {
    "duration": 12,
    "start_time": "2021-07-08T11:52:26.238Z"
   },
   {
    "duration": 38,
    "start_time": "2021-07-08T11:52:26.252Z"
   },
   {
    "duration": 40,
    "start_time": "2021-07-08T11:52:26.292Z"
   },
   {
    "duration": 17,
    "start_time": "2021-07-08T11:52:26.336Z"
   },
   {
    "duration": 39,
    "start_time": "2021-07-08T11:52:26.355Z"
   },
   {
    "duration": 11,
    "start_time": "2021-07-08T11:52:26.395Z"
   },
   {
    "duration": 23,
    "start_time": "2021-07-08T11:52:26.408Z"
   },
   {
    "duration": 12,
    "start_time": "2021-07-08T11:52:26.432Z"
   },
   {
    "duration": 41,
    "start_time": "2021-07-08T11:52:26.446Z"
   },
   {
    "duration": 215,
    "start_time": "2021-07-08T11:52:26.493Z"
   },
   {
    "duration": 8,
    "start_time": "2021-07-08T11:52:26.710Z"
   },
   {
    "duration": 228,
    "start_time": "2021-07-08T11:52:26.720Z"
   },
   {
    "duration": 18,
    "start_time": "2021-07-08T11:52:26.950Z"
   },
   {
    "duration": 35,
    "start_time": "2021-07-08T11:52:26.969Z"
   },
   {
    "duration": 23,
    "start_time": "2021-07-08T11:52:27.006Z"
   },
   {
    "duration": 258,
    "start_time": "2021-07-08T11:52:27.030Z"
   },
   {
    "duration": 24,
    "start_time": "2021-07-08T11:52:27.290Z"
   },
   {
    "duration": 12,
    "start_time": "2021-07-08T11:52:27.316Z"
   },
   {
    "duration": 10,
    "start_time": "2021-07-08T11:52:27.329Z"
   },
   {
    "duration": 298,
    "start_time": "2021-07-08T11:52:27.341Z"
   },
   {
    "duration": 436,
    "start_time": "2021-07-08T11:52:27.641Z"
   },
   {
    "duration": 216,
    "start_time": "2021-07-08T11:52:28.079Z"
   },
   {
    "duration": 20,
    "start_time": "2021-07-08T11:52:28.297Z"
   },
   {
    "duration": 17,
    "start_time": "2021-07-08T11:52:28.319Z"
   },
   {
    "duration": 1793,
    "start_time": "2022-11-19T11:46:26.495Z"
   },
   {
    "duration": 178,
    "start_time": "2022-11-19T11:46:38.550Z"
   },
   {
    "duration": 194,
    "start_time": "2022-11-19T11:46:53.406Z"
   },
   {
    "duration": 164,
    "start_time": "2022-11-19T11:47:30.197Z"
   },
   {
    "duration": 331,
    "start_time": "2022-11-19T11:49:20.646Z"
   },
   {
    "duration": 14,
    "start_time": "2022-11-19T11:49:49.992Z"
   },
   {
    "duration": 5,
    "start_time": "2022-11-19T11:50:00.870Z"
   },
   {
    "duration": 4,
    "start_time": "2022-11-19T12:43:35.132Z"
   },
   {
    "duration": 4,
    "start_time": "2022-11-19T12:43:38.205Z"
   },
   {
    "duration": 5,
    "start_time": "2022-11-19T12:43:44.673Z"
   },
   {
    "duration": 7,
    "start_time": "2022-11-19T12:44:49.526Z"
   },
   {
    "duration": 12,
    "start_time": "2022-11-19T12:44:49.934Z"
   },
   {
    "duration": 18,
    "start_time": "2022-11-19T12:45:02.957Z"
   },
   {
    "duration": 24,
    "start_time": "2022-11-19T12:46:02.996Z"
   },
   {
    "duration": 18,
    "start_time": "2022-11-19T12:48:35.660Z"
   },
   {
    "duration": 11,
    "start_time": "2022-11-19T12:48:36.176Z"
   },
   {
    "duration": 10,
    "start_time": "2022-11-19T12:48:52.253Z"
   },
   {
    "duration": 12,
    "start_time": "2022-11-19T12:49:42.236Z"
   },
   {
    "duration": 10,
    "start_time": "2022-11-19T12:50:33.341Z"
   },
   {
    "duration": 6,
    "start_time": "2022-11-19T12:51:25.108Z"
   },
   {
    "duration": 6,
    "start_time": "2022-11-19T12:51:43.805Z"
   },
   {
    "duration": 7,
    "start_time": "2022-11-19T12:51:56.790Z"
   },
   {
    "duration": 5,
    "start_time": "2022-11-19T12:52:14.493Z"
   },
   {
    "duration": 5,
    "start_time": "2022-11-19T12:52:37.968Z"
   },
   {
    "duration": 20,
    "start_time": "2022-11-19T12:53:42.343Z"
   },
   {
    "duration": 10,
    "start_time": "2022-11-19T12:55:20.038Z"
   },
   {
    "duration": 4,
    "start_time": "2022-11-19T12:55:46.015Z"
   },
   {
    "duration": 45,
    "start_time": "2022-11-19T12:59:10.646Z"
   },
   {
    "duration": 5,
    "start_time": "2022-11-19T12:59:26.423Z"
   },
   {
    "duration": 31,
    "start_time": "2022-11-19T12:59:26.979Z"
   },
   {
    "duration": 9,
    "start_time": "2022-11-19T13:00:17.952Z"
   },
   {
    "duration": 9,
    "start_time": "2022-11-19T13:00:26.355Z"
   },
   {
    "duration": 11,
    "start_time": "2022-11-19T13:01:08.807Z"
   },
   {
    "duration": 1216,
    "start_time": "2022-11-19T13:01:43.510Z"
   },
   {
    "duration": 6,
    "start_time": "2022-11-19T13:01:44.730Z"
   },
   {
    "duration": 12,
    "start_time": "2022-11-19T13:01:44.738Z"
   },
   {
    "duration": 18,
    "start_time": "2022-11-19T13:01:44.753Z"
   },
   {
    "duration": 50,
    "start_time": "2022-11-19T13:01:44.773Z"
   },
   {
    "duration": 26,
    "start_time": "2022-11-19T13:01:44.825Z"
   },
   {
    "duration": 34,
    "start_time": "2022-11-19T13:01:44.853Z"
   },
   {
    "duration": 26,
    "start_time": "2022-11-19T13:01:44.889Z"
   },
   {
    "duration": 54,
    "start_time": "2022-11-19T13:01:44.917Z"
   },
   {
    "duration": 16,
    "start_time": "2022-11-19T13:01:44.974Z"
   },
   {
    "duration": 19,
    "start_time": "2022-11-19T13:14:11.195Z"
   },
   {
    "duration": 13,
    "start_time": "2022-11-19T13:14:19.257Z"
   },
   {
    "duration": 9,
    "start_time": "2022-11-19T13:14:26.251Z"
   },
   {
    "duration": 7,
    "start_time": "2022-11-19T13:15:27.041Z"
   },
   {
    "duration": 8,
    "start_time": "2022-11-19T13:15:34.034Z"
   },
   {
    "duration": 115,
    "start_time": "2022-11-19T13:16:45.498Z"
   },
   {
    "duration": 11,
    "start_time": "2022-11-19T13:17:18.188Z"
   },
   {
    "duration": 1266,
    "start_time": "2022-11-19T13:17:20.822Z"
   },
   {
    "duration": 4,
    "start_time": "2022-11-19T13:17:22.090Z"
   },
   {
    "duration": 17,
    "start_time": "2022-11-19T13:17:22.096Z"
   },
   {
    "duration": 22,
    "start_time": "2022-11-19T13:17:22.115Z"
   },
   {
    "duration": 19,
    "start_time": "2022-11-19T13:17:22.139Z"
   },
   {
    "duration": 19,
    "start_time": "2022-11-19T13:17:22.160Z"
   },
   {
    "duration": 12,
    "start_time": "2022-11-19T13:17:22.180Z"
   },
   {
    "duration": 22,
    "start_time": "2022-11-19T13:17:22.193Z"
   },
   {
    "duration": 51,
    "start_time": "2022-11-19T13:17:22.217Z"
   },
   {
    "duration": 16,
    "start_time": "2022-11-19T13:17:22.271Z"
   },
   {
    "duration": 17,
    "start_time": "2022-11-19T13:17:22.289Z"
   },
   {
    "duration": 134,
    "start_time": "2022-11-19T13:17:22.308Z"
   },
   {
    "duration": 16,
    "start_time": "2022-11-19T13:18:09.009Z"
   },
   {
    "duration": 16,
    "start_time": "2022-11-19T13:18:20.577Z"
   },
   {
    "duration": 20,
    "start_time": "2022-11-19T13:20:04.315Z"
   },
   {
    "duration": 11,
    "start_time": "2022-11-19T13:20:09.713Z"
   },
   {
    "duration": 5,
    "start_time": "2022-11-19T13:20:10.449Z"
   },
   {
    "duration": 14,
    "start_time": "2022-11-19T13:20:10.832Z"
   },
   {
    "duration": 15,
    "start_time": "2022-11-19T13:20:11.172Z"
   },
   {
    "duration": 1386,
    "start_time": "2022-11-19T13:20:48.054Z"
   },
   {
    "duration": 5,
    "start_time": "2022-11-19T13:20:49.442Z"
   },
   {
    "duration": 9,
    "start_time": "2022-11-19T13:20:49.449Z"
   },
   {
    "duration": 32,
    "start_time": "2022-11-19T13:20:49.460Z"
   },
   {
    "duration": 35,
    "start_time": "2022-11-19T13:20:49.495Z"
   },
   {
    "duration": 40,
    "start_time": "2022-11-19T13:20:49.533Z"
   },
   {
    "duration": 24,
    "start_time": "2022-11-19T13:20:49.575Z"
   },
   {
    "duration": 14,
    "start_time": "2022-11-19T13:20:49.601Z"
   },
   {
    "duration": 49,
    "start_time": "2022-11-19T13:20:49.618Z"
   },
   {
    "duration": 23,
    "start_time": "2022-11-19T13:20:49.668Z"
   },
   {
    "duration": 13,
    "start_time": "2022-11-19T13:20:49.694Z"
   },
   {
    "duration": 137,
    "start_time": "2022-11-19T13:20:49.709Z"
   },
   {
    "duration": 11,
    "start_time": "2022-11-19T13:22:34.122Z"
   },
   {
    "duration": 4,
    "start_time": "2022-11-19T13:22:34.654Z"
   },
   {
    "duration": 27,
    "start_time": "2022-11-19T13:22:35.228Z"
   },
   {
    "duration": 10,
    "start_time": "2022-11-19T13:22:38.147Z"
   },
   {
    "duration": 8,
    "start_time": "2022-11-19T13:22:38.558Z"
   },
   {
    "duration": 9,
    "start_time": "2022-11-19T13:22:41.588Z"
   },
   {
    "duration": 7,
    "start_time": "2022-11-19T13:22:43.259Z"
   },
   {
    "duration": 1348,
    "start_time": "2022-11-19T13:22:48.388Z"
   },
   {
    "duration": 5,
    "start_time": "2022-11-19T13:22:49.738Z"
   },
   {
    "duration": 8,
    "start_time": "2022-11-19T13:22:49.744Z"
   },
   {
    "duration": 9,
    "start_time": "2022-11-19T13:22:49.754Z"
   },
   {
    "duration": 24,
    "start_time": "2022-11-19T13:22:49.765Z"
   },
   {
    "duration": 14,
    "start_time": "2022-11-19T13:22:49.791Z"
   },
   {
    "duration": 12,
    "start_time": "2022-11-19T13:22:49.807Z"
   },
   {
    "duration": 5,
    "start_time": "2022-11-19T13:22:49.820Z"
   },
   {
    "duration": 53,
    "start_time": "2022-11-19T13:22:49.826Z"
   },
   {
    "duration": 15,
    "start_time": "2022-11-19T13:22:49.882Z"
   },
   {
    "duration": 10,
    "start_time": "2022-11-19T13:22:49.898Z"
   },
   {
    "duration": 127,
    "start_time": "2022-11-19T13:22:49.909Z"
   },
   {
    "duration": 5,
    "start_time": "2022-11-19T13:24:15.795Z"
   },
   {
    "duration": 11,
    "start_time": "2022-11-19T13:25:23.889Z"
   },
   {
    "duration": 1447,
    "start_time": "2022-11-19T13:25:27.541Z"
   },
   {
    "duration": 8,
    "start_time": "2022-11-19T13:25:28.990Z"
   },
   {
    "duration": 23,
    "start_time": "2022-11-19T13:25:29.000Z"
   },
   {
    "duration": 23,
    "start_time": "2022-11-19T13:25:29.025Z"
   },
   {
    "duration": 57,
    "start_time": "2022-11-19T13:25:29.050Z"
   },
   {
    "duration": 14,
    "start_time": "2022-11-19T13:25:29.109Z"
   },
   {
    "duration": 34,
    "start_time": "2022-11-19T13:25:29.125Z"
   },
   {
    "duration": 5,
    "start_time": "2022-11-19T13:25:29.161Z"
   },
   {
    "duration": 58,
    "start_time": "2022-11-19T13:25:29.167Z"
   },
   {
    "duration": 12,
    "start_time": "2022-11-19T13:25:29.227Z"
   },
   {
    "duration": 14,
    "start_time": "2022-11-19T13:25:29.241Z"
   },
   {
    "duration": 183,
    "start_time": "2022-11-19T13:25:29.256Z"
   },
   {
    "duration": 1106,
    "start_time": "2022-11-19T13:28:56.205Z"
   },
   {
    "duration": 27,
    "start_time": "2022-11-19T13:29:03.163Z"
   },
   {
    "duration": 9,
    "start_time": "2022-11-19T13:29:30.694Z"
   },
   {
    "duration": 7,
    "start_time": "2022-11-19T13:30:13.871Z"
   },
   {
    "duration": 31,
    "start_time": "2022-11-19T13:30:49.273Z"
   },
   {
    "duration": 6,
    "start_time": "2022-11-19T13:31:30.192Z"
   },
   {
    "duration": 6,
    "start_time": "2022-11-19T13:32:37.494Z"
   },
   {
    "duration": 5,
    "start_time": "2022-11-19T13:32:52.525Z"
   },
   {
    "duration": 177,
    "start_time": "2022-11-19T13:34:27.135Z"
   },
   {
    "duration": 169,
    "start_time": "2022-11-19T13:35:00.763Z"
   },
   {
    "duration": 5,
    "start_time": "2022-11-19T13:36:23.310Z"
   },
   {
    "duration": 46,
    "start_time": "2022-11-20T14:53:18.660Z"
   },
   {
    "duration": 1723,
    "start_time": "2022-11-20T14:53:25.885Z"
   },
   {
    "duration": 7,
    "start_time": "2022-11-20T14:53:27.611Z"
   },
   {
    "duration": 15,
    "start_time": "2022-11-20T14:53:27.620Z"
   },
   {
    "duration": 21,
    "start_time": "2022-11-20T14:53:27.637Z"
   },
   {
    "duration": 24,
    "start_time": "2022-11-20T14:53:27.661Z"
   },
   {
    "duration": 34,
    "start_time": "2022-11-20T14:53:27.687Z"
   },
   {
    "duration": 22,
    "start_time": "2022-11-20T14:53:27.723Z"
   },
   {
    "duration": 30,
    "start_time": "2022-11-20T14:53:27.747Z"
   },
   {
    "duration": 42,
    "start_time": "2022-11-20T14:53:27.779Z"
   },
   {
    "duration": 13,
    "start_time": "2022-11-20T14:53:27.823Z"
   },
   {
    "duration": 9,
    "start_time": "2022-11-20T14:53:27.838Z"
   },
   {
    "duration": 180,
    "start_time": "2022-11-20T14:53:27.848Z"
   },
   {
    "duration": 7,
    "start_time": "2022-11-20T14:53:28.030Z"
   },
   {
    "duration": 25,
    "start_time": "2022-11-20T14:53:28.039Z"
   },
   {
    "duration": 6,
    "start_time": "2022-11-20T14:53:28.066Z"
   },
   {
    "duration": 8,
    "start_time": "2022-11-20T14:53:28.074Z"
   },
   {
    "duration": 6,
    "start_time": "2022-11-20T14:53:28.105Z"
   },
   {
    "duration": 186,
    "start_time": "2022-11-20T14:53:28.112Z"
   },
   {
    "duration": 5,
    "start_time": "2022-11-20T14:53:28.305Z"
   },
   {
    "duration": 25,
    "start_time": "2022-11-20T14:58:05.270Z"
   },
   {
    "duration": 13,
    "start_time": "2022-11-20T14:58:22.428Z"
   },
   {
    "duration": 27,
    "start_time": "2022-11-20T14:58:48.349Z"
   },
   {
    "duration": 70,
    "start_time": "2022-11-20T14:59:21.351Z"
   },
   {
    "duration": 27,
    "start_time": "2022-11-20T14:59:25.947Z"
   },
   {
    "duration": 4,
    "start_time": "2022-11-20T15:02:09.145Z"
   },
   {
    "duration": 6,
    "start_time": "2022-11-20T15:02:18.452Z"
   },
   {
    "duration": 5,
    "start_time": "2022-11-20T15:02:38.345Z"
   },
   {
    "duration": 109,
    "start_time": "2022-11-20T15:04:32.755Z"
   },
   {
    "duration": 10,
    "start_time": "2022-11-20T15:05:51.096Z"
   },
   {
    "duration": 11,
    "start_time": "2022-11-20T15:09:10.467Z"
   },
   {
    "duration": 8,
    "start_time": "2022-11-20T15:09:17.443Z"
   },
   {
    "duration": 6,
    "start_time": "2022-11-20T15:09:42.125Z"
   },
   {
    "duration": 7,
    "start_time": "2022-11-20T15:09:51.508Z"
   },
   {
    "duration": 9,
    "start_time": "2022-11-20T15:12:01.646Z"
   },
   {
    "duration": 26,
    "start_time": "2022-11-20T15:12:15.820Z"
   },
   {
    "duration": 9,
    "start_time": "2022-11-20T15:15:22.474Z"
   },
   {
    "duration": 5,
    "start_time": "2022-11-20T15:15:35.127Z"
   },
   {
    "duration": 4,
    "start_time": "2022-11-20T15:15:47.158Z"
   },
   {
    "duration": 10,
    "start_time": "2022-11-20T15:16:22.822Z"
   },
   {
    "duration": 5,
    "start_time": "2022-11-20T15:17:09.198Z"
   },
   {
    "duration": 5,
    "start_time": "2022-11-20T15:18:35.287Z"
   },
   {
    "duration": 8,
    "start_time": "2022-11-20T15:31:18.561Z"
   },
   {
    "duration": 15,
    "start_time": "2022-11-20T15:31:43.587Z"
   },
   {
    "duration": 5,
    "start_time": "2022-11-20T15:31:59.422Z"
   },
   {
    "duration": 5,
    "start_time": "2022-11-20T15:32:26.860Z"
   },
   {
    "duration": 19,
    "start_time": "2022-11-20T15:32:46.284Z"
   },
   {
    "duration": 4,
    "start_time": "2022-11-20T15:34:18.075Z"
   },
   {
    "duration": 5,
    "start_time": "2022-11-20T15:34:39.077Z"
   },
   {
    "duration": 5,
    "start_time": "2022-11-20T15:34:47.081Z"
   },
   {
    "duration": 4,
    "start_time": "2022-11-20T15:35:17.722Z"
   },
   {
    "duration": 5,
    "start_time": "2022-11-20T15:35:44.548Z"
   },
   {
    "duration": 6,
    "start_time": "2022-11-20T15:35:57.810Z"
   },
   {
    "duration": 7,
    "start_time": "2022-11-20T15:36:03.523Z"
   },
   {
    "duration": 6,
    "start_time": "2022-11-20T15:36:09.178Z"
   },
   {
    "duration": 77,
    "start_time": "2022-11-20T15:42:30.143Z"
   },
   {
    "duration": 85,
    "start_time": "2022-11-20T15:42:37.218Z"
   },
   {
    "duration": 71,
    "start_time": "2022-11-20T15:42:42.211Z"
   },
   {
    "duration": 158,
    "start_time": "2022-11-20T15:42:52.757Z"
   },
   {
    "duration": 4,
    "start_time": "2022-11-20T15:43:15.990Z"
   },
   {
    "duration": 13,
    "start_time": "2022-11-20T15:43:26.149Z"
   },
   {
    "duration": 126,
    "start_time": "2022-11-20T15:44:36.852Z"
   },
   {
    "duration": 1748,
    "start_time": "2022-11-20T15:44:50.910Z"
   },
   {
    "duration": 1205,
    "start_time": "2022-11-20T15:45:11.140Z"
   },
   {
    "duration": 1186,
    "start_time": "2022-11-20T15:45:41.158Z"
   },
   {
    "duration": 12,
    "start_time": "2022-11-20T15:46:00.121Z"
   },
   {
    "duration": 127,
    "start_time": "2022-11-20T15:46:09.735Z"
   },
   {
    "duration": 1270,
    "start_time": "2022-11-20T15:46:22.126Z"
   },
   {
    "duration": 24,
    "start_time": "2022-11-20T15:46:29.140Z"
   },
   {
    "duration": 8,
    "start_time": "2022-11-20T15:49:27.847Z"
   },
   {
    "duration": 1212,
    "start_time": "2022-11-20T15:49:35.196Z"
   },
   {
    "duration": 12,
    "start_time": "2022-11-20T15:50:21.447Z"
   },
   {
    "duration": 1310,
    "start_time": "2022-11-20T15:50:22.877Z"
   },
   {
    "duration": 22,
    "start_time": "2022-11-20T15:50:57.879Z"
   },
   {
    "duration": 17,
    "start_time": "2022-11-20T15:51:08.151Z"
   },
   {
    "duration": 1241,
    "start_time": "2022-11-20T15:51:15.790Z"
   },
   {
    "duration": 18,
    "start_time": "2022-11-20T15:52:50.343Z"
   },
   {
    "duration": 1067,
    "start_time": "2022-11-20T15:52:52.368Z"
   },
   {
    "duration": 13,
    "start_time": "2022-11-20T15:53:05.434Z"
   },
   {
    "duration": 218,
    "start_time": "2022-11-20T15:53:08.133Z"
   },
   {
    "duration": 99,
    "start_time": "2022-11-20T15:53:28.538Z"
   },
   {
    "duration": 1250,
    "start_time": "2022-11-20T15:53:32.571Z"
   },
   {
    "duration": 297,
    "start_time": "2022-11-20T15:53:45.157Z"
   },
   {
    "duration": 1191,
    "start_time": "2022-11-20T15:53:46.185Z"
   },
   {
    "duration": 15,
    "start_time": "2022-11-20T15:53:59.814Z"
   },
   {
    "duration": 217,
    "start_time": "2022-11-20T15:54:09.710Z"
   },
   {
    "duration": 240,
    "start_time": "2022-11-20T15:54:24.800Z"
   },
   {
    "duration": 297,
    "start_time": "2022-11-20T15:54:37.113Z"
   },
   {
    "duration": 1114,
    "start_time": "2022-11-20T15:54:39.927Z"
   },
   {
    "duration": 26,
    "start_time": "2022-11-20T15:56:50.286Z"
   },
   {
    "duration": 27,
    "start_time": "2022-11-20T15:56:52.520Z"
   },
   {
    "duration": 160,
    "start_time": "2022-11-20T15:56:53.471Z"
   },
   {
    "duration": 25,
    "start_time": "2022-11-20T15:57:04.024Z"
   },
   {
    "duration": 7,
    "start_time": "2022-11-20T15:57:46.649Z"
   },
   {
    "duration": 10,
    "start_time": "2022-11-20T15:57:52.702Z"
   },
   {
    "duration": 5,
    "start_time": "2022-11-20T16:14:26.061Z"
   },
   {
    "duration": 6,
    "start_time": "2022-11-20T16:14:37.210Z"
   },
   {
    "duration": 6,
    "start_time": "2022-11-20T16:14:42.105Z"
   },
   {
    "duration": 6,
    "start_time": "2022-11-20T16:14:51.543Z"
   },
   {
    "duration": 5,
    "start_time": "2022-11-20T16:15:27.221Z"
   },
   {
    "duration": 63,
    "start_time": "2022-11-20T16:15:35.098Z"
   },
   {
    "duration": 6,
    "start_time": "2022-11-20T16:16:01.699Z"
   },
   {
    "duration": 6,
    "start_time": "2022-11-20T16:16:22.274Z"
   },
   {
    "duration": 5,
    "start_time": "2022-11-20T16:16:32.554Z"
   },
   {
    "duration": 5,
    "start_time": "2022-11-20T16:17:28.769Z"
   },
   {
    "duration": 5,
    "start_time": "2022-11-20T16:18:37.691Z"
   },
   {
    "duration": 10,
    "start_time": "2022-11-20T16:20:28.637Z"
   },
   {
    "duration": 4,
    "start_time": "2022-11-20T16:20:43.772Z"
   },
   {
    "duration": 4,
    "start_time": "2022-11-20T16:20:52.765Z"
   },
   {
    "duration": 21,
    "start_time": "2022-11-20T16:22:18.733Z"
   },
   {
    "duration": 1164,
    "start_time": "2022-11-20T16:22:45.261Z"
   },
   {
    "duration": 277,
    "start_time": "2022-11-20T16:23:08.598Z"
   },
   {
    "duration": 220,
    "start_time": "2022-11-20T16:24:05.775Z"
   },
   {
    "duration": 249,
    "start_time": "2022-11-20T16:24:32.588Z"
   },
   {
    "duration": 76,
    "start_time": "2022-11-20T16:25:08.201Z"
   },
   {
    "duration": 264,
    "start_time": "2022-11-20T16:25:15.461Z"
   },
   {
    "duration": 252,
    "start_time": "2022-11-20T16:25:20.017Z"
   },
   {
    "duration": 242,
    "start_time": "2022-11-20T16:26:35.021Z"
   },
   {
    "duration": 273,
    "start_time": "2022-11-20T16:26:43.509Z"
   },
   {
    "duration": 239,
    "start_time": "2022-11-20T16:26:57.280Z"
   },
   {
    "duration": 365,
    "start_time": "2022-11-20T16:27:29.190Z"
   },
   {
    "duration": 254,
    "start_time": "2022-11-20T16:27:36.943Z"
   },
   {
    "duration": 245,
    "start_time": "2022-11-20T16:28:15.618Z"
   },
   {
    "duration": 242,
    "start_time": "2022-11-20T16:28:54.646Z"
   },
   {
    "duration": 276,
    "start_time": "2022-11-20T16:29:12.102Z"
   },
   {
    "duration": 275,
    "start_time": "2022-11-20T16:29:21.367Z"
   },
   {
    "duration": 8,
    "start_time": "2022-11-20T16:29:44.159Z"
   },
   {
    "duration": 263,
    "start_time": "2022-11-20T16:29:50.835Z"
   },
   {
    "duration": 12,
    "start_time": "2022-11-20T16:33:03.757Z"
   },
   {
    "duration": 16,
    "start_time": "2022-11-20T16:34:33.902Z"
   },
   {
    "duration": 5,
    "start_time": "2022-11-20T16:41:53.085Z"
   },
   {
    "duration": 16,
    "start_time": "2022-11-20T16:42:21.169Z"
   },
   {
    "duration": 4,
    "start_time": "2022-11-20T16:42:40.699Z"
   },
   {
    "duration": 173,
    "start_time": "2022-11-20T16:44:38.689Z"
   },
   {
    "duration": 199,
    "start_time": "2022-11-20T16:45:20.002Z"
   },
   {
    "duration": 176,
    "start_time": "2022-11-20T16:45:44.002Z"
   },
   {
    "duration": 200,
    "start_time": "2022-11-20T16:46:24.058Z"
   },
   {
    "duration": 213,
    "start_time": "2022-11-20T16:46:47.994Z"
   },
   {
    "duration": 172,
    "start_time": "2022-11-20T16:47:00.762Z"
   },
   {
    "duration": 274,
    "start_time": "2022-11-20T16:47:01.721Z"
   },
   {
    "duration": 164,
    "start_time": "2022-11-20T16:47:14.754Z"
   },
   {
    "duration": 187,
    "start_time": "2022-11-20T16:48:02.298Z"
   },
   {
    "duration": 161,
    "start_time": "2022-11-20T16:48:06.701Z"
   },
   {
    "duration": 198,
    "start_time": "2022-11-20T16:48:12.596Z"
   },
   {
    "duration": 455,
    "start_time": "2022-11-20T16:48:18.034Z"
   },
   {
    "duration": 278,
    "start_time": "2022-11-20T16:48:28.307Z"
   },
   {
    "duration": 194,
    "start_time": "2022-11-20T16:48:38.882Z"
   },
   {
    "duration": 185,
    "start_time": "2022-11-20T16:48:49.003Z"
   },
   {
    "duration": 199,
    "start_time": "2022-11-20T16:49:14.244Z"
   },
   {
    "duration": 160,
    "start_time": "2022-11-20T16:49:38.802Z"
   },
   {
    "duration": 29,
    "start_time": "2022-11-20T16:49:44.885Z"
   },
   {
    "duration": 20,
    "start_time": "2022-11-20T16:50:05.290Z"
   },
   {
    "duration": 12,
    "start_time": "2022-11-20T16:51:11.605Z"
   },
   {
    "duration": 12,
    "start_time": "2022-11-20T16:51:18.564Z"
   },
   {
    "duration": 13,
    "start_time": "2022-11-20T16:51:30.519Z"
   },
   {
    "duration": 12,
    "start_time": "2022-11-20T16:51:55.949Z"
   },
   {
    "duration": 12,
    "start_time": "2022-11-20T16:52:36.185Z"
   },
   {
    "duration": 12,
    "start_time": "2022-11-20T16:52:45.268Z"
   },
   {
    "duration": 5,
    "start_time": "2022-11-20T16:52:45.436Z"
   },
   {
    "duration": 7,
    "start_time": "2022-11-20T16:53:15.675Z"
   },
   {
    "duration": 6,
    "start_time": "2022-11-20T16:53:29.771Z"
   },
   {
    "duration": 14,
    "start_time": "2022-11-20T16:54:13.937Z"
   },
   {
    "duration": 247,
    "start_time": "2022-11-20T16:54:44.226Z"
   },
   {
    "duration": 242,
    "start_time": "2022-11-20T16:56:03.596Z"
   },
   {
    "duration": 398,
    "start_time": "2022-11-20T16:59:41.372Z"
   },
   {
    "duration": 38,
    "start_time": "2022-11-20T17:00:16.078Z"
   },
   {
    "duration": 15,
    "start_time": "2022-11-20T17:02:06.667Z"
   },
   {
    "duration": 15,
    "start_time": "2022-11-20T17:03:17.910Z"
   },
   {
    "duration": 17,
    "start_time": "2022-11-20T17:03:26.797Z"
   },
   {
    "duration": 1185,
    "start_time": "2022-11-20T17:05:05.959Z"
   },
   {
    "duration": 52,
    "start_time": "2022-11-21T17:36:35.514Z"
   },
   {
    "duration": 2149,
    "start_time": "2022-11-21T17:36:44.000Z"
   },
   {
    "duration": 11,
    "start_time": "2022-11-21T17:36:46.153Z"
   },
   {
    "duration": 21,
    "start_time": "2022-11-21T17:36:46.166Z"
   },
   {
    "duration": 14,
    "start_time": "2022-11-21T17:36:46.190Z"
   },
   {
    "duration": 24,
    "start_time": "2022-11-21T17:36:46.206Z"
   },
   {
    "duration": 34,
    "start_time": "2022-11-21T17:36:46.232Z"
   },
   {
    "duration": 16,
    "start_time": "2022-11-21T17:36:46.268Z"
   },
   {
    "duration": 7,
    "start_time": "2022-11-21T17:36:46.286Z"
   },
   {
    "duration": 38,
    "start_time": "2022-11-21T17:36:46.294Z"
   },
   {
    "duration": 18,
    "start_time": "2022-11-21T17:36:46.352Z"
   },
   {
    "duration": 11,
    "start_time": "2022-11-21T17:36:46.372Z"
   },
   {
    "duration": 200,
    "start_time": "2022-11-21T17:36:46.384Z"
   },
   {
    "duration": 8,
    "start_time": "2022-11-21T17:36:46.585Z"
   },
   {
    "duration": 22,
    "start_time": "2022-11-21T17:36:46.595Z"
   },
   {
    "duration": 6,
    "start_time": "2022-11-21T17:36:46.619Z"
   },
   {
    "duration": 29,
    "start_time": "2022-11-21T17:36:46.627Z"
   },
   {
    "duration": 19,
    "start_time": "2022-11-21T17:36:46.658Z"
   },
   {
    "duration": 29,
    "start_time": "2022-11-21T17:36:46.679Z"
   },
   {
    "duration": 8,
    "start_time": "2022-11-21T17:36:46.710Z"
   },
   {
    "duration": 61,
    "start_time": "2022-11-21T17:36:46.719Z"
   },
   {
    "duration": 4,
    "start_time": "2022-11-21T17:36:46.782Z"
   },
   {
    "duration": 15,
    "start_time": "2022-11-21T17:36:46.787Z"
   },
   {
    "duration": 14,
    "start_time": "2022-11-21T17:36:46.803Z"
   },
   {
    "duration": 12,
    "start_time": "2022-11-21T17:36:46.819Z"
   },
   {
    "duration": 34,
    "start_time": "2022-11-21T17:36:46.833Z"
   },
   {
    "duration": 192,
    "start_time": "2022-11-21T17:36:46.870Z"
   },
   {
    "duration": 13,
    "start_time": "2022-11-21T17:36:47.065Z"
   },
   {
    "duration": 317,
    "start_time": "2022-11-21T17:36:47.081Z"
   },
   {
    "duration": 6,
    "start_time": "2022-11-21T17:36:47.400Z"
   },
   {
    "duration": 49,
    "start_time": "2022-11-21T17:36:47.408Z"
   },
   {
    "duration": 26,
    "start_time": "2022-11-21T17:36:47.459Z"
   },
   {
    "duration": 194,
    "start_time": "2022-11-21T17:36:47.487Z"
   },
   {
    "duration": 237,
    "start_time": "2022-11-21T17:36:47.683Z"
   },
   {
    "duration": 221,
    "start_time": "2022-11-21T17:36:47.922Z"
   },
   {
    "duration": 159,
    "start_time": "2022-11-21T17:36:48.151Z"
   },
   {
    "duration": 0,
    "start_time": "2022-11-21T17:36:48.311Z"
   },
   {
    "duration": 0,
    "start_time": "2022-11-21T17:36:48.313Z"
   },
   {
    "duration": 0,
    "start_time": "2022-11-21T17:36:48.314Z"
   },
   {
    "duration": 0,
    "start_time": "2022-11-21T17:36:48.315Z"
   },
   {
    "duration": 0,
    "start_time": "2022-11-21T17:36:48.316Z"
   },
   {
    "duration": 14,
    "start_time": "2022-11-21T17:36:58.790Z"
   },
   {
    "duration": 10,
    "start_time": "2022-11-21T17:37:00.268Z"
   },
   {
    "duration": 280,
    "start_time": "2022-11-21T17:37:01.075Z"
   },
   {
    "duration": 6,
    "start_time": "2022-11-21T17:37:07.709Z"
   },
   {
    "duration": 7,
    "start_time": "2022-11-21T17:37:20.198Z"
   },
   {
    "duration": 9,
    "start_time": "2022-11-21T17:37:27.854Z"
   },
   {
    "duration": 270,
    "start_time": "2022-11-21T17:37:28.636Z"
   },
   {
    "duration": 54,
    "start_time": "2022-11-21T17:37:32.156Z"
   },
   {
    "duration": 18,
    "start_time": "2022-11-21T17:37:33.524Z"
   },
   {
    "duration": 19,
    "start_time": "2022-11-21T17:37:36.526Z"
   },
   {
    "duration": 23,
    "start_time": "2022-11-21T17:37:47.453Z"
   },
   {
    "duration": 20,
    "start_time": "2022-11-21T17:38:16.926Z"
   },
   {
    "duration": 17,
    "start_time": "2022-11-21T17:38:28.373Z"
   },
   {
    "duration": 111,
    "start_time": "2022-11-21T17:39:06.149Z"
   },
   {
    "duration": 16,
    "start_time": "2022-11-21T17:39:15.485Z"
   },
   {
    "duration": 18,
    "start_time": "2022-11-21T17:40:51.565Z"
   },
   {
    "duration": 23,
    "start_time": "2022-11-21T17:41:05.048Z"
   },
   {
    "duration": 19,
    "start_time": "2022-11-21T17:43:07.317Z"
   },
   {
    "duration": 18,
    "start_time": "2022-11-21T17:43:23.493Z"
   },
   {
    "duration": 21,
    "start_time": "2022-11-21T17:43:31.951Z"
   },
   {
    "duration": 22,
    "start_time": "2022-11-21T17:44:23.144Z"
   },
   {
    "duration": 20,
    "start_time": "2022-11-21T17:44:29.773Z"
   },
   {
    "duration": 338,
    "start_time": "2022-11-21T17:44:38.774Z"
   },
   {
    "duration": 29,
    "start_time": "2022-11-21T17:44:50.134Z"
   },
   {
    "duration": 28,
    "start_time": "2022-11-21T17:46:13.729Z"
   },
   {
    "duration": 190,
    "start_time": "2022-11-21T17:46:48.798Z"
   },
   {
    "duration": 230,
    "start_time": "2022-11-21T17:46:59.608Z"
   },
   {
    "duration": 194,
    "start_time": "2022-11-21T17:47:13.505Z"
   },
   {
    "duration": 212,
    "start_time": "2022-11-21T17:47:18.888Z"
   },
   {
    "duration": 201,
    "start_time": "2022-11-21T17:48:03.334Z"
   },
   {
    "duration": 216,
    "start_time": "2022-11-21T17:48:15.993Z"
   },
   {
    "duration": 200,
    "start_time": "2022-11-21T17:48:21.182Z"
   },
   {
    "duration": 4934,
    "start_time": "2022-11-21T17:49:03.415Z"
   },
   {
    "duration": 26,
    "start_time": "2022-11-21T17:49:16.912Z"
   },
   {
    "duration": 29,
    "start_time": "2022-11-21T17:49:34.208Z"
   },
   {
    "duration": 19,
    "start_time": "2022-11-21T17:50:48.111Z"
   },
   {
    "duration": 10,
    "start_time": "2022-11-21T17:58:04.001Z"
   },
   {
    "duration": 1543,
    "start_time": "2022-11-21T17:58:10.535Z"
   },
   {
    "duration": 5,
    "start_time": "2022-11-21T17:58:12.080Z"
   },
   {
    "duration": 18,
    "start_time": "2022-11-21T17:58:12.087Z"
   },
   {
    "duration": 5,
    "start_time": "2022-11-21T17:58:12.108Z"
   },
   {
    "duration": 19,
    "start_time": "2022-11-21T17:58:12.115Z"
   },
   {
    "duration": 28,
    "start_time": "2022-11-21T17:58:12.156Z"
   },
   {
    "duration": 18,
    "start_time": "2022-11-21T17:58:12.186Z"
   },
   {
    "duration": 14,
    "start_time": "2022-11-21T17:58:12.206Z"
   },
   {
    "duration": 7,
    "start_time": "2022-11-21T17:58:12.222Z"
   },
   {
    "duration": 46,
    "start_time": "2022-11-21T17:58:12.253Z"
   },
   {
    "duration": 13,
    "start_time": "2022-11-21T17:58:12.301Z"
   },
   {
    "duration": 10,
    "start_time": "2022-11-21T17:58:12.316Z"
   },
   {
    "duration": 228,
    "start_time": "2022-11-21T17:58:12.328Z"
   },
   {
    "duration": 11,
    "start_time": "2022-11-21T17:58:12.560Z"
   },
   {
    "duration": 27,
    "start_time": "2022-11-21T17:58:12.573Z"
   },
   {
    "duration": 7,
    "start_time": "2022-11-21T17:58:12.602Z"
   },
   {
    "duration": 14,
    "start_time": "2022-11-21T17:58:12.611Z"
   },
   {
    "duration": 31,
    "start_time": "2022-11-21T17:58:12.627Z"
   },
   {
    "duration": 39,
    "start_time": "2022-11-21T17:58:12.661Z"
   },
   {
    "duration": 7,
    "start_time": "2022-11-21T17:58:12.702Z"
   },
   {
    "duration": 45,
    "start_time": "2022-11-21T17:58:12.711Z"
   },
   {
    "duration": 6,
    "start_time": "2022-11-21T17:58:12.759Z"
   },
   {
    "duration": 19,
    "start_time": "2022-11-21T17:58:12.767Z"
   },
   {
    "duration": 17,
    "start_time": "2022-11-21T17:58:12.788Z"
   },
   {
    "duration": 13,
    "start_time": "2022-11-21T17:58:12.807Z"
   },
   {
    "duration": 31,
    "start_time": "2022-11-21T17:58:12.822Z"
   },
   {
    "duration": 196,
    "start_time": "2022-11-21T17:58:12.855Z"
   },
   {
    "duration": 12,
    "start_time": "2022-11-21T17:58:13.055Z"
   },
   {
    "duration": 308,
    "start_time": "2022-11-21T17:58:13.069Z"
   },
   {
    "duration": 7,
    "start_time": "2022-11-21T17:58:13.379Z"
   },
   {
    "duration": 33,
    "start_time": "2022-11-21T17:58:13.388Z"
   },
   {
    "duration": 46,
    "start_time": "2022-11-21T17:58:13.422Z"
   },
   {
    "duration": 191,
    "start_time": "2022-11-21T17:58:13.471Z"
   },
   {
    "duration": 240,
    "start_time": "2022-11-21T17:58:13.664Z"
   },
   {
    "duration": 224,
    "start_time": "2022-11-21T17:58:13.906Z"
   },
   {
    "duration": 29,
    "start_time": "2022-11-21T17:58:14.132Z"
   },
   {
    "duration": 25,
    "start_time": "2022-11-21T17:58:14.164Z"
   },
   {
    "duration": 290,
    "start_time": "2022-11-21T17:58:14.191Z"
   },
   {
    "duration": 39,
    "start_time": "2022-11-21T17:58:14.483Z"
   },
   {
    "duration": 40,
    "start_time": "2022-11-21T17:58:14.524Z"
   },
   {
    "duration": 24,
    "start_time": "2022-11-21T17:58:14.566Z"
   },
   {
    "duration": 211,
    "start_time": "2022-11-21T17:58:14.592Z"
   },
   {
    "duration": 7,
    "start_time": "2022-11-21T18:03:28.139Z"
   },
   {
    "duration": 6,
    "start_time": "2022-11-21T18:03:34.604Z"
   },
   {
    "duration": 6,
    "start_time": "2022-11-21T18:03:43.906Z"
   },
   {
    "duration": 1517,
    "start_time": "2022-11-21T18:13:44.356Z"
   },
   {
    "duration": 5,
    "start_time": "2022-11-21T18:13:45.876Z"
   },
   {
    "duration": 20,
    "start_time": "2022-11-21T18:13:45.883Z"
   },
   {
    "duration": 8,
    "start_time": "2022-11-21T18:13:45.904Z"
   },
   {
    "duration": 41,
    "start_time": "2022-11-21T18:13:45.915Z"
   },
   {
    "duration": 25,
    "start_time": "2022-11-21T18:13:45.957Z"
   },
   {
    "duration": 21,
    "start_time": "2022-11-21T18:13:45.984Z"
   },
   {
    "duration": 15,
    "start_time": "2022-11-21T18:13:46.008Z"
   },
   {
    "duration": 28,
    "start_time": "2022-11-21T18:13:46.025Z"
   },
   {
    "duration": 43,
    "start_time": "2022-11-21T18:13:46.055Z"
   },
   {
    "duration": 17,
    "start_time": "2022-11-21T18:13:46.100Z"
   },
   {
    "duration": 37,
    "start_time": "2022-11-21T18:13:46.119Z"
   },
   {
    "duration": 222,
    "start_time": "2022-11-21T18:13:46.158Z"
   },
   {
    "duration": 1320,
    "start_time": "2022-11-21T18:13:46.384Z"
   },
   {
    "duration": 0,
    "start_time": "2022-11-21T18:13:47.706Z"
   },
   {
    "duration": 0,
    "start_time": "2022-11-21T18:13:47.707Z"
   },
   {
    "duration": 0,
    "start_time": "2022-11-21T18:13:47.709Z"
   },
   {
    "duration": 0,
    "start_time": "2022-11-21T18:13:47.710Z"
   },
   {
    "duration": 0,
    "start_time": "2022-11-21T18:13:47.711Z"
   },
   {
    "duration": 0,
    "start_time": "2022-11-21T18:13:47.712Z"
   },
   {
    "duration": 0,
    "start_time": "2022-11-21T18:13:47.713Z"
   },
   {
    "duration": 0,
    "start_time": "2022-11-21T18:13:47.714Z"
   },
   {
    "duration": 0,
    "start_time": "2022-11-21T18:13:47.716Z"
   },
   {
    "duration": 0,
    "start_time": "2022-11-21T18:13:47.717Z"
   },
   {
    "duration": 0,
    "start_time": "2022-11-21T18:13:47.718Z"
   },
   {
    "duration": 0,
    "start_time": "2022-11-21T18:13:47.719Z"
   },
   {
    "duration": 0,
    "start_time": "2022-11-21T18:13:47.720Z"
   },
   {
    "duration": 0,
    "start_time": "2022-11-21T18:13:47.721Z"
   },
   {
    "duration": 0,
    "start_time": "2022-11-21T18:13:47.722Z"
   },
   {
    "duration": 0,
    "start_time": "2022-11-21T18:13:47.723Z"
   },
   {
    "duration": 0,
    "start_time": "2022-11-21T18:13:47.724Z"
   },
   {
    "duration": 0,
    "start_time": "2022-11-21T18:13:47.724Z"
   },
   {
    "duration": 0,
    "start_time": "2022-11-21T18:13:47.725Z"
   },
   {
    "duration": 0,
    "start_time": "2022-11-21T18:13:47.727Z"
   },
   {
    "duration": 0,
    "start_time": "2022-11-21T18:13:47.728Z"
   },
   {
    "duration": 0,
    "start_time": "2022-11-21T18:13:47.729Z"
   },
   {
    "duration": 0,
    "start_time": "2022-11-21T18:13:47.730Z"
   },
   {
    "duration": 0,
    "start_time": "2022-11-21T18:13:47.731Z"
   },
   {
    "duration": 0,
    "start_time": "2022-11-21T18:13:47.732Z"
   },
   {
    "duration": 0,
    "start_time": "2022-11-21T18:13:47.733Z"
   },
   {
    "duration": 0,
    "start_time": "2022-11-21T18:13:47.735Z"
   },
   {
    "duration": 0,
    "start_time": "2022-11-21T18:13:47.736Z"
   },
   {
    "duration": 0,
    "start_time": "2022-11-21T18:13:47.737Z"
   },
   {
    "duration": 6,
    "start_time": "2022-11-21T18:14:20.975Z"
   },
   {
    "duration": 1432,
    "start_time": "2022-11-21T18:14:26.846Z"
   },
   {
    "duration": 6,
    "start_time": "2022-11-21T18:14:28.280Z"
   },
   {
    "duration": 20,
    "start_time": "2022-11-21T18:14:28.287Z"
   },
   {
    "duration": 6,
    "start_time": "2022-11-21T18:14:28.310Z"
   },
   {
    "duration": 37,
    "start_time": "2022-11-21T18:14:28.318Z"
   },
   {
    "duration": 26,
    "start_time": "2022-11-21T18:14:28.357Z"
   },
   {
    "duration": 19,
    "start_time": "2022-11-21T18:14:28.385Z"
   },
   {
    "duration": 53,
    "start_time": "2022-11-21T18:14:28.406Z"
   },
   {
    "duration": 11,
    "start_time": "2022-11-21T18:14:28.463Z"
   },
   {
    "duration": 45,
    "start_time": "2022-11-21T18:14:28.477Z"
   },
   {
    "duration": 27,
    "start_time": "2022-11-21T18:14:28.524Z"
   },
   {
    "duration": 11,
    "start_time": "2022-11-21T18:14:28.553Z"
   },
   {
    "duration": 203,
    "start_time": "2022-11-21T18:14:28.566Z"
   },
   {
    "duration": 8,
    "start_time": "2022-11-21T18:14:28.771Z"
   },
   {
    "duration": 23,
    "start_time": "2022-11-21T18:14:28.781Z"
   },
   {
    "duration": 6,
    "start_time": "2022-11-21T18:14:28.806Z"
   },
   {
    "duration": 8,
    "start_time": "2022-11-21T18:14:28.814Z"
   },
   {
    "duration": 7,
    "start_time": "2022-11-21T18:14:28.865Z"
   },
   {
    "duration": 8,
    "start_time": "2022-11-21T18:14:28.874Z"
   },
   {
    "duration": 41,
    "start_time": "2022-11-21T18:14:28.884Z"
   },
   {
    "duration": 27,
    "start_time": "2022-11-21T18:14:28.926Z"
   },
   {
    "duration": 35,
    "start_time": "2022-11-21T18:14:28.955Z"
   },
   {
    "duration": 4,
    "start_time": "2022-11-21T18:14:28.992Z"
   },
   {
    "duration": 14,
    "start_time": "2022-11-21T18:14:28.997Z"
   },
   {
    "duration": 12,
    "start_time": "2022-11-21T18:14:29.013Z"
   },
   {
    "duration": 7,
    "start_time": "2022-11-21T18:14:29.052Z"
   },
   {
    "duration": 52,
    "start_time": "2022-11-21T18:14:29.061Z"
   },
   {
    "duration": 203,
    "start_time": "2022-11-21T18:14:29.117Z"
   },
   {
    "duration": 11,
    "start_time": "2022-11-21T18:14:29.322Z"
   },
   {
    "duration": 343,
    "start_time": "2022-11-21T18:14:29.335Z"
   },
   {
    "duration": 9,
    "start_time": "2022-11-21T18:14:29.680Z"
   },
   {
    "duration": 43,
    "start_time": "2022-11-21T18:14:29.690Z"
   },
   {
    "duration": 45,
    "start_time": "2022-11-21T18:14:29.735Z"
   },
   {
    "duration": 225,
    "start_time": "2022-11-21T18:14:29.782Z"
   },
   {
    "duration": 291,
    "start_time": "2022-11-21T18:14:30.009Z"
   },
   {
    "duration": 235,
    "start_time": "2022-11-21T18:14:30.302Z"
   },
   {
    "duration": 30,
    "start_time": "2022-11-21T18:14:30.539Z"
   },
   {
    "duration": 30,
    "start_time": "2022-11-21T18:14:30.572Z"
   },
   {
    "duration": 347,
    "start_time": "2022-11-21T18:14:30.604Z"
   },
   {
    "duration": 44,
    "start_time": "2022-11-21T18:14:30.953Z"
   },
   {
    "duration": 23,
    "start_time": "2022-11-21T18:14:30.999Z"
   },
   {
    "duration": 64,
    "start_time": "2022-11-21T18:14:31.024Z"
   },
   {
    "duration": 231,
    "start_time": "2022-11-21T18:14:31.090Z"
   },
   {
    "duration": 19,
    "start_time": "2022-11-21T18:16:44.152Z"
   },
   {
    "duration": 1431,
    "start_time": "2022-11-21T18:18:16.420Z"
   },
   {
    "duration": 7,
    "start_time": "2022-11-21T18:18:17.861Z"
   },
   {
    "duration": 28,
    "start_time": "2022-11-21T18:18:17.873Z"
   },
   {
    "duration": 11,
    "start_time": "2022-11-21T18:18:17.904Z"
   },
   {
    "duration": 16,
    "start_time": "2022-11-21T18:18:17.917Z"
   },
   {
    "duration": 35,
    "start_time": "2022-11-21T18:18:17.935Z"
   },
   {
    "duration": 24,
    "start_time": "2022-11-21T18:18:17.972Z"
   },
   {
    "duration": 14,
    "start_time": "2022-11-21T18:18:17.998Z"
   },
   {
    "duration": 7,
    "start_time": "2022-11-21T18:18:18.014Z"
   },
   {
    "duration": 53,
    "start_time": "2022-11-21T18:18:18.050Z"
   },
   {
    "duration": 17,
    "start_time": "2022-11-21T18:18:18.105Z"
   },
   {
    "duration": 32,
    "start_time": "2022-11-21T18:18:18.124Z"
   },
   {
    "duration": 187,
    "start_time": "2022-11-21T18:18:18.160Z"
   },
   {
    "duration": 9,
    "start_time": "2022-11-21T18:18:18.349Z"
   },
   {
    "duration": 28,
    "start_time": "2022-11-21T18:18:18.360Z"
   },
   {
    "duration": 6,
    "start_time": "2022-11-21T18:18:18.390Z"
   },
   {
    "duration": 11,
    "start_time": "2022-11-21T18:18:18.398Z"
   },
   {
    "duration": 9,
    "start_time": "2022-11-21T18:18:18.411Z"
   },
   {
    "duration": 8,
    "start_time": "2022-11-21T18:18:18.422Z"
   },
   {
    "duration": 28,
    "start_time": "2022-11-21T18:18:18.451Z"
   },
   {
    "duration": 7,
    "start_time": "2022-11-21T18:18:18.480Z"
   },
   {
    "duration": 32,
    "start_time": "2022-11-21T18:18:18.489Z"
   },
   {
    "duration": 29,
    "start_time": "2022-11-21T18:18:18.523Z"
   },
   {
    "duration": 9,
    "start_time": "2022-11-21T18:18:18.555Z"
   },
   {
    "duration": 17,
    "start_time": "2022-11-21T18:18:18.566Z"
   },
   {
    "duration": 6,
    "start_time": "2022-11-21T18:18:18.585Z"
   },
   {
    "duration": 35,
    "start_time": "2022-11-21T18:18:18.594Z"
   },
   {
    "duration": 194,
    "start_time": "2022-11-21T18:18:18.630Z"
   },
   {
    "duration": 10,
    "start_time": "2022-11-21T18:18:18.826Z"
   },
   {
    "duration": 316,
    "start_time": "2022-11-21T18:18:18.850Z"
   },
   {
    "duration": 8,
    "start_time": "2022-11-21T18:18:19.168Z"
   },
   {
    "duration": 37,
    "start_time": "2022-11-21T18:18:19.178Z"
   },
   {
    "duration": 47,
    "start_time": "2022-11-21T18:18:19.217Z"
   },
   {
    "duration": 180,
    "start_time": "2022-11-21T18:18:19.266Z"
   },
   {
    "duration": 290,
    "start_time": "2022-11-21T18:18:19.451Z"
   },
   {
    "duration": 263,
    "start_time": "2022-11-21T18:18:19.743Z"
   },
   {
    "duration": 16,
    "start_time": "2022-11-21T18:18:20.008Z"
   },
   {
    "duration": 13,
    "start_time": "2022-11-21T18:18:20.026Z"
   },
   {
    "duration": 282,
    "start_time": "2022-11-21T18:18:20.051Z"
   },
   {
    "duration": 60,
    "start_time": "2022-11-21T18:18:20.337Z"
   },
   {
    "duration": 18,
    "start_time": "2022-11-21T18:18:20.398Z"
   },
   {
    "duration": 35,
    "start_time": "2022-11-21T18:18:20.418Z"
   },
   {
    "duration": 225,
    "start_time": "2022-11-21T18:18:20.456Z"
   },
   {
    "duration": 6,
    "start_time": "2022-11-21T18:19:38.640Z"
   },
   {
    "duration": 7,
    "start_time": "2022-11-21T18:20:56.287Z"
   },
   {
    "duration": 7,
    "start_time": "2022-11-21T18:31:56.777Z"
   },
   {
    "duration": 254,
    "start_time": "2022-11-21T18:37:03.571Z"
   },
   {
    "duration": 1228,
    "start_time": "2022-11-21T18:44:37.843Z"
   },
   {
    "duration": 324,
    "start_time": "2022-11-21T18:45:19.205Z"
   },
   {
    "duration": 1120,
    "start_time": "2022-11-21T18:45:51.895Z"
   },
   {
    "duration": 256,
    "start_time": "2022-11-21T18:46:08.772Z"
   },
   {
    "duration": 327,
    "start_time": "2022-11-21T18:46:09.727Z"
   },
   {
    "duration": 289,
    "start_time": "2022-11-21T18:46:17.044Z"
   },
   {
    "duration": 20,
    "start_time": "2022-11-21T18:51:56.098Z"
   },
   {
    "duration": 18,
    "start_time": "2022-11-21T18:52:11.191Z"
   },
   {
    "duration": 203,
    "start_time": "2022-11-21T19:09:15.084Z"
   },
   {
    "duration": 23,
    "start_time": "2022-11-21T19:09:44.124Z"
   },
   {
    "duration": 24,
    "start_time": "2022-11-21T19:09:56.851Z"
   },
   {
    "duration": 18,
    "start_time": "2022-11-21T19:10:04.809Z"
   },
   {
    "duration": 1346,
    "start_time": "2022-11-21T19:10:29.394Z"
   },
   {
    "duration": 17,
    "start_time": "2022-11-21T19:11:03.532Z"
   },
   {
    "duration": 1515,
    "start_time": "2022-11-21T19:15:49.305Z"
   },
   {
    "duration": 6,
    "start_time": "2022-11-21T19:15:50.821Z"
   },
   {
    "duration": 20,
    "start_time": "2022-11-21T19:15:50.829Z"
   },
   {
    "duration": 14,
    "start_time": "2022-11-21T19:15:50.851Z"
   },
   {
    "duration": 15,
    "start_time": "2022-11-21T19:15:50.867Z"
   },
   {
    "duration": 19,
    "start_time": "2022-11-21T19:15:50.884Z"
   },
   {
    "duration": 19,
    "start_time": "2022-11-21T19:15:50.905Z"
   },
   {
    "duration": 39,
    "start_time": "2022-11-21T19:15:50.926Z"
   },
   {
    "duration": 15,
    "start_time": "2022-11-21T19:15:50.967Z"
   },
   {
    "duration": 38,
    "start_time": "2022-11-21T19:15:50.985Z"
   },
   {
    "duration": 31,
    "start_time": "2022-11-21T19:15:51.024Z"
   },
   {
    "duration": 15,
    "start_time": "2022-11-21T19:15:51.057Z"
   },
   {
    "duration": 178,
    "start_time": "2022-11-21T19:15:51.076Z"
   },
   {
    "duration": 9,
    "start_time": "2022-11-21T19:15:51.256Z"
   },
   {
    "duration": 25,
    "start_time": "2022-11-21T19:15:51.267Z"
   },
   {
    "duration": 6,
    "start_time": "2022-11-21T19:15:51.293Z"
   },
   {
    "duration": 9,
    "start_time": "2022-11-21T19:15:51.301Z"
   },
   {
    "duration": 8,
    "start_time": "2022-11-21T19:15:51.312Z"
   },
   {
    "duration": 33,
    "start_time": "2022-11-21T19:15:51.322Z"
   },
   {
    "duration": 37,
    "start_time": "2022-11-21T19:15:51.358Z"
   },
   {
    "duration": 6,
    "start_time": "2022-11-21T19:15:51.397Z"
   },
   {
    "duration": 55,
    "start_time": "2022-11-21T19:15:51.405Z"
   },
   {
    "duration": 15,
    "start_time": "2022-11-21T19:15:51.462Z"
   },
   {
    "duration": 33,
    "start_time": "2022-11-21T19:15:51.480Z"
   },
   {
    "duration": 9,
    "start_time": "2022-11-21T19:15:51.515Z"
   },
   {
    "duration": 31,
    "start_time": "2022-11-21T19:15:51.525Z"
   },
   {
    "duration": 180,
    "start_time": "2022-11-21T19:15:51.557Z"
   },
   {
    "duration": 20,
    "start_time": "2022-11-21T19:15:51.741Z"
   },
   {
    "duration": 294,
    "start_time": "2022-11-21T19:15:51.763Z"
   },
   {
    "duration": 10,
    "start_time": "2022-11-21T19:15:52.059Z"
   },
   {
    "duration": 40,
    "start_time": "2022-11-21T19:15:52.074Z"
   },
   {
    "duration": 41,
    "start_time": "2022-11-21T19:15:52.116Z"
   },
   {
    "duration": 175,
    "start_time": "2022-11-21T19:15:52.163Z"
   },
   {
    "duration": 199,
    "start_time": "2022-11-21T19:15:52.339Z"
   },
   {
    "duration": 250,
    "start_time": "2022-11-21T19:15:52.540Z"
   },
   {
    "duration": 16,
    "start_time": "2022-11-21T19:15:52.792Z"
   },
   {
    "duration": 7,
    "start_time": "2022-11-21T19:15:52.810Z"
   },
   {
    "duration": 292,
    "start_time": "2022-11-21T19:15:52.818Z"
   },
   {
    "duration": 281,
    "start_time": "2022-11-21T19:15:53.112Z"
   },
   {
    "duration": 40,
    "start_time": "2022-11-21T19:15:53.395Z"
   },
   {
    "duration": 25,
    "start_time": "2022-11-21T19:15:53.452Z"
   },
   {
    "duration": 19,
    "start_time": "2022-11-21T19:15:53.478Z"
   },
   {
    "duration": 326,
    "start_time": "2022-11-21T19:15:53.499Z"
   },
   {
    "duration": 23,
    "start_time": "2022-11-21T19:15:53.828Z"
   },
   {
    "duration": 51,
    "start_time": "2022-11-22T17:17:19.930Z"
   },
   {
    "duration": 1326,
    "start_time": "2022-11-22T17:17:25.818Z"
   },
   {
    "duration": 4,
    "start_time": "2022-11-22T17:17:27.146Z"
   },
   {
    "duration": 17,
    "start_time": "2022-11-22T17:17:27.151Z"
   },
   {
    "duration": 8,
    "start_time": "2022-11-22T17:17:27.169Z"
   },
   {
    "duration": 7,
    "start_time": "2022-11-22T17:17:27.180Z"
   },
   {
    "duration": 16,
    "start_time": "2022-11-22T17:17:27.188Z"
   },
   {
    "duration": 14,
    "start_time": "2022-11-22T17:17:27.206Z"
   },
   {
    "duration": 12,
    "start_time": "2022-11-22T17:17:27.222Z"
   },
   {
    "duration": 6,
    "start_time": "2022-11-22T17:17:27.235Z"
   },
   {
    "duration": 58,
    "start_time": "2022-11-22T17:17:27.242Z"
   },
   {
    "duration": 11,
    "start_time": "2022-11-22T17:17:27.301Z"
   },
   {
    "duration": 7,
    "start_time": "2022-11-22T17:17:27.313Z"
   },
   {
    "duration": 160,
    "start_time": "2022-11-22T17:17:27.322Z"
   },
   {
    "duration": 13,
    "start_time": "2022-11-22T17:17:27.485Z"
   },
   {
    "duration": 16,
    "start_time": "2022-11-22T17:17:27.500Z"
   },
   {
    "duration": 4,
    "start_time": "2022-11-22T17:17:27.517Z"
   },
   {
    "duration": 5,
    "start_time": "2022-11-22T17:17:27.523Z"
   },
   {
    "duration": 7,
    "start_time": "2022-11-22T17:17:27.530Z"
   },
   {
    "duration": 6,
    "start_time": "2022-11-22T17:17:27.538Z"
   },
   {
    "duration": 25,
    "start_time": "2022-11-22T17:17:27.545Z"
   },
   {
    "duration": 31,
    "start_time": "2022-11-22T17:17:27.571Z"
   },
   {
    "duration": 28,
    "start_time": "2022-11-22T17:17:27.603Z"
   },
   {
    "duration": 8,
    "start_time": "2022-11-22T17:17:27.632Z"
   },
   {
    "duration": 10,
    "start_time": "2022-11-22T17:17:27.642Z"
   },
   {
    "duration": 6,
    "start_time": "2022-11-22T17:17:27.653Z"
   },
   {
    "duration": 36,
    "start_time": "2022-11-22T17:17:27.661Z"
   },
   {
    "duration": 24,
    "start_time": "2022-11-22T17:17:27.699Z"
   },
   {
    "duration": 151,
    "start_time": "2022-11-22T17:17:27.724Z"
   },
   {
    "duration": 9,
    "start_time": "2022-11-22T17:17:27.877Z"
   },
   {
    "duration": 250,
    "start_time": "2022-11-22T17:17:27.888Z"
   },
   {
    "duration": 7,
    "start_time": "2022-11-22T17:17:28.140Z"
   },
   {
    "duration": 25,
    "start_time": "2022-11-22T17:17:28.149Z"
   },
   {
    "duration": 40,
    "start_time": "2022-11-22T17:17:28.175Z"
   },
   {
    "duration": 151,
    "start_time": "2022-11-22T17:17:28.216Z"
   },
   {
    "duration": 145,
    "start_time": "2022-11-22T17:17:28.369Z"
   },
   {
    "duration": 184,
    "start_time": "2022-11-22T17:17:28.515Z"
   },
   {
    "duration": 13,
    "start_time": "2022-11-22T17:17:28.701Z"
   },
   {
    "duration": 7,
    "start_time": "2022-11-22T17:17:28.716Z"
   },
   {
    "duration": 223,
    "start_time": "2022-11-22T17:17:28.725Z"
   },
   {
    "duration": 224,
    "start_time": "2022-11-22T17:17:28.950Z"
   },
   {
    "duration": 36,
    "start_time": "2022-11-22T17:17:29.177Z"
   },
   {
    "duration": 23,
    "start_time": "2022-11-22T17:17:29.215Z"
   },
   {
    "duration": 15,
    "start_time": "2022-11-22T17:17:29.239Z"
   },
   {
    "duration": 229,
    "start_time": "2022-11-22T17:17:29.255Z"
   },
   {
    "duration": 21,
    "start_time": "2022-11-22T17:17:29.485Z"
   },
   {
    "duration": 4,
    "start_time": "2022-11-22T17:17:46.841Z"
   },
   {
    "duration": 61,
    "start_time": "2022-11-23T17:37:47.165Z"
   },
   {
    "duration": 1649,
    "start_time": "2022-11-23T17:38:14.180Z"
   },
   {
    "duration": 5,
    "start_time": "2022-11-23T17:38:15.831Z"
   },
   {
    "duration": 18,
    "start_time": "2022-11-23T17:38:15.837Z"
   },
   {
    "duration": 6,
    "start_time": "2022-11-23T17:38:15.857Z"
   },
   {
    "duration": 10,
    "start_time": "2022-11-23T17:38:15.864Z"
   },
   {
    "duration": 36,
    "start_time": "2022-11-23T17:38:15.876Z"
   },
   {
    "duration": 21,
    "start_time": "2022-11-23T17:38:15.913Z"
   },
   {
    "duration": 16,
    "start_time": "2022-11-23T17:38:15.935Z"
   },
   {
    "duration": 14,
    "start_time": "2022-11-23T17:38:15.953Z"
   },
   {
    "duration": 59,
    "start_time": "2022-11-23T17:38:15.969Z"
   },
   {
    "duration": 13,
    "start_time": "2022-11-23T17:38:16.029Z"
   },
   {
    "duration": 8,
    "start_time": "2022-11-23T17:38:16.044Z"
   },
   {
    "duration": 203,
    "start_time": "2022-11-23T17:38:16.054Z"
   },
   {
    "duration": 8,
    "start_time": "2022-11-23T17:38:16.259Z"
   },
   {
    "duration": 52,
    "start_time": "2022-11-23T17:38:16.269Z"
   },
   {
    "duration": 6,
    "start_time": "2022-11-23T17:38:16.324Z"
   },
   {
    "duration": 13,
    "start_time": "2022-11-23T17:38:16.332Z"
   },
   {
    "duration": 23,
    "start_time": "2022-11-23T17:38:16.348Z"
   },
   {
    "duration": 11,
    "start_time": "2022-11-23T17:38:16.373Z"
   },
   {
    "duration": 57,
    "start_time": "2022-11-23T17:38:16.395Z"
   },
   {
    "duration": 6,
    "start_time": "2022-11-23T17:38:16.455Z"
   },
   {
    "duration": 49,
    "start_time": "2022-11-23T17:38:16.464Z"
   },
   {
    "duration": 8,
    "start_time": "2022-11-23T17:38:16.515Z"
   },
   {
    "duration": 16,
    "start_time": "2022-11-23T17:38:16.525Z"
   },
   {
    "duration": 7,
    "start_time": "2022-11-23T17:38:16.543Z"
   },
   {
    "duration": 24,
    "start_time": "2022-11-23T17:38:16.552Z"
   },
   {
    "duration": 212,
    "start_time": "2022-11-23T17:38:16.597Z"
   },
   {
    "duration": 204,
    "start_time": "2022-11-23T17:38:16.812Z"
   },
   {
    "duration": 12,
    "start_time": "2022-11-23T17:38:17.018Z"
   },
   {
    "duration": 336,
    "start_time": "2022-11-23T17:38:17.032Z"
   },
   {
    "duration": 8,
    "start_time": "2022-11-23T17:38:17.369Z"
   },
   {
    "duration": 44,
    "start_time": "2022-11-23T17:38:17.378Z"
   },
   {
    "duration": 22,
    "start_time": "2022-11-23T17:38:17.423Z"
   },
   {
    "duration": 177,
    "start_time": "2022-11-23T17:38:17.446Z"
   },
   {
    "duration": 180,
    "start_time": "2022-11-23T17:38:17.625Z"
   },
   {
    "duration": 204,
    "start_time": "2022-11-23T17:38:17.806Z"
   },
   {
    "duration": 14,
    "start_time": "2022-11-23T17:38:18.012Z"
   },
   {
    "duration": 8,
    "start_time": "2022-11-23T17:38:18.028Z"
   },
   {
    "duration": 260,
    "start_time": "2022-11-23T17:38:18.038Z"
   },
   {
    "duration": 324,
    "start_time": "2022-11-23T17:38:18.300Z"
   },
   {
    "duration": 39,
    "start_time": "2022-11-23T17:38:18.626Z"
   },
   {
    "duration": 34,
    "start_time": "2022-11-23T17:38:18.667Z"
   },
   {
    "duration": 17,
    "start_time": "2022-11-23T17:38:18.703Z"
   },
   {
    "duration": 204,
    "start_time": "2022-11-23T17:38:18.722Z"
   },
   {
    "duration": 17,
    "start_time": "2022-11-23T17:38:18.928Z"
   },
   {
    "duration": 151,
    "start_time": "2022-11-23T17:39:34.469Z"
   },
   {
    "duration": 162,
    "start_time": "2022-11-23T17:39:36.572Z"
   },
   {
    "duration": 167,
    "start_time": "2022-11-23T17:39:56.799Z"
   },
   {
    "duration": 1289,
    "start_time": "2022-11-23T17:40:03.206Z"
   },
   {
    "duration": 5,
    "start_time": "2022-11-23T17:40:04.497Z"
   },
   {
    "duration": 25,
    "start_time": "2022-11-23T17:40:04.503Z"
   },
   {
    "duration": 10,
    "start_time": "2022-11-23T17:40:04.531Z"
   },
   {
    "duration": 23,
    "start_time": "2022-11-23T17:40:04.542Z"
   },
   {
    "duration": 17,
    "start_time": "2022-11-23T17:40:04.567Z"
   },
   {
    "duration": 15,
    "start_time": "2022-11-23T17:40:04.597Z"
   },
   {
    "duration": 27,
    "start_time": "2022-11-23T17:40:04.614Z"
   },
   {
    "duration": 25,
    "start_time": "2022-11-23T17:40:04.643Z"
   },
   {
    "duration": 42,
    "start_time": "2022-11-23T17:40:04.671Z"
   },
   {
    "duration": 13,
    "start_time": "2022-11-23T17:40:04.715Z"
   },
   {
    "duration": 9,
    "start_time": "2022-11-23T17:40:04.730Z"
   },
   {
    "duration": 176,
    "start_time": "2022-11-23T17:40:04.741Z"
   },
   {
    "duration": 7,
    "start_time": "2022-11-23T17:40:04.918Z"
   },
   {
    "duration": 24,
    "start_time": "2022-11-23T17:40:04.926Z"
   },
   {
    "duration": 7,
    "start_time": "2022-11-23T17:40:04.952Z"
   },
   {
    "duration": 33,
    "start_time": "2022-11-23T17:40:04.964Z"
   },
   {
    "duration": 11,
    "start_time": "2022-11-23T17:40:04.999Z"
   },
   {
    "duration": 14,
    "start_time": "2022-11-23T17:40:05.013Z"
   },
   {
    "duration": 46,
    "start_time": "2022-11-23T17:40:05.029Z"
   },
   {
    "duration": 8,
    "start_time": "2022-11-23T17:40:05.076Z"
   },
   {
    "duration": 75,
    "start_time": "2022-11-23T17:40:05.086Z"
   },
   {
    "duration": 33,
    "start_time": "2022-11-23T17:40:05.163Z"
   },
   {
    "duration": 55,
    "start_time": "2022-11-23T17:40:05.199Z"
   },
   {
    "duration": 46,
    "start_time": "2022-11-23T17:40:05.255Z"
   },
   {
    "duration": 59,
    "start_time": "2022-11-23T17:40:05.303Z"
   },
   {
    "duration": 163,
    "start_time": "2022-11-23T17:40:05.364Z"
   },
   {
    "duration": 166,
    "start_time": "2022-11-23T17:40:05.532Z"
   },
   {
    "duration": 11,
    "start_time": "2022-11-23T17:40:05.699Z"
   },
   {
    "duration": 321,
    "start_time": "2022-11-23T17:40:05.712Z"
   },
   {
    "duration": 8,
    "start_time": "2022-11-23T17:40:06.035Z"
   },
   {
    "duration": 98,
    "start_time": "2022-11-23T17:40:06.045Z"
   },
   {
    "duration": 48,
    "start_time": "2022-11-23T17:40:06.146Z"
   },
   {
    "duration": 241,
    "start_time": "2022-11-23T17:40:06.195Z"
   },
   {
    "duration": 205,
    "start_time": "2022-11-23T17:40:06.438Z"
   },
   {
    "duration": 220,
    "start_time": "2022-11-23T17:40:06.644Z"
   },
   {
    "duration": 31,
    "start_time": "2022-11-23T17:40:06.866Z"
   },
   {
    "duration": 36,
    "start_time": "2022-11-23T17:40:06.899Z"
   },
   {
    "duration": 306,
    "start_time": "2022-11-23T17:40:06.937Z"
   },
   {
    "duration": 329,
    "start_time": "2022-11-23T17:40:07.245Z"
   },
   {
    "duration": 45,
    "start_time": "2022-11-23T17:40:07.576Z"
   },
   {
    "duration": 30,
    "start_time": "2022-11-23T17:40:07.623Z"
   },
   {
    "duration": 48,
    "start_time": "2022-11-23T17:40:07.654Z"
   },
   {
    "duration": 243,
    "start_time": "2022-11-23T17:40:07.704Z"
   },
   {
    "duration": 17,
    "start_time": "2022-11-23T17:40:07.949Z"
   },
   {
    "duration": 191,
    "start_time": "2022-11-23T17:41:31.896Z"
   },
   {
    "duration": 11,
    "start_time": "2022-11-23T17:43:19.424Z"
   },
   {
    "duration": 14,
    "start_time": "2022-11-23T17:47:38.863Z"
   },
   {
    "duration": 120,
    "start_time": "2022-11-23T17:48:29.879Z"
   },
   {
    "duration": 15,
    "start_time": "2022-11-23T17:48:48.633Z"
   },
   {
    "duration": 13,
    "start_time": "2022-11-23T17:48:57.569Z"
   },
   {
    "duration": 31,
    "start_time": "2022-11-23T17:55:15.761Z"
   },
   {
    "duration": 24,
    "start_time": "2022-11-23T17:55:27.625Z"
   },
   {
    "duration": 19,
    "start_time": "2022-11-23T17:56:12.738Z"
   },
   {
    "duration": 35,
    "start_time": "2022-11-23T18:00:34.636Z"
   },
   {
    "duration": 158,
    "start_time": "2022-11-23T18:21:05.744Z"
   },
   {
    "duration": 167,
    "start_time": "2022-11-23T18:22:04.296Z"
   },
   {
    "duration": 239,
    "start_time": "2022-11-23T18:25:55.725Z"
   },
   {
    "duration": 432,
    "start_time": "2022-11-23T18:26:05.917Z"
   },
   {
    "duration": 237,
    "start_time": "2022-11-23T18:26:12.769Z"
   },
   {
    "duration": 243,
    "start_time": "2022-11-23T18:26:20.385Z"
   },
   {
    "duration": 1366,
    "start_time": "2022-11-23T18:33:41.765Z"
   },
   {
    "duration": 5,
    "start_time": "2022-11-23T18:33:43.133Z"
   },
   {
    "duration": 21,
    "start_time": "2022-11-23T18:33:43.139Z"
   },
   {
    "duration": 9,
    "start_time": "2022-11-23T18:33:43.162Z"
   },
   {
    "duration": 10,
    "start_time": "2022-11-23T18:33:43.173Z"
   },
   {
    "duration": 29,
    "start_time": "2022-11-23T18:33:43.199Z"
   },
   {
    "duration": 20,
    "start_time": "2022-11-23T18:33:43.231Z"
   },
   {
    "duration": 15,
    "start_time": "2022-11-23T18:33:43.253Z"
   },
   {
    "duration": 5,
    "start_time": "2022-11-23T18:33:43.270Z"
   },
   {
    "duration": 45,
    "start_time": "2022-11-23T18:33:43.299Z"
   },
   {
    "duration": 12,
    "start_time": "2022-11-23T18:33:43.345Z"
   },
   {
    "duration": 9,
    "start_time": "2022-11-23T18:33:43.358Z"
   },
   {
    "duration": 197,
    "start_time": "2022-11-23T18:33:43.369Z"
   },
   {
    "duration": 7,
    "start_time": "2022-11-23T18:33:43.568Z"
   },
   {
    "duration": 29,
    "start_time": "2022-11-23T18:33:43.577Z"
   },
   {
    "duration": 33,
    "start_time": "2022-11-23T18:33:43.608Z"
   },
   {
    "duration": 20,
    "start_time": "2022-11-23T18:33:43.643Z"
   },
   {
    "duration": 59,
    "start_time": "2022-11-23T18:33:43.665Z"
   },
   {
    "duration": 6,
    "start_time": "2022-11-23T18:33:43.726Z"
   },
   {
    "duration": 6,
    "start_time": "2022-11-23T18:33:43.734Z"
   },
   {
    "duration": 7,
    "start_time": "2022-11-23T18:33:43.741Z"
   },
   {
    "duration": 6,
    "start_time": "2022-11-23T18:33:43.749Z"
   },
   {
    "duration": 11,
    "start_time": "2022-11-23T18:33:43.757Z"
   },
   {
    "duration": 78,
    "start_time": "2022-11-23T18:33:43.770Z"
   },
   {
    "duration": 13,
    "start_time": "2022-11-23T18:33:43.850Z"
   },
   {
    "duration": 32,
    "start_time": "2022-11-23T18:33:43.864Z"
   },
   {
    "duration": 14,
    "start_time": "2022-11-23T18:33:43.908Z"
   },
   {
    "duration": 29,
    "start_time": "2022-11-23T18:33:43.928Z"
   },
   {
    "duration": 25,
    "start_time": "2022-11-23T18:33:43.960Z"
   },
   {
    "duration": 39,
    "start_time": "2022-11-23T18:33:43.987Z"
   },
   {
    "duration": 191,
    "start_time": "2022-11-23T18:33:44.028Z"
   },
   {
    "duration": 246,
    "start_time": "2022-11-23T18:33:44.223Z"
   },
   {
    "duration": 10,
    "start_time": "2022-11-23T18:33:44.471Z"
   },
   {
    "duration": 316,
    "start_time": "2022-11-23T18:33:44.483Z"
   },
   {
    "duration": 9,
    "start_time": "2022-11-23T18:33:44.800Z"
   },
   {
    "duration": 51,
    "start_time": "2022-11-23T18:33:44.811Z"
   },
   {
    "duration": 33,
    "start_time": "2022-11-23T18:33:44.864Z"
   },
   {
    "duration": 194,
    "start_time": "2022-11-23T18:33:44.898Z"
   },
   {
    "duration": 195,
    "start_time": "2022-11-23T18:33:45.093Z"
   },
   {
    "duration": 220,
    "start_time": "2022-11-23T18:33:45.290Z"
   },
   {
    "duration": 20,
    "start_time": "2022-11-23T18:33:45.512Z"
   },
   {
    "duration": 5,
    "start_time": "2022-11-23T18:33:45.534Z"
   },
   {
    "duration": 288,
    "start_time": "2022-11-23T18:33:45.541Z"
   },
   {
    "duration": 384,
    "start_time": "2022-11-23T18:33:45.830Z"
   },
   {
    "duration": 51,
    "start_time": "2022-11-23T18:33:46.216Z"
   },
   {
    "duration": 40,
    "start_time": "2022-11-23T18:33:46.271Z"
   },
   {
    "duration": 24,
    "start_time": "2022-11-23T18:33:46.312Z"
   },
   {
    "duration": 303,
    "start_time": "2022-11-23T18:33:46.340Z"
   },
   {
    "duration": 26,
    "start_time": "2022-11-23T18:33:46.646Z"
   },
   {
    "duration": 50,
    "start_time": "2023-03-04T11:01:39.000Z"
   },
   {
    "duration": 1700,
    "start_time": "2023-03-04T11:01:53.455Z"
   },
   {
    "duration": 5,
    "start_time": "2023-03-04T11:01:55.157Z"
   },
   {
    "duration": 21,
    "start_time": "2023-03-04T11:01:55.164Z"
   },
   {
    "duration": 20,
    "start_time": "2023-03-04T11:01:55.187Z"
   },
   {
    "duration": 16,
    "start_time": "2023-03-04T11:01:55.209Z"
   },
   {
    "duration": 20,
    "start_time": "2023-03-04T11:01:55.226Z"
   },
   {
    "duration": 15,
    "start_time": "2023-03-04T11:01:55.253Z"
   },
   {
    "duration": 13,
    "start_time": "2023-03-04T11:01:55.270Z"
   },
   {
    "duration": 5,
    "start_time": "2023-03-04T11:01:55.284Z"
   },
   {
    "duration": 62,
    "start_time": "2023-03-04T11:01:55.291Z"
   },
   {
    "duration": 13,
    "start_time": "2023-03-04T11:01:55.355Z"
   },
   {
    "duration": 8,
    "start_time": "2023-03-04T11:01:55.369Z"
   },
   {
    "duration": 177,
    "start_time": "2023-03-04T11:01:55.379Z"
   },
   {
    "duration": 7,
    "start_time": "2023-03-04T11:01:55.560Z"
   },
   {
    "duration": 23,
    "start_time": "2023-03-04T11:01:55.568Z"
   },
   {
    "duration": 26,
    "start_time": "2023-03-04T11:01:55.592Z"
   },
   {
    "duration": 42,
    "start_time": "2023-03-04T11:01:55.619Z"
   },
   {
    "duration": 31,
    "start_time": "2023-03-04T11:01:55.662Z"
   },
   {
    "duration": 5,
    "start_time": "2023-03-04T11:01:55.694Z"
   },
   {
    "duration": 8,
    "start_time": "2023-03-04T11:01:55.700Z"
   },
   {
    "duration": 6,
    "start_time": "2023-03-04T11:01:55.709Z"
   },
   {
    "duration": 12,
    "start_time": "2023-03-04T11:01:55.717Z"
   },
   {
    "duration": 9,
    "start_time": "2023-03-04T11:01:55.754Z"
   },
   {
    "duration": 28,
    "start_time": "2023-03-04T11:01:55.765Z"
   },
   {
    "duration": 9,
    "start_time": "2023-03-04T11:01:55.794Z"
   },
   {
    "duration": 53,
    "start_time": "2023-03-04T11:01:55.804Z"
   },
   {
    "duration": 8,
    "start_time": "2023-03-04T11:01:55.858Z"
   },
   {
    "duration": 10,
    "start_time": "2023-03-04T11:01:55.868Z"
   },
   {
    "duration": 9,
    "start_time": "2023-03-04T11:01:55.880Z"
   },
   {
    "duration": 27,
    "start_time": "2023-03-04T11:01:55.891Z"
   },
   {
    "duration": 185,
    "start_time": "2023-03-04T11:01:55.920Z"
   },
   {
    "duration": 205,
    "start_time": "2023-03-04T11:01:56.107Z"
   },
   {
    "duration": 9,
    "start_time": "2023-03-04T11:01:56.314Z"
   },
   {
    "duration": 269,
    "start_time": "2023-03-04T11:01:56.324Z"
   },
   {
    "duration": 7,
    "start_time": "2023-03-04T11:01:56.595Z"
   },
   {
    "duration": 27,
    "start_time": "2023-03-04T11:01:56.604Z"
   },
   {
    "duration": 41,
    "start_time": "2023-03-04T11:01:56.632Z"
   },
   {
    "duration": 169,
    "start_time": "2023-03-04T11:01:56.675Z"
   },
   {
    "duration": 183,
    "start_time": "2023-03-04T11:01:56.846Z"
   },
   {
    "duration": 215,
    "start_time": "2023-03-04T11:01:57.031Z"
   },
   {
    "duration": 16,
    "start_time": "2023-03-04T11:01:57.252Z"
   },
   {
    "duration": 7,
    "start_time": "2023-03-04T11:01:57.270Z"
   },
   {
    "duration": 349,
    "start_time": "2023-03-04T11:01:57.279Z"
   },
   {
    "duration": 266,
    "start_time": "2023-03-04T11:01:57.629Z"
   },
   {
    "duration": 40,
    "start_time": "2023-03-04T11:01:57.897Z"
   },
   {
    "duration": 32,
    "start_time": "2023-03-04T11:01:57.939Z"
   },
   {
    "duration": 22,
    "start_time": "2023-03-04T11:01:57.973Z"
   },
   {
    "duration": 201,
    "start_time": "2023-03-04T11:01:57.997Z"
   },
   {
    "duration": 15,
    "start_time": "2023-03-04T11:01:58.200Z"
   },
   {
    "duration": 16,
    "start_time": "2023-03-04T11:08:58.635Z"
   },
   {
    "duration": 1347,
    "start_time": "2023-03-04T11:09:02.967Z"
   },
   {
    "duration": 6,
    "start_time": "2023-03-04T11:09:04.316Z"
   },
   {
    "duration": 18,
    "start_time": "2023-03-04T11:09:04.324Z"
   },
   {
    "duration": 5,
    "start_time": "2023-03-04T11:09:04.344Z"
   },
   {
    "duration": 9,
    "start_time": "2023-03-04T11:09:04.351Z"
   },
   {
    "duration": 18,
    "start_time": "2023-03-04T11:09:04.362Z"
   },
   {
    "duration": 15,
    "start_time": "2023-03-04T11:09:04.382Z"
   },
   {
    "duration": 13,
    "start_time": "2023-03-04T11:09:04.399Z"
   },
   {
    "duration": 6,
    "start_time": "2023-03-04T11:09:04.414Z"
   },
   {
    "duration": 65,
    "start_time": "2023-03-04T11:09:04.422Z"
   },
   {
    "duration": 13,
    "start_time": "2023-03-04T11:09:04.488Z"
   },
   {
    "duration": 8,
    "start_time": "2023-03-04T11:09:04.502Z"
   },
   {
    "duration": 175,
    "start_time": "2023-03-04T11:09:04.512Z"
   },
   {
    "duration": 6,
    "start_time": "2023-03-04T11:09:04.690Z"
   },
   {
    "duration": 19,
    "start_time": "2023-03-04T11:09:04.698Z"
   },
   {
    "duration": 45,
    "start_time": "2023-03-04T11:09:04.718Z"
   },
   {
    "duration": 18,
    "start_time": "2023-03-04T11:09:04.764Z"
   },
   {
    "duration": 28,
    "start_time": "2023-03-04T11:09:04.784Z"
   },
   {
    "duration": 5,
    "start_time": "2023-03-04T11:09:04.814Z"
   },
   {
    "duration": 33,
    "start_time": "2023-03-04T11:09:04.820Z"
   },
   {
    "duration": 12,
    "start_time": "2023-03-04T11:09:04.855Z"
   },
   {
    "duration": 6,
    "start_time": "2023-03-04T11:09:04.868Z"
   },
   {
    "duration": 10,
    "start_time": "2023-03-04T11:09:04.875Z"
   },
   {
    "duration": 25,
    "start_time": "2023-03-04T11:09:04.887Z"
   },
   {
    "duration": 6,
    "start_time": "2023-03-04T11:09:04.914Z"
   },
   {
    "duration": 30,
    "start_time": "2023-03-04T11:09:04.953Z"
   },
   {
    "duration": 9,
    "start_time": "2023-03-04T11:09:04.984Z"
   },
   {
    "duration": 10,
    "start_time": "2023-03-04T11:09:04.995Z"
   },
   {
    "duration": 11,
    "start_time": "2023-03-04T11:09:05.007Z"
   },
   {
    "duration": 51,
    "start_time": "2023-03-04T11:09:05.020Z"
   },
   {
    "duration": 170,
    "start_time": "2023-03-04T11:09:05.073Z"
   },
   {
    "duration": 216,
    "start_time": "2023-03-04T11:09:05.245Z"
   },
   {
    "duration": 11,
    "start_time": "2023-03-04T11:09:05.463Z"
   },
   {
    "duration": 274,
    "start_time": "2023-03-04T11:09:05.475Z"
   },
   {
    "duration": 7,
    "start_time": "2023-03-04T11:09:05.753Z"
   },
   {
    "duration": 32,
    "start_time": "2023-03-04T11:09:05.762Z"
   },
   {
    "duration": 26,
    "start_time": "2023-03-04T11:09:05.796Z"
   },
   {
    "duration": 176,
    "start_time": "2023-03-04T11:09:05.824Z"
   },
   {
    "duration": 166,
    "start_time": "2023-03-04T11:09:06.002Z"
   },
   {
    "duration": 193,
    "start_time": "2023-03-04T11:09:06.169Z"
   },
   {
    "duration": 14,
    "start_time": "2023-03-04T11:09:06.366Z"
   },
   {
    "duration": 5,
    "start_time": "2023-03-04T11:09:06.382Z"
   },
   {
    "duration": 319,
    "start_time": "2023-03-04T11:09:06.389Z"
   },
   {
    "duration": 273,
    "start_time": "2023-03-04T11:09:06.709Z"
   },
   {
    "duration": 39,
    "start_time": "2023-03-04T11:09:06.984Z"
   },
   {
    "duration": 34,
    "start_time": "2023-03-04T11:09:07.025Z"
   },
   {
    "duration": 20,
    "start_time": "2023-03-04T11:09:07.060Z"
   },
   {
    "duration": 198,
    "start_time": "2023-03-04T11:09:07.082Z"
   },
   {
    "duration": 16,
    "start_time": "2023-03-04T11:09:07.281Z"
   },
   {
    "duration": 157,
    "start_time": "2023-03-04T11:12:26.733Z"
   },
   {
    "duration": 100,
    "start_time": "2023-03-04T11:12:41.554Z"
   },
   {
    "duration": 200,
    "start_time": "2023-03-04T11:12:53.966Z"
   },
   {
    "duration": 161,
    "start_time": "2023-03-04T11:13:01.822Z"
   },
   {
    "duration": 155,
    "start_time": "2023-03-04T11:15:02.427Z"
   },
   {
    "duration": 143,
    "start_time": "2023-03-04T11:15:08.505Z"
   },
   {
    "duration": 169,
    "start_time": "2023-03-04T11:16:28.350Z"
   },
   {
    "duration": 173,
    "start_time": "2023-03-04T11:16:33.792Z"
   },
   {
    "duration": 144,
    "start_time": "2023-03-04T11:16:41.097Z"
   },
   {
    "duration": 276,
    "start_time": "2023-03-04T11:16:51.617Z"
   },
   {
    "duration": 160,
    "start_time": "2023-03-04T11:17:01.336Z"
   },
   {
    "duration": 209,
    "start_time": "2023-03-04T11:17:40.291Z"
   },
   {
    "duration": 171,
    "start_time": "2023-03-04T11:18:34.526Z"
   },
   {
    "duration": 187,
    "start_time": "2023-03-04T11:19:21.032Z"
   },
   {
    "duration": 298,
    "start_time": "2023-03-04T11:20:30.002Z"
   },
   {
    "duration": 266,
    "start_time": "2023-03-04T11:20:42.835Z"
   },
   {
    "duration": 266,
    "start_time": "2023-03-04T11:21:50.208Z"
   },
   {
    "duration": 215,
    "start_time": "2023-03-04T11:22:38.959Z"
   },
   {
    "duration": 271,
    "start_time": "2023-03-04T11:22:51.339Z"
   },
   {
    "duration": 154,
    "start_time": "2023-03-04T11:23:08.948Z"
   },
   {
    "duration": 310,
    "start_time": "2023-03-04T11:24:38.689Z"
   },
   {
    "duration": 351,
    "start_time": "2023-03-04T11:24:58.736Z"
   },
   {
    "duration": 264,
    "start_time": "2023-03-04T11:25:36.073Z"
   },
   {
    "duration": 164,
    "start_time": "2023-03-04T11:25:55.642Z"
   },
   {
    "duration": 165,
    "start_time": "2023-03-04T11:26:04.760Z"
   },
   {
    "duration": 170,
    "start_time": "2023-03-04T11:26:12.639Z"
   },
   {
    "duration": 154,
    "start_time": "2023-03-04T11:26:55.826Z"
   },
   {
    "duration": 178,
    "start_time": "2023-03-04T11:27:52.414Z"
   },
   {
    "duration": 133,
    "start_time": "2023-03-04T11:27:59.508Z"
   },
   {
    "duration": 163,
    "start_time": "2023-03-04T11:28:30.474Z"
   },
   {
    "duration": 179,
    "start_time": "2023-03-04T11:28:44.046Z"
   },
   {
    "duration": 211,
    "start_time": "2023-03-04T11:28:52.861Z"
   },
   {
    "duration": 176,
    "start_time": "2023-03-04T11:29:32.918Z"
   },
   {
    "duration": 222,
    "start_time": "2023-03-04T11:29:43.876Z"
   },
   {
    "duration": 257,
    "start_time": "2023-03-04T11:30:39.834Z"
   },
   {
    "duration": 254,
    "start_time": "2023-03-04T11:31:41.783Z"
   },
   {
    "duration": 269,
    "start_time": "2023-03-04T11:32:07.296Z"
   },
   {
    "duration": 350,
    "start_time": "2023-03-04T11:32:30.420Z"
   },
   {
    "duration": 247,
    "start_time": "2023-03-04T11:32:46.244Z"
   },
   {
    "duration": 260,
    "start_time": "2023-03-04T11:32:51.819Z"
   },
   {
    "duration": 243,
    "start_time": "2023-03-04T11:33:04.132Z"
   },
   {
    "duration": 72,
    "start_time": "2023-03-04T11:33:39.520Z"
   },
   {
    "duration": 168,
    "start_time": "2023-03-04T11:33:45.023Z"
   },
   {
    "duration": 191,
    "start_time": "2023-03-04T11:34:38.423Z"
   },
   {
    "duration": 165,
    "start_time": "2023-03-04T11:34:49.072Z"
   },
   {
    "duration": 1359,
    "start_time": "2023-03-04T11:36:00.945Z"
   },
   {
    "duration": 5,
    "start_time": "2023-03-04T11:36:02.306Z"
   },
   {
    "duration": 40,
    "start_time": "2023-03-04T11:36:02.312Z"
   },
   {
    "duration": 21,
    "start_time": "2023-03-04T11:36:02.354Z"
   },
   {
    "duration": 13,
    "start_time": "2023-03-04T11:36:02.378Z"
   },
   {
    "duration": 18,
    "start_time": "2023-03-04T11:36:02.393Z"
   },
   {
    "duration": 15,
    "start_time": "2023-03-04T11:36:02.413Z"
   },
   {
    "duration": 23,
    "start_time": "2023-03-04T11:36:02.430Z"
   },
   {
    "duration": 22,
    "start_time": "2023-03-04T11:36:02.455Z"
   },
   {
    "duration": 48,
    "start_time": "2023-03-04T11:36:02.479Z"
   },
   {
    "duration": 12,
    "start_time": "2023-03-04T11:36:02.528Z"
   },
   {
    "duration": 38,
    "start_time": "2023-03-04T11:36:02.542Z"
   },
   {
    "duration": 200,
    "start_time": "2023-03-04T11:36:02.582Z"
   },
   {
    "duration": 6,
    "start_time": "2023-03-04T11:36:02.785Z"
   },
   {
    "duration": 17,
    "start_time": "2023-03-04T11:36:02.793Z"
   },
   {
    "duration": 24,
    "start_time": "2023-03-04T11:36:02.812Z"
   },
   {
    "duration": 28,
    "start_time": "2023-03-04T11:36:02.838Z"
   },
   {
    "duration": 28,
    "start_time": "2023-03-04T11:36:02.867Z"
   },
   {
    "duration": 4,
    "start_time": "2023-03-04T11:36:02.896Z"
   },
   {
    "duration": 10,
    "start_time": "2023-03-04T11:36:02.902Z"
   },
   {
    "duration": 9,
    "start_time": "2023-03-04T11:36:02.914Z"
   },
   {
    "duration": 5,
    "start_time": "2023-03-04T11:36:02.924Z"
   },
   {
    "duration": 14,
    "start_time": "2023-03-04T11:36:02.930Z"
   },
   {
    "duration": 24,
    "start_time": "2023-03-04T11:36:02.945Z"
   },
   {
    "duration": 13,
    "start_time": "2023-03-04T11:36:02.971Z"
   },
   {
    "duration": 27,
    "start_time": "2023-03-04T11:36:02.986Z"
   },
   {
    "duration": 8,
    "start_time": "2023-03-04T11:36:03.015Z"
   },
   {
    "duration": 12,
    "start_time": "2023-03-04T11:36:03.024Z"
   },
   {
    "duration": 7,
    "start_time": "2023-03-04T11:36:03.037Z"
   },
   {
    "duration": 25,
    "start_time": "2023-03-04T11:36:03.045Z"
   },
   {
    "duration": 225,
    "start_time": "2023-03-04T11:36:03.072Z"
   },
   {
    "duration": 237,
    "start_time": "2023-03-04T11:36:03.299Z"
   },
   {
    "duration": 10,
    "start_time": "2023-03-04T11:36:03.537Z"
   },
   {
    "duration": 340,
    "start_time": "2023-03-04T11:36:03.553Z"
   },
   {
    "duration": 9,
    "start_time": "2023-03-04T11:36:03.895Z"
   },
   {
    "duration": 53,
    "start_time": "2023-03-04T11:36:03.906Z"
   },
   {
    "duration": 29,
    "start_time": "2023-03-04T11:36:03.961Z"
   },
   {
    "duration": 198,
    "start_time": "2023-03-04T11:36:03.992Z"
   },
   {
    "duration": 195,
    "start_time": "2023-03-04T11:36:04.191Z"
   },
   {
    "duration": 188,
    "start_time": "2023-03-04T11:36:04.388Z"
   },
   {
    "duration": 14,
    "start_time": "2023-03-04T11:36:04.579Z"
   },
   {
    "duration": 7,
    "start_time": "2023-03-04T11:36:04.595Z"
   },
   {
    "duration": 267,
    "start_time": "2023-03-04T11:36:04.604Z"
   },
   {
    "duration": 322,
    "start_time": "2023-03-04T11:36:04.873Z"
   },
   {
    "duration": 38,
    "start_time": "2023-03-04T11:36:05.197Z"
   },
   {
    "duration": 33,
    "start_time": "2023-03-04T11:36:05.236Z"
   },
   {
    "duration": 28,
    "start_time": "2023-03-04T11:36:05.270Z"
   },
   {
    "duration": 188,
    "start_time": "2023-03-04T11:36:05.300Z"
   },
   {
    "duration": 17,
    "start_time": "2023-03-04T11:36:05.490Z"
   },
   {
    "duration": 197,
    "start_time": "2023-03-04T12:42:07.238Z"
   },
   {
    "duration": 292,
    "start_time": "2023-03-04T12:43:29.182Z"
   },
   {
    "duration": 209,
    "start_time": "2023-03-04T12:43:45.149Z"
   },
   {
    "duration": 179,
    "start_time": "2023-03-04T12:43:51.424Z"
   },
   {
    "duration": 192,
    "start_time": "2023-03-04T12:44:27.026Z"
   },
   {
    "duration": 217,
    "start_time": "2023-03-04T12:45:11.848Z"
   },
   {
    "duration": 162,
    "start_time": "2023-03-04T12:45:36.175Z"
   },
   {
    "duration": 164,
    "start_time": "2023-03-04T12:46:33.561Z"
   },
   {
    "duration": 160,
    "start_time": "2023-03-04T12:47:34.167Z"
   },
   {
    "duration": 289,
    "start_time": "2023-03-04T12:49:17.881Z"
   },
   {
    "duration": 372,
    "start_time": "2023-03-04T12:49:46.052Z"
   },
   {
    "duration": 1300,
    "start_time": "2023-03-04T12:51:45.754Z"
   },
   {
    "duration": 6,
    "start_time": "2023-03-04T12:51:47.056Z"
   },
   {
    "duration": 15,
    "start_time": "2023-03-04T12:51:47.064Z"
   },
   {
    "duration": 9,
    "start_time": "2023-03-04T12:51:47.081Z"
   },
   {
    "duration": 9,
    "start_time": "2023-03-04T12:51:47.091Z"
   },
   {
    "duration": 20,
    "start_time": "2023-03-04T12:51:47.102Z"
   },
   {
    "duration": 17,
    "start_time": "2023-03-04T12:51:47.154Z"
   },
   {
    "duration": 15,
    "start_time": "2023-03-04T12:51:47.173Z"
   },
   {
    "duration": 9,
    "start_time": "2023-03-04T12:51:47.189Z"
   },
   {
    "duration": 58,
    "start_time": "2023-03-04T12:51:47.200Z"
   },
   {
    "duration": 14,
    "start_time": "2023-03-04T12:51:47.260Z"
   },
   {
    "duration": 9,
    "start_time": "2023-03-04T12:51:47.276Z"
   },
   {
    "duration": 230,
    "start_time": "2023-03-04T12:51:47.286Z"
   },
   {
    "duration": 7,
    "start_time": "2023-03-04T12:51:47.517Z"
   },
   {
    "duration": 33,
    "start_time": "2023-03-04T12:51:47.525Z"
   },
   {
    "duration": 24,
    "start_time": "2023-03-04T12:51:47.559Z"
   },
   {
    "duration": 17,
    "start_time": "2023-03-04T12:51:47.585Z"
   },
   {
    "duration": 52,
    "start_time": "2023-03-04T12:51:47.604Z"
   },
   {
    "duration": 5,
    "start_time": "2023-03-04T12:51:47.658Z"
   },
   {
    "duration": 7,
    "start_time": "2023-03-04T12:51:47.664Z"
   },
   {
    "duration": 6,
    "start_time": "2023-03-04T12:51:47.673Z"
   },
   {
    "duration": 5,
    "start_time": "2023-03-04T12:51:47.681Z"
   },
   {
    "duration": 10,
    "start_time": "2023-03-04T12:51:47.687Z"
   },
   {
    "duration": 64,
    "start_time": "2023-03-04T12:51:47.699Z"
   },
   {
    "duration": 6,
    "start_time": "2023-03-04T12:51:47.765Z"
   },
   {
    "duration": 28,
    "start_time": "2023-03-04T12:51:47.773Z"
   },
   {
    "duration": 8,
    "start_time": "2023-03-04T12:51:47.802Z"
   },
   {
    "duration": 9,
    "start_time": "2023-03-04T12:51:47.814Z"
   },
   {
    "duration": 33,
    "start_time": "2023-03-04T12:51:47.824Z"
   },
   {
    "duration": 23,
    "start_time": "2023-03-04T12:51:47.859Z"
   },
   {
    "duration": 173,
    "start_time": "2023-03-04T12:51:47.884Z"
   },
   {
    "duration": 185,
    "start_time": "2023-03-04T12:51:48.059Z"
   },
   {
    "duration": 10,
    "start_time": "2023-03-04T12:51:48.252Z"
   },
   {
    "duration": 294,
    "start_time": "2023-03-04T12:51:48.263Z"
   },
   {
    "duration": 8,
    "start_time": "2023-03-04T12:51:48.558Z"
   },
   {
    "duration": 31,
    "start_time": "2023-03-04T12:51:48.568Z"
   },
   {
    "duration": 53,
    "start_time": "2023-03-04T12:51:48.601Z"
   },
   {
    "duration": 160,
    "start_time": "2023-03-04T12:51:48.656Z"
   },
   {
    "duration": 170,
    "start_time": "2023-03-04T12:51:48.818Z"
   },
   {
    "duration": 188,
    "start_time": "2023-03-04T12:51:48.989Z"
   },
   {
    "duration": 14,
    "start_time": "2023-03-04T12:51:49.178Z"
   },
   {
    "duration": 12,
    "start_time": "2023-03-04T12:51:49.193Z"
   },
   {
    "duration": 229,
    "start_time": "2023-03-04T12:51:49.207Z"
   },
   {
    "duration": 302,
    "start_time": "2023-03-04T12:51:49.438Z"
   },
   {
    "duration": 42,
    "start_time": "2023-03-04T12:51:49.742Z"
   },
   {
    "duration": 18,
    "start_time": "2023-03-04T12:51:49.786Z"
   },
   {
    "duration": 17,
    "start_time": "2023-03-04T12:51:49.806Z"
   },
   {
    "duration": 216,
    "start_time": "2023-03-04T12:51:49.825Z"
   },
   {
    "duration": 25,
    "start_time": "2023-03-04T12:51:50.043Z"
   }
  ],
  "colab": {
   "name": "DA+. Сборный проект 1. Шаблон (1).ipynb",
   "provenance": []
  },
  "kernelspec": {
   "display_name": "Python 3 (ipykernel)",
   "language": "python",
   "name": "python3"
  },
  "language_info": {
   "codemirror_mode": {
    "name": "ipython",
    "version": 3
   },
   "file_extension": ".py",
   "mimetype": "text/x-python",
   "name": "python",
   "nbconvert_exporter": "python",
   "pygments_lexer": "ipython3",
   "version": "3.9.5"
  },
  "toc": {
   "base_numbering": 1,
   "nav_menu": {},
   "number_sections": true,
   "sideBar": true,
   "skip_h1_title": true,
   "title_cell": "Table of Contents",
   "title_sidebar": "Contents",
   "toc_cell": false,
   "toc_position": {
    "height": "calc(100% - 180px)",
    "left": "10px",
    "top": "150px",
    "width": "375.391px"
   },
   "toc_section_display": true,
   "toc_window_display": false
  }
 },
 "nbformat": 4,
 "nbformat_minor": 1
}
