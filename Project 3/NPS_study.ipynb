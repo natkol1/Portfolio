{
 "cells": [
  {
   "cell_type": "markdown",
   "id": "1a3a86df",
   "metadata": {},
   "source": [
    "# Создание дашборда по результатам опроса клиентов телеком компании"
   ]
  },
  {
   "cell_type": "code",
   "execution_count": 1,
   "id": "1cbd6d06",
   "metadata": {
    "tags": [
     "aa81075c-062f-4de0-b5fe-14c73dc7468e"
    ]
   },
   "outputs": [],
   "source": [
    "import pandas as pd\n",
    "import numpy as np\n",
    "\n",
    "from sqlalchemy import create_engine"
   ]
  },
  {
   "cell_type": "code",
   "execution_count": 2,
   "id": "0212f031",
   "metadata": {},
   "outputs": [],
   "source": [
    "path_to_db = '/datasets/telecomm_csi.db'\n",
    "engine = create_engine(f'sqlite:///{path_to_db}', echo = False)"
   ]
  },
  {
   "cell_type": "code",
   "execution_count": 3,
   "id": "59b97147",
   "metadata": {},
   "outputs": [],
   "source": [
    "query = \"\"\"\n",
    "SELECT user_id, lt_day, \n",
    "(case when lt_day < 365 then 'new' else 'old' end) as is_new, \n",
    "age, gender_segment, os_name, cpe_type_name, country, city, ag.title as age_segment,\n",
    "ts.title as traffic_segment, ls.title as lifetime_segment,\n",
    "nps_score , (case when nps_score>=9 then 'promoters'\n",
    "when nps_score >= 7 then 'passives' else 'detractors' end) as nps_group\n",
    "FROM user as u\n",
    "left join location as l on l.location_id=u.location_id\n",
    "left join age_segment as ag on ag.age_gr_id=u.age_gr_id\n",
    "left join traffic_segment as ts on ts.tr_gr_id=u.tr_gr_id\n",
    "left join lifetime_segment as ls on ls.lt_gr_id=u.lt_gr_id\n",
    "\"\"\""
   ]
  },
  {
   "cell_type": "code",
   "execution_count": 4,
   "id": "1da230dc",
   "metadata": {
    "scrolled": false
   },
   "outputs": [
    {
     "data": {
      "text/html": [
       "<div>\n",
       "<style scoped>\n",
       "    .dataframe tbody tr th:only-of-type {\n",
       "        vertical-align: middle;\n",
       "    }\n",
       "\n",
       "    .dataframe tbody tr th {\n",
       "        vertical-align: top;\n",
       "    }\n",
       "\n",
       "    .dataframe thead th {\n",
       "        text-align: right;\n",
       "    }\n",
       "</style>\n",
       "<table border=\"1\" class=\"dataframe\">\n",
       "  <thead>\n",
       "    <tr style=\"text-align: right;\">\n",
       "      <th></th>\n",
       "      <th>user_id</th>\n",
       "      <th>lt_day</th>\n",
       "      <th>is_new</th>\n",
       "      <th>age</th>\n",
       "      <th>gender_segment</th>\n",
       "      <th>os_name</th>\n",
       "      <th>cpe_type_name</th>\n",
       "      <th>country</th>\n",
       "      <th>city</th>\n",
       "      <th>age_segment</th>\n",
       "      <th>traffic_segment</th>\n",
       "      <th>lifetime_segment</th>\n",
       "      <th>nps_score</th>\n",
       "      <th>nps_group</th>\n",
       "    </tr>\n",
       "  </thead>\n",
       "  <tbody>\n",
       "    <tr>\n",
       "      <th>0</th>\n",
       "      <td>A001A2</td>\n",
       "      <td>2320</td>\n",
       "      <td>old</td>\n",
       "      <td>45.0</td>\n",
       "      <td>1.0</td>\n",
       "      <td>ANDROID</td>\n",
       "      <td>SMARTPHONE</td>\n",
       "      <td>Россия</td>\n",
       "      <td>Уфа</td>\n",
       "      <td>05 45-54</td>\n",
       "      <td>04 1-5</td>\n",
       "      <td>08 36+</td>\n",
       "      <td>10</td>\n",
       "      <td>promoters</td>\n",
       "    </tr>\n",
       "    <tr>\n",
       "      <th>1</th>\n",
       "      <td>A001WF</td>\n",
       "      <td>2344</td>\n",
       "      <td>old</td>\n",
       "      <td>53.0</td>\n",
       "      <td>0.0</td>\n",
       "      <td>ANDROID</td>\n",
       "      <td>SMARTPHONE</td>\n",
       "      <td>Россия</td>\n",
       "      <td>Киров</td>\n",
       "      <td>05 45-54</td>\n",
       "      <td>04 1-5</td>\n",
       "      <td>08 36+</td>\n",
       "      <td>10</td>\n",
       "      <td>promoters</td>\n",
       "    </tr>\n",
       "    <tr>\n",
       "      <th>2</th>\n",
       "      <td>A003Q7</td>\n",
       "      <td>467</td>\n",
       "      <td>old</td>\n",
       "      <td>57.0</td>\n",
       "      <td>0.0</td>\n",
       "      <td>ANDROID</td>\n",
       "      <td>SMARTPHONE</td>\n",
       "      <td>Россия</td>\n",
       "      <td>Москва</td>\n",
       "      <td>06 55-64</td>\n",
       "      <td>08 20-25</td>\n",
       "      <td>06 13-24</td>\n",
       "      <td>10</td>\n",
       "      <td>promoters</td>\n",
       "    </tr>\n",
       "    <tr>\n",
       "      <th>3</th>\n",
       "      <td>A004TB</td>\n",
       "      <td>4190</td>\n",
       "      <td>old</td>\n",
       "      <td>44.0</td>\n",
       "      <td>1.0</td>\n",
       "      <td>IOS</td>\n",
       "      <td>SMARTPHONE</td>\n",
       "      <td>Россия</td>\n",
       "      <td>РостовнаДону</td>\n",
       "      <td>04 35-44</td>\n",
       "      <td>03 0.1-1</td>\n",
       "      <td>08 36+</td>\n",
       "      <td>10</td>\n",
       "      <td>promoters</td>\n",
       "    </tr>\n",
       "    <tr>\n",
       "      <th>4</th>\n",
       "      <td>A004XT</td>\n",
       "      <td>1163</td>\n",
       "      <td>old</td>\n",
       "      <td>24.0</td>\n",
       "      <td>0.0</td>\n",
       "      <td>ANDROID</td>\n",
       "      <td>SMARTPHONE</td>\n",
       "      <td>Россия</td>\n",
       "      <td>Рязань</td>\n",
       "      <td>02 16-24</td>\n",
       "      <td>05 5-10</td>\n",
       "      <td>08 36+</td>\n",
       "      <td>10</td>\n",
       "      <td>promoters</td>\n",
       "    </tr>\n",
       "    <tr>\n",
       "      <th>5</th>\n",
       "      <td>A005O0</td>\n",
       "      <td>5501</td>\n",
       "      <td>old</td>\n",
       "      <td>42.0</td>\n",
       "      <td>1.0</td>\n",
       "      <td>ANDROID</td>\n",
       "      <td>SMARTPHONE</td>\n",
       "      <td>Россия</td>\n",
       "      <td>Омск</td>\n",
       "      <td>04 35-44</td>\n",
       "      <td>05 5-10</td>\n",
       "      <td>08 36+</td>\n",
       "      <td>6</td>\n",
       "      <td>detractors</td>\n",
       "    </tr>\n",
       "    <tr>\n",
       "      <th>6</th>\n",
       "      <td>A0061R</td>\n",
       "      <td>1236</td>\n",
       "      <td>old</td>\n",
       "      <td>45.0</td>\n",
       "      <td>0.0</td>\n",
       "      <td>ANDROID</td>\n",
       "      <td>SMARTPHONE</td>\n",
       "      <td>Россия</td>\n",
       "      <td>Уфа</td>\n",
       "      <td>05 45-54</td>\n",
       "      <td>06 10-15</td>\n",
       "      <td>08 36+</td>\n",
       "      <td>10</td>\n",
       "      <td>promoters</td>\n",
       "    </tr>\n",
       "    <tr>\n",
       "      <th>7</th>\n",
       "      <td>A009KS</td>\n",
       "      <td>313</td>\n",
       "      <td>new</td>\n",
       "      <td>35.0</td>\n",
       "      <td>0.0</td>\n",
       "      <td>ANDROID</td>\n",
       "      <td>SMARTPHONE</td>\n",
       "      <td>Россия</td>\n",
       "      <td>Москва</td>\n",
       "      <td>04 35-44</td>\n",
       "      <td>13 45-50</td>\n",
       "      <td>05 7-12</td>\n",
       "      <td>10</td>\n",
       "      <td>promoters</td>\n",
       "    </tr>\n",
       "    <tr>\n",
       "      <th>8</th>\n",
       "      <td>A00AES</td>\n",
       "      <td>3238</td>\n",
       "      <td>old</td>\n",
       "      <td>36.0</td>\n",
       "      <td>1.0</td>\n",
       "      <td>ANDROID</td>\n",
       "      <td>SMARTPHONE</td>\n",
       "      <td>Россия</td>\n",
       "      <td>СанктПетербург</td>\n",
       "      <td>04 35-44</td>\n",
       "      <td>04 1-5</td>\n",
       "      <td>08 36+</td>\n",
       "      <td>10</td>\n",
       "      <td>promoters</td>\n",
       "    </tr>\n",
       "    <tr>\n",
       "      <th>9</th>\n",
       "      <td>A00F70</td>\n",
       "      <td>4479</td>\n",
       "      <td>old</td>\n",
       "      <td>54.0</td>\n",
       "      <td>1.0</td>\n",
       "      <td>ANDROID</td>\n",
       "      <td>SMARTPHONE</td>\n",
       "      <td>Россия</td>\n",
       "      <td>Волгоград</td>\n",
       "      <td>05 45-54</td>\n",
       "      <td>07 15-20</td>\n",
       "      <td>08 36+</td>\n",
       "      <td>9</td>\n",
       "      <td>promoters</td>\n",
       "    </tr>\n",
       "  </tbody>\n",
       "</table>\n",
       "</div>"
      ],
      "text/plain": [
       "  user_id  lt_day is_new   age  gender_segment  os_name cpe_type_name country  \\\n",
       "0  A001A2    2320    old  45.0             1.0  ANDROID    SMARTPHONE  Россия   \n",
       "1  A001WF    2344    old  53.0             0.0  ANDROID    SMARTPHONE  Россия   \n",
       "2  A003Q7     467    old  57.0             0.0  ANDROID    SMARTPHONE  Россия   \n",
       "3  A004TB    4190    old  44.0             1.0      IOS    SMARTPHONE  Россия   \n",
       "4  A004XT    1163    old  24.0             0.0  ANDROID    SMARTPHONE  Россия   \n",
       "5  A005O0    5501    old  42.0             1.0  ANDROID    SMARTPHONE  Россия   \n",
       "6  A0061R    1236    old  45.0             0.0  ANDROID    SMARTPHONE  Россия   \n",
       "7  A009KS     313    new  35.0             0.0  ANDROID    SMARTPHONE  Россия   \n",
       "8  A00AES    3238    old  36.0             1.0  ANDROID    SMARTPHONE  Россия   \n",
       "9  A00F70    4479    old  54.0             1.0  ANDROID    SMARTPHONE  Россия   \n",
       "\n",
       "             city age_segment traffic_segment lifetime_segment  nps_score  \\\n",
       "0             Уфа    05 45-54          04 1-5           08 36+         10   \n",
       "1           Киров    05 45-54          04 1-5           08 36+         10   \n",
       "2          Москва    06 55-64        08 20-25         06 13-24         10   \n",
       "3    РостовнаДону    04 35-44        03 0.1-1           08 36+         10   \n",
       "4          Рязань    02 16-24         05 5-10           08 36+         10   \n",
       "5            Омск    04 35-44         05 5-10           08 36+          6   \n",
       "6             Уфа    05 45-54        06 10-15           08 36+         10   \n",
       "7          Москва    04 35-44        13 45-50          05 7-12         10   \n",
       "8  СанктПетербург    04 35-44          04 1-5           08 36+         10   \n",
       "9       Волгоград    05 45-54        07 15-20           08 36+          9   \n",
       "\n",
       "    nps_group  \n",
       "0   promoters  \n",
       "1   promoters  \n",
       "2   promoters  \n",
       "3   promoters  \n",
       "4   promoters  \n",
       "5  detractors  \n",
       "6   promoters  \n",
       "7   promoters  \n",
       "8   promoters  \n",
       "9   promoters  "
      ]
     },
     "execution_count": 4,
     "metadata": {},
     "output_type": "execute_result"
    }
   ],
   "source": [
    "df = pd.read_sql(query, engine)\n",
    "df.head(10)"
   ]
  },
  {
   "cell_type": "code",
   "execution_count": 5,
   "id": "beb1e018",
   "metadata": {},
   "outputs": [],
   "source": [
    "df.to_csv('telecomm_csi_tableau.csv', index=False)"
   ]
  },
  {
   "cell_type": "markdown",
   "id": "df9b79c9",
   "metadata": {},
   "source": [
    "## Ссылка на дашборд Tableau Public: https://public.tableau.com/views/Telecomcompanyuserstudy/sheet24?:language=en-US&:display_count=n&:origin=viz_share_link"
   ]
  },
  {
   "cell_type": "markdown",
   "id": "35c56ee9",
   "metadata": {},
   "source": [
    "## Ссылка на презентацию: https://disk.yandex.ru/i/f77xTMlNwNl1Lw"
   ]
  }
 ],
 "metadata": {
  "ExecuteTimeLog": [
   {
    "duration": 752,
    "start_time": "2021-10-03T17:40:52.731Z"
   },
   {
    "duration": 20,
    "start_time": "2021-10-03T17:40:53.486Z"
   },
   {
    "duration": 4,
    "start_time": "2021-10-03T17:41:04.638Z"
   },
   {
    "duration": 461,
    "start_time": "2021-10-03T17:41:04.912Z"
   },
   {
    "duration": 284,
    "start_time": "2021-10-03T17:41:05.376Z"
   },
   {
    "duration": 574,
    "start_time": "2021-10-06T07:55:05.029Z"
   },
   {
    "duration": 6,
    "start_time": "2021-10-06T07:55:05.605Z"
   },
   {
    "duration": 3,
    "start_time": "2021-10-06T07:55:14.685Z"
   },
   {
    "duration": 406,
    "start_time": "2021-10-06T07:55:15.522Z"
   },
   {
    "duration": 67,
    "start_time": "2021-10-06T07:55:15.929Z"
   },
   {
    "duration": 840,
    "start_time": "2021-10-07T07:54:04.647Z"
   },
   {
    "duration": 10,
    "start_time": "2021-10-07T07:54:05.490Z"
   },
   {
    "duration": 4,
    "start_time": "2021-10-07T07:54:05.544Z"
   },
   {
    "duration": 391,
    "start_time": "2021-10-07T07:54:06.237Z"
   },
   {
    "duration": 293,
    "start_time": "2021-10-07T07:54:06.654Z"
   },
   {
    "duration": 570,
    "start_time": "2023-02-08T17:15:48.283Z"
   },
   {
    "duration": 9,
    "start_time": "2023-02-08T17:15:48.855Z"
   },
   {
    "duration": 16,
    "start_time": "2023-02-08T17:15:48.866Z"
   },
   {
    "duration": 579,
    "start_time": "2023-02-08T17:15:48.883Z"
   },
   {
    "duration": 96,
    "start_time": "2023-02-08T17:15:49.464Z"
   },
   {
    "duration": 2,
    "start_time": "2023-02-08T17:32:58.644Z"
   },
   {
    "duration": 602,
    "start_time": "2023-02-08T17:32:59.847Z"
   },
   {
    "duration": 3,
    "start_time": "2023-02-08T17:34:29.747Z"
   },
   {
    "duration": 545,
    "start_time": "2023-02-08T17:34:30.521Z"
   },
   {
    "duration": 561,
    "start_time": "2023-02-08T17:38:15.990Z"
   },
   {
    "duration": 12,
    "start_time": "2023-02-08T17:38:16.554Z"
   },
   {
    "duration": 20,
    "start_time": "2023-02-08T17:38:16.568Z"
   },
   {
    "duration": 699,
    "start_time": "2023-02-08T17:38:16.590Z"
   },
   {
    "duration": 0,
    "start_time": "2023-02-08T17:38:17.291Z"
   },
   {
    "duration": 2,
    "start_time": "2023-02-08T17:43:34.400Z"
   },
   {
    "duration": 531,
    "start_time": "2023-02-08T17:43:39.143Z"
   },
   {
    "duration": 3,
    "start_time": "2023-02-08T17:44:47.288Z"
   },
   {
    "duration": 3,
    "start_time": "2023-02-08T17:44:48.216Z"
   },
   {
    "duration": 544,
    "start_time": "2023-02-08T17:44:49.152Z"
   },
   {
    "duration": 3,
    "start_time": "2023-02-08T17:46:50.750Z"
   },
   {
    "duration": 530,
    "start_time": "2023-02-08T17:46:51.528Z"
   },
   {
    "duration": 505,
    "start_time": "2023-02-08T17:47:03.287Z"
   },
   {
    "duration": 9,
    "start_time": "2023-02-08T17:47:03.794Z"
   },
   {
    "duration": 6,
    "start_time": "2023-02-08T17:47:03.805Z"
   },
   {
    "duration": 625,
    "start_time": "2023-02-08T17:47:03.813Z"
   },
   {
    "duration": 0,
    "start_time": "2023-02-08T17:47:04.440Z"
   },
   {
    "duration": 3,
    "start_time": "2023-02-08T17:47:49.323Z"
   },
   {
    "duration": 3453,
    "start_time": "2023-02-08T17:47:50.142Z"
   },
   {
    "duration": 3,
    "start_time": "2023-02-08T17:50:54.986Z"
   },
   {
    "duration": 336,
    "start_time": "2023-02-08T17:50:56.145Z"
   },
   {
    "duration": 2,
    "start_time": "2023-02-08T17:51:13.683Z"
   },
   {
    "duration": 330,
    "start_time": "2023-02-08T17:51:14.488Z"
   },
   {
    "duration": 2,
    "start_time": "2023-02-08T17:51:24.620Z"
   },
   {
    "duration": 344,
    "start_time": "2023-02-08T17:51:25.418Z"
   },
   {
    "duration": 2,
    "start_time": "2023-02-08T17:52:35.025Z"
   },
   {
    "duration": 329,
    "start_time": "2023-02-08T17:52:35.696Z"
   },
   {
    "duration": 3,
    "start_time": "2023-02-08T17:53:21.457Z"
   },
   {
    "duration": 2879,
    "start_time": "2023-02-08T17:53:22.044Z"
   },
   {
    "duration": 2,
    "start_time": "2023-02-08T17:55:58.330Z"
   },
   {
    "duration": 3915,
    "start_time": "2023-02-08T17:55:59.128Z"
   },
   {
    "duration": 3,
    "start_time": "2023-02-08T17:57:05.004Z"
   },
   {
    "duration": 331,
    "start_time": "2023-02-08T17:57:06.231Z"
   },
   {
    "duration": 3,
    "start_time": "2023-02-08T17:57:28.583Z"
   },
   {
    "duration": 556,
    "start_time": "2023-02-08T17:57:29.235Z"
   },
   {
    "duration": 6,
    "start_time": "2023-02-08T17:57:48.891Z"
   },
   {
    "duration": 4044,
    "start_time": "2023-02-08T17:57:49.338Z"
   },
   {
    "duration": 3,
    "start_time": "2023-02-08T17:59:38.740Z"
   },
   {
    "duration": 3,
    "start_time": "2023-02-08T17:59:42.818Z"
   },
   {
    "duration": 4153,
    "start_time": "2023-02-08T17:59:43.753Z"
   },
   {
    "duration": 4,
    "start_time": "2023-02-08T18:04:38.292Z"
   },
   {
    "duration": 4576,
    "start_time": "2023-02-08T18:04:39.162Z"
   },
   {
    "duration": 11,
    "start_time": "2023-02-08T18:08:41.714Z"
   },
   {
    "duration": 5167,
    "start_time": "2023-02-08T18:08:42.386Z"
   },
   {
    "duration": 5040,
    "start_time": "2023-02-08T18:08:54.711Z"
   },
   {
    "duration": 500,
    "start_time": "2023-02-08T18:10:07.210Z"
   },
   {
    "duration": 8,
    "start_time": "2023-02-08T18:10:07.712Z"
   },
   {
    "duration": 3,
    "start_time": "2023-02-08T18:10:07.722Z"
   },
   {
    "duration": 5240,
    "start_time": "2023-02-08T18:10:07.726Z"
   },
   {
    "duration": 4417,
    "start_time": "2023-02-08T18:10:12.968Z"
   },
   {
    "duration": 530,
    "start_time": "2023-02-12T07:21:15.589Z"
   },
   {
    "duration": 20,
    "start_time": "2023-02-12T07:21:16.120Z"
   },
   {
    "duration": 3,
    "start_time": "2023-02-12T07:21:16.142Z"
   },
   {
    "duration": 4919,
    "start_time": "2023-02-12T07:21:16.147Z"
   },
   {
    "duration": 4717,
    "start_time": "2023-02-12T07:21:21.068Z"
   }
  ],
  "kernelspec": {
   "display_name": "Python 3 (ipykernel)",
   "language": "python",
   "name": "python3"
  },
  "language_info": {
   "codemirror_mode": {
    "name": "ipython",
    "version": 3
   },
   "file_extension": ".py",
   "mimetype": "text/x-python",
   "name": "python",
   "nbconvert_exporter": "python",
   "pygments_lexer": "ipython3",
   "version": "3.9.5"
  },
  "toc": {
   "base_numbering": 1,
   "nav_menu": {},
   "number_sections": true,
   "sideBar": true,
   "skip_h1_title": true,
   "title_cell": "Table of Contents",
   "title_sidebar": "Contents",
   "toc_cell": false,
   "toc_position": {},
   "toc_section_display": true,
   "toc_window_display": false
  }
 },
 "nbformat": 4,
 "nbformat_minor": 5
}
