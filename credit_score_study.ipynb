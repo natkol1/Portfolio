{
 "cells": [
  {
   "cell_type": "markdown",
   "id": "b4c874a9",
   "metadata": {
    "deletable": false,
    "editable": false,
    "id": "c81daeeb"
   },
   "source": [
    "# Исследование надежности заемщиков\n"
   ]
  },
  {
   "cell_type": "markdown",
   "id": "6125f6ac",
   "metadata": {},
   "source": [
    "В данной работе исследуются данные о клиентах банка для его кредитного отдела. Она направлена на выявление закономерностей между возвратом денежных средств и их характеристиками: ситуация в семье, финансовым положением и целью для взятия кредита. В результате исследования удалось получить данные о том, какие группы клиентов являются более надежными в плане выплат по кредитам, какие менее."
   ]
  },
  {
   "cell_type": "markdown",
   "id": "88f24257",
   "metadata": {
    "deletable": false,
    "editable": false,
    "id": "827c20bf"
   },
   "source": [
    "Во второй части проекта вы выполните шаги 3 и 4. Их вручную проверит ревьюер.\n",
    "Чтобы вам не пришлось писать код заново для шагов 1 и 2, мы добавили авторские решения в ячейки с кодом. \n",
    "\n"
   ]
  },
  {
   "cell_type": "markdown",
   "id": "740bbbc1",
   "metadata": {
    "deletable": false,
    "editable": false,
    "id": "744d7639"
   },
   "source": [
    "## Откройте таблицу и изучите общую информацию о данных"
   ]
  },
  {
   "cell_type": "markdown",
   "id": "6c3e1f13",
   "metadata": {
    "deletable": false,
    "editable": false,
    "id": "e7a14c31"
   },
   "source": [
    "**Задание 1. Импортируйте библиотеку pandas. Считайте данные из csv-файла в датафрейм и сохраните в переменную `data`. Путь к файлу:**\n",
    "\n",
    "`/datasets/data.csv`"
   ]
  },
  {
   "cell_type": "code",
   "execution_count": 1,
   "id": "342f24b2",
   "metadata": {
    "deletable": false,
    "id": "7bcf75c9"
   },
   "outputs": [],
   "source": [
    "import pandas as pd\n",
    "\n",
    "try:\n",
    "    data = pd.read_csv('/datasets/data.csv')\n",
    "except:\n",
    "    data = pd.read_csv('https://code.s3.yandex.net/datasets/data.csv')"
   ]
  },
  {
   "cell_type": "markdown",
   "id": "4b9925cb",
   "metadata": {
    "deletable": false,
    "editable": false,
    "id": "b8038fe3"
   },
   "source": [
    "**Задание 2. Выведите первые 20 строчек датафрейма `data` на экран.**"
   ]
  },
  {
   "cell_type": "code",
   "execution_count": 2,
   "id": "4ec58b6a",
   "metadata": {
    "deletable": false,
    "id": "2a7cab99",
    "outputId": "1a8f3ef2-d323-4ec2-ddf7-89670b5944c4"
   },
   "outputs": [
    {
     "data": {
      "text/html": [
       "<div>\n",
       "<style scoped>\n",
       "    .dataframe tbody tr th:only-of-type {\n",
       "        vertical-align: middle;\n",
       "    }\n",
       "\n",
       "    .dataframe tbody tr th {\n",
       "        vertical-align: top;\n",
       "    }\n",
       "\n",
       "    .dataframe thead th {\n",
       "        text-align: right;\n",
       "    }\n",
       "</style>\n",
       "<table border=\"1\" class=\"dataframe\">\n",
       "  <thead>\n",
       "    <tr style=\"text-align: right;\">\n",
       "      <th></th>\n",
       "      <th>children</th>\n",
       "      <th>days_employed</th>\n",
       "      <th>dob_years</th>\n",
       "      <th>education</th>\n",
       "      <th>education_id</th>\n",
       "      <th>family_status</th>\n",
       "      <th>family_status_id</th>\n",
       "      <th>gender</th>\n",
       "      <th>income_type</th>\n",
       "      <th>debt</th>\n",
       "      <th>total_income</th>\n",
       "      <th>purpose</th>\n",
       "    </tr>\n",
       "  </thead>\n",
       "  <tbody>\n",
       "    <tr>\n",
       "      <th>0</th>\n",
       "      <td>1</td>\n",
       "      <td>-8437.673028</td>\n",
       "      <td>42</td>\n",
       "      <td>высшее</td>\n",
       "      <td>0</td>\n",
       "      <td>женат / замужем</td>\n",
       "      <td>0</td>\n",
       "      <td>F</td>\n",
       "      <td>сотрудник</td>\n",
       "      <td>0</td>\n",
       "      <td>253875.639453</td>\n",
       "      <td>покупка жилья</td>\n",
       "    </tr>\n",
       "    <tr>\n",
       "      <th>1</th>\n",
       "      <td>1</td>\n",
       "      <td>-4024.803754</td>\n",
       "      <td>36</td>\n",
       "      <td>среднее</td>\n",
       "      <td>1</td>\n",
       "      <td>женат / замужем</td>\n",
       "      <td>0</td>\n",
       "      <td>F</td>\n",
       "      <td>сотрудник</td>\n",
       "      <td>0</td>\n",
       "      <td>112080.014102</td>\n",
       "      <td>приобретение автомобиля</td>\n",
       "    </tr>\n",
       "    <tr>\n",
       "      <th>2</th>\n",
       "      <td>0</td>\n",
       "      <td>-5623.422610</td>\n",
       "      <td>33</td>\n",
       "      <td>Среднее</td>\n",
       "      <td>1</td>\n",
       "      <td>женат / замужем</td>\n",
       "      <td>0</td>\n",
       "      <td>M</td>\n",
       "      <td>сотрудник</td>\n",
       "      <td>0</td>\n",
       "      <td>145885.952297</td>\n",
       "      <td>покупка жилья</td>\n",
       "    </tr>\n",
       "    <tr>\n",
       "      <th>3</th>\n",
       "      <td>3</td>\n",
       "      <td>-4124.747207</td>\n",
       "      <td>32</td>\n",
       "      <td>среднее</td>\n",
       "      <td>1</td>\n",
       "      <td>женат / замужем</td>\n",
       "      <td>0</td>\n",
       "      <td>M</td>\n",
       "      <td>сотрудник</td>\n",
       "      <td>0</td>\n",
       "      <td>267628.550329</td>\n",
       "      <td>дополнительное образование</td>\n",
       "    </tr>\n",
       "    <tr>\n",
       "      <th>4</th>\n",
       "      <td>0</td>\n",
       "      <td>340266.072047</td>\n",
       "      <td>53</td>\n",
       "      <td>среднее</td>\n",
       "      <td>1</td>\n",
       "      <td>гражданский брак</td>\n",
       "      <td>1</td>\n",
       "      <td>F</td>\n",
       "      <td>пенсионер</td>\n",
       "      <td>0</td>\n",
       "      <td>158616.077870</td>\n",
       "      <td>сыграть свадьбу</td>\n",
       "    </tr>\n",
       "    <tr>\n",
       "      <th>5</th>\n",
       "      <td>0</td>\n",
       "      <td>-926.185831</td>\n",
       "      <td>27</td>\n",
       "      <td>высшее</td>\n",
       "      <td>0</td>\n",
       "      <td>гражданский брак</td>\n",
       "      <td>1</td>\n",
       "      <td>M</td>\n",
       "      <td>компаньон</td>\n",
       "      <td>0</td>\n",
       "      <td>255763.565419</td>\n",
       "      <td>покупка жилья</td>\n",
       "    </tr>\n",
       "    <tr>\n",
       "      <th>6</th>\n",
       "      <td>0</td>\n",
       "      <td>-2879.202052</td>\n",
       "      <td>43</td>\n",
       "      <td>высшее</td>\n",
       "      <td>0</td>\n",
       "      <td>женат / замужем</td>\n",
       "      <td>0</td>\n",
       "      <td>F</td>\n",
       "      <td>компаньон</td>\n",
       "      <td>0</td>\n",
       "      <td>240525.971920</td>\n",
       "      <td>операции с жильем</td>\n",
       "    </tr>\n",
       "    <tr>\n",
       "      <th>7</th>\n",
       "      <td>0</td>\n",
       "      <td>-152.779569</td>\n",
       "      <td>50</td>\n",
       "      <td>СРЕДНЕЕ</td>\n",
       "      <td>1</td>\n",
       "      <td>женат / замужем</td>\n",
       "      <td>0</td>\n",
       "      <td>M</td>\n",
       "      <td>сотрудник</td>\n",
       "      <td>0</td>\n",
       "      <td>135823.934197</td>\n",
       "      <td>образование</td>\n",
       "    </tr>\n",
       "    <tr>\n",
       "      <th>8</th>\n",
       "      <td>2</td>\n",
       "      <td>-6929.865299</td>\n",
       "      <td>35</td>\n",
       "      <td>ВЫСШЕЕ</td>\n",
       "      <td>0</td>\n",
       "      <td>гражданский брак</td>\n",
       "      <td>1</td>\n",
       "      <td>F</td>\n",
       "      <td>сотрудник</td>\n",
       "      <td>0</td>\n",
       "      <td>95856.832424</td>\n",
       "      <td>на проведение свадьбы</td>\n",
       "    </tr>\n",
       "    <tr>\n",
       "      <th>9</th>\n",
       "      <td>0</td>\n",
       "      <td>-2188.756445</td>\n",
       "      <td>41</td>\n",
       "      <td>среднее</td>\n",
       "      <td>1</td>\n",
       "      <td>женат / замужем</td>\n",
       "      <td>0</td>\n",
       "      <td>M</td>\n",
       "      <td>сотрудник</td>\n",
       "      <td>0</td>\n",
       "      <td>144425.938277</td>\n",
       "      <td>покупка жилья для семьи</td>\n",
       "    </tr>\n",
       "    <tr>\n",
       "      <th>10</th>\n",
       "      <td>2</td>\n",
       "      <td>-4171.483647</td>\n",
       "      <td>36</td>\n",
       "      <td>высшее</td>\n",
       "      <td>0</td>\n",
       "      <td>женат / замужем</td>\n",
       "      <td>0</td>\n",
       "      <td>M</td>\n",
       "      <td>компаньон</td>\n",
       "      <td>0</td>\n",
       "      <td>113943.491460</td>\n",
       "      <td>покупка недвижимости</td>\n",
       "    </tr>\n",
       "    <tr>\n",
       "      <th>11</th>\n",
       "      <td>0</td>\n",
       "      <td>-792.701887</td>\n",
       "      <td>40</td>\n",
       "      <td>среднее</td>\n",
       "      <td>1</td>\n",
       "      <td>женат / замужем</td>\n",
       "      <td>0</td>\n",
       "      <td>F</td>\n",
       "      <td>сотрудник</td>\n",
       "      <td>0</td>\n",
       "      <td>77069.234271</td>\n",
       "      <td>покупка коммерческой недвижимости</td>\n",
       "    </tr>\n",
       "    <tr>\n",
       "      <th>12</th>\n",
       "      <td>0</td>\n",
       "      <td>NaN</td>\n",
       "      <td>65</td>\n",
       "      <td>среднее</td>\n",
       "      <td>1</td>\n",
       "      <td>гражданский брак</td>\n",
       "      <td>1</td>\n",
       "      <td>M</td>\n",
       "      <td>пенсионер</td>\n",
       "      <td>0</td>\n",
       "      <td>NaN</td>\n",
       "      <td>сыграть свадьбу</td>\n",
       "    </tr>\n",
       "    <tr>\n",
       "      <th>13</th>\n",
       "      <td>0</td>\n",
       "      <td>-1846.641941</td>\n",
       "      <td>54</td>\n",
       "      <td>неоконченное высшее</td>\n",
       "      <td>2</td>\n",
       "      <td>женат / замужем</td>\n",
       "      <td>0</td>\n",
       "      <td>F</td>\n",
       "      <td>сотрудник</td>\n",
       "      <td>0</td>\n",
       "      <td>130458.228857</td>\n",
       "      <td>приобретение автомобиля</td>\n",
       "    </tr>\n",
       "    <tr>\n",
       "      <th>14</th>\n",
       "      <td>0</td>\n",
       "      <td>-1844.956182</td>\n",
       "      <td>56</td>\n",
       "      <td>высшее</td>\n",
       "      <td>0</td>\n",
       "      <td>гражданский брак</td>\n",
       "      <td>1</td>\n",
       "      <td>F</td>\n",
       "      <td>компаньон</td>\n",
       "      <td>1</td>\n",
       "      <td>165127.911772</td>\n",
       "      <td>покупка жилой недвижимости</td>\n",
       "    </tr>\n",
       "    <tr>\n",
       "      <th>15</th>\n",
       "      <td>1</td>\n",
       "      <td>-972.364419</td>\n",
       "      <td>26</td>\n",
       "      <td>среднее</td>\n",
       "      <td>1</td>\n",
       "      <td>женат / замужем</td>\n",
       "      <td>0</td>\n",
       "      <td>F</td>\n",
       "      <td>сотрудник</td>\n",
       "      <td>0</td>\n",
       "      <td>116820.904450</td>\n",
       "      <td>строительство собственной недвижимости</td>\n",
       "    </tr>\n",
       "    <tr>\n",
       "      <th>16</th>\n",
       "      <td>0</td>\n",
       "      <td>-1719.934226</td>\n",
       "      <td>35</td>\n",
       "      <td>среднее</td>\n",
       "      <td>1</td>\n",
       "      <td>женат / замужем</td>\n",
       "      <td>0</td>\n",
       "      <td>F</td>\n",
       "      <td>сотрудник</td>\n",
       "      <td>0</td>\n",
       "      <td>289202.704229</td>\n",
       "      <td>недвижимость</td>\n",
       "    </tr>\n",
       "    <tr>\n",
       "      <th>17</th>\n",
       "      <td>0</td>\n",
       "      <td>-2369.999720</td>\n",
       "      <td>33</td>\n",
       "      <td>высшее</td>\n",
       "      <td>0</td>\n",
       "      <td>гражданский брак</td>\n",
       "      <td>1</td>\n",
       "      <td>M</td>\n",
       "      <td>сотрудник</td>\n",
       "      <td>0</td>\n",
       "      <td>90410.586745</td>\n",
       "      <td>строительство недвижимости</td>\n",
       "    </tr>\n",
       "    <tr>\n",
       "      <th>18</th>\n",
       "      <td>0</td>\n",
       "      <td>400281.136913</td>\n",
       "      <td>53</td>\n",
       "      <td>среднее</td>\n",
       "      <td>1</td>\n",
       "      <td>вдовец / вдова</td>\n",
       "      <td>2</td>\n",
       "      <td>F</td>\n",
       "      <td>пенсионер</td>\n",
       "      <td>0</td>\n",
       "      <td>56823.777243</td>\n",
       "      <td>на покупку подержанного автомобиля</td>\n",
       "    </tr>\n",
       "    <tr>\n",
       "      <th>19</th>\n",
       "      <td>0</td>\n",
       "      <td>-10038.818549</td>\n",
       "      <td>48</td>\n",
       "      <td>СРЕДНЕЕ</td>\n",
       "      <td>1</td>\n",
       "      <td>в разводе</td>\n",
       "      <td>3</td>\n",
       "      <td>F</td>\n",
       "      <td>сотрудник</td>\n",
       "      <td>0</td>\n",
       "      <td>242831.107982</td>\n",
       "      <td>на покупку своего автомобиля</td>\n",
       "    </tr>\n",
       "  </tbody>\n",
       "</table>\n",
       "</div>"
      ],
      "text/plain": [
       "    children  days_employed  dob_years            education  education_id  \\\n",
       "0          1   -8437.673028         42               высшее             0   \n",
       "1          1   -4024.803754         36              среднее             1   \n",
       "2          0   -5623.422610         33              Среднее             1   \n",
       "3          3   -4124.747207         32              среднее             1   \n",
       "4          0  340266.072047         53              среднее             1   \n",
       "5          0    -926.185831         27               высшее             0   \n",
       "6          0   -2879.202052         43               высшее             0   \n",
       "7          0    -152.779569         50              СРЕДНЕЕ             1   \n",
       "8          2   -6929.865299         35               ВЫСШЕЕ             0   \n",
       "9          0   -2188.756445         41              среднее             1   \n",
       "10         2   -4171.483647         36               высшее             0   \n",
       "11         0    -792.701887         40              среднее             1   \n",
       "12         0            NaN         65              среднее             1   \n",
       "13         0   -1846.641941         54  неоконченное высшее             2   \n",
       "14         0   -1844.956182         56               высшее             0   \n",
       "15         1    -972.364419         26              среднее             1   \n",
       "16         0   -1719.934226         35              среднее             1   \n",
       "17         0   -2369.999720         33               высшее             0   \n",
       "18         0  400281.136913         53              среднее             1   \n",
       "19         0  -10038.818549         48              СРЕДНЕЕ             1   \n",
       "\n",
       "       family_status  family_status_id gender income_type  debt  \\\n",
       "0    женат / замужем                 0      F   сотрудник     0   \n",
       "1    женат / замужем                 0      F   сотрудник     0   \n",
       "2    женат / замужем                 0      M   сотрудник     0   \n",
       "3    женат / замужем                 0      M   сотрудник     0   \n",
       "4   гражданский брак                 1      F   пенсионер     0   \n",
       "5   гражданский брак                 1      M   компаньон     0   \n",
       "6    женат / замужем                 0      F   компаньон     0   \n",
       "7    женат / замужем                 0      M   сотрудник     0   \n",
       "8   гражданский брак                 1      F   сотрудник     0   \n",
       "9    женат / замужем                 0      M   сотрудник     0   \n",
       "10   женат / замужем                 0      M   компаньон     0   \n",
       "11   женат / замужем                 0      F   сотрудник     0   \n",
       "12  гражданский брак                 1      M   пенсионер     0   \n",
       "13   женат / замужем                 0      F   сотрудник     0   \n",
       "14  гражданский брак                 1      F   компаньон     1   \n",
       "15   женат / замужем                 0      F   сотрудник     0   \n",
       "16   женат / замужем                 0      F   сотрудник     0   \n",
       "17  гражданский брак                 1      M   сотрудник     0   \n",
       "18    вдовец / вдова                 2      F   пенсионер     0   \n",
       "19         в разводе                 3      F   сотрудник     0   \n",
       "\n",
       "     total_income                                 purpose  \n",
       "0   253875.639453                           покупка жилья  \n",
       "1   112080.014102                 приобретение автомобиля  \n",
       "2   145885.952297                           покупка жилья  \n",
       "3   267628.550329              дополнительное образование  \n",
       "4   158616.077870                         сыграть свадьбу  \n",
       "5   255763.565419                           покупка жилья  \n",
       "6   240525.971920                       операции с жильем  \n",
       "7   135823.934197                             образование  \n",
       "8    95856.832424                   на проведение свадьбы  \n",
       "9   144425.938277                 покупка жилья для семьи  \n",
       "10  113943.491460                    покупка недвижимости  \n",
       "11   77069.234271       покупка коммерческой недвижимости  \n",
       "12            NaN                         сыграть свадьбу  \n",
       "13  130458.228857                 приобретение автомобиля  \n",
       "14  165127.911772              покупка жилой недвижимости  \n",
       "15  116820.904450  строительство собственной недвижимости  \n",
       "16  289202.704229                            недвижимость  \n",
       "17   90410.586745              строительство недвижимости  \n",
       "18   56823.777243      на покупку подержанного автомобиля  \n",
       "19  242831.107982            на покупку своего автомобиля  "
      ]
     },
     "execution_count": 2,
     "metadata": {},
     "output_type": "execute_result"
    }
   ],
   "source": [
    "data.head(20)"
   ]
  },
  {
   "cell_type": "markdown",
   "id": "11803545",
   "metadata": {
    "deletable": false,
    "editable": false,
    "id": "1c12e233"
   },
   "source": [
    "**Задание 3. Выведите основную информацию о датафрейме с помощью метода `info()`.**"
   ]
  },
  {
   "cell_type": "code",
   "execution_count": 3,
   "id": "41556d01",
   "metadata": {
    "deletable": false,
    "id": "2b757bca",
    "outputId": "15376089-8dad-46c9-b520-c05248d43158"
   },
   "outputs": [
    {
     "name": "stdout",
     "output_type": "stream",
     "text": [
      "<class 'pandas.core.frame.DataFrame'>\n",
      "RangeIndex: 21525 entries, 0 to 21524\n",
      "Data columns (total 12 columns):\n",
      " #   Column            Non-Null Count  Dtype  \n",
      "---  ------            --------------  -----  \n",
      " 0   children          21525 non-null  int64  \n",
      " 1   days_employed     19351 non-null  float64\n",
      " 2   dob_years         21525 non-null  int64  \n",
      " 3   education         21525 non-null  object \n",
      " 4   education_id      21525 non-null  int64  \n",
      " 5   family_status     21525 non-null  object \n",
      " 6   family_status_id  21525 non-null  int64  \n",
      " 7   gender            21525 non-null  object \n",
      " 8   income_type       21525 non-null  object \n",
      " 9   debt              21525 non-null  int64  \n",
      " 10  total_income      19351 non-null  float64\n",
      " 11  purpose           21525 non-null  object \n",
      "dtypes: float64(2), int64(5), object(5)\n",
      "memory usage: 2.0+ MB\n"
     ]
    }
   ],
   "source": [
    "data.info()"
   ]
  },
  {
   "cell_type": "markdown",
   "id": "56625824",
   "metadata": {
    "deletable": false,
    "editable": false,
    "id": "333ec665"
   },
   "source": [
    "## Предобработка данных"
   ]
  },
  {
   "cell_type": "markdown",
   "id": "c4357b2b",
   "metadata": {
    "deletable": false,
    "editable": false,
    "id": "02d92d53"
   },
   "source": [
    "### Удаление пропусков"
   ]
  },
  {
   "cell_type": "markdown",
   "id": "dc325458",
   "metadata": {
    "deletable": false,
    "editable": false,
    "id": "cd84967c"
   },
   "source": [
    "**Задание 4. Выведите количество пропущенных значений для каждого столбца. Используйте комбинацию двух методов.**"
   ]
  },
  {
   "cell_type": "code",
   "execution_count": 4,
   "id": "ffd9a50e",
   "metadata": {
    "deletable": false,
    "id": "7f9b2309",
    "outputId": "81f4d817-781c-465c-ed15-91ce4446810d"
   },
   "outputs": [
    {
     "data": {
      "text/plain": [
       "children               0\n",
       "days_employed       2174\n",
       "dob_years              0\n",
       "education              0\n",
       "education_id           0\n",
       "family_status          0\n",
       "family_status_id       0\n",
       "gender                 0\n",
       "income_type            0\n",
       "debt                   0\n",
       "total_income        2174\n",
       "purpose                0\n",
       "dtype: int64"
      ]
     },
     "execution_count": 4,
     "metadata": {},
     "output_type": "execute_result"
    }
   ],
   "source": [
    "data.isna().sum()"
   ]
  },
  {
   "cell_type": "markdown",
   "id": "49ca5424",
   "metadata": {
    "deletable": false,
    "editable": false,
    "id": "db86e27b"
   },
   "source": [
    "**Задание 5. В двух столбцах есть пропущенные значения. Один из них — `days_employed`. Пропуски в этом столбце вы обработаете на следующем этапе. Другой столбец с пропущенными значениями — `total_income` — хранит данные о доходах. На сумму дохода сильнее всего влияет тип занятости, поэтому заполнить пропуски в этом столбце нужно медианным значением по каждому типу из столбца `income_type`. Например, у человека с типом занятости `сотрудник` пропуск в столбце `total_income` должен быть заполнен медианным доходом среди всех записей с тем же типом.**"
   ]
  },
  {
   "cell_type": "code",
   "execution_count": 5,
   "id": "03acb195",
   "metadata": {
    "deletable": false,
    "id": "42006a93"
   },
   "outputs": [],
   "source": [
    "for t in data['income_type'].unique():\n",
    "    data.loc[(data['income_type'] == t) & (data['total_income'].isna()), 'total_income'] = \\\n",
    "    data.loc[(data['income_type'] == t), 'total_income'].median()"
   ]
  },
  {
   "cell_type": "markdown",
   "id": "a7eac613",
   "metadata": {
    "deletable": false,
    "editable": false,
    "id": "89da5ece"
   },
   "source": [
    "### Обработка аномальных значений"
   ]
  },
  {
   "cell_type": "markdown",
   "id": "48abc4b8",
   "metadata": {
    "deletable": false,
    "editable": false,
    "id": "57964554"
   },
   "source": [
    "**Задание 6. В данных могут встречаться артефакты (аномалии) — значения, которые не отражают действительность и появились по какой-то ошибке. таким артефактом будет отрицательное количество дней трудового стажа в столбце `days_employed`. Для реальных данных это нормально. Обработайте значения в этом столбце: замените все отрицательные значения положительными с помощью метода `abs()`.**"
   ]
  },
  {
   "cell_type": "code",
   "execution_count": 6,
   "id": "1de22ffb",
   "metadata": {
    "deletable": false,
    "id": "f6f055bf"
   },
   "outputs": [],
   "source": [
    "data['days_employed'] = data['days_employed'].abs()"
   ]
  },
  {
   "cell_type": "markdown",
   "id": "48b5fddb",
   "metadata": {
    "deletable": false,
    "editable": false,
    "id": "6107dd2f"
   },
   "source": [
    "**Задание 7. Для каждого типа занятости выведите медианное значение трудового стажа `days_employed` в днях.**"
   ]
  },
  {
   "cell_type": "code",
   "execution_count": 7,
   "id": "5108c59b",
   "metadata": {
    "deletable": false,
    "id": "85a5faf6",
    "outputId": "801ef80e-522b-4668-f34e-565af7432bcf"
   },
   "outputs": [
    {
     "data": {
      "text/plain": [
       "income_type\n",
       "безработный        366413.652744\n",
       "в декрете            3296.759962\n",
       "госслужащий          2689.368353\n",
       "компаньон            1547.382223\n",
       "пенсионер          365213.306266\n",
       "предприниматель       520.848083\n",
       "сотрудник            1574.202821\n",
       "студент               578.751554\n",
       "Name: days_employed, dtype: float64"
      ]
     },
     "execution_count": 7,
     "metadata": {},
     "output_type": "execute_result"
    }
   ],
   "source": [
    "data.groupby('income_type')['days_employed'].agg('median')"
   ]
  },
  {
   "cell_type": "markdown",
   "id": "d332ba04",
   "metadata": {
    "deletable": false,
    "editable": false,
    "id": "38d1a030"
   },
   "source": [
    "У двух типов (безработные и пенсионеры) получатся аномально большие значения. Исправить такие значения сложно, поэтому оставьте их как есть. Тем более этот столбец не понадобится вам для исследования."
   ]
  },
  {
   "cell_type": "markdown",
   "id": "a6e59ed7",
   "metadata": {
    "deletable": false,
    "editable": false,
    "id": "d8a9f147"
   },
   "source": [
    "**Задание 8. Выведите перечень уникальных значений столбца `children`.**"
   ]
  },
  {
   "cell_type": "code",
   "execution_count": 8,
   "id": "7a595050",
   "metadata": {
    "deletable": false,
    "id": "ef5056eb",
    "outputId": "6975b15c-7f95-4697-d16d-a0c79b657b03"
   },
   "outputs": [
    {
     "data": {
      "text/plain": [
       "array([ 1,  0,  3,  2, -1,  4, 20,  5])"
      ]
     },
     "execution_count": 8,
     "metadata": {},
     "output_type": "execute_result"
    }
   ],
   "source": [
    "data['children'].unique()"
   ]
  },
  {
   "cell_type": "markdown",
   "id": "dbda3a1b",
   "metadata": {
    "deletable": false,
    "editable": false,
    "id": "40b9ebf2"
   },
   "source": [
    "**Задание 9. В столбце `children` есть два аномальных значения. Удалите строки, в которых встречаются такие аномальные значения из датафрейма `data`.**"
   ]
  },
  {
   "cell_type": "code",
   "execution_count": 9,
   "id": "9a21c443",
   "metadata": {
    "deletable": false,
    "id": "3ff9801d"
   },
   "outputs": [],
   "source": [
    "data = data[(data['children'] != -1) & (data['children'] != 20)]"
   ]
  },
  {
   "cell_type": "markdown",
   "id": "ee6690f4",
   "metadata": {
    "deletable": false,
    "editable": false,
    "id": "bbc4d0ce"
   },
   "source": [
    "**Задание 10. Ещё раз выведите перечень уникальных значений столбца `children`, чтобы убедиться, что артефакты удалены.**"
   ]
  },
  {
   "cell_type": "code",
   "execution_count": 10,
   "id": "37df3def",
   "metadata": {
    "deletable": false,
    "id": "ad4fa8b7",
    "outputId": "b2097101-d49d-44d9-901b-32a65c9463d1"
   },
   "outputs": [
    {
     "data": {
      "text/plain": [
       "array([1, 0, 3, 2, 4, 5])"
      ]
     },
     "execution_count": 10,
     "metadata": {},
     "output_type": "execute_result"
    }
   ],
   "source": [
    "data['children'].unique()"
   ]
  },
  {
   "cell_type": "markdown",
   "id": "38e784b6",
   "metadata": {
    "deletable": false,
    "editable": false,
    "id": "75440b63"
   },
   "source": [
    "### Удаление пропусков (продолжение)"
   ]
  },
  {
   "cell_type": "markdown",
   "id": "6fddf541",
   "metadata": {
    "deletable": false,
    "editable": false,
    "id": "f4ea573f"
   },
   "source": [
    "**Задание 11. Заполните пропуски в столбце `days_employed` медианными значениями по каждого типа занятости `income_type`.**"
   ]
  },
  {
   "cell_type": "code",
   "execution_count": 11,
   "id": "f7fbf73a",
   "metadata": {
    "deletable": false,
    "id": "af6b1a7e"
   },
   "outputs": [],
   "source": [
    "for t in data['income_type'].unique():\n",
    "    data.loc[(data['income_type'] == t) & (data['days_employed'].isna()), 'days_employed'] = \\\n",
    "    data.loc[(data['income_type'] == t), 'days_employed'].median()"
   ]
  },
  {
   "cell_type": "markdown",
   "id": "2200cec9",
   "metadata": {
    "deletable": false,
    "editable": false,
    "id": "2753f40d"
   },
   "source": [
    "**Задание 12. Убедитесь, что все пропуски заполнены. Проверьте себя и ещё раз выведите количество пропущенных значений для каждого столбца с помощью двух методов.**"
   ]
  },
  {
   "cell_type": "code",
   "execution_count": 12,
   "id": "d0e271cc",
   "metadata": {
    "deletable": false,
    "id": "55f78bc2",
    "outputId": "8da1e4e1-358e-4e87-98c9-f261bce0a7b2"
   },
   "outputs": [
    {
     "data": {
      "text/plain": [
       "children            0\n",
       "days_employed       0\n",
       "dob_years           0\n",
       "education           0\n",
       "education_id        0\n",
       "family_status       0\n",
       "family_status_id    0\n",
       "gender              0\n",
       "income_type         0\n",
       "debt                0\n",
       "total_income        0\n",
       "purpose             0\n",
       "dtype: int64"
      ]
     },
     "execution_count": 12,
     "metadata": {},
     "output_type": "execute_result"
    }
   ],
   "source": [
    "data.isna().sum()"
   ]
  },
  {
   "cell_type": "markdown",
   "id": "df869a58",
   "metadata": {
    "deletable": false,
    "editable": false,
    "id": "ddc81e43"
   },
   "source": [
    "### Изменение типов данных"
   ]
  },
  {
   "cell_type": "markdown",
   "id": "a84334ba",
   "metadata": {
    "deletable": false,
    "editable": false,
    "id": "42d19d24"
   },
   "source": [
    "**Задание 13. Замените вещественный тип данных в столбце `total_income` на целочисленный с помощью метода `astype()`.**"
   ]
  },
  {
   "cell_type": "code",
   "execution_count": 13,
   "id": "80e27034",
   "metadata": {
    "deletable": false,
    "id": "920b65ad"
   },
   "outputs": [],
   "source": [
    "data['total_income'] = data['total_income'].astype(int)"
   ]
  },
  {
   "cell_type": "markdown",
   "id": "fd770368",
   "metadata": {
    "deletable": false,
    "editable": false,
    "id": "80c420ba"
   },
   "source": [
    "### Обработка дубликатов"
   ]
  },
  {
   "cell_type": "markdown",
   "id": "e4dabc83",
   "metadata": {
    "deletable": false,
    "editable": false
   },
   "source": [
    "**Задание 14. Обработайте неявные дубликаты в столбце `education`. В этом столбце есть одни и те же значения, но записанные по-разному: с использованием заглавных и строчных букв. Приведите их к нижнему регистру. Проверьте остальные столбцы.**"
   ]
  },
  {
   "cell_type": "code",
   "execution_count": 14,
   "id": "222d7af5",
   "metadata": {
    "deletable": false
   },
   "outputs": [],
   "source": [
    "data['education'] = data['education'].str.lower()"
   ]
  },
  {
   "cell_type": "markdown",
   "id": "45c40ca8",
   "metadata": {
    "deletable": false,
    "editable": false,
    "id": "dc587695"
   },
   "source": [
    "**Задание 15. Выведите на экран количество строк-дубликатов в данных. Если такие строки присутствуют, удалите их.**"
   ]
  },
  {
   "cell_type": "code",
   "execution_count": 15,
   "id": "de80aeb7",
   "metadata": {
    "deletable": false,
    "id": "3ee445e4",
    "outputId": "9684deba-1934-42d1-99e1-cda61740f822"
   },
   "outputs": [
    {
     "data": {
      "text/plain": [
       "71"
      ]
     },
     "execution_count": 15,
     "metadata": {},
     "output_type": "execute_result"
    }
   ],
   "source": [
    "data.duplicated().sum()"
   ]
  },
  {
   "cell_type": "code",
   "execution_count": 16,
   "id": "75c4014b",
   "metadata": {
    "deletable": false,
    "id": "8575fe05"
   },
   "outputs": [],
   "source": [
    "data = data.drop_duplicates()"
   ]
  },
  {
   "cell_type": "markdown",
   "id": "e523565d",
   "metadata": {
    "deletable": false,
    "editable": false,
    "id": "9904cf55"
   },
   "source": [
    "### Категоризация данных"
   ]
  },
  {
   "cell_type": "markdown",
   "id": "b15790b4",
   "metadata": {
    "deletable": false,
    "editable": false,
    "id": "72fcc8a2"
   },
   "source": [
    "**Задание 16. На основании диапазонов, указанных ниже, создайте в датафрейме `data` столбец `total_income_category` с категориями:**\n",
    "\n",
    "- 0–30000 — `'E'`;\n",
    "- 30001–50000 — `'D'`;\n",
    "- 50001–200000 — `'C'`;\n",
    "- 200001–1000000 — `'B'`;\n",
    "- 1000001 и выше — `'A'`.\n",
    "\n",
    "\n",
    "**Например, кредитополучателю с доходом 25000 нужно назначить категорию `'E'`, а клиенту, получающему 235000, — `'B'`. Используйте собственную функцию с именем `categorize_income()` и метод `apply()`.**"
   ]
  },
  {
   "cell_type": "code",
   "execution_count": 17,
   "id": "df84bc76",
   "metadata": {
    "deletable": false,
    "id": "e1771346"
   },
   "outputs": [],
   "source": [
    "def categorize_income(income):\n",
    "    try:\n",
    "        if 0 <= income <= 30000:\n",
    "            return 'E'\n",
    "        elif 30001 <= income <= 50000:\n",
    "            return 'D'\n",
    "        elif 50001 <= income <= 200000:\n",
    "            return 'C'\n",
    "        elif 200001 <= income <= 1000000:\n",
    "            return 'B'\n",
    "        elif income >= 1000001:\n",
    "            return 'A'\n",
    "    except:\n",
    "        pass"
   ]
  },
  {
   "cell_type": "code",
   "execution_count": 18,
   "id": "f717779e",
   "metadata": {
    "deletable": false,
    "id": "d5f3586d"
   },
   "outputs": [],
   "source": [
    "data['total_income_category'] = data['total_income'].apply(categorize_income)"
   ]
  },
  {
   "cell_type": "markdown",
   "id": "8bfd9d84",
   "metadata": {
    "deletable": false,
    "editable": false,
    "id": "dde49b5c"
   },
   "source": [
    "**Задание 17. Выведите на экран перечень уникальных целей взятия кредита из столбца `purpose`.**"
   ]
  },
  {
   "cell_type": "code",
   "execution_count": 19,
   "id": "53ca8156",
   "metadata": {
    "deletable": false,
    "id": "f67ce9b3",
    "outputId": "673c12d9-7d7e-4ae0-9812-c622c89dd244"
   },
   "outputs": [
    {
     "data": {
      "text/plain": [
       "array(['покупка жилья', 'приобретение автомобиля',\n",
       "       'дополнительное образование', 'сыграть свадьбу',\n",
       "       'операции с жильем', 'образование', 'на проведение свадьбы',\n",
       "       'покупка жилья для семьи', 'покупка недвижимости',\n",
       "       'покупка коммерческой недвижимости', 'покупка жилой недвижимости',\n",
       "       'строительство собственной недвижимости', 'недвижимость',\n",
       "       'строительство недвижимости', 'на покупку подержанного автомобиля',\n",
       "       'на покупку своего автомобиля',\n",
       "       'операции с коммерческой недвижимостью',\n",
       "       'строительство жилой недвижимости', 'жилье',\n",
       "       'операции со своей недвижимостью', 'автомобили',\n",
       "       'заняться образованием', 'сделка с подержанным автомобилем',\n",
       "       'получение образования', 'автомобиль', 'свадьба',\n",
       "       'получение дополнительного образования', 'покупка своего жилья',\n",
       "       'операции с недвижимостью', 'получение высшего образования',\n",
       "       'свой автомобиль', 'сделка с автомобилем',\n",
       "       'профильное образование', 'высшее образование',\n",
       "       'покупка жилья для сдачи', 'на покупку автомобиля', 'ремонт жилью',\n",
       "       'заняться высшим образованием'], dtype=object)"
      ]
     },
     "execution_count": 19,
     "metadata": {},
     "output_type": "execute_result"
    }
   ],
   "source": [
    "data['purpose'].unique()"
   ]
  },
  {
   "cell_type": "markdown",
   "id": "30a6a920",
   "metadata": {
    "deletable": false,
    "editable": false,
    "id": "85d0aef0"
   },
   "source": [
    "**Задание 18. Создайте функцию, которая на основании данных из столбца `purpose` сформирует новый столбец `purpose_category`, в который войдут следующие категории:**\n",
    "\n",
    "- `'операции с автомобилем'`,\n",
    "- `'операции с недвижимостью'`,\n",
    "- `'проведение свадьбы'`,\n",
    "- `'получение образования'`.\n",
    "\n",
    "**Например, если в столбце `purpose` находится подстрока `'на покупку автомобиля'`, то в столбце `purpose_category` должна появиться строка `'операции с автомобилем'`.**\n",
    "\n",
    "**Используйте собственную функцию с именем `categorize_purpose()` и метод `apply()`. Изучите данные в столбце `purpose` и определите, какие подстроки помогут вам правильно определить категорию.**"
   ]
  },
  {
   "cell_type": "code",
   "execution_count": 20,
   "id": "238f856a",
   "metadata": {
    "deletable": false,
    "id": "e149fab4"
   },
   "outputs": [],
   "source": [
    "def categorize_purpose(row):\n",
    "    try:\n",
    "        if 'автом' in row:\n",
    "            return 'операции с автомобилем'\n",
    "        elif 'жил' in row or 'недвиж' in row:\n",
    "            return 'операции с недвижимостью'\n",
    "        elif 'свад' in row:\n",
    "            return 'проведение свадьбы'\n",
    "        elif 'образов' in row:\n",
    "            return 'получение образования'\n",
    "    except:\n",
    "        return 'нет категории'"
   ]
  },
  {
   "cell_type": "code",
   "execution_count": 21,
   "id": "9bfe30c1",
   "metadata": {
    "deletable": false,
    "id": "bf36e69b"
   },
   "outputs": [],
   "source": [
    "data['purpose_category'] = data['purpose'].apply(categorize_purpose)"
   ]
  },
  {
   "cell_type": "markdown",
   "id": "d5955460",
   "metadata": {
    "deletable": false,
    "editable": false,
    "id": "09b242bf"
   },
   "source": [
    "### Шаг 3. Исследуйте данные и ответьте на вопросы"
   ]
  },
  {
   "cell_type": "markdown",
   "id": "eb214b79",
   "metadata": {
    "deletable": false,
    "editable": false,
    "id": "c5d66278"
   },
   "source": [
    "#### 3.1 Есть ли зависимость между количеством детей и возвратом кредита в срок?"
   ]
  },
  {
   "cell_type": "code",
   "execution_count": 22,
   "id": "0cf4f539",
   "metadata": {
    "deletable": false,
    "id": "2cacfc4a"
   },
   "outputs": [
    {
     "data": {
      "text/html": [
       "<div>\n",
       "<style scoped>\n",
       "    .dataframe tbody tr th:only-of-type {\n",
       "        vertical-align: middle;\n",
       "    }\n",
       "\n",
       "    .dataframe tbody tr th {\n",
       "        vertical-align: top;\n",
       "    }\n",
       "\n",
       "    .dataframe thead th {\n",
       "        text-align: right;\n",
       "    }\n",
       "</style>\n",
       "<table border=\"1\" class=\"dataframe\">\n",
       "  <thead>\n",
       "    <tr style=\"text-align: right;\">\n",
       "      <th></th>\n",
       "      <th>children_count</th>\n",
       "      <th>children_qty</th>\n",
       "      <th>debt_share_1</th>\n",
       "    </tr>\n",
       "    <tr>\n",
       "      <th>children</th>\n",
       "      <th></th>\n",
       "      <th></th>\n",
       "      <th></th>\n",
       "    </tr>\n",
       "  </thead>\n",
       "  <tbody>\n",
       "    <tr>\n",
       "      <th>4</th>\n",
       "      <td>41</td>\n",
       "      <td>4</td>\n",
       "      <td>0.097561</td>\n",
       "    </tr>\n",
       "    <tr>\n",
       "      <th>2</th>\n",
       "      <td>2052</td>\n",
       "      <td>194</td>\n",
       "      <td>0.094542</td>\n",
       "    </tr>\n",
       "    <tr>\n",
       "      <th>1</th>\n",
       "      <td>4808</td>\n",
       "      <td>444</td>\n",
       "      <td>0.092346</td>\n",
       "    </tr>\n",
       "    <tr>\n",
       "      <th>3</th>\n",
       "      <td>330</td>\n",
       "      <td>27</td>\n",
       "      <td>0.081818</td>\n",
       "    </tr>\n",
       "    <tr>\n",
       "      <th>0</th>\n",
       "      <td>14091</td>\n",
       "      <td>1063</td>\n",
       "      <td>0.075438</td>\n",
       "    </tr>\n",
       "    <tr>\n",
       "      <th>5</th>\n",
       "      <td>9</td>\n",
       "      <td>0</td>\n",
       "      <td>0.000000</td>\n",
       "    </tr>\n",
       "  </tbody>\n",
       "</table>\n",
       "</div>"
      ],
      "text/plain": [
       "          children_count  children_qty  debt_share_1\n",
       "children                                            \n",
       "4                     41             4      0.097561\n",
       "2                   2052           194      0.094542\n",
       "1                   4808           444      0.092346\n",
       "3                    330            27      0.081818\n",
       "0                  14091          1063      0.075438\n",
       "5                      9             0      0.000000"
      ]
     },
     "execution_count": 22,
     "metadata": {},
     "output_type": "execute_result"
    }
   ],
   "source": [
    "# Ваш код будет здесь. Вы можете создавать новые ячейки.\n",
    "question_1=pd.DataFrame()\n",
    "question_1['children_count']=data.groupby('children')['debt'].count()\n",
    "question_1['children_qty'] = data.groupby('children')['debt'].sum()\n",
    "question_1['debt_share_1'] = question_1['children_qty']/question_1['children_count']\n",
    "question_1.sort_values('debt_share_1', ascending = False)"
   ]
  },
  {
   "cell_type": "markdown",
   "id": "2ee70072",
   "metadata": {
    "deletable": false,
    "id": "3a6b99ec"
   },
   "source": [
    "**Вывод:** Несмотря на то, что в некоторых группах недостаточное количество клиентов для четких выводов, зависимость между количеством детей и возвратом кредита в срок прослеживается. Люди, у которых есть хотя бы 1 ребенок, склонны к задержкам при возврате кредита в срок и с ростом количества детей эта тенденция нарастает.\n"
   ]
  },
  {
   "cell_type": "markdown",
   "id": "ed323fca",
   "metadata": {
    "deletable": false,
    "editable": false,
    "id": "97be82ca"
   },
   "source": [
    "#### 3.2 Есть ли зависимость между семейным положением и возвратом кредита в срок?"
   ]
  },
  {
   "cell_type": "code",
   "execution_count": 23,
   "id": "76c3896b",
   "metadata": {
    "deletable": false,
    "id": "dc3f7ee8"
   },
   "outputs": [
    {
     "data": {
      "text/html": [
       "<div>\n",
       "<style scoped>\n",
       "    .dataframe tbody tr th:only-of-type {\n",
       "        vertical-align: middle;\n",
       "    }\n",
       "\n",
       "    .dataframe tbody tr th {\n",
       "        vertical-align: top;\n",
       "    }\n",
       "\n",
       "    .dataframe thead th {\n",
       "        text-align: right;\n",
       "    }\n",
       "</style>\n",
       "<table border=\"1\" class=\"dataframe\">\n",
       "  <thead>\n",
       "    <tr style=\"text-align: right;\">\n",
       "      <th></th>\n",
       "      <th>mariage_count</th>\n",
       "      <th>mariage_qty</th>\n",
       "      <th>debt_share_2</th>\n",
       "    </tr>\n",
       "    <tr>\n",
       "      <th>family_status</th>\n",
       "      <th></th>\n",
       "      <th></th>\n",
       "      <th></th>\n",
       "    </tr>\n",
       "  </thead>\n",
       "  <tbody>\n",
       "    <tr>\n",
       "      <th>Не женат / не замужем</th>\n",
       "      <td>2796</td>\n",
       "      <td>273</td>\n",
       "      <td>0.097639</td>\n",
       "    </tr>\n",
       "    <tr>\n",
       "      <th>гражданский брак</th>\n",
       "      <td>4134</td>\n",
       "      <td>385</td>\n",
       "      <td>0.093130</td>\n",
       "    </tr>\n",
       "    <tr>\n",
       "      <th>женат / замужем</th>\n",
       "      <td>12261</td>\n",
       "      <td>927</td>\n",
       "      <td>0.075606</td>\n",
       "    </tr>\n",
       "    <tr>\n",
       "      <th>в разводе</th>\n",
       "      <td>1189</td>\n",
       "      <td>84</td>\n",
       "      <td>0.070648</td>\n",
       "    </tr>\n",
       "    <tr>\n",
       "      <th>вдовец / вдова</th>\n",
       "      <td>951</td>\n",
       "      <td>63</td>\n",
       "      <td>0.066246</td>\n",
       "    </tr>\n",
       "  </tbody>\n",
       "</table>\n",
       "</div>"
      ],
      "text/plain": [
       "                       mariage_count  mariage_qty  debt_share_2\n",
       "family_status                                                  \n",
       "Не женат / не замужем           2796          273      0.097639\n",
       "гражданский брак                4134          385      0.093130\n",
       "женат / замужем                12261          927      0.075606\n",
       "в разводе                       1189           84      0.070648\n",
       "вдовец / вдова                   951           63      0.066246"
      ]
     },
     "execution_count": 23,
     "metadata": {},
     "output_type": "execute_result"
    }
   ],
   "source": [
    "question_2=pd.DataFrame()\n",
    "question_2['mariage_count']=data.groupby('family_status')['debt'].count()\n",
    "question_2['mariage_qty'] = data.groupby('family_status')['debt'].sum()\n",
    "question_2['debt_share_2'] = question_2['mariage_qty']/question_2['mariage_count']\n",
    "question_2.sort_values('debt_share_2', ascending = False)# Ваш код будет здесь. Вы можете создавать новые ячейки."
   ]
  },
  {
   "cell_type": "markdown",
   "id": "6766fd2c",
   "metadata": {
    "deletable": false,
    "id": "1cef7837"
   },
   "source": [
    "**Вывод:** Зависимость между семейным положением действительно есть, людей можно условно разделить на две группы: тех, кто состоит или был в официальном браке, и тех, кто официально свои отношения не узаконивал. Вторая группа более склонна к задержкам с возвратом кредитов в срок, чем первая."
   ]
  },
  {
   "cell_type": "markdown",
   "id": "81fc4bd9",
   "metadata": {
    "deletable": false,
    "editable": false,
    "id": "1e8b2fca"
   },
   "source": [
    "#### 3.3 Есть ли зависимость между уровнем дохода и возвратом кредита в срок?"
   ]
  },
  {
   "cell_type": "code",
   "execution_count": 24,
   "id": "0dcff680",
   "metadata": {
    "deletable": false,
    "id": "cd7e3720"
   },
   "outputs": [
    {
     "data": {
      "text/html": [
       "<div>\n",
       "<style scoped>\n",
       "    .dataframe tbody tr th:only-of-type {\n",
       "        vertical-align: middle;\n",
       "    }\n",
       "\n",
       "    .dataframe tbody tr th {\n",
       "        vertical-align: top;\n",
       "    }\n",
       "\n",
       "    .dataframe thead th {\n",
       "        text-align: right;\n",
       "    }\n",
       "</style>\n",
       "<table border=\"1\" class=\"dataframe\">\n",
       "  <thead>\n",
       "    <tr style=\"text-align: right;\">\n",
       "      <th></th>\n",
       "      <th>income_cat_count</th>\n",
       "      <th>income_cat_qty</th>\n",
       "      <th>debt_share_3</th>\n",
       "    </tr>\n",
       "    <tr>\n",
       "      <th>total_income_category</th>\n",
       "      <th></th>\n",
       "      <th></th>\n",
       "      <th></th>\n",
       "    </tr>\n",
       "  </thead>\n",
       "  <tbody>\n",
       "    <tr>\n",
       "      <th>A</th>\n",
       "      <td>25</td>\n",
       "      <td>2</td>\n",
       "      <td>0.080000</td>\n",
       "    </tr>\n",
       "    <tr>\n",
       "      <th>B</th>\n",
       "      <td>5014</td>\n",
       "      <td>354</td>\n",
       "      <td>0.070602</td>\n",
       "    </tr>\n",
       "    <tr>\n",
       "      <th>C</th>\n",
       "      <td>15921</td>\n",
       "      <td>1353</td>\n",
       "      <td>0.084982</td>\n",
       "    </tr>\n",
       "    <tr>\n",
       "      <th>D</th>\n",
       "      <td>349</td>\n",
       "      <td>21</td>\n",
       "      <td>0.060172</td>\n",
       "    </tr>\n",
       "    <tr>\n",
       "      <th>E</th>\n",
       "      <td>22</td>\n",
       "      <td>2</td>\n",
       "      <td>0.090909</td>\n",
       "    </tr>\n",
       "  </tbody>\n",
       "</table>\n",
       "</div>"
      ],
      "text/plain": [
       "                       income_cat_count  income_cat_qty  debt_share_3\n",
       "total_income_category                                                \n",
       "A                                    25               2      0.080000\n",
       "B                                  5014             354      0.070602\n",
       "C                                 15921            1353      0.084982\n",
       "D                                   349              21      0.060172\n",
       "E                                    22               2      0.090909"
      ]
     },
     "execution_count": 24,
     "metadata": {},
     "output_type": "execute_result"
    }
   ],
   "source": [
    "question_3=pd.DataFrame()\n",
    "question_3['income_cat_count']=data.groupby('total_income_category')['debt'].count()\n",
    "question_3['income_cat_qty'] = data.groupby('total_income_category')['debt'].sum()\n",
    "question_3['debt_share_3'] = question_3['income_cat_qty']/question_3['income_cat_count']\n",
    "question_3.sort_values('total_income_category')"
   ]
  },
  {
   "cell_type": "markdown",
   "id": "be4c3c66",
   "metadata": {
    "deletable": false,
    "id": "e8593def"
   },
   "source": [
    "**Вывод:** Зависимость между уровнем дохода и возвратом кредита в срок есть, люди со средним уровнем дохода больше склонны к задержкам при возврате кредита, чем люди с доходом выше среднего."
   ]
  },
  {
   "cell_type": "markdown",
   "id": "ab8ccc64",
   "metadata": {
    "deletable": false,
    "editable": false,
    "id": "99ecbd1f"
   },
   "source": [
    "#### 3.4 Как разные цели кредита влияют на его возврат в срок?"
   ]
  },
  {
   "cell_type": "code",
   "execution_count": 25,
   "id": "20da73ff",
   "metadata": {
    "deletable": false,
    "id": "2b687290"
   },
   "outputs": [
    {
     "data": {
      "text/html": [
       "<div>\n",
       "<style scoped>\n",
       "    .dataframe tbody tr th:only-of-type {\n",
       "        vertical-align: middle;\n",
       "    }\n",
       "\n",
       "    .dataframe tbody tr th {\n",
       "        vertical-align: top;\n",
       "    }\n",
       "\n",
       "    .dataframe thead th {\n",
       "        text-align: right;\n",
       "    }\n",
       "</style>\n",
       "<table border=\"1\" class=\"dataframe\">\n",
       "  <thead>\n",
       "    <tr style=\"text-align: right;\">\n",
       "      <th></th>\n",
       "      <th>purpose_count</th>\n",
       "      <th>purpose_qty</th>\n",
       "      <th>debt_share_4</th>\n",
       "    </tr>\n",
       "    <tr>\n",
       "      <th>purpose_category</th>\n",
       "      <th></th>\n",
       "      <th></th>\n",
       "      <th></th>\n",
       "    </tr>\n",
       "  </thead>\n",
       "  <tbody>\n",
       "    <tr>\n",
       "      <th>операции с автомобилем</th>\n",
       "      <td>4279</td>\n",
       "      <td>400</td>\n",
       "      <td>0.093480</td>\n",
       "    </tr>\n",
       "    <tr>\n",
       "      <th>получение образования</th>\n",
       "      <td>3988</td>\n",
       "      <td>369</td>\n",
       "      <td>0.092528</td>\n",
       "    </tr>\n",
       "    <tr>\n",
       "      <th>проведение свадьбы</th>\n",
       "      <td>2313</td>\n",
       "      <td>183</td>\n",
       "      <td>0.079118</td>\n",
       "    </tr>\n",
       "    <tr>\n",
       "      <th>операции с недвижимостью</th>\n",
       "      <td>10751</td>\n",
       "      <td>780</td>\n",
       "      <td>0.072551</td>\n",
       "    </tr>\n",
       "  </tbody>\n",
       "</table>\n",
       "</div>"
      ],
      "text/plain": [
       "                          purpose_count  purpose_qty  debt_share_4\n",
       "purpose_category                                                  \n",
       "операции с автомобилем             4279          400      0.093480\n",
       "получение образования              3988          369      0.092528\n",
       "проведение свадьбы                 2313          183      0.079118\n",
       "операции с недвижимостью          10751          780      0.072551"
      ]
     },
     "execution_count": 25,
     "metadata": {},
     "output_type": "execute_result"
    }
   ],
   "source": [
    "question_4=pd.DataFrame()\n",
    "question_4['purpose_count']=data.groupby('purpose_category')['debt'].count()\n",
    "question_4['purpose_qty'] = data.groupby('purpose_category')['debt'].sum()\n",
    "question_4['debt_share_4'] = question_4['purpose_qty']/question_4['purpose_count']\n",
    "question_4.sort_values('debt_share_4', ascending = False)"
   ]
  },
  {
   "cell_type": "markdown",
   "id": "a9e7214d",
   "metadata": {
    "deletable": false,
    "id": "b4bb2ce6"
   },
   "source": [
    "**Вывод:** При оформлении кредита на цели, связанные с автомобилем и образованием, люди более склонны к задержкам при его возврате, чем в случаях,когда кредит оформляется на свадьбу или недвижимость."
   ]
  },
  {
   "cell_type": "markdown",
   "id": "565e8cad",
   "metadata": {
    "deletable": false,
    "editable": false,
    "id": "09c3ac4c"
   },
   "source": [
    "#### 3.5 Приведите возможные причины появления пропусков в исходных данных."
   ]
  },
  {
   "cell_type": "markdown",
   "id": "dcc2a6cb",
   "metadata": {
    "deletable": false,
    "id": "9da2ceda"
   },
   "source": [
    "*Ответ:* Незаполнение этих полей при оформлении заявки на кредит клиентом/сотрудником банка (по причине невнимательности,желания утаить информацию и др.), отсутствие пометки \"обязательно к заполнению\" у некоторых строк."
   ]
  },
  {
   "cell_type": "markdown",
   "id": "46b726d2",
   "metadata": {
    "deletable": false,
    "editable": false,
    "id": "7b0487d6"
   },
   "source": [
    "#### 3.6 Объясните, почему заполнить пропуски медианным значением — лучшее решение для количественных переменных."
   ]
  },
  {
   "cell_type": "markdown",
   "id": "d3a83a63",
   "metadata": {
    "deletable": false,
    "id": "7ecf2b8e"
   },
   "source": [
    "*Ответ:* Заполнение пропусков медианными значениями является наименее искажающим общую картину способом работы с пропусками, поскольку зачастую заполнить их реальными данными не представляется возможным или займет много времени, заполнение случайными значениями может привести к вводу слишком далеких от реальности данных, что исказит конечные результаты их исследования, а полное удаление строк с такими пропусками может означать для нас потерю большого количества информации, в том числе и из других, заполненных, столбцов."
   ]
  },
  {
   "cell_type": "markdown",
   "id": "7d6405ca",
   "metadata": {
    "deletable": false,
    "editable": false,
    "id": "6db5255a"
   },
   "source": [
    "### Шаг 4: общий вывод."
   ]
  },
  {
   "cell_type": "markdown",
   "id": "461def2a",
   "metadata": {
    "deletable": false,
    "id": "bad65432"
   },
   "source": [
    "В итоге проведенного исследования удалось выяснить, что:\n",
    "- Люди, у которых есть хотя бы 1 ребенок, склонны к задержкам при возврате кредита в срок и чем больше у них детей, тем они более склонны к задержкам.\n",
    "- Люди, которые состоят или ранее состояли в браке, больше склонны к своевременным выплатам долгов по кредитам, чем те, кто в официальном браке не состоял.\n",
    "- Клиенты, попадающие в группу со средним уровнем дохода, больше склонны к задержкам при возврате кредита, чем те, кто зарабатывает выше среднего.\n",
    "- При оформлении кредита на цели, связанные с автомобилем и образованием, люди более склонны к задержкам при его возврате, чем в случаях,когда кредит оформляется на свадьбу или недвижимость.\n"
   ]
  }
 ],
 "metadata": {
  "ExecuteTimeLog": [
   {
    "duration": 449,
    "start_time": "2022-10-16T14:55:00.924Z"
   },
   {
    "duration": 24,
    "start_time": "2022-10-16T14:55:01.376Z"
   },
   {
    "duration": 23,
    "start_time": "2022-10-16T14:55:01.402Z"
   },
   {
    "duration": 8,
    "start_time": "2022-10-16T14:55:01.427Z"
   },
   {
    "duration": 39,
    "start_time": "2022-10-16T14:55:01.437Z"
   },
   {
    "duration": 3,
    "start_time": "2022-10-16T14:55:01.478Z"
   },
   {
    "duration": 8,
    "start_time": "2022-10-16T14:55:01.495Z"
   },
   {
    "duration": 4,
    "start_time": "2022-10-16T14:55:01.505Z"
   },
   {
    "duration": 23,
    "start_time": "2022-10-16T14:55:01.511Z"
   },
   {
    "duration": 4,
    "start_time": "2022-10-16T14:55:01.536Z"
   },
   {
    "duration": 36,
    "start_time": "2022-10-16T14:55:01.542Z"
   },
   {
    "duration": 23,
    "start_time": "2022-10-16T14:55:01.579Z"
   },
   {
    "duration": 5,
    "start_time": "2022-10-16T14:55:01.604Z"
   },
   {
    "duration": 17,
    "start_time": "2022-10-16T14:55:01.611Z"
   },
   {
    "duration": 22,
    "start_time": "2022-10-16T14:55:01.630Z"
   },
   {
    "duration": 18,
    "start_time": "2022-10-16T14:55:01.654Z"
   },
   {
    "duration": 4,
    "start_time": "2022-10-16T14:55:01.694Z"
   },
   {
    "duration": 12,
    "start_time": "2022-10-16T14:55:01.699Z"
   },
   {
    "duration": 5,
    "start_time": "2022-10-16T14:55:01.713Z"
   },
   {
    "duration": 5,
    "start_time": "2022-10-16T14:55:01.719Z"
   },
   {
    "duration": 11,
    "start_time": "2022-10-16T14:55:01.725Z"
   },
   {
    "duration": 8,
    "start_time": "2022-10-16T14:55:01.737Z"
   },
   {
    "duration": 6,
    "start_time": "2022-10-16T14:55:01.746Z"
   },
   {
    "duration": 4,
    "start_time": "2022-10-16T14:55:01.754Z"
   },
   {
    "duration": 4,
    "start_time": "2022-10-16T14:55:01.760Z"
   },
   {
    "duration": 47,
    "start_time": "2022-10-19T17:40:38.256Z"
   },
   {
    "duration": 438,
    "start_time": "2022-10-19T17:40:56.577Z"
   },
   {
    "duration": 20,
    "start_time": "2022-10-19T17:40:57.016Z"
   },
   {
    "duration": 16,
    "start_time": "2022-10-19T17:40:57.038Z"
   },
   {
    "duration": 16,
    "start_time": "2022-10-19T17:40:57.056Z"
   },
   {
    "duration": 34,
    "start_time": "2022-10-19T17:40:57.073Z"
   },
   {
    "duration": 14,
    "start_time": "2022-10-19T17:40:57.109Z"
   },
   {
    "duration": 14,
    "start_time": "2022-10-19T17:40:57.124Z"
   },
   {
    "duration": 3,
    "start_time": "2022-10-19T17:40:57.140Z"
   },
   {
    "duration": 11,
    "start_time": "2022-10-19T17:40:57.145Z"
   },
   {
    "duration": 4,
    "start_time": "2022-10-19T17:40:57.158Z"
   },
   {
    "duration": 34,
    "start_time": "2022-10-19T17:40:57.163Z"
   },
   {
    "duration": 27,
    "start_time": "2022-10-19T17:40:57.199Z"
   },
   {
    "duration": 4,
    "start_time": "2022-10-19T17:40:57.227Z"
   },
   {
    "duration": 13,
    "start_time": "2022-10-19T17:40:57.232Z"
   },
   {
    "duration": 20,
    "start_time": "2022-10-19T17:40:57.246Z"
   },
   {
    "duration": 15,
    "start_time": "2022-10-19T17:40:57.267Z"
   },
   {
    "duration": 3,
    "start_time": "2022-10-19T17:40:57.283Z"
   },
   {
    "duration": 34,
    "start_time": "2022-10-19T17:40:57.288Z"
   },
   {
    "duration": 5,
    "start_time": "2022-10-19T17:40:57.323Z"
   },
   {
    "duration": 4,
    "start_time": "2022-10-19T17:40:57.329Z"
   },
   {
    "duration": 20,
    "start_time": "2022-10-19T17:40:57.334Z"
   },
   {
    "duration": 17,
    "start_time": "2022-10-19T17:40:57.356Z"
   },
   {
    "duration": 2,
    "start_time": "2022-10-19T17:40:57.375Z"
   },
   {
    "duration": 8,
    "start_time": "2022-10-19T17:40:57.379Z"
   },
   {
    "duration": 13,
    "start_time": "2022-10-19T17:40:57.388Z"
   },
   {
    "duration": 63,
    "start_time": "2022-10-19T17:41:28.142Z"
   },
   {
    "duration": 3,
    "start_time": "2022-10-19T17:41:38.347Z"
   },
   {
    "duration": 8,
    "start_time": "2022-10-19T17:41:38.801Z"
   },
   {
    "duration": 9,
    "start_time": "2022-10-19T17:41:40.637Z"
   },
   {
    "duration": 14,
    "start_time": "2022-10-19T17:41:51.403Z"
   },
   {
    "duration": 14,
    "start_time": "2022-10-19T17:43:30.853Z"
   },
   {
    "duration": 13,
    "start_time": "2022-10-19T17:44:47.116Z"
   },
   {
    "duration": 15,
    "start_time": "2022-10-19T17:45:01.441Z"
   },
   {
    "duration": 15,
    "start_time": "2022-10-19T17:45:19.676Z"
   },
   {
    "duration": 58,
    "start_time": "2022-10-19T17:45:56.696Z"
   },
   {
    "duration": 105,
    "start_time": "2022-10-19T17:46:06.912Z"
   },
   {
    "duration": 16,
    "start_time": "2022-10-19T17:46:13.085Z"
   },
   {
    "duration": 11,
    "start_time": "2022-10-19T17:48:03.997Z"
   },
   {
    "duration": 8,
    "start_time": "2022-10-19T17:48:14.101Z"
   },
   {
    "duration": 11,
    "start_time": "2022-10-19T17:52:40.550Z"
   },
   {
    "duration": 19,
    "start_time": "2022-10-19T17:53:44.087Z"
   },
   {
    "duration": 466,
    "start_time": "2022-10-19T17:54:01.420Z"
   },
   {
    "duration": 21,
    "start_time": "2022-10-19T17:54:01.888Z"
   },
   {
    "duration": 16,
    "start_time": "2022-10-19T17:54:01.911Z"
   },
   {
    "duration": 21,
    "start_time": "2022-10-19T17:54:01.930Z"
   },
   {
    "duration": 33,
    "start_time": "2022-10-19T17:54:01.952Z"
   },
   {
    "duration": 4,
    "start_time": "2022-10-19T17:54:01.986Z"
   },
   {
    "duration": 20,
    "start_time": "2022-10-19T17:54:01.991Z"
   },
   {
    "duration": 10,
    "start_time": "2022-10-19T17:54:02.012Z"
   },
   {
    "duration": 10,
    "start_time": "2022-10-19T17:54:02.023Z"
   },
   {
    "duration": 11,
    "start_time": "2022-10-19T17:54:02.035Z"
   },
   {
    "duration": 36,
    "start_time": "2022-10-19T17:54:02.048Z"
   },
   {
    "duration": 9,
    "start_time": "2022-10-19T17:54:02.086Z"
   },
   {
    "duration": 20,
    "start_time": "2022-10-19T17:54:02.096Z"
   },
   {
    "duration": 12,
    "start_time": "2022-10-19T17:54:02.117Z"
   },
   {
    "duration": 22,
    "start_time": "2022-10-19T17:54:02.131Z"
   },
   {
    "duration": 17,
    "start_time": "2022-10-19T17:54:02.154Z"
   },
   {
    "duration": 4,
    "start_time": "2022-10-19T17:54:02.173Z"
   },
   {
    "duration": 12,
    "start_time": "2022-10-19T17:54:02.179Z"
   },
   {
    "duration": 12,
    "start_time": "2022-10-19T17:54:02.192Z"
   },
   {
    "duration": 19,
    "start_time": "2022-10-19T17:54:02.206Z"
   },
   {
    "duration": 12,
    "start_time": "2022-10-19T17:54:02.226Z"
   },
   {
    "duration": 64,
    "start_time": "2022-10-19T17:54:02.240Z"
   },
   {
    "duration": 0,
    "start_time": "2022-10-19T17:54:02.306Z"
   },
   {
    "duration": 0,
    "start_time": "2022-10-19T17:54:02.323Z"
   },
   {
    "duration": 0,
    "start_time": "2022-10-19T17:54:02.324Z"
   },
   {
    "duration": 10,
    "start_time": "2022-10-19T17:54:24.170Z"
   },
   {
    "duration": 14,
    "start_time": "2022-10-19T17:54:53.727Z"
   },
   {
    "duration": 14,
    "start_time": "2022-10-19T18:01:12.202Z"
   },
   {
    "duration": 15,
    "start_time": "2022-10-19T18:01:17.714Z"
   },
   {
    "duration": 15,
    "start_time": "2022-10-19T18:01:35.823Z"
   },
   {
    "duration": 13,
    "start_time": "2022-10-19T18:01:50.638Z"
   },
   {
    "duration": 14,
    "start_time": "2022-10-19T18:01:52.755Z"
   },
   {
    "duration": 735,
    "start_time": "2022-10-20T17:09:33.264Z"
   },
   {
    "duration": 26,
    "start_time": "2022-10-20T17:09:34.001Z"
   },
   {
    "duration": 16,
    "start_time": "2022-10-20T17:09:34.029Z"
   },
   {
    "duration": 10,
    "start_time": "2022-10-20T17:09:34.047Z"
   },
   {
    "duration": 55,
    "start_time": "2022-10-20T17:09:34.059Z"
   },
   {
    "duration": 5,
    "start_time": "2022-10-20T17:09:34.116Z"
   },
   {
    "duration": 12,
    "start_time": "2022-10-20T17:09:34.122Z"
   },
   {
    "duration": 5,
    "start_time": "2022-10-20T17:09:34.136Z"
   },
   {
    "duration": 9,
    "start_time": "2022-10-20T17:09:34.143Z"
   },
   {
    "duration": 5,
    "start_time": "2022-10-20T17:09:34.155Z"
   },
   {
    "duration": 33,
    "start_time": "2022-10-20T17:09:34.191Z"
   },
   {
    "duration": 11,
    "start_time": "2022-10-20T17:09:34.225Z"
   },
   {
    "duration": 9,
    "start_time": "2022-10-20T17:09:34.237Z"
   },
   {
    "duration": 11,
    "start_time": "2022-10-20T17:09:34.248Z"
   },
   {
    "duration": 39,
    "start_time": "2022-10-20T17:09:34.261Z"
   },
   {
    "duration": 16,
    "start_time": "2022-10-20T17:09:34.302Z"
   },
   {
    "duration": 3,
    "start_time": "2022-10-20T17:09:34.320Z"
   },
   {
    "duration": 12,
    "start_time": "2022-10-20T17:09:34.325Z"
   },
   {
    "duration": 6,
    "start_time": "2022-10-20T17:09:34.339Z"
   },
   {
    "duration": 4,
    "start_time": "2022-10-20T17:09:34.346Z"
   },
   {
    "duration": 40,
    "start_time": "2022-10-20T17:09:34.351Z"
   },
   {
    "duration": 14,
    "start_time": "2022-10-20T17:09:34.393Z"
   },
   {
    "duration": 22,
    "start_time": "2022-10-20T17:09:34.409Z"
   },
   {
    "duration": 74,
    "start_time": "2022-10-20T17:09:34.434Z"
   },
   {
    "duration": 0,
    "start_time": "2022-10-20T17:09:34.509Z"
   },
   {
    "duration": 17,
    "start_time": "2022-10-20T17:12:45.089Z"
   },
   {
    "duration": 3,
    "start_time": "2022-10-20T17:17:03.419Z"
   },
   {
    "duration": 4,
    "start_time": "2022-10-20T17:17:13.793Z"
   },
   {
    "duration": 18,
    "start_time": "2022-10-20T17:20:07.771Z"
   },
   {
    "duration": 17,
    "start_time": "2022-10-20T17:20:15.137Z"
   },
   {
    "duration": 2185,
    "start_time": "2022-10-20T17:20:21.393Z"
   },
   {
    "duration": 1420,
    "start_time": "2022-10-20T17:20:31.676Z"
   },
   {
    "duration": 519,
    "start_time": "2022-10-20T17:21:07.876Z"
   },
   {
    "duration": 26,
    "start_time": "2022-10-20T17:21:08.397Z"
   },
   {
    "duration": 17,
    "start_time": "2022-10-20T17:21:08.425Z"
   },
   {
    "duration": 11,
    "start_time": "2022-10-20T17:21:08.444Z"
   },
   {
    "duration": 66,
    "start_time": "2022-10-20T17:21:08.458Z"
   },
   {
    "duration": 5,
    "start_time": "2022-10-20T17:21:08.526Z"
   },
   {
    "duration": 8,
    "start_time": "2022-10-20T17:21:08.533Z"
   },
   {
    "duration": 5,
    "start_time": "2022-10-20T17:21:08.543Z"
   },
   {
    "duration": 18,
    "start_time": "2022-10-20T17:21:08.550Z"
   },
   {
    "duration": 24,
    "start_time": "2022-10-20T17:21:08.570Z"
   },
   {
    "duration": 35,
    "start_time": "2022-10-20T17:21:08.596Z"
   },
   {
    "duration": 9,
    "start_time": "2022-10-20T17:21:08.633Z"
   },
   {
    "duration": 4,
    "start_time": "2022-10-20T17:21:08.644Z"
   },
   {
    "duration": 45,
    "start_time": "2022-10-20T17:21:08.651Z"
   },
   {
    "duration": 20,
    "start_time": "2022-10-20T17:21:08.698Z"
   },
   {
    "duration": 17,
    "start_time": "2022-10-20T17:21:08.720Z"
   },
   {
    "duration": 4,
    "start_time": "2022-10-20T17:21:08.739Z"
   },
   {
    "duration": 12,
    "start_time": "2022-10-20T17:21:08.744Z"
   },
   {
    "duration": 34,
    "start_time": "2022-10-20T17:21:08.757Z"
   },
   {
    "duration": 4,
    "start_time": "2022-10-20T17:21:08.793Z"
   },
   {
    "duration": 16,
    "start_time": "2022-10-20T17:21:08.799Z"
   },
   {
    "duration": 15,
    "start_time": "2022-10-20T17:21:08.817Z"
   },
   {
    "duration": 19,
    "start_time": "2022-10-20T17:21:08.834Z"
   },
   {
    "duration": 4,
    "start_time": "2022-10-20T17:21:08.855Z"
   },
   {
    "duration": 1494,
    "start_time": "2022-10-20T17:21:08.891Z"
   },
   {
    "duration": 19,
    "start_time": "2022-10-20T17:21:42.740Z"
   },
   {
    "duration": 1041,
    "start_time": "2022-10-20T17:27:00.752Z"
   },
   {
    "duration": 13,
    "start_time": "2022-10-20T17:27:07.495Z"
   },
   {
    "duration": 11,
    "start_time": "2022-10-20T17:27:15.807Z"
   },
   {
    "duration": 9,
    "start_time": "2022-10-20T17:27:37.230Z"
   },
   {
    "duration": 77,
    "start_time": "2022-10-20T17:27:51.958Z"
   },
   {
    "duration": 7,
    "start_time": "2022-10-20T17:28:04.062Z"
   },
   {
    "duration": 7,
    "start_time": "2022-10-20T17:28:16.285Z"
   },
   {
    "duration": 10,
    "start_time": "2022-10-20T17:28:42.406Z"
   },
   {
    "duration": 87,
    "start_time": "2022-10-20T17:31:29.971Z"
   },
   {
    "duration": 1346,
    "start_time": "2022-10-20T17:37:36.658Z"
   },
   {
    "duration": 21,
    "start_time": "2022-10-20T17:37:52.952Z"
   },
   {
    "duration": 17,
    "start_time": "2022-10-20T17:38:16.035Z"
   },
   {
    "duration": 20,
    "start_time": "2022-10-20T17:38:21.360Z"
   },
   {
    "duration": 16,
    "start_time": "2022-10-20T17:40:22.170Z"
   },
   {
    "duration": 509,
    "start_time": "2022-10-20T17:42:55.169Z"
   },
   {
    "duration": 24,
    "start_time": "2022-10-20T17:42:55.680Z"
   },
   {
    "duration": 16,
    "start_time": "2022-10-20T17:42:55.706Z"
   },
   {
    "duration": 10,
    "start_time": "2022-10-20T17:42:55.724Z"
   },
   {
    "duration": 55,
    "start_time": "2022-10-20T17:42:55.736Z"
   },
   {
    "duration": 3,
    "start_time": "2022-10-20T17:42:55.793Z"
   },
   {
    "duration": 13,
    "start_time": "2022-10-20T17:42:55.797Z"
   },
   {
    "duration": 5,
    "start_time": "2022-10-20T17:42:55.811Z"
   },
   {
    "duration": 7,
    "start_time": "2022-10-20T17:42:55.818Z"
   },
   {
    "duration": 6,
    "start_time": "2022-10-20T17:42:55.827Z"
   },
   {
    "duration": 74,
    "start_time": "2022-10-20T17:42:55.834Z"
   },
   {
    "duration": 10,
    "start_time": "2022-10-20T17:42:55.909Z"
   },
   {
    "duration": 3,
    "start_time": "2022-10-20T17:42:55.921Z"
   },
   {
    "duration": 14,
    "start_time": "2022-10-20T17:42:55.926Z"
   },
   {
    "duration": 50,
    "start_time": "2022-10-20T17:42:55.942Z"
   },
   {
    "duration": 18,
    "start_time": "2022-10-20T17:42:55.993Z"
   },
   {
    "duration": 3,
    "start_time": "2022-10-20T17:42:56.013Z"
   },
   {
    "duration": 12,
    "start_time": "2022-10-20T17:42:56.018Z"
   },
   {
    "duration": 7,
    "start_time": "2022-10-20T17:42:56.031Z"
   },
   {
    "duration": 4,
    "start_time": "2022-10-20T17:42:56.039Z"
   },
   {
    "duration": 9,
    "start_time": "2022-10-20T17:42:56.045Z"
   },
   {
    "duration": 16,
    "start_time": "2022-10-20T17:42:56.092Z"
   },
   {
    "duration": 18,
    "start_time": "2022-10-20T17:42:56.109Z"
   },
   {
    "duration": 18,
    "start_time": "2022-10-20T17:42:56.129Z"
   },
   {
    "duration": 56,
    "start_time": "2022-10-20T17:42:56.149Z"
   },
   {
    "duration": 481,
    "start_time": "2022-10-20T17:52:24.745Z"
   },
   {
    "duration": 31,
    "start_time": "2022-10-20T17:52:25.228Z"
   },
   {
    "duration": 35,
    "start_time": "2022-10-20T17:52:25.261Z"
   },
   {
    "duration": 10,
    "start_time": "2022-10-20T17:52:25.300Z"
   },
   {
    "duration": 37,
    "start_time": "2022-10-20T17:52:25.312Z"
   },
   {
    "duration": 4,
    "start_time": "2022-10-20T17:52:25.351Z"
   },
   {
    "duration": 39,
    "start_time": "2022-10-20T17:52:25.357Z"
   },
   {
    "duration": 5,
    "start_time": "2022-10-20T17:52:25.399Z"
   },
   {
    "duration": 19,
    "start_time": "2022-10-20T17:52:25.405Z"
   },
   {
    "duration": 8,
    "start_time": "2022-10-20T17:52:25.428Z"
   },
   {
    "duration": 56,
    "start_time": "2022-10-20T17:52:25.438Z"
   },
   {
    "duration": 15,
    "start_time": "2022-10-20T17:52:25.496Z"
   },
   {
    "duration": 9,
    "start_time": "2022-10-20T17:52:25.513Z"
   },
   {
    "duration": 12,
    "start_time": "2022-10-20T17:52:25.524Z"
   },
   {
    "duration": 27,
    "start_time": "2022-10-20T17:52:25.538Z"
   },
   {
    "duration": 30,
    "start_time": "2022-10-20T17:52:25.566Z"
   },
   {
    "duration": 4,
    "start_time": "2022-10-20T17:52:25.598Z"
   },
   {
    "duration": 64,
    "start_time": "2022-10-20T17:52:25.604Z"
   },
   {
    "duration": 9,
    "start_time": "2022-10-20T17:52:25.670Z"
   },
   {
    "duration": 23,
    "start_time": "2022-10-20T17:52:25.682Z"
   },
   {
    "duration": 19,
    "start_time": "2022-10-20T17:52:25.707Z"
   },
   {
    "duration": 18,
    "start_time": "2022-10-20T17:52:25.728Z"
   },
   {
    "duration": 21,
    "start_time": "2022-10-20T17:52:25.748Z"
   },
   {
    "duration": 24,
    "start_time": "2022-10-20T17:52:25.771Z"
   },
   {
    "duration": 34,
    "start_time": "2022-10-20T17:52:25.797Z"
   },
   {
    "duration": 525,
    "start_time": "2022-10-20T17:55:55.381Z"
   },
   {
    "duration": 24,
    "start_time": "2022-10-20T17:55:55.909Z"
   },
   {
    "duration": 15,
    "start_time": "2022-10-20T17:55:55.935Z"
   },
   {
    "duration": 10,
    "start_time": "2022-10-20T17:55:55.953Z"
   },
   {
    "duration": 63,
    "start_time": "2022-10-20T17:55:55.965Z"
   },
   {
    "duration": 4,
    "start_time": "2022-10-20T17:55:56.030Z"
   },
   {
    "duration": 10,
    "start_time": "2022-10-20T17:55:56.035Z"
   },
   {
    "duration": 4,
    "start_time": "2022-10-20T17:55:56.047Z"
   },
   {
    "duration": 10,
    "start_time": "2022-10-20T17:55:56.053Z"
   },
   {
    "duration": 5,
    "start_time": "2022-10-20T17:55:56.065Z"
   },
   {
    "duration": 39,
    "start_time": "2022-10-20T17:55:56.096Z"
   },
   {
    "duration": 11,
    "start_time": "2022-10-20T17:55:56.137Z"
   },
   {
    "duration": 5,
    "start_time": "2022-10-20T17:55:56.150Z"
   },
   {
    "duration": 47,
    "start_time": "2022-10-20T17:55:56.156Z"
   },
   {
    "duration": 30,
    "start_time": "2022-10-20T17:55:56.206Z"
   },
   {
    "duration": 22,
    "start_time": "2022-10-20T17:55:56.238Z"
   },
   {
    "duration": 4,
    "start_time": "2022-10-20T17:55:56.262Z"
   },
   {
    "duration": 42,
    "start_time": "2022-10-20T17:55:56.267Z"
   },
   {
    "duration": 7,
    "start_time": "2022-10-20T17:55:56.311Z"
   },
   {
    "duration": 4,
    "start_time": "2022-10-20T17:55:56.320Z"
   },
   {
    "duration": 12,
    "start_time": "2022-10-20T17:55:56.325Z"
   },
   {
    "duration": 18,
    "start_time": "2022-10-20T17:55:56.339Z"
   },
   {
    "duration": 43,
    "start_time": "2022-10-20T17:55:56.359Z"
   },
   {
    "duration": 20,
    "start_time": "2022-10-20T17:55:56.407Z"
   },
   {
    "duration": 18,
    "start_time": "2022-10-20T17:55:56.429Z"
   },
   {
    "duration": 58,
    "start_time": "2022-10-20T18:30:26.455Z"
   },
   {
    "duration": 55,
    "start_time": "2022-10-20T18:33:50.823Z"
   },
   {
    "duration": 472,
    "start_time": "2022-10-31T18:09:34.040Z"
   },
   {
    "duration": 21,
    "start_time": "2022-10-31T18:09:34.513Z"
   },
   {
    "duration": 17,
    "start_time": "2022-10-31T18:09:34.536Z"
   },
   {
    "duration": 10,
    "start_time": "2022-10-31T18:09:34.555Z"
   },
   {
    "duration": 46,
    "start_time": "2022-10-31T18:09:34.566Z"
   },
   {
    "duration": 3,
    "start_time": "2022-10-31T18:09:34.614Z"
   },
   {
    "duration": 11,
    "start_time": "2022-10-31T18:09:34.619Z"
   },
   {
    "duration": 6,
    "start_time": "2022-10-31T18:09:34.631Z"
   },
   {
    "duration": 7,
    "start_time": "2022-10-31T18:09:34.639Z"
   },
   {
    "duration": 6,
    "start_time": "2022-10-31T18:09:34.649Z"
   },
   {
    "duration": 55,
    "start_time": "2022-10-31T18:09:34.657Z"
   },
   {
    "duration": 9,
    "start_time": "2022-10-31T18:09:34.714Z"
   },
   {
    "duration": 8,
    "start_time": "2022-10-31T18:09:34.725Z"
   },
   {
    "duration": 12,
    "start_time": "2022-10-31T18:09:34.734Z"
   },
   {
    "duration": 24,
    "start_time": "2022-10-31T18:09:34.747Z"
   },
   {
    "duration": 35,
    "start_time": "2022-10-31T18:09:34.773Z"
   },
   {
    "duration": 4,
    "start_time": "2022-10-31T18:09:34.810Z"
   },
   {
    "duration": 22,
    "start_time": "2022-10-31T18:09:34.816Z"
   },
   {
    "duration": 31,
    "start_time": "2022-10-31T18:09:34.839Z"
   },
   {
    "duration": 18,
    "start_time": "2022-10-31T18:09:34.871Z"
   },
   {
    "duration": 29,
    "start_time": "2022-10-31T18:09:34.891Z"
   },
   {
    "duration": 25,
    "start_time": "2022-10-31T18:09:34.922Z"
   },
   {
    "duration": 30,
    "start_time": "2022-10-31T18:09:34.949Z"
   },
   {
    "duration": 13,
    "start_time": "2022-10-31T18:09:34.981Z"
   },
   {
    "duration": 16,
    "start_time": "2022-10-31T18:09:34.995Z"
   },
   {
    "duration": 966,
    "start_time": "2022-11-02T17:55:41.144Z"
   },
   {
    "duration": 21,
    "start_time": "2022-11-02T17:55:42.112Z"
   },
   {
    "duration": 13,
    "start_time": "2022-11-02T17:55:42.135Z"
   },
   {
    "duration": 10,
    "start_time": "2022-11-02T17:55:42.151Z"
   },
   {
    "duration": 53,
    "start_time": "2022-11-02T17:55:42.162Z"
   },
   {
    "duration": 3,
    "start_time": "2022-11-02T17:55:42.217Z"
   },
   {
    "duration": 11,
    "start_time": "2022-11-02T17:55:42.221Z"
   },
   {
    "duration": 4,
    "start_time": "2022-11-02T17:55:42.234Z"
   },
   {
    "duration": 10,
    "start_time": "2022-11-02T17:55:42.240Z"
   },
   {
    "duration": 4,
    "start_time": "2022-11-02T17:55:42.253Z"
   },
   {
    "duration": 66,
    "start_time": "2022-11-02T17:55:42.259Z"
   },
   {
    "duration": 9,
    "start_time": "2022-11-02T17:55:42.327Z"
   },
   {
    "duration": 3,
    "start_time": "2022-11-02T17:55:42.338Z"
   },
   {
    "duration": 13,
    "start_time": "2022-11-02T17:55:42.343Z"
   },
   {
    "duration": 19,
    "start_time": "2022-11-02T17:55:42.358Z"
   },
   {
    "duration": 40,
    "start_time": "2022-11-02T17:55:42.379Z"
   },
   {
    "duration": 3,
    "start_time": "2022-11-02T17:55:42.421Z"
   },
   {
    "duration": 12,
    "start_time": "2022-11-02T17:55:42.426Z"
   },
   {
    "duration": 7,
    "start_time": "2022-11-02T17:55:42.439Z"
   },
   {
    "duration": 3,
    "start_time": "2022-11-02T17:55:42.448Z"
   },
   {
    "duration": 12,
    "start_time": "2022-11-02T17:55:42.452Z"
   },
   {
    "duration": 15,
    "start_time": "2022-11-02T17:55:42.465Z"
   },
   {
    "duration": 42,
    "start_time": "2022-11-02T17:55:42.481Z"
   },
   {
    "duration": 14,
    "start_time": "2022-11-02T17:55:42.524Z"
   },
   {
    "duration": 14,
    "start_time": "2022-11-02T17:55:42.539Z"
   },
   {
    "duration": 52,
    "start_time": "2022-11-02T19:45:16.145Z"
   },
   {
    "duration": 781,
    "start_time": "2022-11-04T19:14:33.357Z"
   },
   {
    "duration": 22,
    "start_time": "2022-11-04T19:14:34.140Z"
   },
   {
    "duration": 15,
    "start_time": "2022-11-04T19:14:34.164Z"
   },
   {
    "duration": 10,
    "start_time": "2022-11-04T19:14:34.181Z"
   },
   {
    "duration": 34,
    "start_time": "2022-11-04T19:14:34.193Z"
   },
   {
    "duration": 29,
    "start_time": "2022-11-04T19:14:34.228Z"
   },
   {
    "duration": 19,
    "start_time": "2022-11-04T19:14:34.259Z"
   },
   {
    "duration": 7,
    "start_time": "2022-11-04T19:14:34.280Z"
   },
   {
    "duration": 24,
    "start_time": "2022-11-04T19:14:34.289Z"
   },
   {
    "duration": 4,
    "start_time": "2022-11-04T19:14:34.316Z"
   },
   {
    "duration": 51,
    "start_time": "2022-11-04T19:14:34.322Z"
   },
   {
    "duration": 10,
    "start_time": "2022-11-04T19:14:34.375Z"
   },
   {
    "duration": 5,
    "start_time": "2022-11-04T19:14:34.386Z"
   },
   {
    "duration": 20,
    "start_time": "2022-11-04T19:14:34.393Z"
   },
   {
    "duration": 42,
    "start_time": "2022-11-04T19:14:34.415Z"
   },
   {
    "duration": 22,
    "start_time": "2022-11-04T19:14:34.459Z"
   },
   {
    "duration": 5,
    "start_time": "2022-11-04T19:14:34.483Z"
   },
   {
    "duration": 15,
    "start_time": "2022-11-04T19:14:34.490Z"
   },
   {
    "duration": 12,
    "start_time": "2022-11-04T19:14:34.506Z"
   },
   {
    "duration": 36,
    "start_time": "2022-11-04T19:14:34.519Z"
   },
   {
    "duration": 17,
    "start_time": "2022-11-04T19:14:34.557Z"
   },
   {
    "duration": 19,
    "start_time": "2022-11-04T19:14:34.575Z"
   },
   {
    "duration": 16,
    "start_time": "2022-11-04T19:14:34.595Z"
   },
   {
    "duration": 15,
    "start_time": "2022-11-04T19:14:34.613Z"
   },
   {
    "duration": 20,
    "start_time": "2022-11-04T19:14:34.655Z"
   },
   {
    "duration": 57,
    "start_time": "2022-11-04T20:25:56.830Z"
   },
   {
    "duration": 58,
    "start_time": "2022-11-04T20:26:40.144Z"
   }
  ],
  "colab": {
   "name": "dpp_template_part2.ipynb",
   "provenance": []
  },
  "kernelspec": {
   "display_name": "Python 3 (ipykernel)",
   "language": "python",
   "name": "python3"
  },
  "language_info": {
   "codemirror_mode": {
    "name": "ipython",
    "version": 3
   },
   "file_extension": ".py",
   "mimetype": "text/x-python",
   "name": "python",
   "nbconvert_exporter": "python",
   "pygments_lexer": "ipython3",
   "version": "3.9.5"
  },
  "toc": {
   "base_numbering": 1,
   "nav_menu": {},
   "number_sections": true,
   "sideBar": true,
   "skip_h1_title": true,
   "title_cell": "Table of Contents",
   "title_sidebar": "Contents",
   "toc_cell": false,
   "toc_position": {},
   "toc_section_display": true,
   "toc_window_display": false
  }
 },
 "nbformat": 4,
 "nbformat_minor": 5
}
